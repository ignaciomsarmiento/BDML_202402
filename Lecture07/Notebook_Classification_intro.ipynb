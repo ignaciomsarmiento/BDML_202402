{
 "cells": [
  {
   "cell_type": "markdown",
   "id": "340f63f6-93da-4633-9f43-43927ea8d65c",
   "metadata": {},
   "source": [
    "<div >\n",
    "<img src = \"../banner.jpg\" />\n",
    "</div>"
   ]
  },
  {
   "cell_type": "markdown",
   "id": "cc9698f8",
   "metadata": {},
   "source": [
    "<a target=\"_blank\" href=\"https://colab.research.google.com/github/ignaciomsarmiento//BDML_202402/blob/main/Lecture07/Notebook_Classification_intro.ipynb\">\n",
    "  <img src=\"https://colab.research.google.com/assets/colab-badge.svg\" alt=\"Open In Colab\"/>\n",
    "</a>\n",
    "\n"
   ]
  },
  {
   "cell_type": "markdown",
   "id": "d8e20450",
   "metadata": {},
   "source": [
    "# Classification"
   ]
  },
  {
   "cell_type": "markdown",
   "id": "a5c24b15",
   "metadata": {},
   "source": [
    "To work through the steps of probability-based classification, we’ll use a real dataset on unemployment from the Argentine Permanent Household Survey (EPH). This dataset includes socio-economic and demographic variables that allow us to predict whether a person is unemployed or not.\n",
    "\n",
    "Unemployment prediction is a classic problem of classification and remains one of the key application areas for machine learning: we use previous employment results (employed versus unemployed) to train a model that can predict the employment status of individuals in new cases.\n",
    "\n",
    "\\begin{align}\n",
    "Unemployment = f(x) + u\n",
    "\\end{align}\n",
    "\n",
    "where $Unemployment = I(Unemployment=1)$\n"
   ]
  },
  {
   "cell_type": "code",
   "execution_count": null,
   "id": "592ee382",
   "metadata": {
    "vscode": {
     "languageId": "r"
    }
   },
   "outputs": [],
   "source": [
    "#Cargar librerías \n",
    "require(\"pacman\")\n",
    "p_load(tidyverse)\n",
    "set.seed(1011)"
   ]
  },
  {
   "cell_type": "code",
   "execution_count": null,
   "id": "8795384b",
   "metadata": {
    "vscode": {
     "languageId": "r"
    }
   },
   "outputs": [],
   "source": [
    "#Leer los datos \n",
    "db <- readRDS(url(\"https://github.com/ignaciomsarmiento/datasets/blob/main/desempelo_arg_2010.Rds?raw=true\"))\n",
    "head(db)"
   ]
  },
  {
   "cell_type": "code",
   "execution_count": null,
   "id": "f6c8086e",
   "metadata": {
    "vscode": {
     "languageId": "r"
    }
   },
   "outputs": [],
   "source": [
    "prop.table(table(db$desempleado))*100"
   ]
  },
  {
   "cell_type": "code",
   "execution_count": null,
   "id": "9ae06291",
   "metadata": {
    "vscode": {
     "languageId": "r"
    }
   },
   "outputs": [],
   "source": [
    "data<- db  %>% group_by(desempleado) %>% tally() \n",
    "data<-  data %>% mutate(desempleado =factor(desempleado, levels = c(0,1), labels = c(\"empleado\",\"desempleado\")) )\n",
    "\n",
    "ggplot(data,aes(x = desempleado, y = n, fill = desempleado)) +\n",
    "  geom_bar(stat = \"identity\") +\n",
    "  theme_minimal() +\n",
    "  scale_fill_manual(values = c(\"desempleado\" = \"orange\", \"empleado\"= \"blue\")) + # Colors can be changed\n",
    "  labs(x = \"\", y = \"count\") # Customize axis labels if needed\n",
    "\n"
   ]
  },
  {
   "cell_type": "markdown",
   "id": "3629ef9e",
   "metadata": {},
   "source": [
    "## Estimación Logit\n",
    "\n",
    "\\begin{align}\n",
    "p_i &=\\frac{e^{X_i\\beta}}{1+e^{X_i\\beta}}\n",
    "\\end{align}\n"
   ]
  },
  {
   "cell_type": "code",
   "execution_count": null,
   "id": "7076a869",
   "metadata": {
    "vscode": {
     "languageId": "r"
    }
   },
   "outputs": [],
   "source": [
    "mylogit <- glm(desempleado~edad+mujer, data = db, family = \"binomial\")\n",
    "summary(mylogit,type=\"text\")"
   ]
  },
  {
   "cell_type": "markdown",
   "id": "71975cb3",
   "metadata": {},
   "source": [
    "## Prediction\n",
    "\n",
    "\n",
    "\\begin{align}\n",
    "\\hat{p}_i &=\\frac{e^{X_i\\hat{\\beta}}}{1+e^{X_i\\hat{\\beta}}}\n",
    "\\end{align}"
   ]
  },
  {
   "cell_type": "code",
   "execution_count": null,
   "id": "49bf83ea",
   "metadata": {
    "vscode": {
     "languageId": "r"
    }
   },
   "outputs": [],
   "source": [
    "\n",
    "db<- db  %>% mutate(prob_hat=predict(mylogit,newdata = db, type = \"response\")) #type = \"response\" gives the predicted probabilities.\n",
    "\n",
    "head(db  %>% select(desempleado,prob_hat))\n"
   ]
  },
  {
   "cell_type": "markdown",
   "id": "64ab05f8",
   "metadata": {},
   "source": [
    "## Classification \n",
    "\n",
    "\\begin{align}\n",
    "\\hat{Y}_i= 1[\\hat{p}_i >0.5]\n",
    "\\end{align}"
   ]
  },
  {
   "cell_type": "code",
   "execution_count": null,
   "id": "8d189012",
   "metadata": {
    "vscode": {
     "languageId": "r"
    }
   },
   "outputs": [],
   "source": [
    "rule <- 1/2 # Bayes Rule\n",
    "\n",
    "db <-  db  %>% mutate(desempleado_hat=ifelse(prob_hat>rule,1,0))    ## predicted class labels\n",
    "\n",
    "head(db  %>% select(desempleado,prob_hat,desempleado_hat))\n"
   ]
  },
  {
   "cell_type": "markdown",
   "id": "734bbb33",
   "metadata": {},
   "source": [
    "## Out of sample prediction"
   ]
  },
  {
   "cell_type": "code",
   "execution_count": null,
   "id": "a3468164",
   "metadata": {
    "vscode": {
     "languageId": "r"
    }
   },
   "outputs": [],
   "source": [
    "p_load(\"caret\")\n",
    "\n",
    "\n",
    "inTrain <- createDataPartition(\n",
    "  y = db$desempleado, ## La variable dependiente u objetivo \n",
    "  p = .7,  ## Usamos 70%  de los datos en el conjunto de entrenamiento \n",
    "  list = FALSE)\n",
    "\n",
    "\n",
    "train <- db[ inTrain,]\n",
    "test  <- db[-inTrain,]"
   ]
  },
  {
   "cell_type": "code",
   "execution_count": null,
   "id": "451cc45c",
   "metadata": {
    "vscode": {
     "languageId": "r"
    }
   },
   "outputs": [],
   "source": [
    "head(train)"
   ]
  },
  {
   "cell_type": "code",
   "execution_count": null,
   "id": "fde01f5a",
   "metadata": {
    "vscode": {
     "languageId": "r"
    }
   },
   "outputs": [],
   "source": [
    "prop.table(table(train$desempleado))"
   ]
  },
  {
   "cell_type": "code",
   "execution_count": null,
   "id": "8dfb633a",
   "metadata": {
    "vscode": {
     "languageId": "r"
    }
   },
   "outputs": [],
   "source": [
    "prop.table(table(test$desempleado))"
   ]
  },
  {
   "cell_type": "markdown",
   "id": "d0e60faf",
   "metadata": {},
   "source": [
    "### Logit"
   ]
  },
  {
   "cell_type": "code",
   "execution_count": null,
   "id": "2b6bdaef",
   "metadata": {
    "vscode": {
     "languageId": "r"
    }
   },
   "outputs": [],
   "source": [
    "ctrl<- trainControl(method = \"cv\",\n",
    "                    number = 5,\n",
    "                    classProbs = TRUE,\n",
    "                    verbose=FALSE,\n",
    "                    savePredictions = T)\n"
   ]
  },
  {
   "cell_type": "code",
   "execution_count": null,
   "id": "e8dd7262",
   "metadata": {
    "vscode": {
     "languageId": "r"
    }
   },
   "outputs": [],
   "source": [
    "#train<- train %>% mutate(desempleado_num =desempleado)\n",
    "#train<- train %>% mutate(desempleado = factor(desempleado, levels = c(0,1), labels = c(\"empleado\",\"desempleado\")))\n"
   ]
  },
  {
   "cell_type": "code",
   "execution_count": null,
   "id": "7ac9f557",
   "metadata": {
    "scrolled": true,
    "vscode": {
     "languageId": "r"
    }
   },
   "outputs": [],
   "source": [
    "set.seed(1410)\n",
    "mylogit_caret <- train(desempleado~edad+mujer+nivel_ed+ parentesco +\n",
    "                        estado_civil+tipo_vivienda+ing_tot_fam+total_miembros_hogar+miembros_hogar_menores10,\n",
    "                       data = train, \n",
    "                       method = \"glm\",\n",
    "                       trControl = ctrl,\n",
    "                       family = \"binomial\")\n",
    "\n",
    "\n",
    "mylogit_caret"
   ]
  },
  {
   "cell_type": "code",
   "execution_count": null,
   "id": "8d6e31c8",
   "metadata": {
    "vscode": {
     "languageId": "r"
    }
   },
   "outputs": [],
   "source": [
    "predictTest_logit <- data.frame(\n",
    "  obs = test$desempleado,                                    ## observed class labels\n",
    "  predict(mylogit_caret, newdata = test, type = \"prob\"),         ## predicted class probabilities\n",
    "  pred = predict(mylogit_caret, newdata = test, type = \"raw\")    ## predicted class labels\n",
    ")\n"
   ]
  },
  {
   "cell_type": "code",
   "execution_count": null,
   "id": "15166903",
   "metadata": {
    "vscode": {
     "languageId": "r"
    }
   },
   "outputs": [],
   "source": [
    "head(predictTest_logit)"
   ]
  },
  {
   "cell_type": "code",
   "execution_count": null,
   "id": "4e374e23",
   "metadata": {
    "vscode": {
     "languageId": "r"
    }
   },
   "outputs": [],
   "source": [
    "test<- test %>% mutate(desempleado = factor(desempleado, levels = c(0,1), labels = c(\"empleado\",\"desempleado\")))"
   ]
  },
  {
   "cell_type": "code",
   "execution_count": null,
   "id": "26cc6bd6",
   "metadata": {
    "vscode": {
     "languageId": "r"
    }
   },
   "outputs": [],
   "source": [
    "test<- test  %>% mutate(desempleo_hat_logit_orig=predict(mylogit_caret,newdata = test,\n",
    "                           type = \"raw\"))"
   ]
  },
  {
   "cell_type": "code",
   "execution_count": null,
   "id": "4f3b7a50",
   "metadata": {
    "vscode": {
     "languageId": "r"
    }
   },
   "outputs": [],
   "source": [
    "confusionMatrix(data = test$desempleo_hat_logit_orig, \n",
    "                reference = test$desempleado, positive=\"desempleado\")\n"
   ]
  }
 ],
 "metadata": {
  "jupytext": {
   "cell_metadata_filter": "tags,name,-all",
   "main_language": "R",
   "notebook_metadata_filter": "-all"
  },
  "kernelspec": {
   "display_name": "R",
   "language": "R",
   "name": "ir"
  },
  "language_info": {
   "codemirror_mode": "r",
   "file_extension": ".r",
   "mimetype": "text/x-r-source",
   "name": "R",
   "pygments_lexer": "r",
   "version": "4.4.0"
  },
  "toc": {
   "base_numbering": 1,
   "nav_menu": {},
   "number_sections": true,
   "sideBar": true,
   "skip_h1_title": false,
   "title_cell": "Table of Contents",
   "title_sidebar": "Contents",
   "toc_cell": false,
   "toc_position": {
    "height": "calc(100% - 180px)",
    "left": "10px",
    "top": "150px",
    "width": "344.4px"
   },
   "toc_section_display": true,
   "toc_window_display": false
  }
 },
 "nbformat": 4,
 "nbformat_minor": 5
}
