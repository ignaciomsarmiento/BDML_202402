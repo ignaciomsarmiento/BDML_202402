{
 "cells": [
  {
   "cell_type": "markdown",
   "id": "d3b7c0aa",
   "metadata": {},
   "source": [
    "<div >\n",
    "<img src = \"../banner.jpg\" />\n",
    "</div>"
   ]
  },
  {
   "cell_type": "markdown",
   "id": "ff638f19",
   "metadata": {},
   "source": [
    "# Spatial Data"
   ]
  },
  {
   "cell_type": "code",
   "execution_count": null,
   "id": "04811a19",
   "metadata": {},
   "outputs": [],
   "source": [
    "require(\"pacman\")\n",
    "p_load(\"tidyverse\",\"sf\",\"modeldata\",\"geojsonio\")"
   ]
  },
  {
   "cell_type": "code",
   "execution_count": null,
   "id": "bb0d220a",
   "metadata": {},
   "outputs": [],
   "source": [
    "data(\"ames\", package = \"modeldata\")"
   ]
  },
  {
   "cell_type": "code",
   "execution_count": null,
   "id": "77bef6cb",
   "metadata": {},
   "outputs": [],
   "source": [
    "head(ames)"
   ]
  },
  {
   "cell_type": "code",
   "execution_count": null,
   "id": "5acbdad3",
   "metadata": {},
   "outputs": [],
   "source": [
    "dim(ames)"
   ]
  },
  {
   "cell_type": "code",
   "execution_count": null,
   "id": "92e8beaf",
   "metadata": {},
   "outputs": [],
   "source": [
    "class(ames)"
   ]
  },
  {
   "cell_type": "markdown",
   "id": "c30a7f65",
   "metadata": {},
   "source": [
    "![](figs/mercator.gif)"
   ]
  },
  {
   "cell_type": "code",
   "execution_count": null,
   "id": "3f8a5695",
   "metadata": {},
   "outputs": [],
   "source": [
    "ames_sf <- sf::st_as_sf(\n",
    "  ames,\n",
    "  # \"coords\" is in x/y order -- so longitude goes first!\n",
    "  coords = c(\"Longitude\", \"Latitude\"),\n",
    "  remove=FALSE,\n",
    "  # Set our coordinate reference system to EPSG:4326,\n",
    "  # the standard WGS84 geodetic coordinate reference system\n",
    "  crs = 4326\n",
    ")"
   ]
  },
  {
   "cell_type": "code",
   "execution_count": null,
   "id": "e7933606",
   "metadata": {},
   "outputs": [],
   "source": [
    "#?st_as_sf"
   ]
  },
  {
   "cell_type": "code",
   "execution_count": null,
   "id": "226e93b9",
   "metadata": {},
   "outputs": [],
   "source": [
    "class(ames_sf)"
   ]
  },
  {
   "cell_type": "code",
   "execution_count": null,
   "id": "0e9c5abe",
   "metadata": {},
   "outputs": [],
   "source": [
    "head(ames_sf)"
   ]
  },
  {
   "cell_type": "code",
   "execution_count": null,
   "id": "fffcdfcc",
   "metadata": {},
   "outputs": [],
   "source": [
    "#graficar con ggplot\n",
    "ggplot() +\n",
    "    geom_sf(data=ames_sf)+\n",
    "    theme_bw()"
   ]
  },
  {
   "cell_type": "code",
   "execution_count": null,
   "id": "e4b18576",
   "metadata": {},
   "outputs": [],
   "source": [
    "p_load(\"leaflet\")"
   ]
  },
  {
   "cell_type": "code",
   "execution_count": null,
   "id": "2442bdb3",
   "metadata": {},
   "outputs": [],
   "source": [
    "map1<-leaflet()  %>% \n",
    "        addTiles()  %>% \n",
    "        addCircleMarkers(data=ames_sf)\n",
    "map1"
   ]
  },
  {
   "cell_type": "code",
   "execution_count": null,
   "id": "cc99cf93",
   "metadata": {},
   "outputs": [],
   "source": [
    "#workaround to show in Jupyter Notebook (not needed in Rstudio)\n",
    "p_load(\"htmlwidgets\",\"IRdisplay\")\n",
    "\n",
    "saveWidget(map1, 'demo1.html', selfcontained = FALSE)\n",
    "display_html('<iframe src=\"demo1.html\" width=\"800\" height=\"800\"></iframe>')"
   ]
  },
  {
   "cell_type": "code",
   "execution_count": null,
   "id": "2edb5909",
   "metadata": {},
   "outputs": [],
   "source": [
    "#Different Tiles\n",
    "map2<-leaflet()  %>% \n",
    "    addProviderTiles(providers$Stamen.Toner)  %>% \n",
    "    addCircles(data=ames_sf)"
   ]
  },
  {
   "cell_type": "code",
   "execution_count": null,
   "id": "05102e1f",
   "metadata": {},
   "outputs": [],
   "source": [
    "#workaround to show in Jupyter Notebook (not needed in Rstudio)\n",
    "p_load(\"htmlwidgets\",\"IRdisplay\")\n",
    "\n",
    "saveWidget(map2, 'demo2.html', selfcontained = FALSE)\n",
    "display_html('<iframe src=\"demo2.html\" width=\"800\" height=\"800\"></iframe>')"
   ]
  },
  {
   "cell_type": "markdown",
   "id": "008c33a0-62ee-4e9c-b854-0e5b74438a7b",
   "metadata": {},
   "source": [
    "## Spatial Autocorrelation\n",
    "\n",
    "This relationship may exhibit spatial autocorrelation across the city of Ames, and we can use any of the several different methods provided by spatialsample to try and investigate it. \n",
    "This relationship may exhibit spatial autocorrelation across the city of Ames, and we can use any of the several different methods provided by spatialsample to try and investigate it. \n",
    "\n",
    "\n",
    "### Spatial Buffers\n",
    "\n",
    "The `spatial_buffer_vfold_cv()` function will perform [spatially buffered cross-validation](https://onlinelibrary.wiley.com/doi/10.1111/geb.12161) with your data:\n"
   ]
  },
  {
   "cell_type": "code",
   "execution_count": null,
   "id": "27acb2f3-0650-424d-b026-75f0c7976057",
   "metadata": {},
   "outputs": [],
   "source": [
    "p_load(\"spatialsample\")\n",
    "\n",
    "set.seed(123)\n",
    "buffer_folds <- spatial_buffer_vfold_cv(ames_sf, radius=40,buffer=5)\n",
    "\n",
    "autoplot(buffer_folds)"
   ]
  },
  {
   "cell_type": "markdown",
   "id": "c9b4938e-3c4e-4667-b421-b5ee102b13b4",
   "metadata": {},
   "source": [
    "### Spatial Blocks\n",
    "\n",
    "For instance, the `spatial_block_cv()` function will perform [spatial blocking](https://doi.org/10.1111/ecog.02881) with your data:"
   ]
  },
  {
   "cell_type": "code",
   "execution_count": null,
   "id": "2cd2e720-526b-47be-87ec-fff349c2693e",
   "metadata": {},
   "outputs": [],
   "source": [
    "set.seed(123)\n",
    "block_folds <- spatial_block_cv(ames_sf, v = 5)\n",
    "\n",
    "autoplot(block_folds)"
   ]
  },
  {
   "cell_type": "markdown",
   "id": "2c33c65f-91dd-4aa3-8d16-624d2ae82eca",
   "metadata": {},
   "source": [
    "### Spatial LLOCV\n",
    "\n",
    "If you already have a sense of what locations in your data are likely to be closely related, you can also use the `spatial_leave_location_out_cv()` function to perform [leave-location-out cross-validation](https://doi.org/10.1016/j.envsoft.2017.12.001). \n",
    "\n",
    "For instance, we can split the Ames data into folds based on neighborhoods using this function:"
   ]
  },
  {
   "cell_type": "code",
   "execution_count": null,
   "id": "64a7d1b6-f833-41a9-846a-4dec10496894",
   "metadata": {},
   "outputs": [],
   "source": [
    "set.seed(123)\n",
    "\n",
    "location_folds <- \n",
    "  spatial_leave_location_out_cv(\n",
    "    ames_sf,\n",
    "    group = Neighborhood\n",
    "  )"
   ]
  },
  {
   "cell_type": "code",
   "execution_count": null,
   "id": "4f065339-0dc3-4d18-a7a0-0419df440dac",
   "metadata": {},
   "outputs": [],
   "source": [
    "autoplot(location_folds)"
   ]
  },
  {
   "cell_type": "code",
   "execution_count": null,
   "id": "4f58cd9e-4195-415b-872a-19aa0744a35a",
   "metadata": {},
   "outputs": [],
   "source": [
    "p_load(\"purrr\")\n",
    "\n",
    "walk(location_folds$splits, function(x) print(autoplot(x)))"
   ]
  },
  {
   "cell_type": "markdown",
   "id": "9ce9cb48-dc66-4fae-be6e-bdbca5dcb328",
   "metadata": {},
   "source": [
    "## Full implementation with Elastic Net\n",
    "\n",
    "\\begin{align}\n",
    "min_{\\beta} EN(\\beta) &= \\sum_{i=1}^n (y_i-\\beta_0 - \\sum_{j=1}^p x_{ij}\\beta_j)^2  + \\lambda\\left(\\alpha \\sum_{j=1}^p |\\beta_j| + \\frac{(1-\\alpha)}{2} \\sum_{j=1}^p (\\beta_j)^2\\right)\n",
    "\\end{align}"
   ]
  },
  {
   "cell_type": "code",
   "execution_count": null,
   "id": "8b9657d6-d5df-4986-b850-443a757b17b5",
   "metadata": {},
   "outputs": [],
   "source": [
    "folds<-list()\n",
    "\n",
    "for(i in 1:10){\n",
    "  folds[[i]]<- location_folds$splits[[i]]$in_id\n",
    "}\n"
   ]
  },
  {
   "cell_type": "code",
   "execution_count": null,
   "id": "3410f0b2-7d20-430f-8249-947b6afd9c44",
   "metadata": {},
   "outputs": [],
   "source": [
    "head(folds[[1]])"
   ]
  },
  {
   "cell_type": "code",
   "execution_count": null,
   "id": "2aef0d0e-b01c-4580-b6a4-32038d0b381d",
   "metadata": {},
   "outputs": [],
   "source": [
    "folds[[2]][!(folds[[2]]%in%folds[[1]])]"
   ]
  },
  {
   "cell_type": "code",
   "execution_count": null,
   "id": "1251c8b9-c922-4e21-8bdd-872fdcde4c70",
   "metadata": {},
   "outputs": [],
   "source": [
    "p_load(\"caret\")\n",
    "\n",
    "fitControl<-trainControl(method =\"cv\",\n",
    "                         index=folds)\n",
    "\n"
   ]
  },
  {
   "cell_type": "code",
   "execution_count": null,
   "id": "a1339c32-7165-45d3-983d-f19b88ccb236",
   "metadata": {},
   "outputs": [],
   "source": [
    "EN<-train(log(Sale_Price) ~ Gr_Liv_Area  +  Bldg_Type ,\n",
    "             data=ames_sf,\n",
    "             method = 'glmnet', \n",
    "             trControl = fitControl,\n",
    "             tuneGrid = expand.grid(alpha =seq(0,1,length.out = 20),\n",
    "                                    lambda = seq(0.001,0.2,length.out = 50))\n",
    "              ) "
   ]
  },
  {
   "cell_type": "code",
   "execution_count": null,
   "id": "97dc082a-6687-4a39-af81-fa2be53acd1f",
   "metadata": {},
   "outputs": [],
   "source": [
    "EN"
   ]
  },
  {
   "cell_type": "code",
   "execution_count": null,
   "id": "23965b1c-f224-498a-8b54-1f7b0beff373",
   "metadata": {},
   "outputs": [],
   "source": [
    "EN$bestTune"
   ]
  },
  {
   "cell_type": "code",
   "execution_count": null,
   "id": "3627e2d9-03c7-4b28-8eff-7715bda8d90e",
   "metadata": {},
   "outputs": [],
   "source": [
    "round(EN$results$RMSE[which.min(EN$results$lambda)],4)"
   ]
  },
  {
   "cell_type": "code",
   "execution_count": null,
   "id": "f4cf8e2c-72da-4310-aa8e-8165f8ce1370",
   "metadata": {},
   "outputs": [],
   "source": [
    "set.seed(123)\n",
    "\n",
    "fitControl2<-trainControl(method =\"cv\",\n",
    "                         number=5)\n",
    "\n",
    "EN2<-train(log(Sale_Price) ~ Gr_Liv_Area  +  Bldg_Type ,\n",
    "             data=ames_sf,\n",
    "             method = 'glmnet', \n",
    "             trControl = fitControl2,\n",
    "             tuneGrid = expand.grid(alpha =seq(0,1,length.out = 20),\n",
    "                                    lambda = seq(0.001,0.2,length.out = 50))\n",
    "              ) \n",
    "\n"
   ]
  },
  {
   "cell_type": "code",
   "execution_count": null,
   "id": "95cfcfaf-210f-4e79-bc2c-d2dfa0779b8b",
   "metadata": {},
   "outputs": [],
   "source": [
    "round(EN2$results$RMSE[which.min(EN2$results$lambda)],4)"
   ]
  },
  {
   "cell_type": "markdown",
   "id": "4e79c5c8-520c-473a-acae-ff32d73f4c24",
   "metadata": {},
   "source": [
    "## Example Problem Set"
   ]
  },
  {
   "cell_type": "code",
   "execution_count": null,
   "id": "7a336e4e-5c84-4f3b-90aa-e822395227b4",
   "metadata": {},
   "outputs": [],
   "source": [
    "test<- ames_sf  %>% filter(Neighborhood==\"North_Ames\")\n",
    "\n",
    "train<-ames_sf  %>% filter(Neighborhood!=\"North_Ames\")"
   ]
  },
  {
   "cell_type": "code",
   "execution_count": null,
   "id": "bb8edfd4-b66a-4858-92a4-6ca55a863f35",
   "metadata": {},
   "outputs": [],
   "source": [
    "set.seed(123)\n",
    "\n",
    "location_folds_train <- \n",
    "  spatial_leave_location_out_cv(\n",
    "    train,\n",
    "    group = Neighborhood\n",
    "  )\n",
    "\n"
   ]
  },
  {
   "cell_type": "code",
   "execution_count": null,
   "id": "e8fff7f1-c649-44ad-ac25-5d77bcd887aa",
   "metadata": {},
   "outputs": [],
   "source": [
    "autoplot(location_folds_train)"
   ]
  },
  {
   "cell_type": "code",
   "execution_count": null,
   "id": "e78b5395-e512-46df-aa65-b947212c4fe2",
   "metadata": {},
   "outputs": [],
   "source": [
    "folds_train<-list()\n",
    "for(i in 1:length(location_folds_train$splits)){\n",
    "  folds_train[[i]]<- location_folds_train$splits[[i]]$in_id\n",
    "}\n"
   ]
  },
  {
   "cell_type": "code",
   "execution_count": null,
   "id": "20aa19c9-6ad4-4881-b1fd-0abafef67a07",
   "metadata": {},
   "outputs": [],
   "source": [
    "fitControl_tp_random<-trainControl(method =\"cv\",\n",
    "                         number=5)\n",
    "\n",
    "fitControl_spatial<-trainControl(method =\"cv\",\n",
    "                         index=folds_train)"
   ]
  },
  {
   "cell_type": "code",
   "execution_count": null,
   "id": "c91cc885-3bcc-4289-8062-d0623e9812a2",
   "metadata": {},
   "outputs": [],
   "source": [
    "set.seed(123)\n",
    "\n",
    "EN_tp_random<-train(log(Sale_Price) ~ Gr_Liv_Area:Bldg_Type ,\n",
    "             data=train,\n",
    "             method = 'glmnet', \n",
    "             trControl = fitControl_tp_random,\n",
    "             metric=\"MAE\",\n",
    "             tuneGrid = expand.grid(alpha =seq(0,1,length.out = 10),\n",
    "                                    lambda = seq(0.001,0.2,length.out = 10))\n",
    "              ) "
   ]
  },
  {
   "cell_type": "code",
   "execution_count": null,
   "id": "ddd88362-ce47-49ee-b928-edd2fd04d8d1",
   "metadata": {},
   "outputs": [],
   "source": [
    "set.seed(123)\n",
    "\n",
    "EN_tp_spatial<-train(log(Sale_Price) ~ Gr_Liv_Area:Bldg_Type ,\n",
    "             data=train,\n",
    "             method = 'glmnet', \n",
    "             trControl = fitControl_spatial,\n",
    "             metric=\"MAE\",\n",
    "             tuneGrid = expand.grid(alpha =seq(0,1,length.out = 10),\n",
    "                                    lambda = seq(0.001,0.2,length.out = 10))\n",
    "              ) "
   ]
  },
  {
   "cell_type": "code",
   "execution_count": null,
   "id": "c40724d2-363c-403f-8a03-f3ac2da3b5fc",
   "metadata": {},
   "outputs": [],
   "source": [
    "#EN_tp_random"
   ]
  },
  {
   "cell_type": "code",
   "execution_count": null,
   "id": "2118cc44-265d-419a-8774-3cefc18a9551",
   "metadata": {},
   "outputs": [],
   "source": [
    "#EN_tp$bestTune"
   ]
  },
  {
   "cell_type": "code",
   "execution_count": null,
   "id": "ae9ef4d2-636b-42d0-b515-815441a22b0e",
   "metadata": {},
   "outputs": [],
   "source": [
    "test$log_price_hat_random<-predict(EN_tp_random,newdata = test)"
   ]
  },
  {
   "cell_type": "code",
   "execution_count": null,
   "id": "f0cd3833-475d-449c-8ca5-310966ec3012",
   "metadata": {},
   "outputs": [],
   "source": [
    "head(test  %>% select(Sale_Price,log_price_hat_random)  %>% st_drop_geometry())"
   ]
  },
  {
   "cell_type": "code",
   "execution_count": null,
   "id": "7b318bfc-c647-4a9e-98f0-e88e9f8865f9",
   "metadata": {},
   "outputs": [],
   "source": [
    "test$log_price_hat_spatial<-predict(EN_tp_spatial,newdata = test)"
   ]
  },
  {
   "cell_type": "code",
   "execution_count": null,
   "id": "b655ee04-b370-48d8-adc1-7bd0e466ae0c",
   "metadata": {},
   "outputs": [],
   "source": [
    "test<- test  %>% mutate(price_hat_random=exp(log_price_hat_random),price_hat_spatial=exp(log_price_hat_spatial))"
   ]
  },
  {
   "cell_type": "markdown",
   "id": "4a7d70cc-9f78-4199-9dcd-3e422d548f1b",
   "metadata": {},
   "source": [
    "#### What is Kaggle's score?"
   ]
  },
  {
   "cell_type": "code",
   "execution_count": null,
   "id": "81750e93-c4e4-46c7-abeb-c34ad4b61cc8",
   "metadata": {},
   "outputs": [],
   "source": [
    "#MAE\n",
    "mean(abs(test$Sale_Price-test$price_hat_random))"
   ]
  },
  {
   "cell_type": "code",
   "execution_count": null,
   "id": "62b34299-5a02-478b-b0ff-6f4f41471c5c",
   "metadata": {},
   "outputs": [],
   "source": [
    "mean(abs(test$Sale_Price-test$price_hat_spatial))"
   ]
  },
  {
   "cell_type": "code",
   "execution_count": null,
   "id": "d67bb263-27e8-4f27-ad75-deb8706c798c",
   "metadata": {},
   "outputs": [],
   "source": [
    "#MAE\n",
    "mean(abs(test$Sale_Price-round(test$price_hat_random)))"
   ]
  },
  {
   "cell_type": "markdown",
   "id": "54005fa8",
   "metadata": {},
   "source": [
    "# Super learner"
   ]
  },
  {
   "cell_type": "markdown",
   "id": "5096a9eb-cf48-4405-9f2b-f24b5b1d13d8",
   "metadata": {},
   "source": [
    "## Ames data"
   ]
  },
  {
   "cell_type": "markdown",
   "id": "c322f5c6",
   "metadata": {},
   "source": [
    "Vamos a modelar los precios de venta de las casas en el conjunto de datos de Ames. Digamos que el precio de venta de estas casas depende del año en que se construyeron, su superficie habitable (tamaño) y el tipo de casa que son (dúplex vs. townhouse vs. unifamiliar)"
   ]
  },
  {
   "cell_type": "code",
   "execution_count": null,
   "id": "37acad98",
   "metadata": {},
   "outputs": [],
   "source": [
    "train<- train  %>% mutate(logprice=log(Sale_Price))\n",
    "test<- test  %>% mutate(logprice=log(Sale_Price))"
   ]
  },
  {
   "cell_type": "code",
   "execution_count": null,
   "id": "06c451a4",
   "metadata": {},
   "outputs": [],
   "source": [
    "# p_load(\"caret\")\n",
    "# set.seed(1011)\n",
    "# inTrain <- createDataPartition(\n",
    "#   y = ames$logprice,## La variable dependiente u objetivo \n",
    "#   p = .7, ## Usamos 70%  de los datos en el conjunto de entrenamiento \n",
    "#   list = FALSE)\n",
    "\n",
    "\n",
    "# train <- ames[ inTrain,]\n",
    "# test  <- ames[-inTrain,]\n",
    "# colnames(train)"
   ]
  },
  {
   "cell_type": "code",
   "execution_count": null,
   "id": "9866a475",
   "metadata": {},
   "outputs": [],
   "source": [
    "p_load(\"SuperLearner\")"
   ]
  },
  {
   "cell_type": "code",
   "execution_count": null,
   "id": "27d04132",
   "metadata": {},
   "outputs": [],
   "source": [
    "# Review available models.\n",
    "listWrappers()"
   ]
  },
  {
   "cell_type": "code",
   "execution_count": null,
   "id": "8e1cc6b3",
   "metadata": {},
   "outputs": [],
   "source": [
    "ySL <- train$logprice\n",
    "XSL <- train  %>% select(Year_Built, Bldg_Type, Gr_Liv_Area) %>% st_drop_geometry()"
   ]
  },
  {
   "cell_type": "code",
   "execution_count": null,
   "id": "d4428b51-b1e6-4aae-8543-73cabda12cce",
   "metadata": {},
   "outputs": [],
   "source": [
    "head(XSL)"
   ]
  },
  {
   "cell_type": "code",
   "execution_count": null,
   "id": "0b3cf98d",
   "metadata": {},
   "outputs": [],
   "source": [
    "sl.lib <- c(\"SL.randomForest\", \"SL.lm\") #lista de los algoritmos a correr\n",
    "\n",
    "# Fit using the SuperLearner package,\n",
    "\n",
    "fitY <- SuperLearner(Y = ySL,  X= data.frame(XSL),\n",
    "                     method = \"method.NNLS\", # combinación convexa\n",
    "                     SL.library = sl.lib)\n",
    "\n",
    "fitY"
   ]
  },
  {
   "cell_type": "code",
   "execution_count": null,
   "id": "4a1bda75",
   "metadata": {},
   "outputs": [],
   "source": [
    "test <- test  %>%  mutate(yhat_Sup=predict(fitY, newdata = data.frame(test), onlySL = T)$pred)\n",
    "head(test$yhat_Sup)"
   ]
  },
  {
   "cell_type": "code",
   "execution_count": null,
   "id": "ab58d76d-ce7a-42ac-a081-438efec21da1",
   "metadata": {},
   "outputs": [],
   "source": [
    "test<- test  %>% mutate(price_hat_Sup=exp(yhat_Sup))"
   ]
  },
  {
   "cell_type": "code",
   "execution_count": null,
   "id": "539d864d",
   "metadata": {},
   "outputs": [],
   "source": [
    "mean(abs(test$Sale_Price-round(test$price_hat_Sup)))"
   ]
  },
  {
   "cell_type": "markdown",
   "id": "39014b37",
   "metadata": {},
   "source": [
    "## Test algorithm with multiple hyperparameter settings\n",
    "\n",
    "The performance of an algorithm varies based on its hyperparamters, which again are its configuration settings. Some algorithms may not vary much, and others might have far better or worse performance for certain settings. Often we focus our attention on 1 or 2 hyperparameters for a given algorithm because they are the most important ones.\n",
    "\n",
    "For random forest there are two particularly important hyperparameters: mtry and maximum leaf nodes. Mtry is how many features are randomly chosen within each decision tree node - in other words, each time the tree considers making a split. Maximum leaf nodes controls how complex each tree can get.\n",
    "\n",
    "Let's try 3 different mtry options."
   ]
  },
  {
   "cell_type": "code",
   "execution_count": null,
   "id": "23db014f",
   "metadata": {},
   "outputs": [],
   "source": [
    "# Customize the defaults for random forest.\n",
    "custon_ranger = create.Learner(\"SL.ranger\", params = list(num.trees = 1000))\n",
    "\n",
    "# Look at the object.\n",
    "custon_ranger$names\n"
   ]
  },
  {
   "cell_type": "code",
   "execution_count": null,
   "id": "3019c068",
   "metadata": {},
   "outputs": [],
   "source": [
    "custom_rf = create.Learner(\"SL.randomForest\",\n",
    "                     tune = list(mtry = round(c(1, sqrt(4), 3))))\n",
    "custom_rf$names"
   ]
  },
  {
   "cell_type": "code",
   "execution_count": null,
   "id": "195737b2",
   "metadata": {},
   "outputs": [],
   "source": [
    "# Customize the defaults for random forest.\n",
    "custon_glmnet = create.Learner(\"SL.glmnet\", tune = list(alpha = seq(0, 1, length.out=5)))\n",
    "\n",
    "# Look at the object.\n",
    "custon_glmnet$names"
   ]
  },
  {
   "cell_type": "code",
   "execution_count": null,
   "id": "18ae0a54",
   "metadata": {},
   "outputs": [],
   "source": [
    "sl.lib2 <- c(\"SL.randomForest\", \"SL.lm\",custon_ranger$names,custon_glmnet$names,custom_rf$names)\n",
    "sl.lib2"
   ]
  },
  {
   "cell_type": "code",
   "execution_count": null,
   "id": "18867c31",
   "metadata": {},
   "outputs": [],
   "source": [
    "# Fit (takes forever)\n",
    "\n",
    "fitY_long <- SuperLearner(Y = ySL, X = data.frame(XSL),\n",
    "     method = \"method.NNLS\", SL.library = sl.lib2)\n",
    "\n",
    "fitY_long"
   ]
  },
  {
   "cell_type": "markdown",
   "id": "5c5567ce",
   "metadata": {},
   "source": [
    "# Spatial Cross Validation\n"
   ]
  },
  {
   "cell_type": "code",
   "execution_count": null,
   "id": "39ffaa2f",
   "metadata": {},
   "outputs": [],
   "source": [
    "p_load(\"spatialsample\")\n",
    "\n",
    "ames_sf <- sf::st_as_sf(\n",
    "  ames,\n",
    "  # \"coords\" is in x/y order -- so longitude goes first!\n",
    "  coords = c(\"Longitude\", \"Latitude\"),\n",
    "  # Set our coordinate reference system to EPSG:4326,\n",
    "  # the standard WGS84 geodetic coordinate reference system\n",
    "  crs = 4326\n",
    ")\n"
   ]
  },
  {
   "cell_type": "code",
   "execution_count": null,
   "id": "9782abb8",
   "metadata": {},
   "outputs": [],
   "source": [
    "set.seed(123)\n",
    "block_folds <- spatial_block_cv(ames_sf, v = 15)"
   ]
  },
  {
   "cell_type": "code",
   "execution_count": null,
   "id": "46c0da90",
   "metadata": {},
   "outputs": [],
   "source": [
    "autoplot(block_folds) + theme_bw()"
   ]
  },
  {
   "cell_type": "code",
   "execution_count": null,
   "id": "dfda5f24",
   "metadata": {},
   "outputs": [],
   "source": [
    "\n",
    "set.seed(123)\n",
    "cluster_folds <- spatial_clustering_cv(ames_sf, v = 15)\n",
    "autoplot(cluster_folds) + theme_bw()"
   ]
  },
  {
   "cell_type": "code",
   "execution_count": null,
   "id": "e87b11c5",
   "metadata": {},
   "outputs": [],
   "source": [
    "set.seed(123)\n",
    "location_folds <- \n",
    "  spatial_leave_location_out_cv(\n",
    "   ames_sf,\n",
    "    group = Neighborhood,\n",
    "    v = 15\n",
    "  )"
   ]
  },
  {
   "cell_type": "code",
   "execution_count": null,
   "id": "95283128",
   "metadata": {},
   "outputs": [],
   "source": [
    "autoplot(location_folds)+ theme_bw()"
   ]
  },
  {
   "cell_type": "code",
   "execution_count": null,
   "id": "c43d938b",
   "metadata": {},
   "outputs": [],
   "source": [
    "table(ames_sf$Neighborhood)\n"
   ]
  },
  {
   "cell_type": "code",
   "execution_count": null,
   "id": "9c2bf4ed",
   "metadata": {},
   "outputs": [],
   "source": [
    "ames_sf <- ames_sf   %>% mutate(Neighborhood=droplevels(Neighborhood))"
   ]
  },
  {
   "cell_type": "code",
   "execution_count": null,
   "id": "01fd589e",
   "metadata": {},
   "outputs": [],
   "source": [
    "table(ames_sf$Neighborhood)"
   ]
  },
  {
   "cell_type": "code",
   "execution_count": null,
   "id": "c5f6adc4",
   "metadata": {},
   "outputs": [],
   "source": [
    "length(unique(ames_sf$Neighborhood))"
   ]
  },
  {
   "cell_type": "code",
   "execution_count": null,
   "id": "6d302bdf",
   "metadata": {},
   "outputs": [],
   "source": [
    "test_neigh<- ames_sf  %>% filter(Neighborhood==\"North_Ames\")\n",
    "test_neigh <- test_neigh   %>% mutate(Neighborhood=droplevels(Neighborhood))\n",
    "train_neigh<- ames_sf  %>% filter(Neighborhood!=\"North_Ames\")\n",
    "train_neigh <- train_neigh   %>% mutate(Neighborhood=droplevels(Neighborhood))"
   ]
  },
  {
   "cell_type": "code",
   "execution_count": null,
   "id": "44ecc169",
   "metadata": {},
   "outputs": [],
   "source": [
    "y_neigh<-train_neigh$logprice\n",
    "X_neigh<- train_neigh  %>% select(Year_Built, Bldg_Type, Gr_Liv_Area)  %>% st_drop_geometry()"
   ]
  },
  {
   "cell_type": "code",
   "execution_count": null,
   "id": "ffd0c7a9",
   "metadata": {},
   "outputs": [],
   "source": [
    "index <- split(1:nrow(train_neigh),train_neigh$Neighborhood)"
   ]
  },
  {
   "cell_type": "code",
   "execution_count": null,
   "id": "976903e3",
   "metadata": {},
   "outputs": [],
   "source": [
    "index"
   ]
  },
  {
   "cell_type": "code",
   "execution_count": null,
   "id": "9ba57b34",
   "metadata": {},
   "outputs": [],
   "source": [
    "folds<-length(index)\n",
    "folds"
   ]
  },
  {
   "cell_type": "code",
   "execution_count": null,
   "id": "bfa7c1c1",
   "metadata": {},
   "outputs": [],
   "source": [
    "fitY_neigh <- SuperLearner(Y = y_neigh, X = data.frame(X_neigh),\n",
    "    method = \"method.NNLS\", SL.library = sl.lib,\n",
    "    cvControl = list(V = folds, validRows = index))"
   ]
  },
  {
   "cell_type": "code",
   "execution_count": null,
   "id": "65f81cef",
   "metadata": {},
   "outputs": [],
   "source": [
    "fitY_neigh"
   ]
  },
  {
   "cell_type": "code",
   "execution_count": null,
   "id": "64de86f3",
   "metadata": {},
   "outputs": [],
   "source": [
    "yhat_SL_neigh<-predict(fitY_neigh, newdata = data.frame(test_neigh), onlySL = T)$pred\n"
   ]
  },
  {
   "cell_type": "code",
   "execution_count": null,
   "id": "7980267e-9ed1-49f9-9387-a31bc009c2ac",
   "metadata": {},
   "outputs": [],
   "source": [
    "test<- test  %>% mutate(price_hat_SL_neigh=exp(yhat_SL_neigh))"
   ]
  },
  {
   "cell_type": "code",
   "execution_count": null,
   "id": "522f5c25",
   "metadata": {},
   "outputs": [],
   "source": [
    "mean(abs(test$Sale_Price-round(test$price_hat_SL_neigh)))"
   ]
  },
  {
   "cell_type": "code",
   "execution_count": null,
   "id": "57ec5b30",
   "metadata": {},
   "outputs": [],
   "source": []
  }
 ],
 "metadata": {
  "kernelspec": {
   "display_name": "R",
   "language": "R",
   "name": "ir"
  },
  "language_info": {
   "codemirror_mode": "r",
   "file_extension": ".r",
   "mimetype": "text/x-r-source",
   "name": "R",
   "pygments_lexer": "r",
   "version": "4.4.1"
  },
  "toc": {
   "base_numbering": 1,
   "nav_menu": {},
   "number_sections": true,
   "sideBar": true,
   "skip_h1_title": false,
   "title_cell": "Table of Contents",
   "title_sidebar": "Contents",
   "toc_cell": false,
   "toc_position": {},
   "toc_section_display": true,
   "toc_window_display": false
  }
 },
 "nbformat": 4,
 "nbformat_minor": 5
}
