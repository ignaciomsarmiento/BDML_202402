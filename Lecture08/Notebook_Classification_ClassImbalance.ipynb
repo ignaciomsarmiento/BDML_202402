{
 "cells": [
  {
   "cell_type": "markdown",
   "id": "340f63f6-93da-4633-9f43-43927ea8d65c",
   "metadata": {},
   "source": [
    "<div >\n",
    "<img src = \"../banner.jpg\" />\n",
    "</div>"
   ]
  },
  {
   "cell_type": "markdown",
   "id": "b3cafccb-de4c-470e-a186-086fb3b003fe",
   "metadata": {},
   "source": [
    "<a target=\"_blank\" href=\"https://colab.research.google.com/github/ignaciomsarmiento/BDML_202402/blob/main/Lecture08/Notebook_Classification_ClassImbalance.ipynb\">\n",
    "  <img src=\"https://colab.research.google.com/assets/colab-badge.svg\" alt=\"Open In Colab\"/>\n",
    "</a>\n",
    "\n"
   ]
  },
  {
   "cell_type": "markdown",
   "id": "d8e20450",
   "metadata": {},
   "source": [
    "# Classification"
   ]
  },
  {
   "cell_type": "markdown",
   "id": "a5c24b15",
   "metadata": {},
   "source": [
    "To work through the steps of probability-based classification, we’ll use a real dataset on unemployment from the Argentine Permanent Household Survey (EPH). This dataset includes socio-economic and demographic variables that allow us to predict whether a person is unemployed or not.\n",
    "\n",
    "Unemployment prediction is a classic problem of classification and remains one of the key application areas for machine learning: we use previous employment results (employed versus unemployed) to train a model that can predict the employment status of individuals in new cases.\n",
    "\n",
    "\\begin{align}\n",
    "Unemployment = f(x) + u\n",
    "\\end{align}\n",
    "\n",
    "where $Unemployment = I(Unemployment=1)$\n"
   ]
  },
  {
   "cell_type": "code",
   "execution_count": null,
   "id": "6fd78316-f5f0-4b38-86d5-a91cebea8523",
   "metadata": {},
   "outputs": [],
   "source": [
    "# install.packages(\"pacman\") #run this line if you use Google Colab"
   ]
  },
  {
   "cell_type": "code",
   "execution_count": null,
   "id": "592ee382",
   "metadata": {
    "vscode": {
     "languageId": "r"
    }
   },
   "outputs": [],
   "source": [
    "#Cargar librerías \n",
    "require(\"pacman\")\n",
    "p_load(\"tidyverse\", \"caret\", \"glmnet\",\"MLeval\",\"MLmetrics\")\n",
    "set.seed(1011)"
   ]
  },
  {
   "cell_type": "code",
   "execution_count": null,
   "id": "8795384b",
   "metadata": {
    "vscode": {
     "languageId": "r"
    }
   },
   "outputs": [],
   "source": [
    "#Leer los datos \n",
    "db <- readRDS(url(\"https://github.com/ignaciomsarmiento/datasets/blob/main/desempelo_arg_2010.Rds?raw=true\"))\n",
    "db <- db %>% filter(ciudad%in%c(\"Partidos del GBA\", \"Ciudad de Buenos Aires\"))\n",
    "head(db)"
   ]
  },
  {
   "cell_type": "code",
   "execution_count": null,
   "id": "4c80315b-d87d-4c38-8291-43bc74fd833f",
   "metadata": {},
   "outputs": [],
   "source": [
    "table(db$nivel_ed)"
   ]
  },
  {
   "cell_type": "code",
   "execution_count": null,
   "id": "f305c440-a428-4af3-9ffc-b3ccb8ddeb06",
   "metadata": {},
   "outputs": [],
   "source": [
    "#db <- db %>% filter(nivel_ed!=\"Ns./Nr.\")\n",
    "db$nivel_ed <- droplevels(db$nivel_ed)\n",
    "table(db$nivel_ed)"
   ]
  },
  {
   "cell_type": "code",
   "execution_count": null,
   "id": "9c1678af-c660-4584-b986-77279df9bc6b",
   "metadata": {},
   "outputs": [],
   "source": [
    "db$tipo_vivienda <- droplevels(db$tipo_vivienda)\n",
    "db$parentesco <- droplevels(db$parentesco)"
   ]
  },
  {
   "cell_type": "code",
   "execution_count": null,
   "id": "d56bb480-7913-4cd4-b509-52d98e7691cb",
   "metadata": {},
   "outputs": [],
   "source": [
    "table(db$tipo_vivienda)"
   ]
  },
  {
   "cell_type": "code",
   "execution_count": null,
   "id": "029829c4-f9f2-4486-aa63-253c0888de07",
   "metadata": {},
   "outputs": [],
   "source": [
    "db <- db %>% mutate(tipo_vivienda=recode(tipo_vivienda,\n",
    "                                         \"Pieza de inquilino\"=\"Otros\",\n",
    "                                         \"Pieza en hotel/pension\"=\"Otros\",\n",
    "                                         \"Local no construido para habitacion\"=\"Otros\"))\n",
    "table(db$tipo_vivienda)                  "
   ]
  },
  {
   "cell_type": "code",
   "execution_count": null,
   "id": "5239d757-39b3-4806-af92-129171cae255",
   "metadata": {},
   "outputs": [],
   "source": [
    "db <- db %>% mutate(mujer=factor(mujer,levels=c(0,1),labels=c(\"hombre\",\"mujer\")))\n",
    "head(db)"
   ]
  },
  {
   "cell_type": "code",
   "execution_count": null,
   "id": "f6c8086e",
   "metadata": {
    "vscode": {
     "languageId": "r"
    }
   },
   "outputs": [],
   "source": [
    "prop.table(table(db$desempleado))*100"
   ]
  },
  {
   "cell_type": "code",
   "execution_count": null,
   "id": "9ae06291",
   "metadata": {
    "vscode": {
     "languageId": "r"
    }
   },
   "outputs": [],
   "source": [
    "data<- db  %>% group_by(desempleado) %>% tally() \n",
    "data <- data %>% mutate(n=n/sum(n))                        "
   ]
  },
  {
   "cell_type": "code",
   "execution_count": null,
   "id": "45f98c84-1a04-4e3d-ac50-b5602c936bf4",
   "metadata": {},
   "outputs": [],
   "source": [
    "data<-  data %>% mutate(estado =factor(desempleado, levels = c(0,1), labels = c(\"empleado\",\"desempleado\")) )\n",
    "\n",
    "ggplot(data,aes(x = estado, y = n, fill = estado)) +\n",
    "  geom_bar(stat = \"identity\") +\n",
    "  theme_minimal() +\n",
    "  scale_fill_manual(values = c(\"desempleado\" = \"orange\", \"empleado\"= \"blue\")) + # Colors can be changed\n",
    "  labs(x = \"\", y = \"count\") # Customize axis labels if needed\n",
    "\n"
   ]
  },
  {
   "cell_type": "markdown",
   "id": "5d7eeb64-e2c7-4539-8700-91a8828c05e2",
   "metadata": {},
   "source": [
    "If you have an imbalanced data set, first try training on the true distribution. If the model works well and generalizes, you're done! If not, try  the remedies listed below."
   ]
  },
  {
   "cell_type": "markdown",
   "id": "3629ef9e",
   "metadata": {},
   "source": [
    "## Estimación Logit\n",
    "\n",
    "\\begin{align}\n",
    "p_i &=\\frac{e^{X_i\\beta}}{1+e^{X_i\\beta}}\n",
    "\\end{align}\n"
   ]
  },
  {
   "cell_type": "code",
   "execution_count": null,
   "id": "7076a869",
   "metadata": {
    "vscode": {
     "languageId": "r"
    }
   },
   "outputs": [],
   "source": [
    "mylogit <- glm(desempleado~edad+mujer, data = db, family = \"binomial\")\n",
    "summary(mylogit,type=\"text\")"
   ]
  },
  {
   "cell_type": "markdown",
   "id": "71975cb3",
   "metadata": {},
   "source": [
    "## Prediction\n",
    "\n",
    "\n",
    "\\begin{align}\n",
    "\\hat{p}_i &=\\frac{e^{X_i\\hat{\\beta}}}{1+e^{X_i\\hat{\\beta}}}\n",
    "\\end{align}"
   ]
  },
  {
   "cell_type": "code",
   "execution_count": null,
   "id": "49bf83ea",
   "metadata": {
    "vscode": {
     "languageId": "r"
    }
   },
   "outputs": [],
   "source": [
    "\n",
    "db<- db  %>% mutate(prob_hat=predict(mylogit,newdata = db, type = \"response\")) #type = \"response\" gives the predicted probabilities.\n",
    "\n",
    "head(db  %>% select(desempleado,prob_hat))\n"
   ]
  },
  {
   "cell_type": "markdown",
   "id": "64ab05f8",
   "metadata": {},
   "source": [
    "## Classification \n",
    "\n",
    "\\begin{align}\n",
    "\\hat{Y}_i= 1[\\hat{p}_i >0.5]\n",
    "\\end{align}"
   ]
  },
  {
   "cell_type": "code",
   "execution_count": null,
   "id": "8d189012",
   "metadata": {
    "vscode": {
     "languageId": "r"
    }
   },
   "outputs": [],
   "source": [
    "rule <- 1/2 # Bayes Rule\n",
    "\n",
    "db <-  db  %>% mutate(desempleado_hat=ifelse(prob_hat>rule,1,0))    ## predicted class labels\n",
    "\n",
    "head(db  %>% select(desempleado,prob_hat,desempleado_hat))\n"
   ]
  },
  {
   "cell_type": "markdown",
   "id": "734bbb33",
   "metadata": {},
   "source": [
    "## Out of sample prediction"
   ]
  },
  {
   "cell_type": "code",
   "execution_count": null,
   "id": "a3468164",
   "metadata": {
    "vscode": {
     "languageId": "r"
    }
   },
   "outputs": [],
   "source": [
    "p_load(\"caret\")\n",
    "\n",
    "\n",
    "inTrain <- createDataPartition(\n",
    "  y = db$desempleado, ## La variable dependiente u objetivo \n",
    "  p = .7,  ## Usamos 70%  de los datos en el conjunto de entrenamiento \n",
    "  list = FALSE)\n",
    "\n",
    "\n",
    "train <- db[ inTrain,]\n",
    "test  <- db[-inTrain,]"
   ]
  },
  {
   "cell_type": "code",
   "execution_count": null,
   "id": "451cc45c",
   "metadata": {
    "vscode": {
     "languageId": "r"
    }
   },
   "outputs": [],
   "source": [
    "head(train)"
   ]
  },
  {
   "cell_type": "code",
   "execution_count": null,
   "id": "fde01f5a",
   "metadata": {
    "vscode": {
     "languageId": "r"
    }
   },
   "outputs": [],
   "source": [
    "prop.table(table(train$desempleado))"
   ]
  },
  {
   "cell_type": "code",
   "execution_count": null,
   "id": "8dfb633a",
   "metadata": {
    "vscode": {
     "languageId": "r"
    }
   },
   "outputs": [],
   "source": [
    "prop.table(table(test$desempleado))"
   ]
  },
  {
   "cell_type": "markdown",
   "id": "d0e60faf",
   "metadata": {},
   "source": [
    "### Logit"
   ]
  },
  {
   "cell_type": "code",
   "execution_count": null,
   "id": "2b6bdaef",
   "metadata": {
    "vscode": {
     "languageId": "r"
    }
   },
   "outputs": [],
   "source": [
    "ctrl<- trainControl(method = \"cv\",\n",
    "                    number = 5,\n",
    "                    classProbs = TRUE,\n",
    "                    verbose=FALSE,\n",
    "                    savePredictions = T)\n"
   ]
  },
  {
   "cell_type": "code",
   "execution_count": null,
   "id": "e8dd7262",
   "metadata": {
    "vscode": {
     "languageId": "r"
    }
   },
   "outputs": [],
   "source": [
    "train<- train %>% mutate(desempleado_num =desempleado)\n",
    "\n",
    "# Clace que \"desempleado\" sea el primer nivel!!\n",
    "train<- train %>% mutate(desempleado = factor(desempleado, levels = c(1,0), labels = c(\"desempleado\",\"empleado\")))\n",
    "test<- test %>% mutate(desempleado = factor(desempleado, levels = c(1,0), labels = c(\"desempleado\",\"empleado\")))\n"
   ]
  },
  {
   "cell_type": "code",
   "execution_count": null,
   "id": "2ba8cac3-f549-4a8e-a113-1c5831e0dc27",
   "metadata": {},
   "outputs": [],
   "source": [
    "prop.table(table(train$desempleado))"
   ]
  },
  {
   "cell_type": "code",
   "execution_count": null,
   "id": "7ac9f557",
   "metadata": {
    "scrolled": true,
    "vscode": {
     "languageId": "r"
    }
   },
   "outputs": [],
   "source": [
    "set.seed(1410)\n",
    "mylogit_caret <- train(desempleado~edad+mujer+nivel_ed+ parentesco +\n",
    "                        estado_civil+tipo_vivienda+ing_tot_fam+total_miembros_hogar+miembros_hogar_menores10,\n",
    "                       data = train, \n",
    "                       method = \"glm\",\n",
    "                       trControl = ctrl,\n",
    "                       family = \"binomial\")\n",
    "\n",
    "\n",
    "mylogit_caret"
   ]
  },
  {
   "cell_type": "code",
   "execution_count": null,
   "id": "8d6e31c8",
   "metadata": {
    "vscode": {
     "languageId": "r"
    }
   },
   "outputs": [],
   "source": [
    "predictTest_logit <- data.frame(\n",
    "  obs = test$desempleado,                                    ## observed class labels\n",
    "  predict(mylogit_caret, newdata = test, type = \"prob\"),         ## predicted class probabilities\n",
    "  pred = predict(mylogit_caret, newdata = test, type = \"raw\")    ## predicted class labels\n",
    ")\n"
   ]
  },
  {
   "cell_type": "code",
   "execution_count": null,
   "id": "15166903",
   "metadata": {
    "vscode": {
     "languageId": "r"
    }
   },
   "outputs": [],
   "source": [
    "head(predictTest_logit)"
   ]
  },
  {
   "cell_type": "code",
   "execution_count": null,
   "id": "26cc6bd6",
   "metadata": {
    "vscode": {
     "languageId": "r"
    }
   },
   "outputs": [],
   "source": [
    "test<- test  %>% mutate(desempleo_hat_logit_orig=predict(mylogit_caret,newdata = test,\n",
    "                           type = \"raw\"))"
   ]
  },
  {
   "cell_type": "code",
   "execution_count": null,
   "id": "4f3b7a50",
   "metadata": {
    "vscode": {
     "languageId": "r"
    }
   },
   "outputs": [],
   "source": [
    "confusionMatrix(data = test$desempleo_hat_logit_orig, \n",
    "                reference = test$desempleado, positive=\"desempleado\", mode = \"prec_recall\")\n"
   ]
  },
  {
   "cell_type": "code",
   "execution_count": null,
   "id": "432c386f-5269-475f-b8a7-5b3c6c7862b9",
   "metadata": {},
   "outputs": [],
   "source": [
    "X <- c(\"poly(edad,2,raw=TRUE)\", \"nivel_ed\",\"mujer\", \n",
    "        \"parentesco\", \"estado_civil\", \n",
    "        \"tipo_vivienda\",\n",
    "        \"poly(total_miembros_hogar,2,raw=TRUE)\",\n",
    "        \"poly(miembros_hogar_menores10,2,raw=TRUE)\",\n",
    "        \"poly(ing_tot_fam,2,raw=TRUE)\")\n",
    "\n",
    "\n",
    "set.seed(1410)\n",
    "glm_model_logit_ampliado <- train(\n",
    "    formula(paste0(\"desempleado ~\", paste0(X, collapse = \" + \"))),\n",
    "    method = \"glm\",\n",
    "    data = train,\n",
    "    family = \"binomial\",\n",
    "    trControl = ctrl,\n",
    "    preProcess = c(\"center\", \"scale\")\n",
    "  )\n",
    "\n",
    "glm_model_logit_ampliado\n",
    "\n",
    "test<- test  %>% mutate(desempleo_hat_logit_ampliado=predict(glm_model_logit_ampliado,newdata = test,\n",
    "                           type = \"raw\"))\n",
    "confusionMatrix(data = test$desempleo_hat_logit_ampliado, \n",
    "                reference = test$desempleado, positive=\"desempleado\", mode = \"prec_recall\")\n"
   ]
  },
  {
   "cell_type": "markdown",
   "id": "b9d36ff7-4b02-4be1-8dc8-379edd97e721",
   "metadata": {},
   "source": [
    "# ROC"
   ]
  },
  {
   "cell_type": "code",
   "execution_count": null,
   "id": "1cddc0ec-9953-42fd-aaed-de9f54fb7486",
   "metadata": {},
   "outputs": [],
   "source": [
    "#Curva ROC\n",
    "res_insample_all <- evalm(list(mylogit_caret, glm_model_logit_ampliado),gnames=c('Basic','Ampliado'),plots='r')"
   ]
  },
  {
   "cell_type": "code",
   "execution_count": null,
   "id": "b33f5962-d6d4-4016-9592-25ba692db44a",
   "metadata": {},
   "outputs": [],
   "source": [
    "X <- c(\"poly(edad,2,raw=TRUE)\", \"nivel_ed\",\"mujer\", \n",
    "        \"parentesco\", \"estado_civil\", \n",
    "        \"tipo_vivienda*poly(total_miembros_hogar,2,raw=TRUE)\", #cambio\n",
    "        \"poly(total_miembros_hogar,2,raw=TRUE)\",\n",
    "        \"poly(miembros_hogar_menores10,2,raw=TRUE)\",\n",
    "        \"poly(ing_tot_fam,2,raw=TRUE)\")\n",
    "\n",
    "\n",
    "lambda <- 10^seq(-1, -4, length = 50)\n",
    "grid <- expand.grid(\"alpha\" = seq(0,1,by=.1), lambda = lambda)\n",
    "\n",
    "set.seed(1410)\n",
    "glm_model_en <- train(\n",
    "    formula(paste0(\"desempleado ~\", paste0(X, collapse = \" + \"))),\n",
    "    method = \"glmnet\",\n",
    "    data = train,\n",
    "    family = \"binomial\",\n",
    "    trControl = ctrl,\n",
    "    tuneGrid = grid,\n",
    "    preProcess = c(\"center\", \"scale\")\n",
    "  )\n",
    "\n",
    "glm_model_en\n",
    "test<- test  %>% mutate(desempleo_hat_logit_en=predict(glm_model_en,newdata = test,\n",
    "                           type = \"raw\"))\n",
    "confusionMatrix(data = test$desempleo_hat_logit_en, \n",
    "                reference = test$desempleado, positive=\"desempleado\", mode = \"prec_recall\")\n"
   ]
  },
  {
   "cell_type": "code",
   "execution_count": null,
   "id": "5a5a9b40-11ad-46a9-8462-4ba07c406713",
   "metadata": {},
   "outputs": [],
   "source": [
    "#Curva ROC\n",
    "res_insample_all <- evalm(list(mylogit_caret, glm_model_logit_ampliado,glm_model_en),gnames=c('Basic','Ampliado','EN'),plots='r')"
   ]
  },
  {
   "cell_type": "markdown",
   "id": "76de2d63-a25b-414e-b39d-be0a13dbc47f",
   "metadata": {},
   "source": [
    "# Class Imbalance: Remedies"
   ]
  },
  {
   "cell_type": "code",
   "execution_count": null,
   "id": "fcf9f694-f666-45a8-9491-2641a6b61f99",
   "metadata": {},
   "outputs": [],
   "source": [
    "\n",
    "ggplot(data,aes(x = estado, y = n, fill = estado)) +\n",
    "  geom_bar(stat = \"identity\") +\n",
    "  theme_minimal() +\n",
    "  scale_fill_manual(values = c(\"desempleado\" = \"orange\", \"empleado\"= \"blue\")) + # Colors can be changed\n",
    "  labs(x = \"\", y = \"count\") # Customize axis labels if needed\n",
    "\n"
   ]
  },
  {
   "cell_type": "markdown",
   "id": "dd24aebc-adca-4849-b7d3-4f91448f061c",
   "metadata": {},
   "source": [
    "## Model Tuning\n",
    "\n",
    "The simplest approach to counteracting the negative eﬀects of class imbalance is to tune the model to maximize the accuracy of the minority class(es)."
   ]
  },
  {
   "cell_type": "code",
   "execution_count": null,
   "id": "29e19fbb-942e-4db9-a089-99b71c30e78d",
   "metadata": {},
   "outputs": [],
   "source": [
    "multiStats <- function(...) c(twoClassSummary(...), defaultSummary(...), prSummary(...))\n",
    "\n",
    "ctrl_multiStats<- trainControl(method = \"cv\",\n",
    "                     number = 5,\n",
    "                     summaryFunction = multiStats,\n",
    "                     classProbs = TRUE,\n",
    "                     verbose=FALSE,\n",
    "                     savePredictions = T)"
   ]
  },
  {
   "cell_type": "code",
   "execution_count": null,
   "id": "918cb4d0-84d8-4010-88c4-8540edf851d6",
   "metadata": {},
   "outputs": [],
   "source": [
    "\n",
    "\n",
    "X <- c(\"poly(edad,2,raw=TRUE)\", \"nivel_ed\",\"mujer\", \n",
    "        \"parentesco\", \"estado_civil\", \n",
    "        \"tipo_vivienda*poly(total_miembros_hogar,2,raw=TRUE)\", #cambio\n",
    "        \"poly(total_miembros_hogar,2,raw=TRUE)\",\n",
    "        \"poly(miembros_hogar_menores10,2,raw=TRUE)\",\n",
    "        \"poly(ing_tot_fam,2,raw=TRUE)\")\n",
    "\n",
    "\n",
    "lambda <- 10^seq(-1, -4, length = 50)\n",
    "grid <- expand.grid(\"alpha\" = seq(0,1,by=.2), lambda = lambda)\n",
    "\n",
    "set.seed(1410)\n",
    "glm_model_en_sens <- train(\n",
    "    formula(paste0(\"desempleado ~\", paste0(X, collapse = \" + \"))),\n",
    "    method = \"glmnet\",\n",
    "    data = train,\n",
    "    family = \"binomial\",\n",
    "    tuneGrid = grid,\n",
    "    preProcess = c(\"center\", \"scale\"),\n",
    "    trControl = ctrl_multiStats,\n",
    "    metric = \"Sens\"\n",
    "  )\n",
    "\n",
    "glm_model_en_sens"
   ]
  },
  {
   "cell_type": "code",
   "execution_count": null,
   "id": "a822b118-26e6-4542-a7b5-982c03738ad9",
   "metadata": {},
   "outputs": [],
   "source": [
    "\n",
    "test<- test  %>% mutate(desempleo_hat_logit_en_sens=predict(glm_model_en_sens,newdata = test,\n",
    "                           type = \"raw\"))\n",
    "confusionMatrix(data = test$desempleo_hat_logit_en_sens, \n",
    "                reference = test$desempleado, positive=\"desempleado\", mode = \"prec_recall\")"
   ]
  },
  {
   "cell_type": "markdown",
   "id": "06017941-69e7-4c1f-8c92-4c852c280a53",
   "metadata": {},
   "source": [
    "## Alternate Cutoﬀs\n",
    "\n",
    "When there are two possible outcome categories, another method for increasing the prediction accuracy of the minority class samples is to determine alternative cutoﬀs for the predicted probabilities which eﬀectively changes the definition of a predicted event."
   ]
  },
  {
   "cell_type": "code",
   "execution_count": null,
   "id": "6fe6c137-4eb4-4408-8dcc-74daf2f35cf0",
   "metadata": {},
   "outputs": [],
   "source": [
    "p_load(\"pROC\")\n",
    "\n",
    "roc_obj_en<-roc(response=glm_model_en_sens$pred$obs[glm_model_en_sens$pred$lambda==glm_model_en_sens$bestTune$lambda],\n",
    "                   predictor=glm_model_en_sens$pred$desempleado[glm_model_en_sens$pred$lambda==glm_model_en_sens$bestTune$lambda],\n",
    "                  levels = c(\"empleado\", \"desempleado\"),  # Establecer control y caso\n",
    "                  direction = \"<\")  # \"<\" significa que \"desempleado\" es positivo"
   ]
  },
  {
   "cell_type": "code",
   "execution_count": null,
   "id": "0495606a-83e1-415c-9202-f8f8523e9203",
   "metadata": {},
   "outputs": [],
   "source": [
    "rfThresh_en <- coords(roc_obj_en, x = \"best\", best.method = \"closest.topleft\")\n",
    "rfThresh_en"
   ]
  },
  {
   "cell_type": "code",
   "execution_count": null,
   "id": "7e93b538-b660-4361-ad59-ea94e3f891cb",
   "metadata": {},
   "outputs": [],
   "source": [
    "\n",
    "test<- test  %>% mutate(desempleo_prob_logit_en_sens=predict(glm_model_en_sens,newdata = test,\n",
    "                           type = \"prob\")$desempleado)\n",
    "head(test)"
   ]
  },
  {
   "cell_type": "code",
   "execution_count": null,
   "id": "d9d6d372-e7a9-4037-af8e-d12d0afe655a",
   "metadata": {},
   "outputs": [],
   "source": [
    "\n",
    "test<- test  %>% mutate(desempleo_hat_logit_en_sens_cutoff=factor(ifelse(desempleo_prob_logit_en_sens>=rfThresh_en$threshold,1,0),\n",
    "                                                                 levels = c(1,0), labels = c(\"desempleado\",\"empleado\")))\n",
    "         \n",
    "confusionMatrix(data = test$desempleo_hat_logit_en_sens_cutoff, \n",
    "                 reference = test$desempleado, positive=\"desempleado\", mode = \"prec_recall\")"
   ]
  },
  {
   "cell_type": "code",
   "execution_count": null,
   "id": "193c8b70-3944-4d10-a043-697720e66684",
   "metadata": {},
   "outputs": [],
   "source": [
    "## Precision Recall Curve"
   ]
  },
  {
   "cell_type": "code",
   "execution_count": null,
   "id": "64d31c0c-4b9d-43ec-a94c-b746ed8e77d2",
   "metadata": {},
   "outputs": [],
   "source": [
    "prec_recall<-data.frame(coords(roc_obj_en, seq(0,1,length=100), ret=c(\"threshold\", \"precision\", \"recall\")))\n",
    "prec_recall"
   ]
  },
  {
   "cell_type": "code",
   "execution_count": null,
   "id": "d3fdc439-922d-4289-b82d-6ec0785b73e1",
   "metadata": {},
   "outputs": [],
   "source": [
    "prec_recall<- prec_recall  %>% mutate(F1=(2*precision*recall)/(precision+recall))\n",
    "prec_recall"
   ]
  },
  {
   "cell_type": "code",
   "execution_count": null,
   "id": "04ae0e6e-e936-4fb6-bb35-714948c204f2",
   "metadata": {},
   "outputs": [],
   "source": [
    "prec_recall$threshold[which.max(prec_recall$F1)]"
   ]
  },
  {
   "cell_type": "code",
   "execution_count": null,
   "id": "ecb1ebe1-70ec-4d0e-ab66-1035978b8364",
   "metadata": {},
   "outputs": [],
   "source": [
    "test<- test  %>% mutate(desempleo_prob_logit_en_sens=predict(glm_model_en_sens,newdata = test,\n",
    "                           type = \"prob\")$desempleado)\n",
    "\n",
    "test<- test  %>% mutate(desempleo_hat_logit_en_sens_cutoff_F1=factor(ifelse(desempleo_prob_logit_en_sens>=prec_recall$threshold[which.max(prec_recall$F1)],1,0),\n",
    "                                                                 levels = c(1,0), labels = c(\"desempleado\",\"empleado\")))\n",
    "         \n",
    "confusionMatrix(data = test$desempleo_hat_logit_en_sens_cutoff_F1, \n",
    "                 reference = test$desempleado, positive=\"desempleado\", mode = \"prec_recall\")"
   ]
  },
  {
   "cell_type": "markdown",
   "id": "d588ac49-1512-42bd-818d-23e8f2cf89a5",
   "metadata": {},
   "source": [
    "## Remuestreo\n",
    "\n",
    "Hay varios enfoques:\n",
    "\n",
    "  1. Up-sampling.  Simulates or imputes additional data points of the minority class to improve balance across classes, while \n",
    "  2. Down-sampling. Randomly reduces the number of the majority class  to improve the balance across classes.\n",
    "  3. Híbrido: SMOTE, ROSE"
   ]
  },
  {
   "cell_type": "markdown",
   "id": "72014e30-053f-4f44-94df-333995d28333",
   "metadata": {},
   "source": [
    "<div >\n",
    "<img src = \"sampling_methods.png\" />\n",
    "</div>"
   ]
  },
  {
   "cell_type": "markdown",
   "id": "8520d011-79f4-4d31-8978-983b12ef9116",
   "metadata": {},
   "source": [
    "### Down Sampling\n"
   ]
  },
  {
   "cell_type": "code",
   "execution_count": null,
   "id": "287b1d7f-3004-4577-988d-9b417ca6d753",
   "metadata": {},
   "outputs": [],
   "source": [
    "set.seed(1103)\n",
    "downSampledTrain <- downSample(x = train,\n",
    "                           y = train$desempleado,\n",
    "                           ## keep the class variable name the same:\n",
    "                           yname = \"desempleado\")\n",
    "dim(train)\n",
    "\n",
    "\n",
    "dim(downSampledTrain)\n",
    "\n",
    "table(downSampledTrain$desempleado)\n",
    "\n"
   ]
  },
  {
   "cell_type": "code",
   "execution_count": null,
   "id": "096f6a21-df64-4ff2-b65d-42aacee06e92",
   "metadata": {},
   "outputs": [],
   "source": [
    "\n",
    "\n",
    "X <- c(\"poly(edad,2,raw=TRUE)\", \"nivel_ed\",\"mujer\", \n",
    "        \"parentesco\", \"estado_civil\", \n",
    "        \"tipo_vivienda\",\n",
    "        \"poly(total_miembros_hogar,2,raw=TRUE)\",\n",
    "        \"poly(miembros_hogar_menores10,2,raw=TRUE)\",\n",
    "        \"poly(ing_tot_fam,2,raw=TRUE)\")\n",
    "\n",
    "\n",
    "set.seed(1410)\n",
    "glm_model_logit_ampliado_downsample <- train(\n",
    "    formula(paste0(\"desempleado ~\", paste0(X, collapse = \" + \"))),\n",
    "    method = \"glm\",\n",
    "    data = downSampledTrain,\n",
    "    family = \"binomial\",\n",
    "    trControl = ctrl_multiStats,\n",
    "    preProcess = c(\"center\", \"scale\")\n",
    "  )\n",
    "\n",
    "glm_model_logit_ampliado_downsample"
   ]
  },
  {
   "cell_type": "code",
   "execution_count": null,
   "id": "d494c232-8f52-426e-b644-e6275b0cd41a",
   "metadata": {},
   "outputs": [],
   "source": [
    "options(warn=-1)\n",
    "\n",
    "test<- test  %>% mutate(desempleo_hat_logit_ampliado_downsample=predict(glm_model_logit_ampliado_downsample,newdata = test,\n",
    "                           type = \"raw\"))\n",
    "confusionMatrix(data = test$desempleo_hat_logit_ampliado_downsample, \n",
    "                reference = test$desempleado, positive=\"desempleado\", mode = \"prec_recall\")\n"
   ]
  },
  {
   "cell_type": "markdown",
   "id": "82a2db2b-3bc8-4b5a-829e-86d2eff0a79a",
   "metadata": {},
   "source": [
    "### Up Sampling"
   ]
  },
  {
   "cell_type": "code",
   "execution_count": null,
   "id": "927084fe-8ff7-4978-9e94-d086b0cdb8d5",
   "metadata": {},
   "outputs": [],
   "source": [
    "set.seed(1103)\n",
    "upSampledTrain <- upSample(x = train,\n",
    "                           y = train$desempleado,\n",
    "                           yname = \"desempleado\")\n",
    "dim(train)\n",
    "\n",
    "dim(upSampledTrain)\n",
    "\n",
    "table(upSampledTrain$desempleado)\n"
   ]
  },
  {
   "cell_type": "code",
   "execution_count": null,
   "id": "79232af0-aa21-4847-aa91-72549ad02f7d",
   "metadata": {},
   "outputs": [],
   "source": [
    "set.seed(1410)\n",
    "glm_model_logit_ampliado_upsample <- train(\n",
    "    formula(paste0(\"desempleado ~\", paste0(X, collapse = \" + \"))),\n",
    "    method = \"glm\",\n",
    "    data = upSampledTrain,\n",
    "    family = \"binomial\",\n",
    "    trControl = ctrl_multiStats,\n",
    "    preProcess = c(\"center\", \"scale\")\n",
    "  )\n",
    "\n",
    "glm_model_logit_ampliado_upsample\n"
   ]
  },
  {
   "cell_type": "code",
   "execution_count": null,
   "id": "130db2c7-2d12-469e-a09f-4c7b84f70222",
   "metadata": {},
   "outputs": [],
   "source": [
    "\n",
    "test<- test  %>% mutate(desempleo_hat_logit_ampliado_upsample=predict(glm_model_logit_ampliado_upsample,newdata = test,\n",
    "                           type = \"raw\"))\n",
    "confusionMatrix(data = test$desempleo_hat_logit_ampliado_upsample, \n",
    "                reference = test$desempleado, positive=\"desempleado\", mode = \"prec_recall\")\n"
   ]
  },
  {
   "cell_type": "markdown",
   "id": "0faa9147-abf1-4fff-a9bf-492741aec6a7",
   "metadata": {},
   "source": [
    "### SMOTE\n",
    "\n",
    "El synthetic minority over-sampling technique (SMOTE) (Chawla et al., 2002), utiliza tanto muestreo hacia arriba (up-sampling) como hacia abajo (down-sampling)\n",
    "\n",
    "- Para mejorar la muestra de la clase minoritaria, SMOTE sintetiza nuevos casos. Para ello, se selecciona aleatoriamente un punto de datos de la clase minoritaria y se determinan sus K vecinos más cercanos (KNN). El nuevo punto de datos sintético es una combinación convexa aleatoria de los predictores del punto de datos seleccionado al azar y sus vecinos.\n",
    "\n",
    "- Si bien el algoritmo SMOTE agrega nuevas muestras a la clase minoritaria a través de un muestreo ascendente, también puede reducir la muestra de casos de la clase mayoritaria a través de un muestreo aleatorio para ayudar a equilibrar el conjunto de entrenamiento."
   ]
  },
  {
   "cell_type": "markdown",
   "id": "b6cf6106-1bd8-4eae-b770-dee4b6d4cc48",
   "metadata": {},
   "source": [
    "<div >\n",
    "<img src = \"smote.png\" />\n",
    "</div>"
   ]
  },
  {
   "cell_type": "code",
   "execution_count": null,
   "id": "bd90c6d4-78bd-42c7-937f-05e9088cf8b3",
   "metadata": {},
   "outputs": [],
   "source": [
    "p_load(\"smotefamily\")\n",
    "\n",
    "predictors<-colnames(train  %>% select(edad,mujer,nivel_ed,parentesco, estado_civil,tipo_vivienda,total_miembros_hogar,miembros_hogar_menores10,ing_tot_fam))\n",
    "head( train[predictors])\n"
   ]
  },
  {
   "cell_type": "code",
   "execution_count": null,
   "id": "60669394-f92a-44f6-81f9-6d9a285ee23d",
   "metadata": {},
   "outputs": [],
   "source": [
    "# smote_output <- SMOTE(X = train[predictors],\n",
    "#                      target = train$desempleado,\n",
    "#                      K=5)\n",
    "# smote_data <- smote_output$data\n"
   ]
  },
  {
   "cell_type": "code",
   "execution_count": null,
   "id": "c313cde9-6fec-4318-8ebe-bdd32f79ecef",
   "metadata": {},
   "outputs": [],
   "source": [
    "# Convertir la fórmula en una matriz de diseño numérica\n",
    "X_train <- model.matrix(desempleado ~poly(edad,2,raw=TRUE) + nivel_ed + mujer + parentesco + estado_civil + tipo_vivienda + poly(total_miembros_hogar,2,raw=TRUE) + poly(miembros_hogar_menores10,2,raw=TRUE) + poly(ing_tot_fam,2,raw=TRUE), train)\n",
    "\n",
    "# Eliminar la primera columna que es el intercepto (opcional)\n",
    "X_train <- X_train[, -1]\n",
    "head(X_train)"
   ]
  },
  {
   "cell_type": "code",
   "execution_count": null,
   "id": "246b2268-c342-4d40-a70b-9bc4e17f49e7",
   "metadata": {},
   "outputs": [],
   "source": [
    "colnames(X_train)<-paste0(\"X\",seq(1,30))\n",
    "colnames(X_train)\n",
    "X_train<-data.frame(X_train)"
   ]
  },
  {
   "cell_type": "code",
   "execution_count": null,
   "id": "f2499651-385e-4dc8-99e7-c902075c16fe",
   "metadata": {},
   "outputs": [],
   "source": [
    "smote_data <- SMOTE(X = X_train, target = train$desempleado, K = 5)"
   ]
  },
  {
   "cell_type": "code",
   "execution_count": null,
   "id": "67745bd1-7162-4b0d-9727-39de2e3e2585",
   "metadata": {},
   "outputs": [],
   "source": [
    "table(train$desempleado)\n"
   ]
  },
  {
   "cell_type": "code",
   "execution_count": null,
   "id": "8ebca649-b58f-4286-9420-713d459d3ab5",
   "metadata": {},
   "outputs": [],
   "source": [
    "head(smote_data$data)"
   ]
  },
  {
   "cell_type": "code",
   "execution_count": null,
   "id": "a42e5c9f-4453-4e78-9264-e36976502062",
   "metadata": {},
   "outputs": [],
   "source": [
    "str(smote_data$data$class)"
   ]
  },
  {
   "cell_type": "code",
   "execution_count": null,
   "id": "dbfb9447-242b-4b53-922f-f105af5d6f85",
   "metadata": {},
   "outputs": [],
   "source": [
    "set.seed(1410)\n",
    "\n",
    "desempleado_logit_smote <- train(class ~.,\n",
    "                       data = smote_data$data, \n",
    "                       method = \"glm\",\n",
    "                      family = \"binomial\",\n",
    "                        trControl = ctrl_multiStats,\n",
    "                        preProcess = c(\"center\", \"scale\")\n",
    "                      )\n",
    "\n",
    "desempleado_logit_smote\n",
    "\n"
   ]
  },
  {
   "cell_type": "code",
   "execution_count": null,
   "id": "d1f68811-331e-46b5-94b8-1b1e4b008d0c",
   "metadata": {},
   "outputs": [],
   "source": [
    "#test<- test  %>% mutate(desempleado_hat_smote_orig=predict(desempleado_logit_smote,newdata = test,\n",
    "#                          type = \"raw\"))"
   ]
  },
  {
   "cell_type": "code",
   "execution_count": null,
   "id": "3bc9504c-dc0d-4315-b970-caf879a9d8e7",
   "metadata": {},
   "outputs": [],
   "source": [
    "X_test <- model.matrix(desempleado ~poly(edad,2,raw=TRUE) + nivel_ed + mujer + parentesco + estado_civil + tipo_vivienda + poly(total_miembros_hogar,2,raw=TRUE) + poly(miembros_hogar_menores10,2,raw=TRUE) + poly(ing_tot_fam,2,raw=TRUE), test)\n",
    "X_test <- X_test[, -1]\n",
    "colnames(X_test)<-paste0(\"X\",seq(1,30))\n",
    "colnames(X_test)\n",
    "X_test<-data.frame(X_test)"
   ]
  },
  {
   "cell_type": "code",
   "execution_count": null,
   "id": "f6600274-7704-4dd3-b5f2-f118061a25b3",
   "metadata": {},
   "outputs": [],
   "source": [
    "test<- test  %>% mutate(desempleado_hat_smote_orig=predict(desempleado_logit_smote,newdata = X_test,\n",
    "                           type = \"raw\"))"
   ]
  },
  {
   "cell_type": "code",
   "execution_count": null,
   "id": "d52a1b55-4990-4289-bee5-714740820284",
   "metadata": {},
   "outputs": [],
   "source": [
    "confusionMatrix(data = test$desempleado_hat_smote_orig, \n",
    "                reference = test$desempleado, positive=\"desempleado\", mode = \"prec_recall\")"
   ]
  }
 ],
 "metadata": {
  "jupytext": {
   "cell_metadata_filter": "tags,name,-all",
   "main_language": "R",
   "notebook_metadata_filter": "-all"
  },
  "kernelspec": {
   "display_name": "R",
   "language": "R",
   "name": "ir"
  },
  "language_info": {
   "codemirror_mode": "r",
   "file_extension": ".r",
   "mimetype": "text/x-r-source",
   "name": "R",
   "pygments_lexer": "r",
   "version": "4.4.0"
  },
  "toc": {
   "base_numbering": 1,
   "nav_menu": {},
   "number_sections": true,
   "sideBar": true,
   "skip_h1_title": false,
   "title_cell": "Table of Contents",
   "title_sidebar": "Contents",
   "toc_cell": false,
   "toc_position": {
    "height": "calc(100% - 180px)",
    "left": "10px",
    "top": "150px",
    "width": "344.4px"
   },
   "toc_section_display": true,
   "toc_window_display": false
  }
 },
 "nbformat": 4,
 "nbformat_minor": 5
}
