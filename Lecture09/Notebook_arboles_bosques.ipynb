{
 "cells": [
  {
   "cell_type": "markdown",
   "id": "a952ad54-2218-4382-b2eb-d401d349f764",
   "metadata": {},
   "source": [
    "<div >\n",
    "<img src = \"../banner.jpg\" />\n",
    "</div>"
   ]
  },
  {
   "cell_type": "markdown",
   "id": "4c6ca528-8f36-4c63-b3b2-1e3ededfbb7f",
   "metadata": {},
   "source": [
    "<a target=\"_blank\" href=\"https://colab.research.google.com/github/ignaciomsarmiento/BDML_202402/blob/main/Lecture09/Notebook_arboles_bosques.ipynb\">\n",
    "  <img src=\"https://colab.research.google.com/assets/colab-badge.svg\" alt=\"Open In Colab\"/>\n",
    "</a>\n"
   ]
  },
  {
   "cell_type": "markdown",
   "id": "f7e57de4",
   "metadata": {},
   "source": [
    "# CARTs, Bagging and Random Forests"
   ]
  },
  {
   "cell_type": "markdown",
   "id": "303a3dcd",
   "metadata": {},
   "source": [
    "## Predicting House Prices\n",
    "\n",
    "Our objective today is to construct a model to predict house prices. From Rosen's landmark paper \"Hedonic Prices and Implicit Markets: Product Differentiation in Pure Competition\" (1974), we know that a vector of its characteristics describes a differentiated good.\n",
    "\n",
    "In the case of a house, these characteristics may include structural attributes (e.g., number of bedrooms), neighborhood public services (e.g., local school quality), and local amenities (e.g., crime, air quality, etc). Thus, we can write the market price of the house as:\n",
    "\n",
    "$$\n",
    "Price=f(structural\\,attributes,amenities,...)\n",
    "$$\n",
    "\n",
    "\n",
    "However, Rosen's theory doesn't tell us much about the functional form of $f$. "
   ]
  },
  {
   "cell_type": "markdown",
   "id": "b9183a2e",
   "metadata": {},
   "source": [
    "## CARTS: Example"
   ]
  },
  {
   "cell_type": "markdown",
   "id": "2fdab5a6",
   "metadata": {},
   "source": [
    "Let's load the packages:"
   ]
  },
  {
   "cell_type": "code",
   "execution_count": null,
   "id": "dce4bb18",
   "metadata": {},
   "outputs": [],
   "source": [
    "# install.packages(\"pacman\") #run this line if you use Google Colab"
   ]
  },
  {
   "cell_type": "code",
   "execution_count": null,
   "id": "3e94ec2b-ab94-4ec8-8512-e370d2f22a56",
   "metadata": {
    "tags": [
     "remove_cell"
    ]
   },
   "outputs": [],
   "source": [
    "#packages\n",
    "require(\"pacman\")\n",
    "p_load(\"tidyverse\",\"ggplot2\")"
   ]
  },
  {
   "cell_type": "markdown",
   "id": "5d6b3e2f",
   "metadata": {},
   "source": [
    " And the toy data set:"
   ]
  },
  {
   "cell_type": "code",
   "execution_count": null,
   "id": "41492fd2",
   "metadata": {},
   "outputs": [],
   "source": [
    "db<-read.csv('https://raw.githubusercontent.com/ignaciomsarmiento/datasets/main/toy_houses.csv')"
   ]
  },
  {
   "cell_type": "code",
   "execution_count": null,
   "id": "efd33e96",
   "metadata": {},
   "outputs": [],
   "source": [
    "head(db)"
   ]
  },
  {
   "cell_type": "code",
   "execution_count": null,
   "id": "bdf4ce56",
   "metadata": {},
   "outputs": [],
   "source": [
    "ggplot(db) +\n",
    "  geom_point(aes(x=habitaciones,y=DCBD),position=position_jitter(width = .05)) +\n",
    "  scale_x_continuous(breaks=seq(0,8,1)) +\n",
    "  theme_classic() +\n",
    "  xlab(\"Habitaciones\") +\n",
    "  ylab(\"Distancia al Centro\") +\n",
    "  theme(legend.position =  \"none\",\n",
    "      text=element_text(size=20))"
   ]
  },
  {
   "cell_type": "markdown",
   "id": "a5e5668c",
   "metadata": {},
   "source": [
    "### Algorithm\n",
    "\n",
    "\n",
    "-  Datos: $y_{n\\times 1}$  y $X_{n\\times k}$ \n",
    "\n",
    "-  Definiciones\n",
    "\n",
    "      -  *j* es la variable que parte el espacio \n",
    "      - *s* es el punto de partición\n",
    "\n",
    "\n",
    "-  Definimos los siguientes semiplanos\n",
    "\n",
    "\\begin{align}\n",
    "R_1(j,s)=\\{X|X_j\\leq s\\} \\,\\,\\, \\& \\,\\,\\, R_2(j,s)=\\{X|X_j > s\\}\n",
    "\\end{align}\n",
    "\n",
    "-  *El problema*: buscar la variable de partición $X_j$ y el punto $s$ de forma tal que \n",
    "\n",
    "\n",
    "\\begin{align}\n",
    "\\underset{j,s}{min} \\left[ \\underset{y_{R_1}}{min}\\sum_{x_i\\in R_1(j,s)}(y-\\gamma_{R_1})^2+ \\underset{y_{R_2}}{min}\\sum_{x_i\\in R_2(j,s)}(y-\\gamma_{R_2})^2\\right]\n",
    "\\end{align}\n",
    "\n"
   ]
  },
  {
   "cell_type": "markdown",
   "id": "c872b7af",
   "metadata": {},
   "source": [
    "#### Algorithm by hand (\"artesanal\")\n",
    "\n",
    "1. Iniciemos por DBCD"
   ]
  },
  {
   "cell_type": "code",
   "execution_count": null,
   "id": "d1d6b33c",
   "metadata": {},
   "outputs": [],
   "source": [
    "MSE_dbcd<-NA\n",
    "\n",
    "j<-1\n",
    "for(i in seq(1,2,0.25)){\n",
    "    #Region 1\n",
    "  R1<- db %>% filter(DCBD<=i)\n",
    "  R1<- R1 %>% mutate(c1=mean(price))\n",
    "  MSEr1<- ifelse(is.na(mean((R1$price-R1$c1)^2)),0,mean((R1$price-R1$c1)^2))\n",
    "    #Region 2\n",
    "  R2<- db %>% filter(DCBD>i)\n",
    "  R2<- R2 %>% mutate(c2=mean(price))\n",
    "  MSEr2<- ifelse(is.na(mean((R2$price-R2$c2)^2)),0,mean((R2$price-R2$c2)^2))\n",
    "  \n",
    "  MSE_dbcd[j]<-MSEr1+MSEr2\n",
    "  j<-j+1\n",
    "}\n",
    "\n",
    "MSE_dbcd"
   ]
  },
  {
   "cell_type": "markdown",
   "id": "ab3f1a57",
   "metadata": {},
   "source": [
    "2. Luego por Habitaciones"
   ]
  },
  {
   "cell_type": "code",
   "execution_count": null,
   "id": "b5480d1d",
   "metadata": {},
   "outputs": [],
   "source": [
    "MSE_hab<-NA\n",
    "\n",
    "for(i in 0:8){\n",
    "  R1<- db %>% filter(habitaciones<=i)\n",
    "  R1<- R1 %>% mutate(c1=mean(price))\n",
    "  MSEr1<- ifelse(is.na(mean((R1$price-R1$c1)^2)),0,mean((R1$price-R1$c1)^2))\n",
    "  R2<- db %>% filter(habitaciones>i)\n",
    "  R2<- R2 %>% mutate(c2=mean(price))\n",
    "  MSEr2<- ifelse(is.na(mean((R2$price-R2$c2)^2)),0,mean((R2$price-R2$c2)^2))\n",
    "  \n",
    "  MSE_hab[i+1]<-MSEr1+MSEr2\n",
    "  \n",
    "}\n",
    "MSE_hab"
   ]
  },
  {
   "cell_type": "markdown",
   "id": "cd652993",
   "metadata": {},
   "source": [
    "**Mínimo?**"
   ]
  },
  {
   "cell_type": "code",
   "execution_count": null,
   "id": "a53f0a9b",
   "metadata": {},
   "outputs": [],
   "source": [
    "MSE<-c(MSE_dbcd,MSE_hab)\n",
    "MSE[which.min(MSE)]\n",
    "MSE"
   ]
  },
  {
   "cell_type": "markdown",
   "id": "f29393e0",
   "metadata": {},
   "source": [
    "#### Algorithm in R"
   ]
  },
  {
   "cell_type": "markdown",
   "id": "22c8269f",
   "metadata": {},
   "source": [
    "There are multiple packages, we are going to use `rpart`"
   ]
  },
  {
   "cell_type": "code",
   "execution_count": null,
   "id": "69588256",
   "metadata": {},
   "outputs": [],
   "source": [
    "p_load(\"rpart\")"
   ]
  },
  {
   "cell_type": "code",
   "execution_count": null,
   "id": "3a7c95aa",
   "metadata": {},
   "outputs": [],
   "source": [
    "mytree<-rpart(price~DCBD+habitaciones,data=db)"
   ]
  },
  {
   "cell_type": "code",
   "execution_count": null,
   "id": "d274c14e",
   "metadata": {},
   "outputs": [],
   "source": [
    "mytree"
   ]
  },
  {
   "cell_type": "code",
   "execution_count": null,
   "id": "30b93124",
   "metadata": {},
   "outputs": [],
   "source": [
    "plot(mytree)\n",
    "text(mytree)"
   ]
  },
  {
   "cell_type": "code",
   "execution_count": null,
   "id": "54712843",
   "metadata": {},
   "outputs": [],
   "source": [
    "p_load(\"rpart.plot\")\n",
    "\n",
    "prp(mytree, under = TRUE, branch.lty = 2, yesno = 2, faclen = 0, varlen=15,tweak=1.2,clip.facs= TRUE,box.palette = \"Greens\",compress=TRUE,ycompress = TRUE,node.fun=function(x, labs, digits, varlen) paste(\"Precio \\n\", format(round(mytree$frame$yval, 0), nsmall=0, big.mark=\",\")))"
   ]
  },
  {
   "cell_type": "code",
   "execution_count": null,
   "id": "777ad5d9",
   "metadata": {},
   "outputs": [],
   "source": [
    "mytree_full<-rpart(log(price)~DCBD+habitaciones,data=db,cp=-1)"
   ]
  },
  {
   "cell_type": "code",
   "execution_count": null,
   "id": "5476f0cb",
   "metadata": {},
   "outputs": [],
   "source": [
    "prp(mytree_full, under = TRUE, branch.lty = 2, yesno = 2, faclen = 0, varlen=15,tweak=1.2,clip.facs= TRUE,box.palette = \"Greens\",compress=TRUE,ycompress = TRUE)"
   ]
  },
  {
   "cell_type": "markdown",
   "id": "5f08f3fa",
   "metadata": {},
   "source": [
    "##### With Ames Data Set"
   ]
  },
  {
   "cell_type": "markdown",
   "id": "aef4aea2",
   "metadata": {},
   "source": [
    "There are multiple packages, we are going to use `rpart`"
   ]
  },
  {
   "cell_type": "code",
   "execution_count": null,
   "id": "e69c9449",
   "metadata": {},
   "outputs": [],
   "source": [
    "p_load(\"rpart\")"
   ]
  },
  {
   "cell_type": "code",
   "execution_count": null,
   "id": "647d6dcf",
   "metadata": {},
   "outputs": [],
   "source": [
    "p_load(\"modeldata\")\n",
    "\n",
    "data(\"ames\", package = \"modeldata\")\n",
    "\n",
    "ames<-ames  %>% filter(Neighborhood %in%c(\"North_Ames\", \"College_Creek\", \"Old_Town\", \"Edwards\", \"Somerset\", \"Northridge_Heights\", \"Gilbert\", \"Sawyer\", \"Northwest_Ames\", \"Sawyer_West\"))\n"
   ]
  },
  {
   "cell_type": "code",
   "execution_count": null,
   "id": "f5b90bab",
   "metadata": {},
   "outputs": [],
   "source": [
    "head(ames)"
   ]
  },
  {
   "cell_type": "markdown",
   "id": "c555ba52",
   "metadata": {},
   "source": [
    "The description of the variables can be viewed here: https://jse.amstat.org/v19n3/decock/DataDocumentation.txt"
   ]
  },
  {
   "cell_type": "code",
   "execution_count": null,
   "id": "82f4e74a",
   "metadata": {},
   "outputs": [],
   "source": [
    "class(ames$Fence)"
   ]
  },
  {
   "cell_type": "code",
   "execution_count": null,
   "id": "ca09a27a",
   "metadata": {},
   "outputs": [],
   "source": [
    "amestree<-rpart(log(Sale_Price) ~ Gr_Liv_Area  + Bldg_Type + Fence + Lot_Area,data=ames, control = list(maxdepth = 3))\n",
    "\n",
    "p_load(\"rpart.plot\")\n",
    "prp(amestree, under = TRUE, branch.lty = 2, yesno = 2, faclen = 0, varlen=15,tweak=1.2,clip.facs= TRUE,box.palette = \"Greens\",compress=FALSE,ycompress = FALSE,node.fun=function(x, labs, digits, varlen) paste(\"Precio \\n\", format(round(exp(amestree$frame$yval), 0), nsmall=0, big.mark=\",\")))"
   ]
  },
  {
   "cell_type": "markdown",
   "id": "de10c96b",
   "metadata": {},
   "source": [
    "### Sobreajuste"
   ]
  },
  {
   "cell_type": "code",
   "execution_count": null,
   "id": "c3950976",
   "metadata": {},
   "outputs": [],
   "source": [
    "amestree<-rpart(log(Sale_Price) ~ Gr_Liv_Area  + Bldg_Type + Fence + Lot_Area,data=ames,cp=-1)"
   ]
  },
  {
   "cell_type": "code",
   "execution_count": null,
   "id": "06a4b5ec",
   "metadata": {},
   "outputs": [],
   "source": [
    "p_load(\"rpart.plot\")\n",
    "prp(amestree, under = TRUE, branch.lty = 2, yesno = 2, faclen = 0, varlen=15,tweak=1.2,clip.facs= TRUE,box.palette = \"Greens\",compress=FALSE,ycompress = FALSE,node.fun=function(x, labs, digits, varlen) paste(\"Precio \\n\", format(round(exp(amestree$frame$yval), 0), nsmall=0, big.mark=\",\")))"
   ]
  },
  {
   "cell_type": "markdown",
   "id": "9dddbde6",
   "metadata": {},
   "source": [
    "\n",
    "- Fijar la profundidad del árbol. (implementado en Caret `method=rpart2`)\n",
    "\n",
    "- Fijar la mínima cantidad de datos que están contenidos dentro de cada hoja. \n",
    "\n",
    "- Cost complexity pruning (implementado en Caret con `method=rpart`)\n",
    "\n",
    "`tidymodels` implementa todos"
   ]
  },
  {
   "cell_type": "markdown",
   "id": "6e92e07f",
   "metadata": {},
   "source": [
    "##### Implementación con Caret"
   ]
  },
  {
   "cell_type": "code",
   "execution_count": null,
   "id": "ecfc1c57",
   "metadata": {},
   "outputs": [],
   "source": [
    "p_load(\"caret\")"
   ]
  },
  {
   "cell_type": "code",
   "execution_count": null,
   "id": "318c6c70",
   "metadata": {},
   "outputs": [],
   "source": [
    "fitControl<-trainControl(method =\"cv\",\n",
    "                         number=5)"
   ]
  },
  {
   "cell_type": "markdown",
   "id": "b3c8e9ce",
   "metadata": {},
   "source": [
    "#####  `method=rpart2`  allows to tune Max Tree Depth"
   ]
  },
  {
   "cell_type": "code",
   "execution_count": null,
   "id": "a5df693c",
   "metadata": {},
   "outputs": [],
   "source": [
    "set.seed(123)\n",
    "tree_rpart2 <- train(\n",
    "    log(Sale_Price) ~ Gr_Liv_Area  + Bldg_Type + Fence + Lot_Area,\n",
    "    data=ames,\n",
    "    method = \"rpart2\",\n",
    "    trControl = fitControl,\n",
    "    tuneGrid = expand.grid(maxdepth = seq(1,30,1))\n",
    ")"
   ]
  },
  {
   "cell_type": "code",
   "execution_count": null,
   "id": "ffaf5931",
   "metadata": {},
   "outputs": [],
   "source": [
    "tree_rpart2"
   ]
  },
  {
   "cell_type": "code",
   "execution_count": null,
   "id": "e9627361",
   "metadata": {},
   "outputs": [],
   "source": [
    "prp(tree_rpart2$finalModel, under = TRUE, branch.lty = 2, yesno = 2, faclen = 0, varlen=15,tweak=1.2,clip.facs= TRUE,box.palette = \"Greens\",compress=FALSE,ycompress = FALSE,node.fun=function(x, labs, digits, varlen) paste(\"Precio \\n\", format(round(exp(tree_rpart2$finalModel$frame$yval), 0), nsmall=0, big.mark=\",\")))"
   ]
  },
  {
   "cell_type": "markdown",
   "id": "72c9571c",
   "metadata": {},
   "source": [
    "##### Tidymodels"
   ]
  },
  {
   "cell_type": "code",
   "execution_count": null,
   "id": "56495797",
   "metadata": {},
   "outputs": [],
   "source": [
    "p_load(\"tidymodels\")\n",
    "\n",
    "# Model setting\n",
    "tree_model_tune_params <- decision_tree(tree_depth = tune(),\n",
    "                                        min_n      = tune()) %>% \n",
    "  set_engine(\"rpart\") %>% \n",
    "  set_mode(\"regression\") \n",
    "\n",
    "\n",
    "\n",
    "# Receipe\n",
    "rec_1 <- recipe(Sale_Price ~  Gr_Liv_Area  + Bldg_Type  + Fence ,data=ames)  %>% \n",
    "         step_log(Sale_Price)\n",
    "\n",
    "\n",
    "# Folds\n",
    "set.seed(234)\n",
    "ames_folds <- vfold_cv(ames,\n",
    "              v       = 5\n",
    "             )"
   ]
  },
  {
   "cell_type": "code",
   "execution_count": null,
   "id": "bc7fa972",
   "metadata": {},
   "outputs": [],
   "source": [
    "14*99"
   ]
  },
  {
   "cell_type": "code",
   "execution_count": null,
   "id": "20b78ae9",
   "metadata": {},
   "outputs": [],
   "source": [
    "# workflow\n",
    "tree_wf <- workflow() %>%\n",
    "                     add_recipe(rec_1) %>%\n",
    "                     add_model(tree_model_tune_params)\n",
    "\n",
    "tree_grid <- grid_regular( # Rango de búsqueda para cada hiperparámetro\n",
    "                  tree_depth(range = c(1, 15), trans = NULL),\n",
    "                  min_n(range = c(2, 100), trans = NULL),\n",
    "                 levels=c(14,99))  \n",
    "\n",
    "tree_grid\n"
   ]
  },
  {
   "cell_type": "code",
   "execution_count": null,
   "id": "59d12e96",
   "metadata": {},
   "outputs": [],
   "source": [
    "dim(tree_grid)"
   ]
  },
  {
   "cell_type": "markdown",
   "id": "d4b81048",
   "metadata": {},
   "source": [
    "<div >\n",
    "<img src = \"figures/gridsearch.png\" />\n",
    "</div>"
   ]
  },
  {
   "cell_type": "code",
   "execution_count": null,
   "id": "27003958",
   "metadata": {},
   "outputs": [],
   "source": [
    "tree_grid_Random <- grid_random( # Rango de búsqueda para cada hiperparámetro\n",
    "                  tree_depth(range = c(1, 15), trans = NULL),\n",
    "                  min_n(range = c(2, 100), trans = NULL),\n",
    "                  # Número valores por hiperparámetro\n",
    "                  size = 25) \n",
    "\n",
    "tree_grid_Random"
   ]
  },
  {
   "cell_type": "code",
   "execution_count": null,
   "id": "3cf3e4e5",
   "metadata": {},
   "outputs": [],
   "source": [
    "#train\n",
    "\n",
    "tree_res <- \n",
    "  tree_wf %>% \n",
    "  tune_grid(\n",
    "    resamples = ames_folds,\n",
    "    grid = tree_grid_Random,\n",
    "    metrics= metric_set( mae)      \n",
    "    )\n",
    "\n"
   ]
  },
  {
   "cell_type": "code",
   "execution_count": null,
   "id": "97762343",
   "metadata": {},
   "outputs": [],
   "source": [
    "tree_res %>% \n",
    "  collect_metrics(summarize = TRUE)"
   ]
  },
  {
   "cell_type": "code",
   "execution_count": null,
   "id": "0e194da2",
   "metadata": {},
   "outputs": [],
   "source": [
    "best_tree <- tree_res %>% select_best(metric=\"mae\")"
   ]
  },
  {
   "cell_type": "code",
   "execution_count": null,
   "id": "debfa84f",
   "metadata": {},
   "outputs": [],
   "source": [
    "final_wf <- \n",
    "  tree_wf %>% \n",
    "  finalize_workflow(best_tree)\n",
    "\n",
    "final_wf"
   ]
  },
  {
   "cell_type": "markdown",
   "id": "135403a9",
   "metadata": {},
   "source": [
    "#### Cost complexity Prunning\n",
    "\n",
    "\n",
    "Cost complexity del árbol  $T$ con $[T]$ nodos terminales del árbol \n",
    "\\begin{align}\n",
    "  C_{\\alpha}(T)= \\sum_{m=1}^{[T]}  \\sum_{x_i\\in R_m} (y_i-\\hat{y}_m)^2 + \\alpha [T]\n",
    "\\end{align}\n",
    "\n",
    "\n",
    "Objetivo: para un dado $\\alpha$, encontrar el pruning óptimo que minimice  $C_{\\alpha}(T)$\n",
    "\n",
    "Se logra eliminando sucesivamente las ramas que producen un aumento mínimo en $\\sum_{x_i\\in R_m} (y_i-\\hat{y}_m)^2 $\n",
    "\n",
    "\n",
    "##### Algoritmo completo\n",
    "\n",
    "  - Hacemos crecer el árbol\n",
    "\n",
    "  - Para un dado $\\alpha$, aplicamos  *cost complexity pruning* \n",
    "    \n",
    "  - Utilizamos K-fold cross-validation para elegir $\\alpha$. \n",
    "\n",
    "  \n",
    "Tenemos entonces una secuencia de subarboles para distintos valores de $\\alpha$ \n",
    "\n",
    "Elegimos el $\\alpha$ y el subárbol que tienen el menor error de predicción."
   ]
  },
  {
   "cell_type": "markdown",
   "id": "bfd6d093",
   "metadata": {},
   "source": [
    "#####  `method=rpart`  only allows to tune Complexity Parameter\n",
    "\n",
    "- Can change the length\n"
   ]
  },
  {
   "cell_type": "code",
   "execution_count": null,
   "id": "c93df854",
   "metadata": {},
   "outputs": [],
   "source": [
    "set.seed(123)\n",
    "tree_lenght <- train(\n",
    "    log(Sale_Price) ~ Gr_Liv_Area  + Bldg_Type + Fence + Lot_Area,\n",
    "    data=ames,\n",
    "    method = \"rpart\",\n",
    "    metric=\"MAE\",\n",
    "    trControl = fitControl,\n",
    "    tuneLength=100\n",
    ")"
   ]
  },
  {
   "cell_type": "code",
   "execution_count": null,
   "id": "b1c61d27",
   "metadata": {},
   "outputs": [],
   "source": [
    "tree_lenght"
   ]
  },
  {
   "cell_type": "code",
   "execution_count": null,
   "id": "962e34fa",
   "metadata": {},
   "outputs": [],
   "source": [
    "prp(tree_lenght$finalModel, under = TRUE, branch.lty = 2, yesno = 2, faclen = 0, varlen=15,tweak=1.2,clip.facs= TRUE,box.palette = \"Greens\",compress=FALSE,ycompress = FALSE,node.fun=function(x, labs, digits, varlen) paste(\"Precio \\n\", format(round(exp(tree_lenght$finalModel$frame$yval), 0), nsmall=0, big.mark=\",\")))"
   ]
  },
  {
   "cell_type": "markdown",
   "id": "82c16df7",
   "metadata": {},
   "source": [
    "- Or the grid"
   ]
  },
  {
   "cell_type": "code",
   "execution_count": null,
   "id": "d5bda02f",
   "metadata": {},
   "outputs": [],
   "source": [
    "set.seed(123)\n",
    "tree_grid <- train(\n",
    "    log(Sale_Price) ~ Gr_Liv_Area  + Bldg_Type + Fence + Lot_Area,\n",
    "    data=ames,\n",
    "    method = \"rpart\",\n",
    "    trControl = fitControl,\n",
    "    tuneGrid = expand.grid(cp = seq(0.001707763, 0.001707765, length.out = 100))\n",
    ")\n"
   ]
  },
  {
   "cell_type": "code",
   "execution_count": null,
   "id": "9169c095",
   "metadata": {},
   "outputs": [],
   "source": [
    "tree_grid"
   ]
  },
  {
   "cell_type": "markdown",
   "id": "e563acfa",
   "metadata": {},
   "source": [
    "More details here: https://topepo.github.io/caret/train-models-by-tag.html#tree-based-model"
   ]
  },
  {
   "cell_type": "markdown",
   "id": "a3f4cc96",
   "metadata": {},
   "source": [
    "##### Tidymodels"
   ]
  },
  {
   "cell_type": "code",
   "execution_count": null,
   "id": "98c4bccd",
   "metadata": {},
   "outputs": [],
   "source": [
    "# Model setting\n",
    "tree_model_tune_complex <- decision_tree(cost_complexity = tune()) %>% #Change here\n",
    "  set_engine(\"rpart\") %>% \n",
    "  set_mode(\"regression\") \n",
    "\n",
    "# As before\n",
    "\n",
    "tree_wf <- workflow() %>%\n",
    "                     add_recipe(rec_1) %>%\n",
    "                     add_model(tree_model_tune_complex)\n",
    "\n",
    "tree_grid_complexity <- grid_regular(cost_complexity(),\n",
    "                          levels = 5) #at least 100\n",
    "\n",
    "#train\n",
    "best_tree <- \n",
    "  tree_wf %>% \n",
    "  tune_grid(\n",
    "    resamples = ames_folds,\n",
    "    grid = tree_grid_complexity,\n",
    "    metrics= metric_set( mae)      \n",
    "    ) %>%\n",
    "  select_best(\"mae\")\n",
    "\n",
    "\n",
    "#End workflow\n",
    "tree_wf %>% \n",
    "  finalize_workflow(best_tree)\n"
   ]
  },
  {
   "cell_type": "markdown",
   "id": "906ba4df",
   "metadata": {},
   "source": [
    "### Comentarios sobre Árboles\n",
    "\n",
    "\n",
    "#### Pros: \n",
    "  \n",
    "    - Los árboles son muy fáciles de explicar a las personas (probablemente incluso más fáciles que la regresión lineal)\n",
    "\n",
    "    - Los árboles se pueden trazar gráficamente y son fácilmente interpretados incluso por no expertos. Variables más importantes en la parte superior\n",
    "\n",
    "\n",
    "\n",
    "#### Cons:\n",
    "    \n",
    "    - Si la estructura es lineal, CART no funciona bien\n",
    "    \n",
    "<div >\n",
    "<img src = \"figures/tree_vs_reg.png\" />\n",
    "</div>\n",
    "\n",
    "\n",
    "    - Los árboles no son muy robustos \n",
    "    "
   ]
  },
  {
   "cell_type": "code",
   "execution_count": null,
   "id": "97b4063d",
   "metadata": {},
   "outputs": [],
   "source": [
    "set.seed(123)\n",
    "tree_rpart2_rob <- train(\n",
    "    log(Sale_Price) ~ Gr_Liv_Area  + Bldg_Type + Fence + Lot_Area,\n",
    "    data=ames[-c(1:20),],\n",
    "    method = \"rpart2\",\n",
    "    trControl = fitControl,\n",
    "    tuneGrid = expand.grid(maxdepth = seq(1,30,1))\n",
    ")"
   ]
  },
  {
   "cell_type": "code",
   "execution_count": null,
   "id": "9066ee7d",
   "metadata": {},
   "outputs": [],
   "source": [
    "tree_rpart2_rob"
   ]
  },
  {
   "cell_type": "code",
   "execution_count": null,
   "id": "f0161af1",
   "metadata": {},
   "outputs": [],
   "source": [
    "prp(tree_rpart2_rob$finalModel, under = TRUE, branch.lty = 2, yesno = 2, faclen = 0, varlen=15,tweak=1.2,clip.facs= TRUE,box.palette = \"Greens\",compress=FALSE,ycompress = FALSE,node.fun=function(x, labs, digits, varlen) paste(\"Precio \\n\", format(round(exp(tree_rpart2_rob$finalModel$frame$yval), 0), nsmall=0, big.mark=\",\")))"
   ]
  },
  {
   "cell_type": "markdown",
   "id": "a47ea160",
   "metadata": {},
   "source": [
    "#### Change the sample"
   ]
  },
  {
   "cell_type": "code",
   "execution_count": null,
   "id": "b4e0eb00",
   "metadata": {},
   "outputs": [],
   "source": [
    "db_sample<- sample_frac(ames,size=1,replace=TRUE) #takes a sample with replacement of the same size of the original sample (1 or 100%)"
   ]
  },
  {
   "cell_type": "code",
   "execution_count": null,
   "id": "448e69ce",
   "metadata": {},
   "outputs": [],
   "source": [
    "set.seed(123)\n",
    "tree_rpart2_rob_sample <- train(\n",
    "    log(Sale_Price) ~ Gr_Liv_Area  + Bldg_Type + Fence + Lot_Area,\n",
    "    data=db_sample,\n",
    "    method = \"rpart2\",\n",
    "    trControl = fitControl,\n",
    "    tuneGrid = expand.grid(maxdepth = seq(1,30,1))\n",
    ")"
   ]
  },
  {
   "cell_type": "code",
   "execution_count": null,
   "id": "b9eef870",
   "metadata": {},
   "outputs": [],
   "source": [
    "prp(tree_rpart2_rob_sample$finalModel, under = TRUE, branch.lty = 2, yesno = 2, faclen = 0, varlen=15,tweak=1.2,clip.facs= TRUE,box.palette = \"Greens\",compress=FALSE,ycompress = FALSE,node.fun=function(x, labs, digits, varlen) paste(\"Precio \\n\", format(round(exp(tree_rpart2_rob_sample$finalModel$frame$yval), 0), nsmall=0, big.mark=\",\")))"
   ]
  },
  {
   "cell_type": "markdown",
   "id": "a2e1a513",
   "metadata": {},
   "source": [
    "## Random Forests"
   ]
  },
  {
   "cell_type": "markdown",
   "id": "33789131",
   "metadata": {},
   "source": [
    "We are going to use `ranger: A Fast Implementation of Random Forests`"
   ]
  },
  {
   "cell_type": "code",
   "execution_count": null,
   "id": "2c27ec9e",
   "metadata": {},
   "outputs": [],
   "source": [
    "p_load(\"ranger\")"
   ]
  },
  {
   "cell_type": "code",
   "execution_count": null,
   "id": "3805b525",
   "metadata": {},
   "outputs": [],
   "source": [
    "set.seed(123)\n",
    "\n",
    "tree_ranger <- train(\n",
    "    log(Sale_Price) ~ Gr_Liv_Area  + Bldg_Type + Fence,\n",
    "    data=ames,\n",
    "    method = \"ranger\",\n",
    "    trControl = fitControl,\n",
    "    tuneGrid=expand.grid(\n",
    "              mtry = 1,\n",
    "              splitrule = \"variance\",\n",
    "              min.node.size = 5)\n",
    ")"
   ]
  },
  {
   "cell_type": "code",
   "execution_count": null,
   "id": "19e40992",
   "metadata": {},
   "outputs": [],
   "source": [
    "tree_ranger"
   ]
  },
  {
   "cell_type": "markdown",
   "id": "257b92de",
   "metadata": {
    "lines_to_next_cell": 0
   },
   "source": [
    "Tuning parameters:\n",
    "\n",
    "    - mtry (#Randomly Selected Predictors)\n",
    "    - splitrule (Splitting Rule)\n",
    "    - min.node.size (Minimal Node Size)\n",
    "\n"
   ]
  },
  {
   "cell_type": "code",
   "execution_count": null,
   "id": "6e876df0",
   "metadata": {},
   "outputs": [],
   "source": [
    "set.seed(123)\n",
    "\n",
    "tree_ranger_grid <- train(\n",
    "    log(Sale_Price) ~ Gr_Liv_Area  + Bldg_Type + Fence,\n",
    "    data=ames,\n",
    "    method = \"ranger\",\n",
    "    trControl = fitControl,\n",
    "    tuneGrid=expand.grid(\n",
    "              mtry = c(1,2,3),\n",
    "              splitrule = \"variance\",\n",
    "              min.node.size = c(5,10,15)),\n",
    "              importance = 'permutation'\n",
    ")"
   ]
  },
  {
   "cell_type": "code",
   "execution_count": null,
   "id": "f55fa8bd",
   "metadata": {},
   "outputs": [],
   "source": [
    "tree_ranger_grid"
   ]
  },
  {
   "cell_type": "markdown",
   "id": "4853196d",
   "metadata": {},
   "source": [
    "# Variable Importance"
   ]
  },
  {
   "cell_type": "code",
   "execution_count": null,
   "id": "d1aad354",
   "metadata": {},
   "outputs": [],
   "source": [
    "rangerImp <- varImp(tree_ranger_grid, scale = TRUE)\n",
    "rangerImp"
   ]
  }
 ],
 "metadata": {
  "jupytext": {
   "formats": "ipynb,Rmd"
  },
  "kernelspec": {
   "display_name": "R",
   "language": "R",
   "name": "ir"
  },
  "language_info": {
   "codemirror_mode": "r",
   "file_extension": ".r",
   "mimetype": "text/x-r-source",
   "name": "R",
   "pygments_lexer": "r",
   "version": "4.4.0"
  },
  "toc": {
   "base_numbering": 1,
   "nav_menu": {},
   "number_sections": true,
   "sideBar": true,
   "skip_h1_title": false,
   "title_cell": "Table of Contents",
   "title_sidebar": "Contents",
   "toc_cell": false,
   "toc_position": {},
   "toc_section_display": true,
   "toc_window_display": false
  }
 },
 "nbformat": 4,
 "nbformat_minor": 5
}
