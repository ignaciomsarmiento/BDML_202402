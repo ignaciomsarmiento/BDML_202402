{
 "cells": [
  {
   "cell_type": "markdown",
   "id": "5653c385",
   "metadata": {},
   "source": [
    "<div >\n",
    "<img src = \"../banner.jpg\" />\n",
    "</div>"
   ]
  },
  {
   "cell_type": "markdown",
   "id": "62ec9d88",
   "metadata": {},
   "source": [
    "<a target=\"_blank\" href=\"https://colab.research.google.com/github/ignaciomsarmiento/BDML_202302/blob/main/Lecture03/Notebook_SS03.ipynb\">\n",
    "  <img src=\"https://colab.research.google.com/assets/colab-badge.svg\" alt=\"Open In Colab\"/>\n",
    "</a>\n"
   ]
  },
  {
   "cell_type": "markdown",
   "id": "f7e57de4",
   "metadata": {},
   "source": [
    "<style type=\"text/css\">\n",
    "\n",
    ".responsive {\n",
    " width: 100%;\n",
    " height: 25%;\n",
    "}\n",
    "\n",
    ".list-group-item.active, .list-group-item.active:focus, .list-group-item.active:hover {\n",
    "    z-index: 2;\n",
    "    color: #fff;\n",
    "    background-color: #1B175E;\n",
    "    border-color: #337ab7;\n",
    "}\n",
    "h1, h2, h3, h4 {\n",
    "    color: #000002;\n",
    "    background-color: #1B175E;\n",
    "    background-image:\n",
    "      linear-gradient(to right,\n",
    "       #fff, #ffff00\n",
    "     );\n",
    "\n",
    "}\n",
    "\n",
    "h1, h2, h3, h4, p {\n",
    "    color: #000002;\n",
    "}\n",
    "\n",
    "a {\n",
    "    color: #1B175E;\n",
    "}\n",
    "</style>\n",
    "\n",
    "# Introduction"
   ]
  },
  {
   "cell_type": "markdown",
   "id": "44efaa5f-efe9-424e-bf07-c46550bc67fb",
   "metadata": {},
   "source": [
    "The concept behind resampling techniques for evaluating model performance is straightforward: a portion of the data is used to train the model, while the remaining data is used to assess the model's accuracy. \n",
    "\n",
    "This process is repeated several times with different subsets of the data, and the results are averaged and summarized. The primary differences between resampling techniques lie in the method by which the subsets of data are selected. \n",
    "\n",
    "In the following sections, we will discuss the main types of resampling techniques.\n",
    "\n",
    "\n"
   ]
  },
  {
   "cell_type": "markdown",
   "id": "303a3dcd",
   "metadata": {},
   "source": [
    "# Predicting Wages\n",
    "\n",
    "Our objective today is to construct a model of individual wages\n",
    "\n",
    "$$\n",
    "w = f(X) + u \n",
    "$$\n",
    "\n",
    "where w is the  wage, and X is a matrix that includes potential explanatory variables/predictors. In this problem set, we will focus on a linear model of the form\n",
    "\n",
    "\\begin{align}\n",
    " ln(w) & = \\beta_0 + \\beta_1 X_1 + \\dots + \\beta_p X_p  + u \n",
    "\\end{align}"
   ]
  },
  {
   "cell_type": "markdown",
   "id": "312ba2f4",
   "metadata": {},
   "source": [
    "were $ln(w)$ is the logarithm of the wage.\n",
    "\n",
    "To illustrate I'm going to use a sample of the NLSY97. The NLSY97 is  a nationally representative sample of 8,984 men and women born during the years 1980 through 1984 and living in the United States at the time of the initial survey in 1997.  Participants were ages 12 to 16 as of December 31, 1996.  Interviews were conducted annually from 1997 to 2011 and biennially since then.  "
   ]
  },
  {
   "cell_type": "markdown",
   "id": "2fdab5a6",
   "metadata": {},
   "source": [
    "Let's load the packages and the data set:"
   ]
  },
  {
   "cell_type": "code",
   "execution_count": null,
   "id": "c2800e5b",
   "metadata": {},
   "outputs": [],
   "source": [
    "#install.packages(\"pacman\") for #google colab"
   ]
  },
  {
   "cell_type": "code",
   "execution_count": null,
   "id": "3e94ec2b-ab94-4ec8-8512-e370d2f22a56",
   "metadata": {
    "tags": [
     "remove_cell"
    ]
   },
   "outputs": [],
   "source": [
    "#packages\n",
    "require(\"pacman\")\n",
    "p_load(\"tidyverse\",\"stargazer\")\n",
    "\n",
    "nlsy <- read_csv('https://raw.githubusercontent.com/ignaciomsarmiento/datasets/main/nlsy97.csv')\n"
   ]
  },
  {
   "cell_type": "markdown",
   "id": "896e2ca2",
   "metadata": {},
   "source": [
    "what are the predictors that I have available?"
   ]
  },
  {
   "cell_type": "code",
   "execution_count": null,
   "id": "7208cb9a",
   "metadata": {},
   "outputs": [],
   "source": [
    "glimpse(nlsy) "
   ]
  },
  {
   "cell_type": "markdown",
   "id": "342d1f92",
   "metadata": {},
   "source": [
    "Let's keep a couple of these predictors and look at their statistics"
   ]
  },
  {
   "cell_type": "code",
   "execution_count": null,
   "id": "800e2095",
   "metadata": {},
   "outputs": [],
   "source": [
    "nlsy<- nlsy  %>% select(lnw_2016, \n",
    "                        educ,\n",
    "                        black,\n",
    "                        hispanic,\n",
    "                        other,\n",
    "                        exp,\n",
    "                        afqt,\n",
    "                        mom_educ,\n",
    "                        dad_educ)"
   ]
  },
  {
   "cell_type": "markdown",
   "id": "2d68c5fd",
   "metadata": {},
   "source": [
    "The descriptive statistics?"
   ]
  },
  {
   "cell_type": "code",
   "execution_count": null,
   "id": "ab208b30-4a14-475f-9ed4-026b2644b121",
   "metadata": {
    "results": "asis",
    "tags": [
     "remove_input"
    ]
   },
   "outputs": [],
   "source": [
    "stargazer(data.frame(nlsy), header=FALSE, type='text',title=\"Variables Included in the Selected Data Set\")"
   ]
  },
  {
   "cell_type": "markdown",
   "id": "0f2532d7",
   "metadata": {},
   "source": [
    "# Validation Set  Approach\n",
    "\n",
    "The first method to evaluate out-of-sample performance is the validation set approach. In this approach, a fixed portion of the data is designated as the validation set, and the model is trained on the remaining data. The model's performance is then evaluated on the validation set. These partitions are usually called:\n",
    "\n",
    "   - Training sample: to build/estimate/train the model\n",
    "   - Testing (validation, hold-out) sample:  to evaluate its performance \n",
    "\n",
    "Partitions can be of any size. Usually, 70%-30% or 80%-20% are used. Graphically, a 70%-30% partition looks like:     \n",
    "    \n",
    "<div>\n",
    "<img src=\"figs_notebook_SS03/30-70.png\" width=\"500\"/>\n",
    "</div>"
   ]
  },
  {
   "cell_type": "markdown",
   "id": "88212caa",
   "metadata": {},
   "source": [
    "Let's implement this in `R`.\n",
    "\n",
    "We begin by generating a sample index that will indicate with `TRUE` those observations randomly assigned to the training data set with 70% probability, and with `FALSE` those observations randomly assigned to the testing data set with 30% chance."
   ]
  },
  {
   "cell_type": "code",
   "execution_count": null,
   "id": "acae014a",
   "metadata": {},
   "outputs": [],
   "source": [
    "#Make this example reproducible\n",
    "set.seed(123)\n",
    "\n",
    "#use 70% of the dataset as a training set and 30% as a test set\n",
    "sample <- sample(c(TRUE, FALSE), nrow(nlsy), replace=TRUE, prob=c(0.7,0.3))\n",
    "head(sample)"
   ]
  },
  {
   "cell_type": "markdown",
   "id": "75b63d02",
   "metadata": {
    "lines_to_next_cell": 0
   },
   "source": [
    "we can check that the partition:"
   ]
  },
  {
   "cell_type": "code",
   "execution_count": null,
   "id": "df09eb0b",
   "metadata": {},
   "outputs": [],
   "source": [
    "sum(sample)/nrow(nlsy)"
   ]
  },
  {
   "cell_type": "markdown",
   "id": "7fbea998",
   "metadata": {},
   "source": [
    "With the above index, we generate the partition:"
   ]
  },
  {
   "cell_type": "code",
   "execution_count": null,
   "id": "de9d0077",
   "metadata": {},
   "outputs": [],
   "source": [
    "train  <- nlsy[sample, ] #train sample those that are TRUE in the sample index\n",
    "test   <- nlsy[!sample, ] #test sample those that are FALSE in the sample index\n",
    "dim(train)"
   ]
  },
  {
   "cell_type": "markdown",
   "id": "de57da86",
   "metadata": {},
   "source": [
    "Another way of partitioning the data is to use `dplyr` package included in `tidyverse`. With this approach, we first create a column with the row number, take a sample of 70% of the sample and use this sample for training. The test set is the remaining, obtained by `anti_join()`. "
   ]
  },
  {
   "cell_type": "code",
   "execution_count": null,
   "id": "f2d18d9b",
   "metadata": {
    "eval": false,
    "include": true
   },
   "outputs": [],
   "source": [
    "#remove the comments to execute this portion of the code\n",
    "#Make this example reproducible\n",
    "#set.seed(123)\n",
    "\n",
    "#create ID column with a row number\n",
    "#nlsy$id <- 1:nrow(nlsy)\n",
    "\n",
    "#use 70% of the dataset as a training set and 30% as a test set \n",
    "#train <- nlsy %>% dplyr::sample_frac(0.70)\n",
    "#test  <- dplyr::anti_join(nlsy, train, by = 'id')\n",
    "\n"
   ]
  },
  {
   "cell_type": "markdown",
   "id": "ca1318f0-248e-41cf-b5c6-3a9fec9f9d99",
   "metadata": {},
   "source": [
    "## Predicting wages\n",
    "\n",
    "With these partitions in place, we can start building our predictive models. We begin by using a simple model with no covariates, just a constant:"
   ]
  },
  {
   "cell_type": "code",
   "execution_count": null,
   "id": "6a201763-d401-4f93-866a-00d1a6dc87c9",
   "metadata": {},
   "outputs": [],
   "source": [
    "model1<-lm(lnw_2016~1,data=train)\n",
    "summary(model1)"
   ]
  },
  {
   "cell_type": "markdown",
   "id": "9980df5e-4174-45bb-9b0f-13b558828a0b",
   "metadata": {},
   "source": [
    "In this case, the prediction for the log wage is the average train sample average"
   ]
  },
  {
   "cell_type": "markdown",
   "id": "bc5ad357-a9c5-4be6-9a38-e379229878b3",
   "metadata": {},
   "source": [
    "$$\n",
    "\\hat{y}=\\hat{\\beta_1}=\\frac{\\sum y_i}{n}=m\n",
    "$$"
   ]
  },
  {
   "cell_type": "code",
   "execution_count": null,
   "id": "e3fa8942-e1b3-48d1-8d75-a9a2dcfb3b62",
   "metadata": {},
   "outputs": [],
   "source": [
    "coef(model1)"
   ]
  },
  {
   "cell_type": "code",
   "execution_count": null,
   "id": "7bed4174",
   "metadata": {
    "lines_to_next_cell": 2
   },
   "outputs": [],
   "source": [
    "paste(\"Coef:\", mean(train$lnw_2016))"
   ]
  },
  {
   "cell_type": "markdown",
   "id": "0a8e78c6-94e3-4646-b96b-269fcffcee7b",
   "metadata": {},
   "source": [
    "Since we are concerned with predicting well out-of -sample, we need to evaluate our model in the testing data. For that, we use the coefficient estimated in the training data and use it as a predictor in the testing data:"
   ]
  },
  {
   "cell_type": "code",
   "execution_count": null,
   "id": "bcbea972-26d5-48a1-a322-9c0a942703a3",
   "metadata": {},
   "outputs": [],
   "source": [
    "#prediction on new data\n",
    "test$model1<-predict(model1,newdata = test)"
   ]
  },
  {
   "cell_type": "markdown",
   "id": "77839d42-8882-4761-8db4-df6bc614f3ac",
   "metadata": {
    "lines_to_next_cell": 0
   },
   "source": [
    "Then we can calculate the out-of-sample performance using the MSE:\n",
    "\n",
    "$$\n",
    "test\\,MSE=E((y-\\hat{y})^2)\n",
    "$$ \n",
    "in `R`:"
   ]
  },
  {
   "cell_type": "code",
   "execution_count": null,
   "id": "158d9d4b",
   "metadata": {},
   "outputs": [],
   "source": [
    "with(test,mean((lnw_2016-model1)^2))"
   ]
  },
  {
   "cell_type": "markdown",
   "id": "eafd03f2",
   "metadata": {},
   "source": [
    "This is quite a naive model that uses the sample average as a prediction. \n",
    "\n",
    "Let's see if we can improve (reduce the prediction error) this model.\n",
    "\n",
    "To improve our prediction, we can start adding explanatory variables. Let's begin by adding only one variable,  `education (educ)`:"
   ]
  },
  {
   "cell_type": "code",
   "execution_count": null,
   "id": "bbe39dc9",
   "metadata": {},
   "outputs": [],
   "source": [
    "model2<-lm(lnw_2016~educ,data=train)\n",
    "test$model2<-predict(model2,newdata = test)"
   ]
  },
  {
   "cell_type": "markdown",
   "id": "ca1d11ac",
   "metadata": {
    "lines_to_next_cell": 0
   },
   "source": [
    "and evaluate the  out-of-sample performance"
   ]
  },
  {
   "cell_type": "code",
   "execution_count": null,
   "id": "cb9cac15-8f34-4962-9bf1-c3a680bd6f4b",
   "metadata": {},
   "outputs": [],
   "source": [
    "with(test,mean((lnw_2016-model2)^2))"
   ]
  },
  {
   "cell_type": "markdown",
   "id": "b311451b-4af0-4638-a834-fa921cee1c71",
   "metadata": {},
   "source": [
    "There's a clear diminution in MSE. Let's add complexity by adding more variables:\n"
   ]
  },
  {
   "cell_type": "code",
   "execution_count": null,
   "id": "7c152233-8bda-4e61-9853-160fb7790093",
   "metadata": {},
   "outputs": [],
   "source": [
    "model3<-lm(lnw_2016~educ + exp + afqt + mom_educ + dad_educ,data=train)\n",
    "test$model3<-predict(model3,newdata = test)\n"
   ]
  },
  {
   "cell_type": "markdown",
   "id": "c52ccf7b",
   "metadata": {
    "lines_to_next_cell": 0
   },
   "source": [
    "The performance:"
   ]
  },
  {
   "cell_type": "code",
   "execution_count": null,
   "id": "e06f8287-7756-4d88-99a2-2eb1285007fe",
   "metadata": {},
   "outputs": [],
   "source": [
    "with(test,mean((lnw_2016-model3)^2))"
   ]
  },
  {
   "cell_type": "markdown",
   "id": "129749c0-3299-475d-9448-8b8d194c253e",
   "metadata": {},
   "source": [
    "In this case, the MSE keeps improving. Is there a limit to this improvement? Can we keep adding features and complexity? What about an extremely complex model that includes polynomials and interactions."
   ]
  },
  {
   "cell_type": "code",
   "execution_count": null,
   "id": "a5fc101d-6211-40d9-8dc2-4e2f8580d568",
   "metadata": {
    "lines_to_next_cell": 0
   },
   "outputs": [],
   "source": [
    "model4<-lm(lnw_2016~poly(educ,8,raw=TRUE):poly(exp,3,raw=TRUE):\n",
    "           poly(afqt,3,raw=TRUE)+ poly(mom_educ,3,raw=TRUE):\n",
    "           poly(dad_educ,3,raw=TRUE) +\n",
    "           black+hispanic + other,data=train)\n",
    "\n",
    "test$model4<-predict(model4,newdata = test)"
   ]
  },
  {
   "cell_type": "markdown",
   "id": "69f22665",
   "metadata": {
    "lines_to_next_cell": 0
   },
   "source": [
    "The performance:"
   ]
  },
  {
   "cell_type": "code",
   "execution_count": null,
   "id": "327d5853-5364-4865-8854-3066623e0517",
   "metadata": {
    "lines_to_next_cell": 2
   },
   "outputs": [],
   "source": [
    "with(test,mean((lnw_2016-model4)^2))"
   ]
  },
  {
   "cell_type": "code",
   "execution_count": null,
   "id": "a7512e12",
   "metadata": {},
   "outputs": [],
   "source": [
    "yhat_train<-predict(model3,newdata=train)"
   ]
  },
  {
   "cell_type": "code",
   "execution_count": null,
   "id": "ba25e0e2",
   "metadata": {},
   "outputs": [],
   "source": [
    "mean((train$lnw_2016-yhat_train)^2)"
   ]
  },
  {
   "cell_type": "markdown",
   "id": "a9cb15c3-aff7-4fd0-8229-6b5d654396ce",
   "metadata": {},
   "source": [
    "Le'ts put all these performance resuls in a table and compare them\n"
   ]
  },
  {
   "cell_type": "code",
   "execution_count": null,
   "id": "2ea94d4c",
   "metadata": {
    "lines_to_next_cell": 2,
    "tags": [
     "remove_input"
    ]
   },
   "outputs": [],
   "source": [
    "#create vars with all the MSE\n",
    "mse1<-with(test,round(mean((lnw_2016-model1)^2),3))\n",
    "mse2<-with(test,round(mean((lnw_2016-model2)^2),3))\n",
    "mse3<-with(test,round(mean((lnw_2016-model3)^2),3))\n",
    "mse4<-with(test,round(mean((lnw_2016-model4)^2),3))\n",
    "\n",
    "#put them in a vector\n",
    "mse<-c(mse1,mse2,mse3,mse4)\n",
    "\n",
    "#create a data frame\n",
    "db<-data.frame(model=factor(c(\"model1\",\"model2\",\"model3\",\"model4\"),ordered=TRUE),\n",
    "               MSE=mse)\n",
    "\n",
    "db"
   ]
  },
  {
   "cell_type": "markdown",
   "id": "d0149927-e250-4ba5-94b0-0a76bf6428a9",
   "metadata": {},
   "source": [
    "It is clear that as complexity increases, performance improves until a point where too much complexity results in inferior performance. \n",
    "\n",
    "This is an illustration of the Bias-Variance-Trade-Off.\n",
    "\n",
    "Although the validation set approach is quite nice, there are at least two problems with it\n",
    "  \n",
    "  1. The first one is that given an original data set if part of it is left aside to test the model, fewer data is left for estimation (leading to less efficiency).\n",
    "  2. A second problem is deciding which data will be used to train the model and which one to test it:\n",
    "  \n",
    "  <div>\n",
    "<img src=\"figs_notebook_SS03/fig52.png\" width=\"800\"/>\n",
    "</div>\n"
   ]
  },
  {
   "cell_type": "markdown",
   "id": "f1586176",
   "metadata": {},
   "source": [
    "\n",
    "\n",
    "# Leave-One-Out Cross-Validation (LOOCV) \n",
    "\n",
    "This method is similar to the Validation Set Approach, but it tries to address the latter's disadvantages. Leave-One-Out Cross-Validation (LOOCV) is a resampling technique for evaluating model performance. Each sample in the data is used once as the validation set, and the model is trained on the remaining samples. \n",
    "\n",
    "Graphically the LOOCV looks like this: "
   ]
  },
  {
   "cell_type": "markdown",
   "id": "b5d07a19",
   "metadata": {},
   "source": [
    "\n",
    "<div>\n",
    "<img src=\"figs_notebook_SS03/1.png\" width=\"500\"/>\n",
    "</div>\n",
    "\n",
    "<div>\n",
    "<img src=\"figs_notebook_SS03/2.png\" width=\"500\"/>\n",
    "</div>\n",
    "\n",
    "\n",
    "<div>\n",
    "<img src=\"figs_notebook_SS03/3.png\" width=\"500\"/>\n",
    "</div>\n",
    "\n",
    ".\n",
    "\n",
    ".\n",
    "\n",
    ".\n",
    "\n",
    ".\n",
    "\n",
    ".\n",
    "\n",
    ".\n",
    "\n",
    ".\n",
    "\n",
    ".\n",
    "\n",
    "<div>\n",
    "<img src=\"figs_notebook_SS03/20.png\" width=\"500\"/>\n",
    "</div>\n",
    "\n",
    "\n",
    "LOOCV is computationally expensive, as a separate model has to be fit `n` times, where `n` is the number of samples in the data. However, LOOCV is more thorough in its model evaluation, as each sample is used as the validation set exactly once, giving a more comprehensive assessment of the model's performance.\n",
    "\n",
    "The LOOCV estimate for the test MSE is\n",
    "\n",
    "\\begin{align}\n",
    "LOOCV(n) &= \\frac{1}{n}\\sum MSE_{-i} \\\\ \n",
    "      &= \\frac{1}{n}\\sum(y_i -\\hat{y}_{-i})^2\n",
    "\\end{align}\n",
    "\n",
    "where $-i$ indicates that the model to obtain the prediction was trained in all observations except $i$.\n",
    "\n",
    "LOOCV is particularly useful in cases where the number of samples in the data is small, and the risk of overfitting is high.\n",
    "\n",
    "\n",
    "LOOCV is a special case of k-fold cross-validation, where k is equal to the number of samples in the data. Given that it's a particular case of k-fold cross-validation, we will implement this instead.\n",
    "\n"
   ]
  },
  {
   "cell_type": "markdown",
   "id": "455606ee",
   "metadata": {},
   "source": [
    "\n",
    "\n",
    "# K-Fold Cross-Validation\n",
    "\n",
    "K-Fold Cross-Validation  is a widely used resampling technique for evaluating model performance. It involves dividing the data into k equally sized folds, where k is a user-defined constant. The model is then fit k times, with each fold used once as the validation set and the remaining k-1 folds used as the training set. This process results in k estimates of the model's performance, which can then be averaged to obtain an overall estimate. Graphically it looks like this:\n",
    "\n",
    "\n",
    "\n",
    "\n",
    "<div>\n",
    "<img src=\"figs_notebook_SS03/fold.png\" width=\"500\"/>\n",
    "</div>\n",
    "\n",
    "K-Fold Cross-Validation is a trade-off between the computational efficiency of the validation set approach and the thoroughness of LOOCV. On the one hand, K-Fold Cross-Validatio is more computationally efficient than LOOCV, as the model is fit k times instead of n times, where n is the number of samples in the data. On the other hand, K-Fold Cross-Validation is less thorough than LOOCV, as each sample is used in the validation set k-1/k of the time, giving a less comprehensive assessment of the model's performance.However, K-Fold Cross-Validation is widely used in practice. It provides a good balance between computational efficiency and thoroughness while allowing the user to control the number of times the model fits.\n",
    "\n",
    "K-Fold Cross-Validation provides a more robust evaluation of the model's performance than the validation set approach.  In the validation set approach, a fixed portion of the data is used as the validation set, which can result in a suboptimal estimation of the model's performance if the validation set is not representative of the data. In contrast, K-Fold Cross-Validatio ensures that each sample is used in the validation set exactly once, providing a more comprehensive assessment of the model's performance.\n",
    "\n",
    "To sum up, to implement K-Fold Cross-Validation, we need to:\n",
    "\n",
    "- Split the data into K parts $(n=\\sum_{j=1}^k n_j)$\n",
    "\n",
    "- Fit the model leaving out one of the folds $\\rightarrow$ $\\hat{y}_{-k}$\n",
    "  \n",
    "- Cycle through all k folds\n",
    " \n",
    "-  The CV(k) estimate for the test MSE is\n",
    "\n",
    "\n",
    "\\begin{align}\n",
    "CV_{(k)} &= \\frac{1}{k}\\sum_{j=1}^k MSE_j \\\\\n",
    "         &= \\frac{1}{k}\\sum_{j=1}^k (y_j^k-\\hat{y}_{-k})^{2}\n",
    "\\end{align}\n",
    "\n",
    "\n",
    "\n",
    "\n",
    "<div>\n",
    "<img src=\"figs_notebook_SS03/fig54.png\" width=\"800\"/>\n",
    "</div>\n",
    "\n",
    "\n",
    "\n",
    "Let's implement it in `R`\n",
    "\n",
    "### Splitting the data into K folds"
   ]
  },
  {
   "cell_type": "code",
   "execution_count": null,
   "id": "53a0bb58",
   "metadata": {},
   "outputs": [],
   "source": [
    "#Make this example reproducible\n",
    "set.seed(123)\n",
    "\n",
    "# Specify the number of folds for\n",
    "# 5-fold cross-validation\n",
    "K <- 5\n",
    "\n",
    "#Split the data set into 5 folds\n",
    "index <- split(1:nrow(nlsy), 1: K)"
   ]
  },
  {
   "cell_type": "markdown",
   "id": "53eb8257",
   "metadata": {},
   "source": [
    "We used the `split` function to generate a list with indexes that will help split the dataset into 5 parts of roughly equal size. We can see the first six indexes of the observations randomly assigned to the first partition or fold\n"
   ]
  },
  {
   "cell_type": "code",
   "execution_count": null,
   "id": "48128eaf",
   "metadata": {},
   "outputs": [],
   "source": [
    "head(index[[1]])"
   ]
  },
  {
   "cell_type": "markdown",
   "id": "a1e9108e",
   "metadata": {},
   "source": [
    "Given that the size is not divisible by 5 `R` sometimes us a *Warning*, we can verify the length of each partition:"
   ]
  },
  {
   "cell_type": "code",
   "execution_count": null,
   "id": "01c5bf5d",
   "metadata": {},
   "outputs": [],
   "source": [
    "lapply(index,length)"
   ]
  },
  {
   "cell_type": "markdown",
   "id": "34496243",
   "metadata": {},
   "source": [
    "All partitions have roughly the same size. The only partition with one extra observation is the first one.\n",
    "\n",
    "Note that to obtain the length, we used the `lapply` function. The `lapply` function is an extremely powerful function  used to apply a function to each element of a list and return a list as a result. It stands for \"list apply,\" and it is a commonly used function in R for working with lists and vectors. \n",
    "\n",
    "The basic syntax of the lapply function is: `lapply(X, FUN)`, where X is the list or vector that we want to apply the function FUN to, and FUN is the function we want to apply. FUN can be any R function, and it takes a single argument, which will be one of the elements of X. The `lapply` function returns a list, where each element of the list results from applying FUN to a corresponding element of X. In our example above, the list is the `index` element, and the function is `length`, and it returns a list with the lengths of each partition.\n",
    "\n",
    "The `lapply` function is useful when we need to perform the same operation on multiple elements of a list or vector and return a list as a result. It is a convenient alternative to using a for loop, as it is easier to read and write, more efficient for large lists, and faster and easily parallelizable in many circumstances.\n",
    "\n",
    "With the indices, we can then split the data set"
   ]
  },
  {
   "cell_type": "code",
   "execution_count": null,
   "id": "a6af2155",
   "metadata": {},
   "outputs": [],
   "source": [
    "#aplicar a la lista de folds 1,2,3,4,5\n",
    "splt <- lapply(1:K, function(ind) nlsy[index[[ind]], ])"
   ]
  },
  {
   "cell_type": "markdown",
   "id": "bd71c6f5",
   "metadata": {},
   "source": [
    "Then the first partition of the matchadata set will be in the first element of the `splt` element:"
   ]
  },
  {
   "cell_type": "code",
   "execution_count": null,
   "id": "b5527e17",
   "metadata": {},
   "outputs": [],
   "source": [
    "splt[[1]]"
   ]
  },
  {
   "cell_type": "markdown",
   "id": "658596c6",
   "metadata": {},
   "source": [
    "## Fitting the model leaving out one of the folds \n",
    "\n",
    "\n",
    "To fit the model, we will again leverage the power of `lapply`, but first we need the `rbindlist` available in the `data.table` package"
   ]
  },
  {
   "cell_type": "code",
   "execution_count": null,
   "id": "d0e87e3f",
   "metadata": {},
   "outputs": [],
   "source": [
    "p_load(data.table)\n",
    "\n",
    "m1 <- lapply(1:K, function(ii) lm(lnw_2016~educ, data = rbindlist(splt[-ii]))) "
   ]
  },
  {
   "cell_type": "markdown",
   "id": "738eb459",
   "metadata": {},
   "source": [
    "In the previous step, we fitted the model `lnw_2016~educ` in every fold except the `ii` fold. We achieved this by creating a function that runs a linear regression on a data set constructed by binding all the elements in the `splt` list except the element indexed by `ii`.\n",
    "\n",
    "Next, we fit the model in the fold that was left as a testing fold."
   ]
  },
  {
   "cell_type": "code",
   "execution_count": null,
   "id": "20dab125",
   "metadata": {},
   "outputs": [],
   "source": [
    "p1 <- lapply(1:K, function(ii) data.frame(predict(m1[[ii]], newdata = rbindlist(splt[ii]))))"
   ]
  },
  {
   "cell_type": "markdown",
   "id": "66183bde",
   "metadata": {},
   "source": [
    "We can see then that it created a vector with predictions:"
   ]
  },
  {
   "cell_type": "code",
   "execution_count": null,
   "id": "a1748d78",
   "metadata": {},
   "outputs": [],
   "source": [
    "p1[1]"
   ]
  },
  {
   "cell_type": "markdown",
   "id": "33d1c44f",
   "metadata": {},
   "source": [
    "Now we bind this vector to each fold so we have extra column in each fold with the prediction, named `yhat`, "
   ]
  },
  {
   "cell_type": "code",
   "execution_count": null,
   "id": "81e8b600",
   "metadata": {},
   "outputs": [],
   "source": [
    "for (i in 1:K) {\n",
    "  colnames(p1[[i]])<-\"yhat\" #change the name\n",
    "  splt[[i]] <- cbind(splt[[i]], p1[[i]])\n",
    "\n",
    "}"
   ]
  },
  {
   "cell_type": "code",
   "execution_count": null,
   "id": "d59ef929",
   "metadata": {},
   "outputs": [],
   "source": [
    "splt[[1]]"
   ]
  },
  {
   "cell_type": "markdown",
   "id": "436d2d3e",
   "metadata": {},
   "source": [
    "\n",
    "## Calculating the MSE\n",
    "\n",
    "\n",
    "Finally, we need to calculate the  CV(k) estimate for the test MSE. We know that it takes the form:\n",
    "\n",
    "\\begin{align}\n",
    "CV_{(k)} &= \\frac{1}{k}\\sum_{j=1}^k MSE_j \\\\\n",
    "         &= \\frac{1}{k}\\sum_{j=1}^k (y_j^k-\\hat{y}_{-k})^{2}\n",
    "\\end{align}\n",
    "\n",
    "To implment this formula we first need to calculate the MSE for each fold using `lapply`:"
   ]
  },
  {
   "cell_type": "code",
   "execution_count": null,
   "id": "1879c2ff",
   "metadata": {},
   "outputs": [],
   "source": [
    "MSE2_k <- lapply(1:K, function(ii) mean((splt[[ii]]$lnw_2016 - splt[[ii]]$yhat)^2))\n",
    "                 \n",
    "MSE2_k"
   ]
  },
  {
   "cell_type": "markdown",
   "id": "d79ef1cd",
   "metadata": {},
   "source": [
    "And finally, calculate the mean:"
   ]
  },
  {
   "cell_type": "code",
   "execution_count": null,
   "id": "85b1e908",
   "metadata": {},
   "outputs": [],
   "source": [
    "mean(unlist(MSE2_k))"
   ]
  },
  {
   "cell_type": "markdown",
   "id": "ffec3313",
   "metadata": {},
   "source": [
    "Note that since `lapply` always return a list, to be able to average the results, we first unlisted the object and then calculated the `mean`.\n",
    "\n",
    "Finally, we can compare the results to that obtained using only the validation set approach:"
   ]
  },
  {
   "cell_type": "code",
   "execution_count": null,
   "id": "ec1d605b",
   "metadata": {},
   "outputs": [],
   "source": [
    "db$MSE[db$model==\"model2\"]"
   ]
  },
  {
   "cell_type": "markdown",
   "id": "5c89befb",
   "metadata": {},
   "source": [
    "\n",
    "# If we have enough data\n",
    "\n",
    "\n",
    "In some cases, where there's enough data, researchers may use both K-Fold Cross-Validation and the validation set approach in combination to evaluate the performance of a machine learning model. This can be useful when a researcher wants to obtain a more robust evaluation of the model's performance while maintaining computational efficiency.\n",
    "\n",
    "The following figure shows the strategy followed by Kleinberg et al. (2017) in their paper \"Human decisions and machine predictions\":\n",
    "\n",
    "\n",
    "\n",
    "<div>\n",
    "<img src=\"figs_notebook_SS03/human_decisions.png\" width=\"500\"/>\n",
    "</div>\n",
    "\n",
    "\n",
    "This strategy prevents the machine learning algorithm from appearing to do well simply because it is being evaluated on data it has already seen. Moreover, they add an extra layer of protection to ensure that the results are not an artifact of unhelpful \"human data mining,\" adding a \"pure hold-out.\"\n",
    "\n",
    "By combining K-Fold Cross-Validation and the validation set approach, researchers can obtain a more comprehensive evaluation of the model's performance while maintaining computational efficiency. The specific combination of K-Fold Cross-Validation and the validation set approach will depend on the researcher's goals and the particular constraints of the study. When choosing a resampling technique, it is essential to carefully consider the trade-offs between computational efficiency and thoroughness.\n",
    "\n",
    "\n"
   ]
  }
 ],
 "metadata": {
  "jupytext": {
   "formats": "ipynb,Rmd"
  },
  "kernelspec": {
   "display_name": "R",
   "language": "R",
   "name": "ir"
  },
  "language_info": {
   "codemirror_mode": "r",
   "file_extension": ".r",
   "mimetype": "text/x-r-source",
   "name": "R",
   "pygments_lexer": "r",
   "version": "4.3.0"
  },
  "toc": {
   "base_numbering": 1,
   "nav_menu": {},
   "number_sections": true,
   "sideBar": true,
   "skip_h1_title": false,
   "title_cell": "Table of Contents",
   "title_sidebar": "Contents",
   "toc_cell": false,
   "toc_position": {},
   "toc_section_display": true,
   "toc_window_display": false
  }
 },
 "nbformat": 4,
 "nbformat_minor": 5
}
