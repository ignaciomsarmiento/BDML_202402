{
 "cells": [
  {
   "cell_type": "markdown",
   "id": "52d3ad87-541b-4039-af11-e014c2c8f74f",
   "metadata": {},
   "source": [
    "<div >\n",
    "<img src = \"../banner.jpg\" />\n",
    "</div>"
   ]
  },
  {
   "cell_type": "raw",
   "id": "bf5a514d",
   "metadata": {},
   "source": [
    "<a target=\"_blank\" href=\"https://colab.research.google.com/github/ignaciomsarmiento/BDML_202402/blob/main/Lecture03/Lecture_03_bootstrap.ipynb\">\n",
    "  <img src=\"https://colab.research.google.com/assets/colab-badge.svg\" alt=\"Open In Colab\"/>\n",
    "</a>\n"
   ]
  },
  {
   "cell_type": "markdown",
   "id": "3e386f69-995e-4594-8394-e932c7f695e2",
   "metadata": {},
   "source": [
    "# The Bootstrap\n"
   ]
  },
  {
   "cell_type": "markdown",
   "id": "6af730bf-67c3-425e-9ea6-8a400e3f6287",
   "metadata": {},
   "source": [
    "## Introduction\n",
    "\n",
    "\n",
    "The bootstrap is a widely applicable and extremely powerful statistical tool that can be used to quantify the uncertainty associated with a given estimator or statistical learning method. \n",
    "\n",
    "As a simple example, the bootstrap can be used to estimate the standard errors of the coefficients from a linear regression fit. \n",
    "\n",
    "In the specific case of linear regression, this is not particularly useful, since standard statistical software outputs such standard errors automatically.\n",
    "\n",
    "However, the power of the bootstrap lies in the fact that it can be easily applied to a wide range of statistical learning methods, including some for which a measure of variability is otherwise difficult to obtain and is not automatically output by statistical software."
   ]
  },
  {
   "cell_type": "markdown",
   "id": "b46eaf8a-511f-4102-8362-6a0cccd95752",
   "metadata": {
    "lines_to_next_cell": 0
   },
   "source": [
    "Let's illustrate this with an example. The objective is to estimate gasoline demand's elasticity and quantify its associated uncertainty.\n",
    "\n",
    "\n",
    "Suppose we have the following data to estimate the elasticity where all the variables are in logs:"
   ]
  },
  {
   "cell_type": "code",
   "execution_count": null,
   "id": "eed40940",
   "metadata": {},
   "outputs": [],
   "source": [
    "#install.packages(\"pacman\") for #google colab"
   ]
  },
  {
   "cell_type": "code",
   "execution_count": null,
   "id": "523b9df4",
   "metadata": {
    "comment": "#R_CODE#NA",
    "vscode": {
     "languageId": "r"
    }
   },
   "outputs": [],
   "source": [
    "gas<-read.csv(\"https://raw.githubusercontent.com/ignaciomsarmiento/datasets/main/gas.csv\",header=T)\n",
    "head(gas)\n"
   ]
  },
  {
   "cell_type": "markdown",
   "id": "96055d18",
   "metadata": {},
   "source": [
    "\n",
    "Before estimating different models, let's recall that the elasticity of demand, usually denoted by $\\eta_{qp}$, is the percentage change in the quantity demanded divided by the percentage change in the price.  It gives the percentage change in quantity demanded when there is a one percent increase in price, holding everything else constant:\n",
    "\n",
    "\\begin{align}\n",
    "\\eta_{qp} &=\\frac{\\frac{\\partial Q}{Q}}{\\frac{\\partial P}{P}} \\\\\n",
    "          &=\\frac{\\partial Q}{\\partial P}\\frac{P}{Q}\n",
    "\\end{align}"
   ]
  },
  {
   "cell_type": "markdown",
   "id": "13a10007-1d3b-476e-a910-26fbc07f750e",
   "metadata": {},
   "source": [
    "## Case 1"
   ]
  },
  {
   "cell_type": "markdown",
   "id": "2381f4d0-81db-4fc1-bf4a-e5e38e262d1f",
   "metadata": {},
   "source": [
    "\n",
    "\n",
    "To begin with, let's suppose that the demand model takes the form:\n",
    "\n",
    "$$\n",
    "\\ln{Quantity}_{t}= \\alpha + \\beta_1 \\ln{Price}_{t} +\\beta_2 \\ln{Income}_{t} +u_{t}\n",
    "$$\n",
    "\n",
    "given this specification, we have that the elasticity of demand is the coefficient associated with `lnPrice`\n",
    "\n",
    "\n",
    "\n",
    "$$\n",
    "\\eta_{qp} =\\beta_1\n",
    "$$\n",
    "\n",
    "Let's estimate this"
   ]
  },
  {
   "cell_type": "code",
   "execution_count": null,
   "id": "2a1b88f7",
   "metadata": {
    "message": false,
    "results": "asis",
    "vscode": {
     "languageId": "r"
    },
    "warning": false
   },
   "outputs": [],
   "source": [
    "require(\"pacman\")\n",
    "p_load(\"tidyverse\",\"stargazer\")\n",
    "\n",
    "mod1<- lm(consumption~price+income,gas)\n",
    "stargazer(mod1,type=\"text\", omit.stat=c(\"ser\",\"f\",\"adj.rsq\"))\n"
   ]
  },
  {
   "cell_type": "markdown",
   "id": "c79b0f6b",
   "metadata": {},
   "source": [
    "Thus the elasticity of demand, given the above specification, is -0.838, and the standard error of that elasticity of demand is 0.025. \n"
   ]
  },
  {
   "cell_type": "code",
   "execution_count": null,
   "id": "c8b82d72",
   "metadata": {
    "vscode": {
     "languageId": "r"
    }
   },
   "outputs": [],
   "source": [
    "str(mod1)"
   ]
  },
  {
   "cell_type": "code",
   "execution_count": null,
   "id": "0ea49ba4",
   "metadata": {
    "vscode": {
     "languageId": "r"
    }
   },
   "outputs": [],
   "source": [
    "mod1$coefficients"
   ]
  },
  {
   "cell_type": "code",
   "execution_count": null,
   "id": "5edfb75b",
   "metadata": {
    "vscode": {
     "languageId": "r"
    }
   },
   "outputs": [],
   "source": [
    "round(mod1$coefficients[2],3)"
   ]
  },
  {
   "cell_type": "markdown",
   "id": "49d3bc27",
   "metadata": {},
   "source": [
    "\n",
    "\n",
    "We can also find the standard error using *bootstrap*. In general terms, if $\\theta$ is the magnitude of interest (in our case, is $\\eta_{qp} =\\beta_1$) we need to perform the following steps:\n",
    "    \n",
    "  1. Take a sample of size $n$ with replacement ( *bootstrap sample*)\n",
    "  2. Compute $\\hat{\\theta}_j$ $j=1,\\dots,B$, here it would be  $\\eta_{qp} =\\beta_1$ \n",
    "  3. Repeat $B$ times\n",
    "  4. Calculate the standard error\n",
    "\n",
    "\n",
    "Let's implement the bootstrap in two ways: \"by hand\", and using the package `boot`."
   ]
  },
  {
   "cell_type": "markdown",
   "id": "a445a248",
   "metadata": {},
   "source": [
    "The first step is to tell `R`  a seed so results are reproducible and set the number of bootstrap samples $B$:"
   ]
  },
  {
   "cell_type": "code",
   "execution_count": null,
   "id": "34bef623",
   "metadata": {
    "comment": "#R_CODE#NA",
    "lines_to_next_cell": 2,
    "vscode": {
     "languageId": "r"
    }
   },
   "outputs": [],
   "source": [
    "set.seed(123)\n",
    "\n",
    "B<-1000 # Number of Repetions()\n",
    "\n",
    "eta_mod1<-rep(NA,B)#this is an empty vector where we are going to save our elasticity estimates\n",
    "length(eta_mod1)"
   ]
  },
  {
   "cell_type": "markdown",
   "id": "45ebba2a",
   "metadata": {},
   "source": [
    "Next, we have to create a loop that takes a sample of size $n$ with replacement, estimates the coefficient of interest, and saves it to the above empty vector."
   ]
  },
  {
   "cell_type": "code",
   "execution_count": null,
   "id": "5611d6b6-52e4-4cca-a907-2dafaa1fcc1a",
   "metadata": {
    "vscode": {
     "languageId": "r"
    }
   },
   "outputs": [],
   "source": [
    "for(i in 1:B){\n",
    "        \n",
    "      db_sample<- sample_frac(gas,size=1,replace=TRUE) #takes a sample with replacement of the same size of the original sample (1 or 100%)\n",
    "        \n",
    "      f<-lm(consumption~price+income,db_sample)# estimates the models\n",
    "      \n",
    "      coefs<-f$coefficients[2] # gets the coefficient of interest that coincides with the elasticity of demand\n",
    "      \n",
    "      eta_mod1[i]<-coefs #saves it in the above vector\n",
    "    }"
   ]
  },
  {
   "cell_type": "markdown",
   "id": "f7bda527",
   "metadata": {},
   "source": [
    "We can check that we have B=1000 estimates of the elasticity of demand"
   ]
  },
  {
   "cell_type": "code",
   "execution_count": null,
   "id": "fa83540b",
   "metadata": {
    "vscode": {
     "languageId": "r"
    }
   },
   "outputs": [],
   "source": [
    "length(eta_mod1)"
   ]
  },
  {
   "cell_type": "markdown",
   "id": "2dc385ab",
   "metadata": {},
   "source": [
    "We can plot the sampling distribution of the estimated elasticity of demand"
   ]
  },
  {
   "cell_type": "code",
   "execution_count": null,
   "id": "9de4f264",
   "metadata": {
    "vscode": {
     "languageId": "r"
    }
   },
   "outputs": [],
   "source": [
    "plot(hist(eta_mod1))"
   ]
  },
  {
   "cell_type": "markdown",
   "id": "67afa91f",
   "metadata": {},
   "source": [
    "Obtain the mean"
   ]
  },
  {
   "cell_type": "code",
   "execution_count": null,
   "id": "72ee5204",
   "metadata": {
    "lines_to_next_cell": 0,
    "vscode": {
     "languageId": "r"
    }
   },
   "outputs": [],
   "source": [
    "mean(eta_mod1)"
   ]
  },
  {
   "cell_type": "markdown",
   "id": "fd4fcb74",
   "metadata": {},
   "source": [
    "and finally, obtain the standard error"
   ]
  },
  {
   "cell_type": "code",
   "execution_count": null,
   "id": "57d8574a",
   "metadata": {
    "lines_to_next_cell": 0,
    "vscode": {
     "languageId": "r"
    }
   },
   "outputs": [],
   "source": [
    "sqrt(var(eta_mod1))"
   ]
  },
  {
   "cell_type": "markdown",
   "id": "535ef031",
   "metadata": {},
   "source": [
    "We could also estimate any quantity, for example the 2.5%. and 97.5% percentiles"
   ]
  },
  {
   "cell_type": "code",
   "execution_count": null,
   "id": "346bc981",
   "metadata": {
    "vscode": {
     "languageId": "r"
    }
   },
   "outputs": [],
   "source": [
    "quantile(eta_mod1,c(0.025,0.975))"
   ]
  },
  {
   "cell_type": "markdown",
   "id": "b0e9d1ae",
   "metadata": {},
   "source": [
    "### Bootstrap with the boot package\n",
    "\n",
    "`R` as it is a heavily used software by statisticians and econometricians, it already includes a package that simplifies and speeds up obtaining standard errors using bootstrap"
   ]
  },
  {
   "cell_type": "code",
   "execution_count": null,
   "id": "cdd06d54",
   "metadata": {
    "vscode": {
     "languageId": "r"
    }
   },
   "outputs": [],
   "source": [
    "p_load(\"boot\")"
   ]
  },
  {
   "cell_type": "markdown",
   "id": "454cdcf9",
   "metadata": {},
   "source": [
    "This package contains the function `boot` that takes 3 arguments: "
   ]
  },
  {
   "cell_type": "markdown",
   "id": "718bc502",
   "metadata": {},
   "source": [
    "`boot(data, statistic, R)`"
   ]
  },
  {
   "cell_type": "markdown",
   "id": "61b62b1a",
   "metadata": {},
   "source": [
    "the data set, a function which, when applied to data, returns a vector containing the statistic(s) of interest, and the number of desired bootstrap replicates. The first and the third arguments are straightforward. The second, however, needs more explanation\n",
    "\n",
    "\n",
    "\n",
    "The `boot` function requires a second argument which is a function. This function needs at least two arguments, a data set and an index, which tells `R` which points it should use for its estimation. The indexing strategy speeds up the computation of the bootstrap samples.\n",
    "\n",
    "With that, we can tell the function what to return. In this case, we care about the second coefficient of the linear regression:  `consumption~price+income` "
   ]
  },
  {
   "cell_type": "code",
   "execution_count": null,
   "id": "05558242",
   "metadata": {
    "vscode": {
     "languageId": "r"
    }
   },
   "outputs": [],
   "source": [
    "eta_fn<-function(data,index){\n",
    "  \n",
    "  coef(lm(consumption~price+income, data = data, subset = index))[2] #returns the second coefficient of the linear regression\n",
    "}"
   ]
  },
  {
   "cell_type": "markdown",
   "id": "2cf6500f",
   "metadata": {},
   "source": [
    "Let's check that it works. We give the function our `gas` data and tell it to use all the observations from 1 to the last row:\n"
   ]
  },
  {
   "cell_type": "code",
   "execution_count": null,
   "id": "5950073e",
   "metadata": {
    "vscode": {
     "languageId": "r"
    }
   },
   "outputs": [],
   "source": [
    "eta_fn(gas,1:nrow(gas))"
   ]
  },
  {
   "cell_type": "markdown",
   "id": "e5524b55",
   "metadata": {},
   "source": [
    "We get the same coefficient shown in our results table. So we know that the function is working. With that, we can estimate the standard error using the `boot` function:"
   ]
  },
  {
   "cell_type": "code",
   "execution_count": null,
   "id": "c8fc91ec",
   "metadata": {
    "vscode": {
     "languageId": "r"
    }
   },
   "outputs": [],
   "source": [
    "set.seed(123)\n",
    "#call the boot function\n",
    "boot(gas, eta_fn, R = 1000)"
   ]
  },
  {
   "cell_type": "markdown",
   "id": "b790917b",
   "metadata": {},
   "source": [
    "We get similar results from our estimates by hand. The small differences are given by the sampling strategy implemented by `boot` which is more efficient than the one implemented by us.\n",
    "\n",
    "Note also that the estimates obtained by bootstrapping differ from those returned by `lm.` **Why?**"
   ]
  },
  {
   "cell_type": "markdown",
   "id": "0f5997ef-66f3-40e3-a651-dd4e5d7d3085",
   "metadata": {},
   "source": [
    "\n",
    "\n",
    "\n",
    "\n",
    "\n"
   ]
  },
  {
   "cell_type": "markdown",
   "id": "23770a17-2bf4-4da7-a3c1-ba7189b522cb",
   "metadata": {},
   "source": [
    "## Case 2"
   ]
  },
  {
   "cell_type": "markdown",
   "id": "0ed225fc-c670-45d1-a240-fc39d66675d4",
   "metadata": {},
   "source": [
    "\n",
    "The previous case was not particularly useful since the specification resulted in the elasticity of demand coinciding with a coefficient, and `R` outputs standard errors automatically. However, the power of the bootstrap lies in the fact that it can be easily applied to a wide range of statistical learning methods, including some for which a measure of variability is otherwise challenging to obtain and is not automatically output by statistical software.\n",
    "\n",
    "For example, let's suppose that the model is now the following\n",
    "\n",
    "$$\\ln{Quantity}_{t}= \\beta_0 + \\beta_1 \\ln{Price}_{t}  + \\beta_2 \\ln{Price}^2_{t} +\\beta_3 \\ln{Income}_{t}+ \\beta_4 \\ln{Price}_{t}\\times \\ln{Income}_{t} +u_{t}$$\n",
    "\n",
    "given this specification, the elasticity of demand implied by this model is:\n",
    "\n",
    "\n",
    "$$\n",
    "\\eta_{qp} =\\beta_1 + 2*\\beta_2 \\ln{Price} + \\beta_4  \\ln{Income}_{t}\n",
    "$$\n",
    "Then the elasticity is the combination of 3 coefficients. Thus the uncertainty associated with this quantity should account for the uncertainty coming from all of them.\n",
    "\n",
    "\n",
    "Let's then estimate the model and calculate the elasticity of demand. First, we need  to generate the quadratic and interaction terms: "
   ]
  },
  {
   "cell_type": "code",
   "execution_count": null,
   "id": "4f119160",
   "metadata": {
    "comment": "#R_CODE#NA",
    "message": false,
    "vscode": {
     "languageId": "r"
    },
    "warning": false
   },
   "outputs": [],
   "source": [
    "gas<- gas %>% mutate(price2=price^2, \n",
    "                     price_income=price*income )"
   ]
  },
  {
   "cell_type": "code",
   "execution_count": null,
   "id": "4aa7f61b",
   "metadata": {
    "vscode": {
     "languageId": "r"
    }
   },
   "outputs": [],
   "source": [
    "head(gas)"
   ]
  },
  {
   "cell_type": "markdown",
   "id": "a3497800-b41f-444c-bfc7-5e55ec3cebe1",
   "metadata": {
    "lines_to_next_cell": 0
   },
   "source": [
    "then regress: "
   ]
  },
  {
   "cell_type": "code",
   "execution_count": null,
   "id": "068309e2",
   "metadata": {
    "comment": "#R_CODE#NA",
    "vscode": {
     "languageId": "r"
    }
   },
   "outputs": [],
   "source": [
    "mod2<-lm(consumption~price+price2+income+price_income,gas)\n",
    "stargazer(mod1,mod2,type=\"text\")"
   ]
  },
  {
   "cell_type": "markdown",
   "id": "af6aa83e-3951-4fe3-92b2-22cef527bfc2",
   "metadata": {
    "lines_to_next_cell": 0
   },
   "source": [
    " To do that you will need to: \n",
    " \n",
    "i) Obtain the coefficients of regression: "
   ]
  },
  {
   "cell_type": "code",
   "execution_count": null,
   "id": "0a826515",
   "metadata": {
    "comment": "#R_CODE#NA",
    "lines_to_next_cell": 2,
    "vscode": {
     "languageId": "r"
    }
   },
   "outputs": [],
   "source": [
    "coefs<-mod2$coef\n",
    "coefs "
   ]
  },
  {
   "cell_type": "markdown",
   "id": "b06b6fa1-6aff-4e51-8b69-8a70ec3080d7",
   "metadata": {},
   "source": [
    "ii) Extract the coefficients to scalars: "
   ]
  },
  {
   "cell_type": "code",
   "execution_count": null,
   "id": "8fe88f03",
   "metadata": {
    "comment": "#R_CODE#NA",
    "vscode": {
     "languageId": "r"
    }
   },
   "outputs": [],
   "source": [
    "    b0<-coefs[1] \n",
    "    b1<-coefs[2]\n",
    "    b2<-coefs[3] \n",
    "    b3<-coefs[4]\n",
    "    b4<-coefs[5] "
   ]
  },
  {
   "cell_type": "markdown",
   "id": "37c019f7-6c6d-4586-b9f4-f8a16cd53d51",
   "metadata": {},
   "source": [
    "iii) We need a value at which to estimate the elasticity since it depends on price and income ($\\eta_{qp} =\\beta_1 + 2\\beta_2 \\ln{Price} + \\beta_4  \\ln{Income}_{t}$). Here we are going to choose the sample mean, but you can do it at any point:"
   ]
  },
  {
   "cell_type": "code",
   "execution_count": null,
   "id": "cda5b326",
   "metadata": {
    "comment": "#R_CODE#NA",
    "lines_to_next_cell": 2,
    "vscode": {
     "languageId": "r"
    }
   },
   "outputs": [],
   "source": [
    "price_bar<-mean(gas$price)\n",
    "income_bar<-mean(gas$income)\n",
    "\n",
    "\n",
    "elastpt<-b1+2*b2*price_bar+b4*income_bar\n",
    "    \n",
    "elastpt"
   ]
  },
  {
   "cell_type": "markdown",
   "id": "21824522-2496-452e-b5ef-0b0cbe23ce64",
   "metadata": {},
   "source": [
    "Note that the elasticity of demand implied by the second model is smaller than the previous one. Next, we need to calculate the standard errors to characterize this demand's uncertainty. \n",
    "\n",
    "Let's turn to the boot package and construct the function that will return the elasticity of interest.\n"
   ]
  },
  {
   "cell_type": "code",
   "execution_count": null,
   "id": "2018ed5f",
   "metadata": {
    "comment": "#R_CODE#NA",
    "vscode": {
     "languageId": "r"
    }
   },
   "outputs": [],
   "source": [
    "\n",
    "eta_mod2_fn<-function(data,index,\n",
    "                      price_bar=mean(gas$price),\n",
    "                      income_bar=mean(gas$income)){\n",
    "      \n",
    "      f<-lm(consumption~price+price2+income+price_income,data, subset = index)\n",
    "      \n",
    "      coefs<-f$coefficients\n",
    "        \n",
    "        b1<-coefs[2]\n",
    "        b2<-coefs[3] \n",
    "        b4<-coefs[5] \n",
    "    \n",
    "      elastpt<-b1+2*b2*price_bar+b4*income_bar\n",
    "    \n",
    "    \n",
    "      return(elastpt)\n",
    "    }\n",
    "\n",
    "\n",
    "  "
   ]
  },
  {
   "cell_type": "markdown",
   "id": "506c866d",
   "metadata": {},
   "source": [
    "The function is similar to the first case. Still, we have added two arguments; the points where we want the elasticity to be evaluated, in this case, the sample means. Let's check that it works"
   ]
  },
  {
   "cell_type": "code",
   "execution_count": null,
   "id": "262a6f51",
   "metadata": {
    "vscode": {
     "languageId": "r"
    }
   },
   "outputs": [],
   "source": [
    "eta_mod2_fn(gas,1:nrow(gas))"
   ]
  },
  {
   "cell_type": "markdown",
   "id": "4b2a68e1",
   "metadata": {},
   "source": [
    "We get the same result as above. Let's evaluate it at different points of the distribution of price and income:\n"
   ]
  },
  {
   "cell_type": "code",
   "execution_count": null,
   "id": "e506e66b",
   "metadata": {
    "vscode": {
     "languageId": "r"
    }
   },
   "outputs": [],
   "source": [
    "eta_mod2_fn(gas,1:nrow(gas),price_bar=-1,income_bar=2)  "
   ]
  },
  {
   "cell_type": "markdown",
   "id": "5e4026ab",
   "metadata": {},
   "source": [
    "With our function working, we can run `boot` and obtain the standard error for our elasticity:"
   ]
  },
  {
   "cell_type": "code",
   "execution_count": null,
   "id": "1454e6da",
   "metadata": {
    "lines_to_next_cell": 0,
    "tags": [],
    "vscode": {
     "languageId": "r"
    }
   },
   "outputs": [],
   "source": [
    "#función boot requires, data (gas), \n",
    "#requires a statistic\n",
    "# requires number of replications\n",
    "results <- boot(data=gas, eta_mod2_fn,R=1000)\n",
    "results"
   ]
  },
  {
   "cell_type": "code",
   "execution_count": null,
   "id": "1dade958",
   "metadata": {},
   "outputs": [],
   "source": []
  }
 ],
 "metadata": {
  "jupytext": {
   "formats": "ipynb,Rmd"
  },
  "kernelspec": {
   "display_name": "R",
   "language": "R",
   "name": "ir"
  },
  "language_info": {
   "codemirror_mode": "r",
   "file_extension": ".r",
   "mimetype": "text/x-r-source",
   "name": "R",
   "pygments_lexer": "r",
   "version": "4.3.0"
  },
  "toc": {
   "base_numbering": 1,
   "nav_menu": {},
   "number_sections": true,
   "sideBar": true,
   "skip_h1_title": false,
   "title_cell": "Table of Contents",
   "title_sidebar": "Contents",
   "toc_cell": false,
   "toc_position": {},
   "toc_section_display": true,
   "toc_window_display": false
  }
 },
 "nbformat": 4,
 "nbformat_minor": 5
}
