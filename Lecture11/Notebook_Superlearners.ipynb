{
 "cells": [
  {
   "cell_type": "markdown",
   "id": "169ca772-a2ba-4c8f-af2a-5676f443f513",
   "metadata": {},
   "source": [
    "<div >\n",
    "<img src = \"../banner.jpg\" />\n",
    "</div>"
   ]
  },
  {
   "cell_type": "markdown",
   "id": "8bdc5075-7920-493a-bef8-8b808d4b634f",
   "metadata": {},
   "source": [
    "# Superlearners "
   ]
  },
  {
   "cell_type": "code",
   "execution_count": null,
   "id": "f04dcb66-f77e-45d2-8579-86f562d55d7e",
   "metadata": {},
   "outputs": [],
   "source": [
    "require(\"pacman\")\n",
    "p_load(\"rmutil\")\n",
    "p_load(\"tidyverse\")\n",
    "p_load(\"nnls\")\n",
    "p_load(\"earth\")\n",
    "p_load(\"gam\")\n",
    "p_load(\"data.table\")\n",
    "p_load(\"SuperLearner\")\n",
    "\n",
    "# set the seed for reproducibility\n",
    "set.seed(123)\n",
    "# generate the observed data\n",
    "n = 1000\n",
    "x = runif(n, 0, 8)\n",
    "y = 5 + 4 * sqrt(9 * x) * as.numeric(x <\n",
    "    2) + as.numeric(x >= 2) * (abs(x - 6)^(2)) +\n",
    "    rlaplace(n)\n",
    "D <- data.frame(x, y) # observed data\n"
   ]
  },
  {
   "cell_type": "code",
   "execution_count": null,
   "id": "7d0ef5a6-7639-486d-88ef-8bddb39f5f18",
   "metadata": {},
   "outputs": [],
   "source": [
    "xl <- seq(0, 8, 0.1)\n",
    "yl <- 5 + 4 * sqrt(9 * xl) * as.numeric(xl <\n",
    "    2) + as.numeric(xl >= 2) * (abs(xl -\n",
    "    6)^(2))\n",
    "\n",
    "Dl <- data.frame(xl, yl) # for plotting the true dose-respon\n"
   ]
  },
  {
   "cell_type": "code",
   "execution_count": null,
   "id": "e31309b0-4192-4843-b9ec-630ac45e7402",
   "metadata": {},
   "outputs": [],
   "source": [
    "ggplot(Dl) +\n",
    "  geom_point(aes(x=xl,y=yl))+\n",
    "  theme_bw()"
   ]
  },
  {
   "cell_type": "code",
   "execution_count": null,
   "id": "99059cb1-60bb-4add-b228-1e3c573109a0",
   "metadata": {},
   "outputs": [],
   "source": [
    "ggplot(D) +\n",
    "  geom_point(aes(x=x,y=y))+\n",
    "  theme_bw()"
   ]
  },
  {
   "cell_type": "code",
   "execution_count": null,
   "id": "dc242dd9-248d-4b61-907e-6ccc6152e741",
   "metadata": {},
   "outputs": [],
   "source": [
    "folds = 5\n",
    "## split data into 5 groups for 5-fold ## cross-validation we do this here so ## that the exact same folds will be ## used in both the SL fit with the R ## package, and the hand coded SL \n",
    "index <- split(1:1000, 1:folds)\n",
    "splt <- lapply(1:folds, function(ind) D[index[[ind]], ])\n",
    "# view the first 6 observations in the # first [[1]] and second [[2]] folds \n",
    "head(splt[[1]])"
   ]
  },
  {
   "cell_type": "code",
   "execution_count": null,
   "id": "6d86b420-3607-4c5b-8b04-bb496ca04410",
   "metadata": {},
   "outputs": [],
   "source": [
    "head(splt[[2]])"
   ]
  },
  {
   "cell_type": "code",
   "execution_count": null,
   "id": "2dc3eec7-03a3-4a83-8df8-d82405935ea9",
   "metadata": {},
   "outputs": [],
   "source": [
    "# Fit using the SuperLearner Package"
   ]
  },
  {
   "cell_type": "code",
   "execution_count": null,
   "id": "f3be4737-91d1-44aa-8ad4-e0b43173aada",
   "metadata": {},
   "outputs": [],
   "source": [
    "\n",
    "\n",
    "SL.gam.5 <- create.Learner(\"SL.gam\", params = list(deg.gam =5))\n",
    "\n",
    "# Specifying the SuperLearner library # of candidate algorithms\n",
    "sl.lib <- c(SL.gam.5$names, \"SL.earth\")\n",
    "\n",
    "\n",
    "set.seed(123)\n",
    "fitY <- SuperLearner(Y = y, X = data.frame(x),\n",
    "    method = \"method.NNLS\", SL.library  = sl.lib,\n",
    "    cvControl = list(V = folds, validRows = index))\n",
    "\n",
    "# View the output: 'Risk' column returns the CV-MSE estimates\n",
    "# 'Coef' column gives the weights # for the final SuperLearner\n",
    "\n",
    "fitY\n"
   ]
  },
  {
   "cell_type": "code",
   "execution_count": null,
   "id": "1d1c442c-98a4-4b5a-b824-a5fc73fbaac7",
   "metadata": {},
   "outputs": [],
   "source": [
    "# Now predict the outcome for all\n",
    "\n",
    "yS <- predict(fitY, newdata = data.frame(x = xl), onlySL = T)$pred\n",
    "\n",
    "\n",
    "Dl1 <- data.frame(xl, yS)"
   ]
  },
  {
   "cell_type": "markdown",
   "id": "193a4794-5b33-4596-b491-77ed4975eb6d",
   "metadata": {},
   "source": [
    "# Hand-coding Super Learner\n"
   ]
  },
  {
   "cell_type": "code",
   "execution_count": null,
   "id": "8325aedb-7dbc-4abd-baa6-1af4605928dd",
   "metadata": {},
   "outputs": [],
   "source": [
    "m1 <- lapply(1:folds, function(ii) gam(y ~s(x, 5), family = \"gaussian\", data = rbindlist(splt[-ii]))) "
   ]
  },
  {
   "cell_type": "code",
   "execution_count": null,
   "id": "35b209c8-ec32-49eb-be23-c9c627bc239c",
   "metadata": {},
   "outputs": [],
   "source": [
    "m2 <- lapply(1:folds, function(ii) earth(y ~\n",
    "    x, data = rbindlist(splt[-ii]), degree = 2,\n",
    "    penalty = 3, nk = 21, pmethod = \"backward\",\n",
    "    nfold = 0, ncross = 1, minspan = 0, endspan = 0))"
   ]
  },
  {
   "cell_type": "code",
   "execution_count": null,
   "id": "87b7c1a6-bccd-49db-a00a-922adf98febb",
   "metadata": {},
   "outputs": [],
   "source": [
    "p1 <- lapply(1:folds, function(ii) predict(m1[[ii]], newdata = rbindlist(splt[ii]), type = \"response\"))\n",
    "p2 <- lapply(1:folds, function(ii) predict(m2[[ii]], newdata = rbindlist(splt[ii]), type = \"response\"))\n",
    "# add the predictions to grouped # dataset 'splt'\n",
    "for (i in 1:folds) {\n",
    "    splt[[i]] <- cbind(splt[[i]], p1[[i]],\n",
    "        p2[[i]])\n",
    "}"
   ]
  },
  {
   "cell_type": "code",
   "execution_count": null,
   "id": "e959cfed-32bd-4377-a5f4-25fa3c687d10",
   "metadata": {},
   "outputs": [],
   "source": [
    "# Risks\n",
    "risk1 <- lapply(1:folds, function(ii) mean((splt[[ii]][,\n",
    "    2] - splt[[ii]][, 3])^2))\n",
    "risk2 <- lapply(1:folds, function(ii) mean((splt[[ii]][, 2] - splt[[ii]][, 4])^2))\n",
    "\n",
    "                \n",
    "## 3: average the estimated risks across the 5 folds to obtain 1\n",
    "\n",
    "a <- rbind(cbind(\"gam\", mean(do.call(rbind,\n",
    "    risk1), na.rm = T)), cbind(\"earth\", mean(do.call(rbind,\n",
    "    risk2), na.rm = T)))\n",
    "a"
   ]
  },
  {
   "cell_type": "code",
   "execution_count": null,
   "id": "a88402de-28ae-4d4f-955e-6c4fd7775d68",
   "metadata": {},
   "outputs": [],
   "source": [
    "# checking to see match with SL output\n",
    "fitY"
   ]
  },
  {
   "cell_type": "code",
   "execution_count": null,
   "id": "9c438427-ea50-4351-9abf-5f34a9b5d3ed",
   "metadata": {},
   "outputs": [],
   "source": [
    "X <- data.frame(do.call(rbind, splt))[, -1] \n",
    "names(X) <- c(\"y\", \"gam\", \"earth\")\n",
    "head(X)"
   ]
  },
  {
   "cell_type": "code",
   "execution_count": null,
   "id": "c7c020b0-918d-4869-9b1d-11f4db4cb60a",
   "metadata": {},
   "outputs": [],
   "source": [
    "SL.r <- nnls(cbind(X[, 2], X[, 3]), X[, 1])$x\n",
    "alpha <- as.matrix(SL.r/sum(SL.r))\n",
    "round(alpha, 3)"
   ]
  },
  {
   "cell_type": "code",
   "execution_count": null,
   "id": "2b5fd341-a549-400f-88e2-972d8b666a9c",
   "metadata": {},
   "outputs": [],
   "source": [
    "fitY"
   ]
  },
  {
   "cell_type": "code",
   "execution_count": null,
   "id": "3b32d3d1-2a72-48bd-b656-ec3701812855",
   "metadata": {},
   "outputs": [],
   "source": [
    "m1 <- gam(y ~ s(x, 5), family = \"gaussian\", data = D)\n",
    "m2 <- earth(y ~ x, data = D, degree = 2, penalty = 3, nk = 21, pmethod = \"backward\", nfold = 0, ncross = 1, minspan = 0, endspan = 0)\n",
    "\n",
    "\n",
    "\n",
    "## SL function\n",
    "p1 <- predict(m1, newdata = data.frame(x = xl), type = \"response\")\n",
    "p2 <- predict(m2, newdata = data.frame(x = xl), type = \"response\")\n",
    "predictions <- cbind(p1, p2)\n",
    "yS2 <- predictions %*% alpha"
   ]
  },
  {
   "cell_type": "code",
   "execution_count": null,
   "id": "d43b0280-a456-4b8f-9ec7-cb285e81b576",
   "metadata": {},
   "outputs": [],
   "source": [
    "Dl2 <- data.frame(xl, yS2,yS)\n",
    "head(Dl2)"
   ]
  }
 ],
 "metadata": {
  "kernelspec": {
   "display_name": "R",
   "language": "R",
   "name": "ir"
  },
  "language_info": {
   "codemirror_mode": "r",
   "file_extension": ".r",
   "mimetype": "text/x-r-source",
   "name": "R",
   "pygments_lexer": "r",
   "version": "4.4.1"
  }
 },
 "nbformat": 4,
 "nbformat_minor": 5
}
