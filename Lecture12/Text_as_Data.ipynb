{
 "cells": [
  {
   "cell_type": "markdown",
   "id": "d3b7c0aa",
   "metadata": {},
   "source": [
    "<div >\n",
    "<img src = \"../banner.jpg\" />\n",
    "</div>"
   ]
  },
  {
   "cell_type": "markdown",
   "id": "b9ec0f86",
   "metadata": {},
   "source": [
    "<a target=\"_blank\" href=\"https://colab.research.google.com/github/ignaciomsarmiento/BDML_202401/blob/main/Modulo07/Modulo07_PCA_Text_as_Data.ipynb\">\n",
    "  <img src=\"https://colab.research.google.com/assets/colab-badge.svg\" alt=\"Open In Colab\"/>\n",
    "</a>\n"
   ]
  },
  {
   "cell_type": "markdown",
   "id": "ff638f19",
   "metadata": {},
   "source": [
    "# Ejemplos Principal Component Analysis"
   ]
  },
  {
   "cell_type": "markdown",
   "id": "66131370",
   "metadata": {},
   "source": [
    "## Test Scores\n",
    "\n",
    "We are going to use Duflo, Dupas and Kremer (2011) dataset which is a sample of Kenyan first grade test scores.  These authors focus on the variable totalscore which is each student’s composite test score. \n",
    "\n",
    "If you examine the data file you will find other pieces of information about the students’ performance, including each student’s score on separate sections of the test, with the labels wordscore (word recognition), sentscore (sentence recognition), letterscore (letter recognition), spellscore (spelling), additions_score (addition), substractions_score (subtraction), multiplications_score (multiplication). \n",
    "\n",
    "The “total” score sums the scores from the individual sections. Perhaps there is more information in the section scores. How can we learn about this from the data?\n",
    "\n",
    "Principal component analysis (PCA) addresses this issue by ordering linear combinations by their contribution to variance."
   ]
  },
  {
   "cell_type": "code",
   "execution_count": null,
   "id": "04811a19",
   "metadata": {
    "vscode": {
     "languageId": "r"
    }
   },
   "outputs": [],
   "source": [
    "require(\"pacman\")\n",
    "p_load(\"tidyverse\")"
   ]
  },
  {
   "cell_type": "code",
   "execution_count": null,
   "id": "bb0d220a",
   "metadata": {
    "vscode": {
     "languageId": "r"
    }
   },
   "outputs": [],
   "source": [
    "dta<-openxlsx::read.xlsx(\"https://github.com/ignaciomsarmiento/datasets/raw/main/duflo_data.xlsx\")\n",
    "head(dta)"
   ]
  },
  {
   "cell_type": "markdown",
   "id": "ae7cd49a",
   "metadata": {},
   "source": [
    "Variables:\n",
    "\n",
    "- pupilid        : ID of student\n",
    "- wordscore      : Endline Score on Word Recognition section (max: 24)\n",
    "- sentscore      : Endline Score on Sentence Recognition section (max: 40 )\n",
    "- letterscore    : Endline Score on Letter Recognition section (max: 70)\n",
    "- spellscore     : Endline Score on Spelling section (max: 10)\n",
    "- additions_score: Endline Score on Additions section\n",
    "- substractionscore: Endline Score on Substractions section\n",
    "- multiplicationscore: Endline Score on Multiplications section\n"
   ]
  },
  {
   "cell_type": "code",
   "execution_count": null,
   "id": "f5603775-b46f-40f6-adbf-d6dddc5edba7",
   "metadata": {},
   "outputs": [],
   "source": [
    "dta<-dta[,-1]"
   ]
  },
  {
   "cell_type": "code",
   "execution_count": null,
   "id": "a0002b7b",
   "metadata": {
    "scrolled": true,
    "vscode": {
     "languageId": "r"
    }
   },
   "outputs": [],
   "source": [
    "cor(dta)"
   ]
  },
  {
   "cell_type": "code",
   "execution_count": null,
   "id": "92e58ce3",
   "metadata": {
    "vscode": {
     "languageId": "r"
    }
   },
   "outputs": [],
   "source": [
    "res_pca <- prcomp(dta, scale=TRUE)\n",
    "res_pca"
   ]
  },
  {
   "cell_type": "code",
   "execution_count": null,
   "id": "3201135c",
   "metadata": {
    "vscode": {
     "languageId": "r"
    }
   },
   "outputs": [],
   "source": [
    "p_load(\"factoextra\")\n",
    "eig_val <- get_eigenvalue(res_pca)\n",
    "eig_val"
   ]
  },
  {
   "cell_type": "code",
   "execution_count": null,
   "id": "8b1c8320",
   "metadata": {
    "vscode": {
     "languageId": "r"
    }
   },
   "outputs": [],
   "source": [
    "fviz_eig(res_pca, addlabels = TRUE, ylim = c(0, 70))"
   ]
  },
  {
   "cell_type": "code",
   "execution_count": null,
   "id": "f85fbecc",
   "metadata": {
    "vscode": {
     "languageId": "r"
    }
   },
   "outputs": [],
   "source": [
    "eig_val$pcs<-seq(1:7)\n",
    "ggplot(eig_val,aes(x=pcs,y=cumulative.variance.percent)) +\n",
    "    geom_point()+\n",
    "    geom_line() +\n",
    "    theme_bw()"
   ]
  },
  {
   "cell_type": "code",
   "execution_count": null,
   "id": "bce0270e",
   "metadata": {
    "vscode": {
     "languageId": "r"
    }
   },
   "outputs": [],
   "source": [
    "fviz_pca_var(res_pca, \n",
    "                repel = TRUE,# Avoid text overlapping\n",
    "                col.var = \"#2E9FDF\", # Variables color\n",
    "                col.ind = \"#696969\"  # Individuals color\n",
    "                )"
   ]
  },
  {
   "cell_type": "code",
   "execution_count": null,
   "id": "9d63dab2",
   "metadata": {
    "vscode": {
     "languageId": "r"
    }
   },
   "outputs": [],
   "source": [
    "#?fviz_pca_biplot"
   ]
  },
  {
   "cell_type": "markdown",
   "id": "d24a228b",
   "metadata": {},
   "source": [
    "##  Votos en el congreso de Estados Unidos\n",
    "\n",
    "Este es un ejemplo un poco mas complejo de como votan los miembros del Congreso de Estados IUnidos. \n",
    "\n",
    "Tenemso información de los votos del 111vo Congreso que cubre los años 2009 y 2010, que son los dos primeros años de la presidencia de Obama.\n",
    "\n",
    "Hay 445 miembros que votan en la casa de representantes (US House of Representatives) y se registraron 1647 votos con -1 por el negativo, +1 por positivo, y 0 por la abstencion o la ausencia"
   ]
  },
  {
   "cell_type": "code",
   "execution_count": null,
   "id": "df0c35b4",
   "metadata": {
    "vscode": {
     "languageId": "r"
    }
   },
   "outputs": [],
   "source": [
    "votes <- read.csv(\"https://github.com/ignaciomsarmiento/datasets/raw/main/rollcall-votes.csv\")\n",
    "head(votes)"
   ]
  },
  {
   "cell_type": "code",
   "execution_count": null,
   "id": "9df862af",
   "metadata": {
    "vscode": {
     "languageId": "r"
    }
   },
   "outputs": [],
   "source": [
    "dim(votes)"
   ]
  },
  {
   "cell_type": "code",
   "execution_count": null,
   "id": "6edd83f3",
   "metadata": {
    "vscode": {
     "languageId": "r"
    }
   },
   "outputs": [],
   "source": [
    "legis <- read.csv(\"https://github.com/ignaciomsarmiento/datasets/raw/main/rollcall-members.csv\")\n",
    "head(legis)"
   ]
  },
  {
   "cell_type": "markdown",
   "id": "3a336839",
   "metadata": {},
   "source": [
    "En este contexto podriamos pensar para una estructura factorial subjacente de baja dimensión. Aunque cada uno de los votos se refiere a temas diferentes, los representantes suelen están alineados según ejes partidistas e ideológicos (por ejemplo, republicano versus demócrata o liberal versus conservador). Si creemos que todos los votos son partidistas, entonces el voto por el miembro i en el tema j podría predecirse como\n",
    "\n",
    "$$\n",
    "x_{i} = h f_i\n",
    "$$\n",
    "\n",
    "donde f es el posicionamiento ideologico latente y h como este posicionamiento afecta los votos. Este tipo de situaciones es ideal para PCA"
   ]
  },
  {
   "cell_type": "code",
   "execution_count": null,
   "id": "17646ef0",
   "metadata": {
    "vscode": {
     "languageId": "r"
    }
   },
   "outputs": [],
   "source": [
    "#Estimamos PCA\n",
    "pcavote <- prcomp(votes, scale=TRUE)\n",
    "\n",
    "pcavote$rotation"
   ]
  },
  {
   "cell_type": "code",
   "execution_count": null,
   "id": "6a980b1a",
   "metadata": {
    "vscode": {
     "languageId": "r"
    }
   },
   "outputs": [],
   "source": [
    "fviz_eig(pcavote, addlabels = TRUE, ylim = c(0, 40))"
   ]
  },
  {
   "cell_type": "code",
   "execution_count": null,
   "id": "c91d76e8",
   "metadata": {
    "vscode": {
     "languageId": "r"
    }
   },
   "outputs": [],
   "source": [
    "fviz_pca_biplot(pcavote,\n",
    "                labelsize = 20)"
   ]
  },
  {
   "cell_type": "code",
   "execution_count": null,
   "id": "b42db49d",
   "metadata": {
    "vscode": {
     "languageId": "r"
    }
   },
   "outputs": [],
   "source": [
    "fviz_pca_biplot(pcavote, \n",
    "                col.ind = legis$party,\n",
    "                palette = c(\"blue\", \"green\", \"red\"),\n",
    "                invisible =\"var\",\n",
    "                repel=TRUE,\n",
    "                labelsize = 20\n",
    "                )"
   ]
  },
  {
   "cell_type": "code",
   "execution_count": null,
   "id": "116e5b89",
   "metadata": {
    "vscode": {
     "languageId": "r"
    }
   },
   "outputs": [],
   "source": [
    "votepc <- predict(pcavote) #\n",
    "votepc[order(votepc[,1])[1:5],1]"
   ]
  },
  {
   "cell_type": "code",
   "execution_count": null,
   "id": "fa57f255",
   "metadata": {
    "vscode": {
     "languageId": "r"
    }
   },
   "outputs": [],
   "source": [
    "votepc[order(-votepc[,1])[1:5],1]"
   ]
  },
  {
   "cell_type": "code",
   "execution_count": null,
   "id": "1083f60e",
   "metadata": {
    "vscode": {
     "languageId": "r"
    }
   },
   "outputs": [],
   "source": [
    "votepc[order(votepc[,2])[1:5],2]"
   ]
  },
  {
   "cell_type": "code",
   "execution_count": null,
   "id": "a8b8b20c",
   "metadata": {
    "vscode": {
     "languageId": "r"
    }
   },
   "outputs": [],
   "source": [
    "votepc[order(-votepc[,2])[1:5],2]"
   ]
  },
  {
   "cell_type": "code",
   "execution_count": null,
   "id": "6698c6a2",
   "metadata": {
    "vscode": {
     "languageId": "r"
    }
   },
   "outputs": [],
   "source": [
    "loadings <- pcavote$rotation[,1:2]"
   ]
  },
  {
   "cell_type": "code",
   "execution_count": null,
   "id": "9dd3ed3d",
   "metadata": {
    "scrolled": true,
    "vscode": {
     "languageId": "r"
    }
   },
   "outputs": [],
   "source": [
    "hist(loadings[,1], main=\"\", xlab=\"1st Principle Component Vote-Loadings\",\n",
    "     col=8, border=grey(.9))\n",
    "abline(v=loadings[884,1], col=2)\n",
    "text(x=loadings[884,1], y=550, \"Afford. Health (amdt.)\", xpd=TRUE, col=2, font=3)\n",
    "abline(v=loadings[25,1], col=4)\n",
    "text(x=loadings[25,1], y=550, \"TARP\", xpd=TRUE, col=4, font=3)"
   ]
  },
  {
   "cell_type": "code",
   "execution_count": null,
   "id": "884dab67",
   "metadata": {
    "vscode": {
     "languageId": "r"
    }
   },
   "outputs": [],
   "source": [
    "loadings[order(abs(loadings[,2]), decreasing=TRUE)[1:5],2]"
   ]
  },
  {
   "cell_type": "code",
   "execution_count": null,
   "id": "4a8ccf3c",
   "metadata": {
    "vscode": {
     "languageId": "r"
    }
   },
   "outputs": [],
   "source": [
    "sort(rowSums(votes==0), decreasing=TRUE)[1:5]"
   ]
  },
  {
   "cell_type": "markdown",
   "id": "8192997d",
   "metadata": {},
   "source": [
    "# Principal Component Regression\n",
    "\n",
    "Para ilustrar vamos a usar datos de television que incluyen respuestas a encuestas para grupos focales sobre programas piloto de televisión (primeros episodios de una nueva serie), así como los resultados del primer año de calificaciones (cuántas personas terminaron viendo el programa). La esperanza es que podamos crear una regla para predecir el interés de los espectadores a partir de encuestas piloto, ayudando así a los estudios a tomar mejores decisiones de programación. \n",
    "\n"
   ]
  },
  {
   "cell_type": "code",
   "execution_count": null,
   "id": "666772ea",
   "metadata": {
    "vscode": {
     "languageId": "r"
    }
   },
   "outputs": [],
   "source": [
    "shows <- read.csv(\"https://github.com/ignaciomsarmiento/datasets/raw/main/nbc_showdetails.csv\", row.names=1)\n",
    "shows$Genre <- factor(shows$Genre)\n",
    "head(shows)"
   ]
  },
  {
   "cell_type": "markdown",
   "id": "c9531c01",
   "metadata": {},
   "source": [
    "Tenemos un par de variables de resultado interesantes . Las medidas clásicas de la comerciabilidad de la radiodifusión son las calificaciones. Específicamente, los puntos de rating bruto (GRP) proporcionan un recuento estimado de la audiencia total. En estos datos también realizamos un seguimiento del compromiso proyectado (PE) como una medida más sutil de la atención de la audiencia. Después de ver un programa, se contacta a los espectadores y se les pregunta sobre el orden y los detalles de los eventos del programa. Esto mide su compromiso con el programa (y, quizás lo más importante, con los anuncios mostrados). La PE se informa en una escala de 0 a 100, donde 100 significa que estaban completamente comprometidos y 0 significa que no prestaron atención en absoluto.\n",
    "\n"
   ]
  },
  {
   "cell_type": "code",
   "execution_count": null,
   "id": "a7074e79",
   "metadata": {
    "vscode": {
     "languageId": "r"
    }
   },
   "outputs": [],
   "source": [
    "plot(GRP ~ PE, data=shows, bg=c(4,2,3)[shows$Genre], pch=21, log=\"y\")\n",
    "legend(\"bottomright\", legend=levels(shows$Genre), fill=c(4,2,3), bty=\"n\")"
   ]
  },
  {
   "cell_type": "markdown",
   "id": "98ed475f",
   "metadata": {},
   "source": [
    "Los datos de la encuesta incluyen 6241 vistas y 20 preguntas para 40 programas. Hay dos tipos de preguntas en la encuesta. Ambos  preguntan hasta qué punto estás de acuerdo con una afirmación. Para el primer trimestre, esta afirmación toma la forma de \"Este programa me hace sentir...\". Para el segundo trimestre, la afirmación es \"Encuentro que este programa me hace sentir...\". \n",
    "\n"
   ]
  },
  {
   "cell_type": "code",
   "execution_count": null,
   "id": "fd07aa06",
   "metadata": {
    "vscode": {
     "languageId": "r"
    }
   },
   "outputs": [],
   "source": [
    "survey <- read.csv(\"https://github.com/ignaciomsarmiento/datasets/raw/main/nbc_pilotsurvey.csv\", as.is=TRUE) \n",
    "survey$Show <- factor(survey$Show, levels=rownames(shows))\n",
    "head(survey)"
   ]
  },
  {
   "cell_type": "code",
   "execution_count": null,
   "id": "feb98dcc",
   "metadata": {
    "vscode": {
     "languageId": "r"
    }
   },
   "outputs": [],
   "source": [
    "Xpilot <- aggregate(survey[,-(1:2)],  ## -(1:2) to remove the variables 'show' and 'viewer' completely\n",
    "                by=list(Show=survey$Show), mean)\n",
    "\n",
    "\n",
    "rownames(Xpilot) <- Xpilot[,1]\n",
    "Xpilot <- Xpilot[,-1]\n",
    "head(Xpilot)"
   ]
  },
  {
   "cell_type": "code",
   "execution_count": null,
   "id": "9fb9b413",
   "metadata": {
    "vscode": {
     "languageId": "r"
    }
   },
   "outputs": [],
   "source": [
    "PCApilot <- prcomp(Xpilot, scale=TRUE)\n",
    "\n",
    "fviz_eig(PCApilot, addlabels = TRUE, ylim = c(0, 45))"
   ]
  },
  {
   "cell_type": "code",
   "execution_count": null,
   "id": "5cb04573",
   "metadata": {
    "vscode": {
     "languageId": "r"
    }
   },
   "outputs": [],
   "source": [
    "round(PCApilot$rotation[,1:3],1)"
   ]
  },
  {
   "cell_type": "code",
   "execution_count": null,
   "id": "21d9d500",
   "metadata": {
    "vscode": {
     "languageId": "r"
    }
   },
   "outputs": [],
   "source": [
    "#options(repr.plot.width = 100, repr.plot.height =100, repr.plot.res = 100)\n",
    "fviz_pca_biplot(PCApilot, \n",
    "                col.ind = shows$Genre,\n",
    "                palette = c(\"blue\", \"green\", \"red\"),\n",
    "                ylim=c(-3,3),\n",
    "                xlim=c(-6,6), # hides \"monarch cove\",living with ed\", and \"next\" but these are all tiny \n",
    "                invisible =\"var\",\n",
    "                repel=TRUE,\n",
    "                labelsize = 20\n",
    "                )"
   ]
  },
  {
   "cell_type": "code",
   "execution_count": null,
   "id": "6bb9190e",
   "metadata": {
    "vscode": {
     "languageId": "r"
    }
   },
   "outputs": [],
   "source": [
    "p_load(\"gamlr\")"
   ]
  },
  {
   "cell_type": "code",
   "execution_count": null,
   "id": "8906a770",
   "metadata": {
    "vscode": {
     "languageId": "r"
    }
   },
   "outputs": [],
   "source": [
    "zpilot <- predict(PCApilot)\n",
    "\n",
    "PE <- shows$PE\n",
    "zdf <- as.data.frame(zpilot)\n",
    "\n",
    "summary(PEglm <- glm(PE ~ ., data=zdf[,1:2]))"
   ]
  },
  {
   "cell_type": "code",
   "execution_count": null,
   "id": "a73cb0d3",
   "metadata": {
    "vscode": {
     "languageId": "r"
    }
   },
   "outputs": [],
   "source": [
    "cvlasso <- cv.gamlr(x=as.matrix(Xpilot), y=PE, nfold=10)\n",
    "coef(cvlasso) "
   ]
  },
  {
   "cell_type": "code",
   "execution_count": null,
   "id": "c6d1a3d5",
   "metadata": {
    "vscode": {
     "languageId": "r"
    }
   },
   "outputs": [],
   "source": [
    "cvlassoPCR <- cv.gamlr(x=zpilot, y=PE, nfold=10) \n",
    "coef(cvlassoPCR) "
   ]
  },
  {
   "cell_type": "code",
   "execution_count": null,
   "id": "e52d51c4",
   "metadata": {
    "vscode": {
     "languageId": "r"
    }
   },
   "outputs": [],
   "source": [
    "cvlassoboth <- cv.gamlr(x=as.matrix(cbind(Xpilot,zpilot)), y=PE, nfold=10)\n",
    "coef(cvlassoboth)"
   ]
  },
  {
   "cell_type": "code",
   "execution_count": null,
   "id": "38f8cfb4",
   "metadata": {
    "vscode": {
     "languageId": "r"
    }
   },
   "outputs": [],
   "source": [
    "par(mfrow=c(1,3), mai=c(.2,.2,.5,.1), omi=c(.5,.5,0,0))\n",
    "plot(cvlasso, main=\"Lasso on X\", ylim=c(50,200), ylab=\"\", xlab=\"\", df=FALSE, bty=\"n\")\n",
    "plot(cvlassoPCR, main=\"Lasso on PCR\", ylim=c(50,200), ylab=\"\", xlab=\"\", df=FALSE, bty=\"n\")\n",
    "plot(cvlassoboth, main=\"Lasso on X and PCR\", ylim=c(50,200), ylab=\"\", xlab=\"\", df=FALSE, bty=\"n\")\n",
    "mtext(side=2, \"mean squared error\", outer=TRUE, line=2)\n",
    "mtext(side=1, \"log lamba\", outer=TRUE, line=2)"
   ]
  },
  {
   "cell_type": "markdown",
   "id": "dc30206a",
   "metadata": {},
   "source": [
    "# Texto como Datos: Ejemplos\n",
    "\n",
    "## Regresión con Texto: Gentzkow and Shapiro"
   ]
  },
  {
   "cell_type": "markdown",
   "id": "16e0ba67",
   "metadata": {},
   "source": [
    "<div >\n",
    "<img src = \"figures/gentzgow_shapiro.png\" />\n",
    "</div>"
   ]
  },
  {
   "cell_type": "code",
   "execution_count": null,
   "id": "73f77bab",
   "metadata": {
    "vscode": {
     "languageId": "r"
    }
   },
   "outputs": [],
   "source": [
    "require(\"pacman\")\n",
    "p_load(\"tidyverse\",\"textir\",\"wordcloud\")"
   ]
  },
  {
   "cell_type": "code",
   "execution_count": null,
   "id": "cc54ff13",
   "metadata": {
    "vscode": {
     "languageId": "r"
    }
   },
   "outputs": [],
   "source": [
    "data(\"congress109\", package = \"textir\")"
   ]
  },
  {
   "cell_type": "code",
   "execution_count": null,
   "id": "6c88345d",
   "metadata": {
    "vscode": {
     "languageId": "r"
    }
   },
   "outputs": [],
   "source": [
    "congress109Counts[c(\"Barack Obama\",\"John Boehner\"),995:999]"
   ]
  },
  {
   "cell_type": "code",
   "execution_count": null,
   "id": "a06cc21d",
   "metadata": {
    "vscode": {
     "languageId": "r"
    }
   },
   "outputs": [],
   "source": [
    "congress109Ideology[c(\"Barack Obama\",\"John Boehner\"),1:5]"
   ]
  },
  {
   "cell_type": "markdown",
   "id": "2f381c1e",
   "metadata": {},
   "source": [
    "### Regresión \n",
    "\n",
    "$$\n",
    "RepShare= X\\beta  + u\n",
    "$$"
   ]
  },
  {
   "cell_type": "code",
   "execution_count": null,
   "id": "35b7f73b",
   "metadata": {
    "vscode": {
     "languageId": "r"
    }
   },
   "outputs": [],
   "source": [
    "dim(congress109Counts)"
   ]
  },
  {
   "cell_type": "code",
   "execution_count": null,
   "id": "8e8d0aa2",
   "metadata": {
    "vscode": {
     "languageId": "r"
    }
   },
   "outputs": [],
   "source": [
    "X <- as(congress109Counts, \"dMatrix\")\n",
    "repshare <- congress109Ideology$repshare"
   ]
  },
  {
   "cell_type": "code",
   "execution_count": null,
   "id": "ef486c7a",
   "metadata": {
    "vscode": {
     "languageId": "r"
    }
   },
   "outputs": [],
   "source": [
    "X"
   ]
  },
  {
   "cell_type": "code",
   "execution_count": null,
   "id": "512d521c",
   "metadata": {
    "vscode": {
     "languageId": "r"
    }
   },
   "outputs": [],
   "source": [
    "\n",
    "X1 <- as.matrix(congress109Counts)\n",
    "words<-colnames(X1)\n",
    "\n",
    "covariance<-apply(X1,2,function(x) cor(x,repshare))\n",
    "\n",
    "                  \n",
    "\n",
    "wordcloud(words = words,\n",
    "          freq = covariance,\n",
    "          min.freq = 0,\n",
    "          scale = c(1.5, 0.1), \n",
    "          max.words=200, \n",
    "          random.order=FALSE, \n",
    "          colors=brewer.pal(8, \"YlOrRd\"))\n"
   ]
  },
  {
   "cell_type": "code",
   "execution_count": null,
   "id": "836fea72",
   "metadata": {
    "vscode": {
     "languageId": "r"
    }
   },
   "outputs": [],
   "source": [
    "# lasso\n",
    "lassoslant <- cv.gamlr(X>0, repshare)  \n",
    "\n",
    "B <- coef(lassoslant$gamlr)[-1,] "
   ]
  },
  {
   "cell_type": "code",
   "execution_count": null,
   "id": "5d8c57e0",
   "metadata": {
    "vscode": {
     "languageId": "r"
    }
   },
   "outputs": [],
   "source": [
    "tail(sort(round(B[B!=0],4)),10)"
   ]
  },
  {
   "cell_type": "code",
   "execution_count": null,
   "id": "65a01ef8",
   "metadata": {
    "vscode": {
     "languageId": "r"
    }
   },
   "outputs": [],
   "source": [
    "head(sort(round(B[B!=0],4)),10)"
   ]
  },
  {
   "cell_type": "markdown",
   "id": "1f4ff707",
   "metadata": {},
   "source": [
    "## Modelado de temas subyacentes\n"
   ]
  },
  {
   "cell_type": "code",
   "execution_count": 1,
   "id": "9ad05d22",
   "metadata": {
    "vscode": {
     "languageId": "r"
    }
   },
   "outputs": [],
   "source": [
    "data(\"we8there\", package = \"textir\")"
   ]
  },
  {
   "cell_type": "markdown",
   "id": "92713b92",
   "metadata": {},
   "source": [
    "Waffle House #1258 in Bossier City, Louisiana:\n",
    "\n",
    "*I normally would not revue a Waffle House but this one deserves it. The workers, Amanda, Amy, Cherry, James and J.D. were the most pleasant crew I have seen. While it was only lunch, B.L.T. and chili, it was great. The best thing was the 50’s rock and roll music, not to loud not to soft. This is a rare exception to what you all think a Waffle House is. Keep up the good work.*\n",
    "\n",
    "*Overall: 5, Atmosphere: 5, Food: 5, Service: 5, Value: 5.*\n",
    "\n"
   ]
  },
  {
   "cell_type": "markdown",
   "id": "4803b572",
   "metadata": {},
   "source": [
    "Sartin’s Seafood in Nassau Bay, Texas,\n",
    "\n",
    "*Had a very rude waitress and the manager wasn’t nice either.*\n",
    "*Overall: 1, Atmosphere: 1, Food: 1, Service: 1, Value: 5.*"
   ]
  },
  {
   "cell_type": "code",
   "execution_count": 7,
   "id": "d5f2bdca",
   "metadata": {
    "scrolled": true,
    "vscode": {
     "languageId": "r"
    }
   },
   "outputs": [],
   "source": [
    "x <- we8thereCounts\n"
   ]
  },
  {
   "cell_type": "code",
   "execution_count": 8,
   "id": "8952928c-2db3-4297-ad4f-5a1644e35275",
   "metadata": {},
   "outputs": [
    {
     "data": {
      "text/html": [
       "<style>\n",
       ".dl-inline {width: auto; margin:0; padding: 0}\n",
       ".dl-inline>dt, .dl-inline>dd {float: none; width: auto; display: inline-block}\n",
       ".dl-inline>dt::after {content: \":\\0020\"; padding-right: .5ex}\n",
       ".dl-inline>dt:not(:first-of-type) {padding-left: .5ex}\n",
       "</style><dl class=dl-inline><dt>even though</dt><dd>1</dd><dt>larg portion</dt><dd>1</dd><dt>mouth water</dt><dd>1</dd><dt>red sauc</dt><dd>1</dd><dt>babi back</dt><dd>1</dd><dt>back rib</dt><dd>1</dd><dt>chocol mouss</dt><dd>1</dd><dt>veri satisfi</dt><dd>1</dd></dl>\n"
      ],
      "text/latex": [
       "\\begin{description*}\n",
       "\\item[even though] 1\n",
       "\\item[larg portion] 1\n",
       "\\item[mouth water] 1\n",
       "\\item[red sauc] 1\n",
       "\\item[babi back] 1\n",
       "\\item[back rib] 1\n",
       "\\item[chocol mouss] 1\n",
       "\\item[veri satisfi] 1\n",
       "\\end{description*}\n"
      ],
      "text/markdown": [
       "even though\n",
       ":   1larg portion\n",
       ":   1mouth water\n",
       ":   1red sauc\n",
       ":   1babi back\n",
       ":   1back rib\n",
       ":   1chocol mouss\n",
       ":   1veri satisfi\n",
       ":   1\n",
       "\n"
      ],
      "text/plain": [
       " even though larg portion  mouth water     red sauc    babi back     back rib \n",
       "           1            1            1            1            1            1 \n",
       "chocol mouss veri satisfi \n",
       "           1            1 "
      ]
     },
     "metadata": {},
     "output_type": "display_data"
    }
   ],
   "source": [
    "x[1,x[1,]!=0]"
   ]
  },
  {
   "cell_type": "markdown",
   "id": "b86a2656",
   "metadata": {},
   "source": [
    "### PCA"
   ]
  },
  {
   "cell_type": "code",
   "execution_count": 3,
   "id": "5572322f",
   "metadata": {
    "vscode": {
     "languageId": "r"
    }
   },
   "outputs": [],
   "source": [
    "pca <- prcomp(x, scale=TRUE) # cuidado demora mucho"
   ]
  },
  {
   "cell_type": "code",
   "execution_count": null,
   "id": "d5df66a7",
   "metadata": {
    "vscode": {
     "languageId": "r"
    }
   },
   "outputs": [],
   "source": [
    "tail(sort(pca$rotation[,1]))"
   ]
  },
  {
   "cell_type": "code",
   "execution_count": null,
   "id": "e3e9a91c",
   "metadata": {
    "vscode": {
     "languageId": "r"
    }
   },
   "outputs": [],
   "source": [
    "tail(sort(pca$rotation[,4]))"
   ]
  },
  {
   "cell_type": "code",
   "execution_count": null,
   "id": "9d75c903",
   "metadata": {
    "vscode": {
     "languageId": "r"
    }
   },
   "outputs": [],
   "source": [
    "v <- predict(pca)[,1:4]"
   ]
  },
  {
   "cell_type": "code",
   "execution_count": null,
   "id": "8ad8663a",
   "metadata": {
    "vscode": {
     "languageId": "r"
    }
   },
   "outputs": [],
   "source": [
    "fviz_eig(pca, addlabels = TRUE, ylim = c(0, 45))"
   ]
  },
  {
   "cell_type": "code",
   "execution_count": null,
   "id": "c6f1aaf7",
   "metadata": {
    "vscode": {
     "languageId": "r"
    }
   },
   "outputs": [],
   "source": [
    "boxplot(v[,1] ~ we8thereRatings$Overall, xlab=\"overall rating\", ylab=\"PC1 score\")"
   ]
  },
  {
   "cell_type": "markdown",
   "id": "b1682a02",
   "metadata": {},
   "source": [
    "### LDA"
   ]
  },
  {
   "cell_type": "code",
   "execution_count": null,
   "id": "c2cf9839",
   "metadata": {
    "vscode": {
     "languageId": "r"
    }
   },
   "outputs": [],
   "source": [
    "p_load(\"maptpx\") # para modelar topicos\n",
    "\n",
    "x <- as.simple_triplet_matrix(we8thereCounts)"
   ]
  },
  {
   "cell_type": "code",
   "execution_count": null,
   "id": "c34dc75b",
   "metadata": {
    "vscode": {
     "languageId": "r"
    }
   },
   "outputs": [],
   "source": [
    "tpc <- topics(x,K=10) "
   ]
  },
  {
   "cell_type": "code",
   "execution_count": null,
   "id": "09545b33",
   "metadata": {
    "vscode": {
     "languageId": "r"
    }
   },
   "outputs": [],
   "source": [
    "tpcs <- topics(x,K=5*(1:5), verb=1)"
   ]
  },
  {
   "cell_type": "code",
   "execution_count": null,
   "id": "966bb451",
   "metadata": {
    "vscode": {
     "languageId": "r"
    }
   },
   "outputs": [],
   "source": [
    "summary(tpcs, n=10) "
   ]
  },
  {
   "cell_type": "code",
   "execution_count": null,
   "id": "9866b7f9",
   "metadata": {
    "vscode": {
     "languageId": "r"
    }
   },
   "outputs": [],
   "source": [
    "rownames(tpcs$theta)[order(tpcs$theta[,1], decreasing=TRUE)[1:10]]\n"
   ]
  },
  {
   "cell_type": "code",
   "execution_count": null,
   "id": "a5f4f4a1",
   "metadata": {
    "vscode": {
     "languageId": "r"
    }
   },
   "outputs": [],
   "source": [
    "rownames(tpcs$theta)[order(tpcs$theta[,2], decreasing=TRUE)[1:10]]"
   ]
  },
  {
   "cell_type": "code",
   "execution_count": null,
   "id": "7581e453",
   "metadata": {
    "vscode": {
     "languageId": "r"
    }
   },
   "outputs": [],
   "source": [
    "boxplot(tpcs$omega[,1] ~ we8thereRatings$Overall, col=\"gold\", xlab=\"overall rating\", ylab=\"topic 1 score\")\n"
   ]
  },
  {
   "cell_type": "code",
   "execution_count": null,
   "id": "6ba2c285",
   "metadata": {
    "vscode": {
     "languageId": "r"
    }
   },
   "outputs": [],
   "source": [
    "boxplot(tpcs$omega[,2] ~ we8thereRatings$Overall, col=\"pink\", xlab=\"overall rating\", ylab=\"topic 2 score\")"
   ]
  },
  {
   "cell_type": "code",
   "execution_count": null,
   "id": "868c2232",
   "metadata": {
    "vscode": {
     "languageId": "r"
    }
   },
   "outputs": [],
   "source": [
    "stars <- we8thereRatings[,\"Overall\"]"
   ]
  },
  {
   "cell_type": "code",
   "execution_count": null,
   "id": "2b19f51d",
   "metadata": {
    "vscode": {
     "languageId": "r"
    }
   },
   "outputs": [],
   "source": [
    "Xtopics<-as(tpcs$omega, \"dMatrix\")"
   ]
  },
  {
   "cell_type": "code",
   "execution_count": null,
   "id": "1a90c427",
   "metadata": {
    "vscode": {
     "languageId": "r"
    }
   },
   "outputs": [],
   "source": [
    "p_load(\"gamlr\")\n",
    "regtopics.cv <- cv.gamlr(tpcs$omega, stars)"
   ]
  },
  {
   "cell_type": "code",
   "execution_count": null,
   "id": "5d73b26d",
   "metadata": {
    "vscode": {
     "languageId": "r"
    }
   },
   "outputs": [],
   "source": [
    "regwords.cv <- cv.gamlr(we8thereCounts, stars)"
   ]
  },
  {
   "cell_type": "code",
   "execution_count": null,
   "id": "25577b5f",
   "metadata": {
    "vscode": {
     "languageId": "r"
    }
   },
   "outputs": [],
   "source": [
    "par(mfrow=c(1,2), mai=c(.3,.6,.7,.1), omi=c(.5,.2,0,0))\n",
    "plot(regtopics.cv, ylim=c(1,2), xlab=\"\", ylab=\"\")\n",
    "mtext(\"topic regression\", font=2, line=2)\n",
    "plot(regwords.cv, ylim=c(1,2), xlab=\"\", ylab=\"\")\n",
    "mtext(\"token regression\", font=2, line=2)\n",
    "mtext(side=2, \"mean squared error\", outer=TRUE, line=0)\n",
    "mtext(side=1, \"log lamba\", outer=TRUE, line=1)"
   ]
  }
 ],
 "metadata": {
  "kernelspec": {
   "display_name": "R",
   "language": "R",
   "name": "ir"
  },
  "language_info": {
   "codemirror_mode": "r",
   "file_extension": ".r",
   "mimetype": "text/x-r-source",
   "name": "R",
   "pygments_lexer": "r",
   "version": "4.4.1"
  },
  "toc": {
   "base_numbering": 1,
   "nav_menu": {},
   "number_sections": true,
   "sideBar": true,
   "skip_h1_title": false,
   "title_cell": "Table of Contents",
   "title_sidebar": "Contents",
   "toc_cell": false,
   "toc_position": {},
   "toc_section_display": true,
   "toc_window_display": false
  }
 },
 "nbformat": 4,
 "nbformat_minor": 5
}
