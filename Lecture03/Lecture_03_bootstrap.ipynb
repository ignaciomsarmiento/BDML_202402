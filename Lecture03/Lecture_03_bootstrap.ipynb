{
 "cells": [
  {
   "cell_type": "markdown",
   "id": "52d3ad87-541b-4039-af11-e014c2c8f74f",
   "metadata": {},
   "source": [
    "<div >\n",
    "<img src = \"../banner.jpg\" />\n",
    "</div>"
   ]
  },
  {
   "cell_type": "markdown",
   "id": "cdcb3fb3-0589-47a9-b254-8003d9d892f5",
   "metadata": {},
   "source": [
    "<a target=\"_blank\" href=\"https://colab.research.google.com/github/ignaciomsarmiento/BDML_202402/blob/main/Lecture03/Lecture03_bootstrap.ipynb\">\n",
    "  <img src=\"https://colab.research.google.com/assets/colab-badge.svg\" alt=\"Open In Colab\"/>\n",
    "</a>\n"
   ]
  },
  {
   "cell_type": "markdown",
   "id": "3e386f69-995e-4594-8394-e932c7f695e2",
   "metadata": {},
   "source": [
    "# The Bootstrap\n"
   ]
  },
  {
   "cell_type": "markdown",
   "id": "6af730bf-67c3-425e-9ea6-8a400e3f6287",
   "metadata": {},
   "source": [
    "## Introduction\n",
    "\n",
    "\n",
    "The bootstrap is a widely applicable and extremely powerful statistical tool that can be used to quantify the uncertainty associated with a given estimator or statistical learning method. \n",
    "\n",
    "As a simple example, the bootstrap can be used to estimate the standard errors of the coefficients from a linear regression fit. \n",
    "\n",
    "In the specific case of linear regression, this is not particularly useful, since standard statistical software outputs such standard errors automatically.\n",
    "\n",
    "However, the power of the bootstrap lies in the fact that it can be easily applied to a wide range of statistical learning methods, including some for which a measure of variability is otherwise difficult to obtain and is not automatically output by statistical software."
   ]
  },
  {
   "cell_type": "markdown",
   "id": "b46eaf8a-511f-4102-8362-6a0cccd95752",
   "metadata": {
    "lines_to_next_cell": 0
   },
   "source": [
    "Let's illustrate this with an example. The objective is to estimate gasoline demand's elasticity and quantify its associated uncertainty.\n",
    "\n",
    "\n",
    "Suppose we have the following data to estimate the elasticity where all the variables are in logs:"
   ]
  },
  {
   "cell_type": "code",
   "execution_count": null,
   "id": "eed40940",
   "metadata": {},
   "outputs": [],
   "source": [
    "#install.packages(\"pacman\") for #google colab"
   ]
  },
  {
   "cell_type": "code",
   "execution_count": 1,
   "id": "523b9df4",
   "metadata": {
    "comment": "#R_CODE#NA",
    "vscode": {
     "languageId": "r"
    }
   },
   "outputs": [
    {
     "data": {
      "text/html": [
       "<table class=\"dataframe\">\n",
       "<caption>A data.frame: 6 × 3</caption>\n",
       "<thead>\n",
       "\t<tr><th></th><th scope=col>consumption</th><th scope=col>price</th><th scope=col>income</th></tr>\n",
       "\t<tr><th></th><th scope=col>&lt;dbl&gt;</th><th scope=col>&lt;dbl&gt;</th><th scope=col>&lt;dbl&gt;</th></tr>\n",
       "</thead>\n",
       "<tbody>\n",
       "\t<tr><th scope=row>1</th><td>5.090526</td><td>-1.602419</td><td>2.342972</td></tr>\n",
       "\t<tr><th scope=row>2</th><td>5.092324</td><td>-1.572913</td><td>2.317068</td></tr>\n",
       "\t<tr><th scope=row>3</th><td>5.093950</td><td>-1.547504</td><td>2.340076</td></tr>\n",
       "\t<tr><th scope=row>4</th><td>5.067488</td><td>-1.505120</td><td>2.323478</td></tr>\n",
       "\t<tr><th scope=row>5</th><td>5.049762</td><td>-1.456725</td><td>2.335196</td></tr>\n",
       "\t<tr><th scope=row>6</th><td>5.049566</td><td>-1.438641</td><td>2.364967</td></tr>\n",
       "</tbody>\n",
       "</table>\n"
      ],
      "text/latex": [
       "A data.frame: 6 × 3\n",
       "\\begin{tabular}{r|lll}\n",
       "  & consumption & price & income\\\\\n",
       "  & <dbl> & <dbl> & <dbl>\\\\\n",
       "\\hline\n",
       "\t1 & 5.090526 & -1.602419 & 2.342972\\\\\n",
       "\t2 & 5.092324 & -1.572913 & 2.317068\\\\\n",
       "\t3 & 5.093950 & -1.547504 & 2.340076\\\\\n",
       "\t4 & 5.067488 & -1.505120 & 2.323478\\\\\n",
       "\t5 & 5.049762 & -1.456725 & 2.335196\\\\\n",
       "\t6 & 5.049566 & -1.438641 & 2.364967\\\\\n",
       "\\end{tabular}\n"
      ],
      "text/markdown": [
       "\n",
       "A data.frame: 6 × 3\n",
       "\n",
       "| <!--/--> | consumption &lt;dbl&gt; | price &lt;dbl&gt; | income &lt;dbl&gt; |\n",
       "|---|---|---|---|\n",
       "| 1 | 5.090526 | -1.602419 | 2.342972 |\n",
       "| 2 | 5.092324 | -1.572913 | 2.317068 |\n",
       "| 3 | 5.093950 | -1.547504 | 2.340076 |\n",
       "| 4 | 5.067488 | -1.505120 | 2.323478 |\n",
       "| 5 | 5.049762 | -1.456725 | 2.335196 |\n",
       "| 6 | 5.049566 | -1.438641 | 2.364967 |\n",
       "\n"
      ],
      "text/plain": [
       "  consumption price     income  \n",
       "1 5.090526    -1.602419 2.342972\n",
       "2 5.092324    -1.572913 2.317068\n",
       "3 5.093950    -1.547504 2.340076\n",
       "4 5.067488    -1.505120 2.323478\n",
       "5 5.049762    -1.456725 2.335196\n",
       "6 5.049566    -1.438641 2.364967"
      ]
     },
     "metadata": {},
     "output_type": "display_data"
    }
   ],
   "source": [
    "gas<-read.csv(\"https://raw.githubusercontent.com/ignaciomsarmiento/datasets/main/gas.csv\",header=T)\n",
    "head(gas)\n"
   ]
  },
  {
   "cell_type": "markdown",
   "id": "96055d18",
   "metadata": {},
   "source": [
    "\n",
    "Before estimating different models, let's recall that the elasticity of demand, usually denoted by $\\eta_{qp}$, is the percentage change in the quantity demanded divided by the percentage change in the price.  It gives the percentage change in quantity demanded when there is a one percent increase in price, holding everything else constant:\n",
    "\n",
    "\\begin{align}\n",
    "\\eta_{qp} &=\\frac{\\frac{\\partial Q}{Q}}{\\frac{\\partial P}{P}} \\\\\n",
    "          &=\\frac{\\partial Q}{\\partial P}\\frac{P}{Q}\n",
    "\\end{align}"
   ]
  },
  {
   "cell_type": "markdown",
   "id": "13a10007-1d3b-476e-a910-26fbc07f750e",
   "metadata": {},
   "source": [
    "## Case 1"
   ]
  },
  {
   "cell_type": "markdown",
   "id": "2381f4d0-81db-4fc1-bf4a-e5e38e262d1f",
   "metadata": {},
   "source": [
    "\n",
    "\n",
    "To begin with, let's suppose that the demand model takes the form:\n",
    "\n",
    "$$\n",
    "\\ln{Quantity}_{t}= \\alpha + \\beta_1 \\ln{Price}_{t} +\\beta_2 \\ln{Income}_{t} +u_{t}\n",
    "$$\n",
    "\n",
    "given this specification, we have that the elasticity of demand is the coefficient associated with `lnPrice`\n",
    "\n",
    "\n",
    "\n",
    "$$\n",
    "\\eta_{qp} =\\beta_1\n",
    "$$\n",
    "\n",
    "Let's estimate this"
   ]
  },
  {
   "cell_type": "code",
   "execution_count": 2,
   "id": "2a1b88f7",
   "metadata": {
    "message": false,
    "results": "asis",
    "vscode": {
     "languageId": "r"
    },
    "warning": false
   },
   "outputs": [
    {
     "name": "stderr",
     "output_type": "stream",
     "text": [
      "Loading required package: pacman\n",
      "\n"
     ]
    },
    {
     "name": "stdout",
     "output_type": "stream",
     "text": [
      "\n",
      "========================================\n",
      "                 Dependent variable:    \n",
      "             ---------------------------\n",
      "                     consumption        \n",
      "----------------------------------------\n",
      "price                 -0.838***         \n",
      "                       (0.025)          \n",
      "                                        \n",
      "income                2.117***          \n",
      "                       (0.048)          \n",
      "                                        \n",
      "Constant              -1.056***         \n",
      "                       (0.158)          \n",
      "                                        \n",
      "----------------------------------------\n",
      "Observations             246            \n",
      "R2                      0.917           \n",
      "========================================\n",
      "Note:        *p<0.1; **p<0.05; ***p<0.01\n"
     ]
    }
   ],
   "source": [
    "require(\"pacman\")\n",
    "p_load(\"tidyverse\",\"stargazer\")\n",
    "\n",
    "mod1<- lm(consumption~price+income,gas)\n",
    "stargazer(mod1,type=\"text\", omit.stat=c(\"ser\",\"f\",\"adj.rsq\"))\n"
   ]
  },
  {
   "cell_type": "markdown",
   "id": "c79b0f6b",
   "metadata": {},
   "source": [
    "Thus the elasticity of demand, given the above specification, is -0.838, and the standard error of that elasticity of demand is 0.025. \n"
   ]
  },
  {
   "cell_type": "code",
   "execution_count": 3,
   "id": "c8b82d72",
   "metadata": {
    "vscode": {
     "languageId": "r"
    }
   },
   "outputs": [
    {
     "name": "stdout",
     "output_type": "stream",
     "text": [
      "List of 12\n",
      " $ coefficients : Named num [1:3] -1.056 -0.838 2.117\n",
      "  ..- attr(*, \"names\")= chr [1:3] \"(Intercept)\" \"price\" \"income\"\n",
      " $ residuals    : Named num [1:246] -0.1566 -0.0752 -0.101 -0.0568 -0.0587 ...\n",
      "  ..- attr(*, \"names\")= chr [1:246] \"1\" \"2\" \"3\" \"4\" ...\n",
      " $ effects      : Named num [1:246] -90.1731 2.6074 4.0818 -0.0353 -0.037 ...\n",
      "  ..- attr(*, \"names\")= chr [1:246] \"(Intercept)\" \"price\" \"income\" \"\" ...\n",
      " $ rank         : int 3\n",
      " $ fitted.values: Named num [1:246] 5.25 5.17 5.19 5.12 5.11 ...\n",
      "  ..- attr(*, \"names\")= chr [1:246] \"1\" \"2\" \"3\" \"4\" ...\n",
      " $ assign       : int [1:3] 0 1 2\n",
      " $ qr           :List of 5\n",
      "  ..$ qr   : num [1:246, 1:3] -15.6844 0.0638 0.0638 0.0638 0.0638 ...\n",
      "  .. ..- attr(*, \"dimnames\")=List of 2\n",
      "  .. .. ..$ : chr [1:246] \"1\" \"2\" \"3\" \"4\" ...\n",
      "  .. .. ..$ : chr [1:3] \"(Intercept)\" \"price\" \"income\"\n",
      "  .. ..- attr(*, \"assign\")= int [1:3] 0 1 2\n",
      "  ..$ qraux: num [1:3] 1.06 1.09 1.07\n",
      "  ..$ pivot: int [1:3] 1 2 3\n",
      "  ..$ tol  : num 1e-07\n",
      "  ..$ rank : int 3\n",
      "  ..- attr(*, \"class\")= chr \"qr\"\n",
      " $ df.residual  : int 243\n",
      " $ xlevels      : Named list()\n",
      " $ call         : language lm(formula = consumption ~ price + income, data = gas)\n",
      " $ terms        :Classes 'terms', 'formula'  language consumption ~ price + income\n",
      "  .. ..- attr(*, \"variables\")= language list(consumption, price, income)\n",
      "  .. ..- attr(*, \"factors\")= int [1:3, 1:2] 0 1 0 0 0 1\n",
      "  .. .. ..- attr(*, \"dimnames\")=List of 2\n",
      "  .. .. .. ..$ : chr [1:3] \"consumption\" \"price\" \"income\"\n",
      "  .. .. .. ..$ : chr [1:2] \"price\" \"income\"\n",
      "  .. ..- attr(*, \"term.labels\")= chr [1:2] \"price\" \"income\"\n",
      "  .. ..- attr(*, \"order\")= int [1:2] 1 1\n",
      "  .. ..- attr(*, \"intercept\")= int 1\n",
      "  .. ..- attr(*, \"response\")= int 1\n",
      "  .. ..- attr(*, \".Environment\")=<environment: R_GlobalEnv> \n",
      "  .. ..- attr(*, \"predvars\")= language list(consumption, price, income)\n",
      "  .. ..- attr(*, \"dataClasses\")= Named chr [1:3] \"numeric\" \"numeric\" \"numeric\"\n",
      "  .. .. ..- attr(*, \"names\")= chr [1:3] \"consumption\" \"price\" \"income\"\n",
      " $ model        :'data.frame':\t246 obs. of  3 variables:\n",
      "  ..$ consumption: num [1:246] 5.09 5.09 5.09 5.07 5.05 ...\n",
      "  ..$ price      : num [1:246] -1.6 -1.57 -1.55 -1.51 -1.46 ...\n",
      "  ..$ income     : num [1:246] 2.34 2.32 2.34 2.32 2.34 ...\n",
      "  ..- attr(*, \"terms\")=Classes 'terms', 'formula'  language consumption ~ price + income\n",
      "  .. .. ..- attr(*, \"variables\")= language list(consumption, price, income)\n",
      "  .. .. ..- attr(*, \"factors\")= int [1:3, 1:2] 0 1 0 0 0 1\n",
      "  .. .. .. ..- attr(*, \"dimnames\")=List of 2\n",
      "  .. .. .. .. ..$ : chr [1:3] \"consumption\" \"price\" \"income\"\n",
      "  .. .. .. .. ..$ : chr [1:2] \"price\" \"income\"\n",
      "  .. .. ..- attr(*, \"term.labels\")= chr [1:2] \"price\" \"income\"\n",
      "  .. .. ..- attr(*, \"order\")= int [1:2] 1 1\n",
      "  .. .. ..- attr(*, \"intercept\")= int 1\n",
      "  .. .. ..- attr(*, \"response\")= int 1\n",
      "  .. .. ..- attr(*, \".Environment\")=<environment: R_GlobalEnv> \n",
      "  .. .. ..- attr(*, \"predvars\")= language list(consumption, price, income)\n",
      "  .. .. ..- attr(*, \"dataClasses\")= Named chr [1:3] \"numeric\" \"numeric\" \"numeric\"\n",
      "  .. .. .. ..- attr(*, \"names\")= chr [1:3] \"consumption\" \"price\" \"income\"\n",
      " - attr(*, \"class\")= chr \"lm\"\n"
     ]
    }
   ],
   "source": [
    "str(mod1)"
   ]
  },
  {
   "cell_type": "code",
   "execution_count": 5,
   "id": "0ea49ba4",
   "metadata": {
    "vscode": {
     "languageId": "r"
    }
   },
   "outputs": [
    {
     "data": {
      "text/html": [
       "<style>\n",
       ".dl-inline {width: auto; margin:0; padding: 0}\n",
       ".dl-inline>dt, .dl-inline>dd {float: none; width: auto; display: inline-block}\n",
       ".dl-inline>dt::after {content: \":\\0020\"; padding-right: .5ex}\n",
       ".dl-inline>dt:not(:first-of-type) {padding-left: .5ex}\n",
       "</style><dl class=dl-inline><dt>(Intercept)</dt><dd>-1.05614789377265</dd><dt>price</dt><dd>-0.838363398058852</dd><dt>income</dt><dd>2.11689255068997</dd></dl>\n"
      ],
      "text/latex": [
       "\\begin{description*}\n",
       "\\item[(Intercept)] -1.05614789377265\n",
       "\\item[price] -0.838363398058852\n",
       "\\item[income] 2.11689255068997\n",
       "\\end{description*}\n"
      ],
      "text/markdown": [
       "(Intercept)\n",
       ":   -1.05614789377265price\n",
       ":   -0.838363398058852income\n",
       ":   2.11689255068997\n",
       "\n"
      ],
      "text/plain": [
       "(Intercept)       price      income \n",
       " -1.0561479  -0.8383634   2.1168926 "
      ]
     },
     "metadata": {},
     "output_type": "display_data"
    }
   ],
   "source": [
    "mod1$coefficients"
   ]
  },
  {
   "cell_type": "code",
   "execution_count": 6,
   "id": "5edfb75b",
   "metadata": {
    "vscode": {
     "languageId": "r"
    }
   },
   "outputs": [
    {
     "data": {
      "text/html": [
       "<strong>price:</strong> -0.838"
      ],
      "text/latex": [
       "\\textbf{price:} -0.838"
      ],
      "text/markdown": [
       "**price:** -0.838"
      ],
      "text/plain": [
       " price \n",
       "-0.838 "
      ]
     },
     "metadata": {},
     "output_type": "display_data"
    }
   ],
   "source": [
    "round(mod1$coefficients[2],3)"
   ]
  },
  {
   "cell_type": "markdown",
   "id": "49d3bc27",
   "metadata": {},
   "source": [
    "\n",
    "\n",
    "We can also find the standard error using *bootstrap*. In general terms, if $\\theta$ is the magnitude of interest (in our case, is $\\eta_{qp} =\\beta_1$) we need to perform the following steps:\n",
    "    \n",
    "  1. Take a sample of size $n$ with replacement ( *bootstrap sample*)\n",
    "  2. Compute $\\hat{\\theta}_j$ $j=1,\\dots,B$, here it would be  $\\eta_{qp} =\\beta_1$ \n",
    "  3. Repeat $B$ times\n",
    "  4. Calculate the standard error\n",
    "\n",
    "\n",
    "Let's implement the bootstrap in two ways: \"by hand\", and using the package `boot`."
   ]
  },
  {
   "cell_type": "markdown",
   "id": "a445a248",
   "metadata": {},
   "source": [
    "The first step is to tell `R`  a seed so results are reproducible and set the number of bootstrap samples $B$:"
   ]
  },
  {
   "cell_type": "code",
   "execution_count": 9,
   "id": "34bef623",
   "metadata": {
    "comment": "#R_CODE#NA",
    "lines_to_next_cell": 2,
    "vscode": {
     "languageId": "r"
    }
   },
   "outputs": [
    {
     "data": {
      "text/html": [
       "1000"
      ],
      "text/latex": [
       "1000"
      ],
      "text/markdown": [
       "1000"
      ],
      "text/plain": [
       "[1] 1000"
      ]
     },
     "metadata": {},
     "output_type": "display_data"
    }
   ],
   "source": [
    "set.seed(123)\n",
    "\n",
    "B<-1000 # Number of Repetions()\n",
    "\n",
    "eta_mod1<-rep(NA,B)#this is an empty vector where we are going to save our elasticity estimates\n",
    "length(eta_mod1)"
   ]
  },
  {
   "cell_type": "markdown",
   "id": "45ebba2a",
   "metadata": {},
   "source": [
    "Next, we have to create a loop that takes a sample of size $n$ with replacement, estimates the coefficient of interest, and saves it to the above empty vector."
   ]
  },
  {
   "cell_type": "code",
   "execution_count": 10,
   "id": "5611d6b6-52e4-4cca-a907-2dafaa1fcc1a",
   "metadata": {
    "vscode": {
     "languageId": "r"
    }
   },
   "outputs": [],
   "source": [
    "for(i in 1:B){\n",
    "        \n",
    "      db_sample<- sample_frac(gas,size=1,replace=TRUE) #takes a sample with replacement of the same size of the original sample (1 or 100%)\n",
    "        \n",
    "      f<-lm(consumption~price+income,db_sample)# estimates the models\n",
    "      \n",
    "      coefs<-f$coefficients[2] # gets the coefficient of interest that coincides with the elasticity of demand\n",
    "      \n",
    "      eta_mod1[i]<-coefs #saves it in the above vector\n",
    "    }"
   ]
  },
  {
   "cell_type": "markdown",
   "id": "f7bda527",
   "metadata": {},
   "source": [
    "We can check that we have B=1000 estimates of the elasticity of demand"
   ]
  },
  {
   "cell_type": "code",
   "execution_count": 11,
   "id": "fa83540b",
   "metadata": {
    "vscode": {
     "languageId": "r"
    }
   },
   "outputs": [
    {
     "data": {
      "text/html": [
       "1000"
      ],
      "text/latex": [
       "1000"
      ],
      "text/markdown": [
       "1000"
      ],
      "text/plain": [
       "[1] 1000"
      ]
     },
     "metadata": {},
     "output_type": "display_data"
    }
   ],
   "source": [
    "length(eta_mod1)"
   ]
  },
  {
   "cell_type": "markdown",
   "id": "2dc385ab",
   "metadata": {},
   "source": [
    "We can plot the sampling distribution of the estimated elasticity of demand"
   ]
  },
  {
   "cell_type": "code",
   "execution_count": 12,
   "id": "9de4f264",
   "metadata": {
    "vscode": {
     "languageId": "r"
    }
   },
   "outputs": [
    {
     "data": {
      "image/png": "[encoded data removed]",
      "text/plain": [
       "Plot with title “Histogram of eta_mod1”"
      ]
     },
     "metadata": {
      "image/png": {
       "height": 420,
       "width": 420
      }
     },
     "output_type": "display_data"
    }
   ],
   "source": [
    "plot(hist(eta_mod1))"
   ]
  },
  {
   "cell_type": "markdown",
   "id": "67afa91f",
   "metadata": {},
   "source": [
    "Obtain the mean"
   ]
  },
  {
   "cell_type": "code",
   "execution_count": 13,
   "id": "72ee5204",
   "metadata": {
    "lines_to_next_cell": 0,
    "vscode": {
     "languageId": "r"
    }
   },
   "outputs": [
    {
     "data": {
      "text/html": [
       "-0.837050051905209"
      ],
      "text/latex": [
       "-0.837050051905209"
      ],
      "text/markdown": [
       "-0.837050051905209"
      ],
      "text/plain": [
       "[1] -0.8370501"
      ]
     },
     "metadata": {},
     "output_type": "display_data"
    }
   ],
   "source": [
    "mean(eta_mod1)"
   ]
  },
  {
   "cell_type": "markdown",
   "id": "fd4fcb74",
   "metadata": {},
   "source": [
    "and finally, obtain the standard error"
   ]
  },
  {
   "cell_type": "code",
   "execution_count": 14,
   "id": "57d8574a",
   "metadata": {
    "lines_to_next_cell": 0,
    "vscode": {
     "languageId": "r"
    }
   },
   "outputs": [
    {
     "data": {
      "text/html": [
       "0.0314623431572168"
      ],
      "text/latex": [
       "0.0314623431572168"
      ],
      "text/markdown": [
       "0.0314623431572168"
      ],
      "text/plain": [
       "[1] 0.03146234"
      ]
     },
     "metadata": {},
     "output_type": "display_data"
    }
   ],
   "source": [
    "sqrt(var(eta_mod1))"
   ]
  },
  {
   "cell_type": "markdown",
   "id": "535ef031",
   "metadata": {},
   "source": [
    "We could also estimate any quantity, for example the 2.5%. and 97.5% percentiles"
   ]
  },
  {
   "cell_type": "code",
   "execution_count": 15,
   "id": "346bc981",
   "metadata": {
    "vscode": {
     "languageId": "r"
    }
   },
   "outputs": [
    {
     "data": {
      "text/html": [
       "<style>\n",
       ".dl-inline {width: auto; margin:0; padding: 0}\n",
       ".dl-inline>dt, .dl-inline>dd {float: none; width: auto; display: inline-block}\n",
       ".dl-inline>dt::after {content: \":\\0020\"; padding-right: .5ex}\n",
       ".dl-inline>dt:not(:first-of-type) {padding-left: .5ex}\n",
       "</style><dl class=dl-inline><dt>2.5%</dt><dd>-0.898895826563278</dd><dt>97.5%</dt><dd>-0.778381589206749</dd></dl>\n"
      ],
      "text/latex": [
       "\\begin{description*}\n",
       "\\item[2.5\\textbackslash{}\\%] -0.898895826563278\n",
       "\\item[97.5\\textbackslash{}\\%] -0.778381589206749\n",
       "\\end{description*}\n"
      ],
      "text/markdown": [
       "2.5%\n",
       ":   -0.89889582656327897.5%\n",
       ":   -0.778381589206749\n",
       "\n"
      ],
      "text/plain": [
       "      2.5%      97.5% \n",
       "-0.8988958 -0.7783816 "
      ]
     },
     "metadata": {},
     "output_type": "display_data"
    }
   ],
   "source": [
    "quantile(eta_mod1,c(0.025,0.975))"
   ]
  },
  {
   "cell_type": "markdown",
   "id": "b0e9d1ae",
   "metadata": {},
   "source": [
    "### Bootstrap with the boot package\n",
    "\n",
    "`R` as it is a heavily used software by statisticians and econometricians, it already includes a package that simplifies and speeds up obtaining standard errors using bootstrap"
   ]
  },
  {
   "cell_type": "code",
   "execution_count": 16,
   "id": "cdd06d54",
   "metadata": {
    "vscode": {
     "languageId": "r"
    }
   },
   "outputs": [],
   "source": [
    "p_load(\"boot\")"
   ]
  },
  {
   "cell_type": "markdown",
   "id": "454cdcf9",
   "metadata": {},
   "source": [
    "This package contains the function `boot` that takes 3 arguments: "
   ]
  },
  {
   "cell_type": "markdown",
   "id": "718bc502",
   "metadata": {},
   "source": [
    "`boot(data, statistic, R)`"
   ]
  },
  {
   "cell_type": "markdown",
   "id": "61b62b1a",
   "metadata": {},
   "source": [
    "the data set, a function which, when applied to data, returns a vector containing the statistic(s) of interest, and the number of desired bootstrap replicates. The first and the third arguments are straightforward. The second, however, needs more explanation\n",
    "\n",
    "\n",
    "\n",
    "The `boot` function requires a second argument which is a function. This function needs at least two arguments, a data set and an index, which tells `R` which points it should use for its estimation. The indexing strategy speeds up the computation of the bootstrap samples.\n",
    "\n",
    "With that, we can tell the function what to return. In this case, we care about the second coefficient of the linear regression:  `consumption~price+income` "
   ]
  },
  {
   "cell_type": "code",
   "execution_count": 19,
   "id": "05558242",
   "metadata": {
    "vscode": {
     "languageId": "r"
    }
   },
   "outputs": [],
   "source": [
    "eta_fn<-function(data,index){\n",
    "  \n",
    "  coef(lm(consumption~price+income, data = data, subset = index))[2] #returns the second coefficient of the linear regression\n",
    "}"
   ]
  },
  {
   "cell_type": "markdown",
   "id": "2cf6500f",
   "metadata": {},
   "source": [
    "Let's check that it works. We give the function our `gas` data and tell it to use all the observations from 1 to the last row:\n"
   ]
  },
  {
   "cell_type": "code",
   "execution_count": 20,
   "id": "5950073e",
   "metadata": {
    "vscode": {
     "languageId": "r"
    }
   },
   "outputs": [
    {
     "data": {
      "text/html": [
       "<strong>price:</strong> -0.838363398058852"
      ],
      "text/latex": [
       "\\textbf{price:} -0.838363398058852"
      ],
      "text/markdown": [
       "**price:** -0.838363398058852"
      ],
      "text/plain": [
       "     price \n",
       "-0.8383634 "
      ]
     },
     "metadata": {},
     "output_type": "display_data"
    }
   ],
   "source": [
    "eta_fn(gas,1:nrow(gas))"
   ]
  },
  {
   "cell_type": "markdown",
   "id": "e5524b55",
   "metadata": {},
   "source": [
    "We get the same coefficient shown in our results table. So we know that the function is working. With that, we can estimate the standard error using the `boot` function:"
   ]
  },
  {
   "cell_type": "code",
   "execution_count": 21,
   "id": "c8fc91ec",
   "metadata": {
    "vscode": {
     "languageId": "r"
    }
   },
   "outputs": [
    {
     "data": {
      "text/plain": [
       "\n",
       "ORDINARY NONPARAMETRIC BOOTSTRAP\n",
       "\n",
       "\n",
       "Call:\n",
       "boot(data = gas, statistic = eta_fn, R = 1000)\n",
       "\n",
       "\n",
       "Bootstrap Statistics :\n",
       "      original      bias    std. error\n",
       "t1* -0.8383634 0.001689902  0.03281214"
      ]
     },
     "metadata": {},
     "output_type": "display_data"
    }
   ],
   "source": [
    "set.seed(123)\n",
    "#call the boot function\n",
    "boot(gas, eta_fn, R = 1000)"
   ]
  },
  {
   "cell_type": "markdown",
   "id": "b790917b",
   "metadata": {},
   "source": [
    "We get similar results from our estimates by hand. The small differences are given by the sampling strategy implemented by `boot` which is more efficient than the one implemented by us.\n",
    "\n",
    "Note also that the estimates obtained by bootstrapping differ from those returned by `lm.` **Why?**"
   ]
  },
  {
   "cell_type": "markdown",
   "id": "0f5997ef-66f3-40e3-a651-dd4e5d7d3085",
   "metadata": {},
   "source": [
    "\n",
    "\n",
    "\n",
    "\n",
    "\n"
   ]
  },
  {
   "cell_type": "markdown",
   "id": "23770a17-2bf4-4da7-a3c1-ba7189b522cb",
   "metadata": {},
   "source": [
    "## Case 2"
   ]
  },
  {
   "cell_type": "markdown",
   "id": "0ed225fc-c670-45d1-a240-fc39d66675d4",
   "metadata": {},
   "source": [
    "\n",
    "The previous case was not particularly useful since the specification resulted in the elasticity of demand coinciding with a coefficient, and `R` outputs standard errors automatically. However, the power of the bootstrap lies in the fact that it can be easily applied to a wide range of statistical learning methods, including some for which a measure of variability is otherwise challenging to obtain and is not automatically output by statistical software.\n",
    "\n",
    "For example, let's suppose that the model is now the following\n",
    "\n",
    "$$\\ln{Quantity}_{t}= \\beta_0 + \\beta_1 \\ln{Price}_{t}  + \\beta_2 \\ln{Price}^2_{t} +\\beta_3 \\ln{Income}_{t}+ \\beta_4 \\ln{Price}_{t}\\times \\ln{Income}_{t} +u_{t}$$\n",
    "\n",
    "given this specification, the elasticity of demand implied by this model is:\n",
    "\n",
    "\n",
    "$$\n",
    "\\eta_{qp} =\\beta_1 + 2*\\beta_2 \\ln{Price} + \\beta_4  \\ln{Income}_{t}\n",
    "$$\n",
    "Then the elasticity is the combination of 3 coefficients. Thus the uncertainty associated with this quantity should account for the uncertainty coming from all of them.\n",
    "\n",
    "\n",
    "Let's then estimate the model and calculate the elasticity of demand. First, we need  to generate the quadratic and interaction terms: "
   ]
  },
  {
   "cell_type": "code",
   "execution_count": 22,
   "id": "4f119160",
   "metadata": {
    "comment": "#R_CODE#NA",
    "message": false,
    "vscode": {
     "languageId": "r"
    },
    "warning": false
   },
   "outputs": [],
   "source": [
    "gas<- gas %>% mutate(price2=price^2, \n",
    "                     price_income=price*income )"
   ]
  },
  {
   "cell_type": "code",
   "execution_count": 23,
   "id": "4aa7f61b",
   "metadata": {
    "vscode": {
     "languageId": "r"
    }
   },
   "outputs": [
    {
     "data": {
      "text/html": [
       "<table class=\"dataframe\">\n",
       "<caption>A data.frame: 6 × 5</caption>\n",
       "<thead>\n",
       "\t<tr><th></th><th scope=col>consumption</th><th scope=col>price</th><th scope=col>income</th><th scope=col>price2</th><th scope=col>price_income</th></tr>\n",
       "\t<tr><th></th><th scope=col>&lt;dbl&gt;</th><th scope=col>&lt;dbl&gt;</th><th scope=col>&lt;dbl&gt;</th><th scope=col>&lt;dbl&gt;</th><th scope=col>&lt;dbl&gt;</th></tr>\n",
       "</thead>\n",
       "<tbody>\n",
       "\t<tr><th scope=row>1</th><td>5.090526</td><td>-1.602419</td><td>2.342972</td><td>2.567746</td><td>-3.754423</td></tr>\n",
       "\t<tr><th scope=row>2</th><td>5.092324</td><td>-1.572913</td><td>2.317068</td><td>2.474054</td><td>-3.644545</td></tr>\n",
       "\t<tr><th scope=row>3</th><td>5.093950</td><td>-1.547504</td><td>2.340076</td><td>2.394769</td><td>-3.621277</td></tr>\n",
       "\t<tr><th scope=row>4</th><td>5.067488</td><td>-1.505120</td><td>2.323478</td><td>2.265387</td><td>-3.497114</td></tr>\n",
       "\t<tr><th scope=row>5</th><td>5.049762</td><td>-1.456725</td><td>2.335196</td><td>2.122048</td><td>-3.401739</td></tr>\n",
       "\t<tr><th scope=row>6</th><td>5.049566</td><td>-1.438641</td><td>2.364967</td><td>2.069689</td><td>-3.402340</td></tr>\n",
       "</tbody>\n",
       "</table>\n"
      ],
      "text/latex": [
       "A data.frame: 6 × 5\n",
       "\\begin{tabular}{r|lllll}\n",
       "  & consumption & price & income & price2 & price\\_income\\\\\n",
       "  & <dbl> & <dbl> & <dbl> & <dbl> & <dbl>\\\\\n",
       "\\hline\n",
       "\t1 & 5.090526 & -1.602419 & 2.342972 & 2.567746 & -3.754423\\\\\n",
       "\t2 & 5.092324 & -1.572913 & 2.317068 & 2.474054 & -3.644545\\\\\n",
       "\t3 & 5.093950 & -1.547504 & 2.340076 & 2.394769 & -3.621277\\\\\n",
       "\t4 & 5.067488 & -1.505120 & 2.323478 & 2.265387 & -3.497114\\\\\n",
       "\t5 & 5.049762 & -1.456725 & 2.335196 & 2.122048 & -3.401739\\\\\n",
       "\t6 & 5.049566 & -1.438641 & 2.364967 & 2.069689 & -3.402340\\\\\n",
       "\\end{tabular}\n"
      ],
      "text/markdown": [
       "\n",
       "A data.frame: 6 × 5\n",
       "\n",
       "| <!--/--> | consumption &lt;dbl&gt; | price &lt;dbl&gt; | income &lt;dbl&gt; | price2 &lt;dbl&gt; | price_income &lt;dbl&gt; |\n",
       "|---|---|---|---|---|---|\n",
       "| 1 | 5.090526 | -1.602419 | 2.342972 | 2.567746 | -3.754423 |\n",
       "| 2 | 5.092324 | -1.572913 | 2.317068 | 2.474054 | -3.644545 |\n",
       "| 3 | 5.093950 | -1.547504 | 2.340076 | 2.394769 | -3.621277 |\n",
       "| 4 | 5.067488 | -1.505120 | 2.323478 | 2.265387 | -3.497114 |\n",
       "| 5 | 5.049762 | -1.456725 | 2.335196 | 2.122048 | -3.401739 |\n",
       "| 6 | 5.049566 | -1.438641 | 2.364967 | 2.069689 | -3.402340 |\n",
       "\n"
      ],
      "text/plain": [
       "  consumption price     income   price2   price_income\n",
       "1 5.090526    -1.602419 2.342972 2.567746 -3.754423   \n",
       "2 5.092324    -1.572913 2.317068 2.474054 -3.644545   \n",
       "3 5.093950    -1.547504 2.340076 2.394769 -3.621277   \n",
       "4 5.067488    -1.505120 2.323478 2.265387 -3.497114   \n",
       "5 5.049762    -1.456725 2.335196 2.122048 -3.401739   \n",
       "6 5.049566    -1.438641 2.364967 2.069689 -3.402340   "
      ]
     },
     "metadata": {},
     "output_type": "display_data"
    }
   ],
   "source": [
    "head(gas)"
   ]
  },
  {
   "cell_type": "markdown",
   "id": "a3497800-b41f-444c-bfc7-5e55ec3cebe1",
   "metadata": {
    "lines_to_next_cell": 0
   },
   "source": [
    "then regress: "
   ]
  },
  {
   "cell_type": "code",
   "execution_count": 24,
   "id": "068309e2",
   "metadata": {
    "comment": "#R_CODE#NA",
    "vscode": {
     "languageId": "r"
    }
   },
   "outputs": [
    {
     "name": "stdout",
     "output_type": "stream",
     "text": [
      "\n",
      "=========================================================================\n",
      "                                     Dependent variable:                 \n",
      "                    -----------------------------------------------------\n",
      "                                         consumption                     \n",
      "                               (1)                        (2)            \n",
      "-------------------------------------------------------------------------\n",
      "price                       -0.838***                  -1.783***         \n",
      "                             (0.025)                    (0.141)          \n",
      "                                                                         \n",
      "price2                                                 -0.299***         \n",
      "                                                        (0.021)          \n",
      "                                                                         \n",
      "income                       2.117***                   1.973***         \n",
      "                             (0.048)                    (0.041)          \n",
      "                                                                         \n",
      "price_income                                            0.279***         \n",
      "                                                        (0.040)          \n",
      "                                                                         \n",
      "Constant                    -1.056***                  -0.508***         \n",
      "                             (0.158)                    (0.135)          \n",
      "                                                                         \n",
      "-------------------------------------------------------------------------\n",
      "Observations                   246                        246            \n",
      "R2                            0.917                      0.970           \n",
      "Adjusted R2                   0.917                      0.969           \n",
      "Residual Std. Error      0.093 (df = 243)           0.057 (df = 241)     \n",
      "F Statistic         1,345.711*** (df = 2; 243) 1,929.821*** (df = 4; 241)\n",
      "=========================================================================\n",
      "Note:                                         *p<0.1; **p<0.05; ***p<0.01\n"
     ]
    }
   ],
   "source": [
    "mod2<-lm(consumption~price+price2+income+price_income,gas)\n",
    "stargazer(mod1,mod2,type=\"text\")"
   ]
  },
  {
   "cell_type": "markdown",
   "id": "af6aa83e-3951-4fe3-92b2-22cef527bfc2",
   "metadata": {
    "lines_to_next_cell": 0
   },
   "source": [
    " To do that you will need to: \n",
    " \n",
    "i) Obtain the coefficients of regression: "
   ]
  },
  {
   "cell_type": "code",
   "execution_count": 25,
   "id": "0a826515",
   "metadata": {
    "comment": "#R_CODE#NA",
    "lines_to_next_cell": 2,
    "vscode": {
     "languageId": "r"
    }
   },
   "outputs": [
    {
     "data": {
      "text/html": [
       "<style>\n",
       ".dl-inline {width: auto; margin:0; padding: 0}\n",
       ".dl-inline>dt, .dl-inline>dd {float: none; width: auto; display: inline-block}\n",
       ".dl-inline>dt::after {content: \":\\0020\"; padding-right: .5ex}\n",
       ".dl-inline>dt:not(:first-of-type) {padding-left: .5ex}\n",
       "</style><dl class=dl-inline><dt>(Intercept)</dt><dd>-0.508199518204342</dd><dt>price</dt><dd>-1.78254172471626</dd><dt>price2</dt><dd>-0.298680093122025</dd><dt>income</dt><dd>1.97343538378107</dd><dt>price_income</dt><dd>0.278896444449037</dd></dl>\n"
      ],
      "text/latex": [
       "\\begin{description*}\n",
       "\\item[(Intercept)] -0.508199518204342\n",
       "\\item[price] -1.78254172471626\n",
       "\\item[price2] -0.298680093122025\n",
       "\\item[income] 1.97343538378107\n",
       "\\item[price\\textbackslash{}\\_income] 0.278896444449037\n",
       "\\end{description*}\n"
      ],
      "text/markdown": [
       "(Intercept)\n",
       ":   -0.508199518204342price\n",
       ":   -1.78254172471626price2\n",
       ":   -0.298680093122025income\n",
       ":   1.97343538378107price_income\n",
       ":   0.278896444449037\n",
       "\n"
      ],
      "text/plain": [
       " (Intercept)        price       price2       income price_income \n",
       "  -0.5081995   -1.7825417   -0.2986801    1.9734354    0.2788964 "
      ]
     },
     "metadata": {},
     "output_type": "display_data"
    }
   ],
   "source": [
    "coefs<-mod2$coef\n",
    "coefs "
   ]
  },
  {
   "cell_type": "markdown",
   "id": "b06b6fa1-6aff-4e51-8b69-8a70ec3080d7",
   "metadata": {},
   "source": [
    "ii) Extract the coefficients to scalars: "
   ]
  },
  {
   "cell_type": "code",
   "execution_count": 26,
   "id": "8fe88f03",
   "metadata": {
    "comment": "#R_CODE#NA",
    "vscode": {
     "languageId": "r"
    }
   },
   "outputs": [],
   "source": [
    "    b0<-coefs[1] \n",
    "    b1<-coefs[2]\n",
    "    b2<-coefs[3] \n",
    "    b3<-coefs[4]\n",
    "    b4<-coefs[5] "
   ]
  },
  {
   "cell_type": "markdown",
   "id": "37c019f7-6c6d-4586-b9f4-f8a16cd53d51",
   "metadata": {},
   "source": [
    "iii) We need a value at which to estimate the elasticity since it depends on price and income ($\\eta_{qp} =\\beta_1 + 2\\beta_2 \\ln{Price} + \\beta_4  \\ln{Income}_{t}$). Here we are going to choose the sample mean, but you can do it at any point:"
   ]
  },
  {
   "cell_type": "code",
   "execution_count": 27,
   "id": "cda5b326",
   "metadata": {
    "comment": "#R_CODE#NA",
    "lines_to_next_cell": 2,
    "vscode": {
     "languageId": "r"
    }
   },
   "outputs": [
    {
     "data": {
      "text/html": [
       "<strong>price:</strong> -0.671776960873487"
      ],
      "text/latex": [
       "\\textbf{price:} -0.671776960873487"
      ],
      "text/markdown": [
       "**price:** -0.671776960873487"
      ],
      "text/plain": [
       "    price \n",
       "-0.671777 "
      ]
     },
     "metadata": {},
     "output_type": "display_data"
    }
   ],
   "source": [
    "price_bar<-mean(gas$price)\n",
    "income_bar<-mean(gas$income)\n",
    "\n",
    "\n",
    "elastpt<-b1+2*b2*price_bar+b4*income_bar\n",
    "    \n",
    "elastpt"
   ]
  },
  {
   "cell_type": "markdown",
   "id": "21824522-2496-452e-b5ef-0b0cbe23ce64",
   "metadata": {},
   "source": [
    "Note that the elasticity of demand implied by the second model is smaller than the previous one. Next, we need to calculate the standard errors to characterize this demand's uncertainty. \n",
    "\n",
    "Let's turn to the boot package and construct the function that will return the elasticity of interest.\n"
   ]
  },
  {
   "cell_type": "code",
   "execution_count": 28,
   "id": "2018ed5f",
   "metadata": {
    "comment": "#R_CODE#NA",
    "vscode": {
     "languageId": "r"
    }
   },
   "outputs": [],
   "source": [
    "\n",
    "eta_mod2_fn<-function(data,index,\n",
    "                      price_bar=mean(gas$price),\n",
    "                      income_bar=mean(gas$income)){\n",
    "      \n",
    "      f<-lm(consumption~price+price2+income+price_income,data, subset = index)\n",
    "      \n",
    "      coefs<-f$coefficients\n",
    "        \n",
    "        b1<-coefs[2]\n",
    "        b2<-coefs[3] \n",
    "        b4<-coefs[5] \n",
    "    \n",
    "      elastpt<-b1+2*b2*price_bar+b4*income_bar\n",
    "    \n",
    "    \n",
    "      return(elastpt)\n",
    "    }\n",
    "\n",
    "\n",
    "  "
   ]
  },
  {
   "cell_type": "markdown",
   "id": "506c866d",
   "metadata": {},
   "source": [
    "The function is similar to the first case. Still, we have added two arguments; the points where we want the elasticity to be evaluated, in this case, the sample means. Let's check that it works"
   ]
  },
  {
   "cell_type": "code",
   "execution_count": 29,
   "id": "262a6f51",
   "metadata": {
    "vscode": {
     "languageId": "r"
    }
   },
   "outputs": [
    {
     "data": {
      "text/html": [
       "<strong>price:</strong> -0.671776960873487"
      ],
      "text/latex": [
       "\\textbf{price:} -0.671776960873487"
      ],
      "text/markdown": [
       "**price:** -0.671776960873487"
      ],
      "text/plain": [
       "    price \n",
       "-0.671777 "
      ]
     },
     "metadata": {},
     "output_type": "display_data"
    }
   ],
   "source": [
    "eta_mod2_fn(gas,1:nrow(gas))"
   ]
  },
  {
   "cell_type": "markdown",
   "id": "4b2a68e1",
   "metadata": {},
   "source": [
    "We get the same result as above. Let's evaluate it at different points of the distribution of price and income:\n"
   ]
  },
  {
   "cell_type": "code",
   "execution_count": 30,
   "id": "e506e66b",
   "metadata": {
    "vscode": {
     "languageId": "r"
    }
   },
   "outputs": [
    {
     "data": {
      "text/html": [
       "<strong>price:</strong> -0.627388649574139"
      ],
      "text/latex": [
       "\\textbf{price:} -0.627388649574139"
      ],
      "text/markdown": [
       "**price:** -0.627388649574139"
      ],
      "text/plain": [
       "     price \n",
       "-0.6273886 "
      ]
     },
     "metadata": {},
     "output_type": "display_data"
    }
   ],
   "source": [
    "eta_mod2_fn(gas,1:nrow(gas),price_bar=-1,income_bar=2)  "
   ]
  },
  {
   "cell_type": "markdown",
   "id": "5e4026ab",
   "metadata": {},
   "source": [
    "With our function working, we can run `boot` and obtain the standard error for our elasticity:"
   ]
  },
  {
   "cell_type": "code",
   "execution_count": 31,
   "id": "1454e6da",
   "metadata": {
    "lines_to_next_cell": 0,
    "tags": [],
    "vscode": {
     "languageId": "r"
    }
   },
   "outputs": [
    {
     "data": {
      "text/plain": [
       "\n",
       "ORDINARY NONPARAMETRIC BOOTSTRAP\n",
       "\n",
       "\n",
       "Call:\n",
       "boot(data = gas, statistic = eta_mod2_fn, R = 1000)\n",
       "\n",
       "\n",
       "Bootstrap Statistics :\n",
       "     original       bias    std. error\n",
       "t1* -0.671777 0.0001012075   0.0151973"
      ]
     },
     "metadata": {},
     "output_type": "display_data"
    }
   ],
   "source": [
    "#función boot requires, data (gas), \n",
    "#requires a statistic\n",
    "# requires number of replications\n",
    "results <- boot(data=gas, eta_mod2_fn,R=1000)\n",
    "results"
   ]
  },
  {
   "cell_type": "code",
   "execution_count": null,
   "id": "1dade958",
   "metadata": {},
   "outputs": [],
   "source": []
  }
 ],
 "metadata": {
  "jupytext": {
   "formats": "ipynb,Rmd"
  },
  "kernelspec": {
   "display_name": "R",
   "language": "R",
   "name": "ir"
  },
  "language_info": {
   "codemirror_mode": "r",
   "file_extension": ".r",
   "mimetype": "text/x-r-source",
   "name": "R",
   "pygments_lexer": "r",
   "version": "4.3.0"
  },
  "toc": {
   "base_numbering": 1,
   "nav_menu": {},
   "number_sections": true,
   "sideBar": true,
   "skip_h1_title": false,
   "title_cell": "Table of Contents",
   "title_sidebar": "Contents",
   "toc_cell": false,
   "toc_position": {},
   "toc_section_display": true,
   "toc_window_display": false
  }
 },
 "nbformat": 4,
 "nbformat_minor": 5
}
