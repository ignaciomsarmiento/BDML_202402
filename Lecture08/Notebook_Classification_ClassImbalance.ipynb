{
 "cells": [
  {
   "cell_type": "markdown",
   "id": "340f63f6-93da-4633-9f43-43927ea8d65c",
   "metadata": {},
   "source": [
    "<div >\n",
    "<img src = \"../banner.jpg\" />\n",
    "</div>"
   ]
  },
  {
   "cell_type": "markdown",
   "id": "b3cafccb-de4c-470e-a186-086fb3b003fe",
   "metadata": {},
   "source": [
    "<a target=\"_blank\" href=\"https://colab.research.google.com/github/ignaciomsarmiento/BDML_202402/blob/main/Lecture08/Notebook_Classification_ClassImbalance.ipynb\">\n",
    "  <img src=\"https://colab.research.google.com/assets/colab-badge.svg\" alt=\"Open In Colab\"/>\n",
    "</a>\n",
    "\n"
   ]
  },
  {
   "cell_type": "markdown",
   "id": "d8e20450",
   "metadata": {},
   "source": [
    "# Classification"
   ]
  },
  {
   "cell_type": "markdown",
   "id": "a5c24b15",
   "metadata": {},
   "source": [
    "To work through the steps of probability-based classification, we’ll use a real dataset on unemployment from the Argentine Permanent Household Survey (EPH). This dataset includes socio-economic and demographic variables that allow us to predict whether a person is unemployed or not.\n",
    "\n",
    "Unemployment prediction is a classic problem of classification and remains one of the key application areas for machine learning: we use previous employment results (employed versus unemployed) to train a model that can predict the employment status of individuals in new cases.\n",
    "\n",
    "\\begin{align}\n",
    "Unemployment = f(x) + u\n",
    "\\end{align}\n",
    "\n",
    "where $Unemployment = I(Unemployment=1)$\n"
   ]
  },
  {
   "cell_type": "code",
   "execution_count": 1,
   "id": "6fd78316-f5f0-4b38-86d5-a91cebea8523",
   "metadata": {
    "vscode": {
     "languageId": "r"
    }
   },
   "outputs": [],
   "source": [
    "# install.packages(\"pacman\") #run this line if you use Google Colab"
   ]
  },
  {
   "cell_type": "code",
   "execution_count": 2,
   "id": "592ee382",
   "metadata": {
    "vscode": {
     "languageId": "r"
    }
   },
   "outputs": [
    {
     "name": "stderr",
     "output_type": "stream",
     "text": [
      "Loading required package: pacman\n",
      "\n"
     ]
    }
   ],
   "source": [
    "#Cargar librerías \n",
    "require(\"pacman\")\n",
    "p_load(\"tidyverse\", \"caret\", \"glmnet\",\"MLeval\",\"MLmetrics\")\n",
    "set.seed(1011)"
   ]
  },
  {
   "cell_type": "code",
   "execution_count": 3,
   "id": "8795384b",
   "metadata": {
    "vscode": {
     "languageId": "r"
    }
   },
   "outputs": [
    {
     "data": {
      "text/html": [
       "<table class=\"dataframe\">\n",
       "<caption>A tibble: 6 × 13</caption>\n",
       "<thead>\n",
       "\t<tr><th scope=col>desempleado</th><th scope=col>edad</th><th scope=col>mujer</th><th scope=col>parentesco</th><th scope=col>nivel_ed</th><th scope=col>estado_civil</th><th scope=col>total_miembros_hogar</th><th scope=col>miembros_hogar_menores10</th><th scope=col>ing_tot_fam</th><th scope=col>tipo_vivienda</th><th scope=col>ciudad</th><th scope=col>trimestre</th><th scope=col>id_hogar</th></tr>\n",
       "\t<tr><th scope=col>&lt;dbl&gt;</th><th scope=col>&lt;dbl&gt;</th><th scope=col>&lt;dbl&gt;</th><th scope=col>&lt;fct&gt;</th><th scope=col>&lt;fct&gt;</th><th scope=col>&lt;fct&gt;</th><th scope=col>&lt;dbl&gt;</th><th scope=col>&lt;dbl&gt;</th><th scope=col>&lt;dbl&gt;</th><th scope=col>&lt;fct&gt;</th><th scope=col>&lt;fct&gt;</th><th scope=col>&lt;dbl&gt;</th><th scope=col>&lt;chr&gt;</th></tr>\n",
       "</thead>\n",
       "<tbody>\n",
       "\t<tr><td>0</td><td>31</td><td>0</td><td>Jefe/a        </td><td>Superior Universitaria Incompleta</td><td>Unido/a </td><td>3</td><td>1</td><td>8400</td><td>Casa</td><td>Partidos del GBA</td><td>1</td><td>  1251051</td></tr>\n",
       "\t<tr><td>0</td><td>33</td><td>1</td><td>Conyuge/Pareja</td><td>Superior Universitaria Completa  </td><td>Unido/a </td><td>3</td><td>1</td><td>8400</td><td>Casa</td><td>Partidos del GBA</td><td>1</td><td>  1251051</td></tr>\n",
       "\t<tr><td>0</td><td>48</td><td>0</td><td>Jefe/a        </td><td>Primaria Completa                </td><td>Casado/a</td><td>3</td><td>0</td><td>3150</td><td>Casa</td><td>Partidos del GBA</td><td>1</td><td>  1251801</td></tr>\n",
       "\t<tr><td>0</td><td>46</td><td>1</td><td>Conyuge/Pareja</td><td>Secundaria Incompleta            </td><td>Casado/a</td><td>3</td><td>0</td><td>3150</td><td>Casa</td><td>Partidos del GBA</td><td>1</td><td>  1251801</td></tr>\n",
       "\t<tr><td>0</td><td>63</td><td>0</td><td>Jefe/a        </td><td>Superior Universitaria Incompleta</td><td>Casado/a</td><td>2</td><td>0</td><td>3550</td><td>Casa</td><td>Partidos del GBA</td><td>1</td><td>  1253471</td></tr>\n",
       "\t<tr><td>0</td><td>50</td><td>0</td><td>Jefe/a        </td><td>Superior Universitaria Completa  </td><td>Casado/a</td><td>3</td><td>0</td><td>3500</td><td>Casa</td><td>Partidos del GBA</td><td>1</td><td>  1254331</td></tr>\n",
       "</tbody>\n",
       "</table>\n"
      ],
      "text/latex": [
       "A tibble: 6 × 13\n",
       "\\begin{tabular}{lllllllllllll}\n",
       " desempleado & edad & mujer & parentesco & nivel\\_ed & estado\\_civil & total\\_miembros\\_hogar & miembros\\_hogar\\_menores10 & ing\\_tot\\_fam & tipo\\_vivienda & ciudad & trimestre & id\\_hogar\\\\\n",
       " <dbl> & <dbl> & <dbl> & <fct> & <fct> & <fct> & <dbl> & <dbl> & <dbl> & <fct> & <fct> & <dbl> & <chr>\\\\\n",
       "\\hline\n",
       "\t 0 & 31 & 0 & Jefe/a         & Superior Universitaria Incompleta & Unido/a  & 3 & 1 & 8400 & Casa & Partidos del GBA & 1 &   1251051\\\\\n",
       "\t 0 & 33 & 1 & Conyuge/Pareja & Superior Universitaria Completa   & Unido/a  & 3 & 1 & 8400 & Casa & Partidos del GBA & 1 &   1251051\\\\\n",
       "\t 0 & 48 & 0 & Jefe/a         & Primaria Completa                 & Casado/a & 3 & 0 & 3150 & Casa & Partidos del GBA & 1 &   1251801\\\\\n",
       "\t 0 & 46 & 1 & Conyuge/Pareja & Secundaria Incompleta             & Casado/a & 3 & 0 & 3150 & Casa & Partidos del GBA & 1 &   1251801\\\\\n",
       "\t 0 & 63 & 0 & Jefe/a         & Superior Universitaria Incompleta & Casado/a & 2 & 0 & 3550 & Casa & Partidos del GBA & 1 &   1253471\\\\\n",
       "\t 0 & 50 & 0 & Jefe/a         & Superior Universitaria Completa   & Casado/a & 3 & 0 & 3500 & Casa & Partidos del GBA & 1 &   1254331\\\\\n",
       "\\end{tabular}\n"
      ],
      "text/markdown": [
       "\n",
       "A tibble: 6 × 13\n",
       "\n",
       "| desempleado &lt;dbl&gt; | edad &lt;dbl&gt; | mujer &lt;dbl&gt; | parentesco &lt;fct&gt; | nivel_ed &lt;fct&gt; | estado_civil &lt;fct&gt; | total_miembros_hogar &lt;dbl&gt; | miembros_hogar_menores10 &lt;dbl&gt; | ing_tot_fam &lt;dbl&gt; | tipo_vivienda &lt;fct&gt; | ciudad &lt;fct&gt; | trimestre &lt;dbl&gt; | id_hogar &lt;chr&gt; |\n",
       "|---|---|---|---|---|---|---|---|---|---|---|---|---|\n",
       "| 0 | 31 | 0 | Jefe/a         | Superior Universitaria Incompleta | Unido/a  | 3 | 1 | 8400 | Casa | Partidos del GBA | 1 |   1251051 |\n",
       "| 0 | 33 | 1 | Conyuge/Pareja | Superior Universitaria Completa   | Unido/a  | 3 | 1 | 8400 | Casa | Partidos del GBA | 1 |   1251051 |\n",
       "| 0 | 48 | 0 | Jefe/a         | Primaria Completa                 | Casado/a | 3 | 0 | 3150 | Casa | Partidos del GBA | 1 |   1251801 |\n",
       "| 0 | 46 | 1 | Conyuge/Pareja | Secundaria Incompleta             | Casado/a | 3 | 0 | 3150 | Casa | Partidos del GBA | 1 |   1251801 |\n",
       "| 0 | 63 | 0 | Jefe/a         | Superior Universitaria Incompleta | Casado/a | 2 | 0 | 3550 | Casa | Partidos del GBA | 1 |   1253471 |\n",
       "| 0 | 50 | 0 | Jefe/a         | Superior Universitaria Completa   | Casado/a | 3 | 0 | 3500 | Casa | Partidos del GBA | 1 |   1254331 |\n",
       "\n"
      ],
      "text/plain": [
       "  desempleado edad mujer parentesco     nivel_ed                         \n",
       "1 0           31   0     Jefe/a         Superior Universitaria Incompleta\n",
       "2 0           33   1     Conyuge/Pareja Superior Universitaria Completa  \n",
       "3 0           48   0     Jefe/a         Primaria Completa                \n",
       "4 0           46   1     Conyuge/Pareja Secundaria Incompleta            \n",
       "5 0           63   0     Jefe/a         Superior Universitaria Incompleta\n",
       "6 0           50   0     Jefe/a         Superior Universitaria Completa  \n",
       "  estado_civil total_miembros_hogar miembros_hogar_menores10 ing_tot_fam\n",
       "1 Unido/a      3                    1                        8400       \n",
       "2 Unido/a      3                    1                        8400       \n",
       "3 Casado/a     3                    0                        3150       \n",
       "4 Casado/a     3                    0                        3150       \n",
       "5 Casado/a     2                    0                        3550       \n",
       "6 Casado/a     3                    0                        3500       \n",
       "  tipo_vivienda ciudad           trimestre id_hogar \n",
       "1 Casa          Partidos del GBA 1           1251051\n",
       "2 Casa          Partidos del GBA 1           1251051\n",
       "3 Casa          Partidos del GBA 1           1251801\n",
       "4 Casa          Partidos del GBA 1           1251801\n",
       "5 Casa          Partidos del GBA 1           1253471\n",
       "6 Casa          Partidos del GBA 1           1254331"
      ]
     },
     "metadata": {},
     "output_type": "display_data"
    }
   ],
   "source": [
    "#Leer los datos \n",
    "db <- readRDS(url(\"https://github.com/ignaciomsarmiento/datasets/blob/main/desempelo_arg_2010.Rds?raw=true\"))\n",
    "db <- db %>% filter(ciudad%in%c(\"Partidos del GBA\", \"Ciudad de Buenos Aires\"))\n",
    "head(db)"
   ]
  },
  {
   "cell_type": "code",
   "execution_count": 4,
   "id": "4c80315b-d87d-4c38-8291-43bc74fd833f",
   "metadata": {
    "vscode": {
     "languageId": "r"
    }
   },
   "outputs": [
    {
     "data": {
      "text/plain": [
       "\n",
       "Primaria Incompleta (incluye educación especial) \n",
       "                                             510 \n",
       "                               Primaria Completa \n",
       "                                            2203 \n",
       "                           Secundaria Incompleta \n",
       "                                            2053 \n",
       "                             Secundaria Completa \n",
       "                                            2985 \n",
       "               Superior Universitaria Incompleta \n",
       "                                            1816 \n",
       "                 Superior Universitaria Completa \n",
       "                                            2460 \n",
       "                                 Sin instrucción \n",
       "                                              27 \n",
       "                                         Ns./Nr. \n",
       "                                               0 "
      ]
     },
     "metadata": {},
     "output_type": "display_data"
    }
   ],
   "source": [
    "table(db$nivel_ed)"
   ]
  },
  {
   "cell_type": "code",
   "execution_count": 5,
   "id": "f305c440-a428-4af3-9ffc-b3ccb8ddeb06",
   "metadata": {
    "vscode": {
     "languageId": "r"
    }
   },
   "outputs": [
    {
     "data": {
      "text/plain": [
       "\n",
       "Primaria Incompleta (incluye educación especial) \n",
       "                                             510 \n",
       "                               Primaria Completa \n",
       "                                            2203 \n",
       "                           Secundaria Incompleta \n",
       "                                            2053 \n",
       "                             Secundaria Completa \n",
       "                                            2985 \n",
       "               Superior Universitaria Incompleta \n",
       "                                            1816 \n",
       "                 Superior Universitaria Completa \n",
       "                                            2460 \n",
       "                                 Sin instrucción \n",
       "                                              27 "
      ]
     },
     "metadata": {},
     "output_type": "display_data"
    }
   ],
   "source": [
    "#db <- db %>% filter(nivel_ed!=\"Ns./Nr.\")\n",
    "db$nivel_ed <- droplevels(db$nivel_ed)\n",
    "table(db$nivel_ed)"
   ]
  },
  {
   "cell_type": "code",
   "execution_count": 6,
   "id": "9c1678af-c660-4584-b986-77279df9bc6b",
   "metadata": {
    "vscode": {
     "languageId": "r"
    }
   },
   "outputs": [],
   "source": [
    "db$tipo_vivienda <- droplevels(db$tipo_vivienda)\n",
    "db$parentesco <- droplevels(db$parentesco)"
   ]
  },
  {
   "cell_type": "code",
   "execution_count": 7,
   "id": "d56bb480-7913-4cd4-b509-52d98e7691cb",
   "metadata": {
    "vscode": {
     "languageId": "r"
    }
   },
   "outputs": [
    {
     "data": {
      "text/plain": [
       "\n",
       "                               Casa                        Departamento \n",
       "                               7888                                4084 \n",
       "                 Pieza de inquilino              Pieza en hotel/pension \n",
       "                                 53                                   8 \n",
       "Local no construido para habitacion                               Otros \n",
       "                                  2                                  19 "
      ]
     },
     "metadata": {},
     "output_type": "display_data"
    }
   ],
   "source": [
    "table(db$tipo_vivienda)"
   ]
  },
  {
   "cell_type": "code",
   "execution_count": 8,
   "id": "029829c4-f9f2-4486-aa63-253c0888de07",
   "metadata": {
    "vscode": {
     "languageId": "r"
    }
   },
   "outputs": [
    {
     "data": {
      "text/plain": [
       "\n",
       "        Casa Departamento        Otros \n",
       "        7888         4084           82 "
      ]
     },
     "metadata": {},
     "output_type": "display_data"
    }
   ],
   "source": [
    "db <- db %>% mutate(tipo_vivienda=recode(tipo_vivienda,\n",
    "                                         \"Pieza de inquilino\"=\"Otros\",\n",
    "                                         \"Pieza en hotel/pension\"=\"Otros\",\n",
    "                                         \"Local no construido para habitacion\"=\"Otros\"))\n",
    "table(db$tipo_vivienda)                  "
   ]
  },
  {
   "cell_type": "code",
   "execution_count": 9,
   "id": "5239d757-39b3-4806-af92-129171cae255",
   "metadata": {
    "vscode": {
     "languageId": "r"
    }
   },
   "outputs": [
    {
     "data": {
      "text/html": [
       "<table class=\"dataframe\">\n",
       "<caption>A tibble: 6 × 13</caption>\n",
       "<thead>\n",
       "\t<tr><th scope=col>desempleado</th><th scope=col>edad</th><th scope=col>mujer</th><th scope=col>parentesco</th><th scope=col>nivel_ed</th><th scope=col>estado_civil</th><th scope=col>total_miembros_hogar</th><th scope=col>miembros_hogar_menores10</th><th scope=col>ing_tot_fam</th><th scope=col>tipo_vivienda</th><th scope=col>ciudad</th><th scope=col>trimestre</th><th scope=col>id_hogar</th></tr>\n",
       "\t<tr><th scope=col>&lt;dbl&gt;</th><th scope=col>&lt;dbl&gt;</th><th scope=col>&lt;fct&gt;</th><th scope=col>&lt;fct&gt;</th><th scope=col>&lt;fct&gt;</th><th scope=col>&lt;fct&gt;</th><th scope=col>&lt;dbl&gt;</th><th scope=col>&lt;dbl&gt;</th><th scope=col>&lt;dbl&gt;</th><th scope=col>&lt;fct&gt;</th><th scope=col>&lt;fct&gt;</th><th scope=col>&lt;dbl&gt;</th><th scope=col>&lt;chr&gt;</th></tr>\n",
       "</thead>\n",
       "<tbody>\n",
       "\t<tr><td>0</td><td>31</td><td>hombre</td><td>Jefe/a        </td><td>Superior Universitaria Incompleta</td><td>Unido/a </td><td>3</td><td>1</td><td>8400</td><td>Casa</td><td>Partidos del GBA</td><td>1</td><td>  1251051</td></tr>\n",
       "\t<tr><td>0</td><td>33</td><td>mujer </td><td>Conyuge/Pareja</td><td>Superior Universitaria Completa  </td><td>Unido/a </td><td>3</td><td>1</td><td>8400</td><td>Casa</td><td>Partidos del GBA</td><td>1</td><td>  1251051</td></tr>\n",
       "\t<tr><td>0</td><td>48</td><td>hombre</td><td>Jefe/a        </td><td>Primaria Completa                </td><td>Casado/a</td><td>3</td><td>0</td><td>3150</td><td>Casa</td><td>Partidos del GBA</td><td>1</td><td>  1251801</td></tr>\n",
       "\t<tr><td>0</td><td>46</td><td>mujer </td><td>Conyuge/Pareja</td><td>Secundaria Incompleta            </td><td>Casado/a</td><td>3</td><td>0</td><td>3150</td><td>Casa</td><td>Partidos del GBA</td><td>1</td><td>  1251801</td></tr>\n",
       "\t<tr><td>0</td><td>63</td><td>hombre</td><td>Jefe/a        </td><td>Superior Universitaria Incompleta</td><td>Casado/a</td><td>2</td><td>0</td><td>3550</td><td>Casa</td><td>Partidos del GBA</td><td>1</td><td>  1253471</td></tr>\n",
       "\t<tr><td>0</td><td>50</td><td>hombre</td><td>Jefe/a        </td><td>Superior Universitaria Completa  </td><td>Casado/a</td><td>3</td><td>0</td><td>3500</td><td>Casa</td><td>Partidos del GBA</td><td>1</td><td>  1254331</td></tr>\n",
       "</tbody>\n",
       "</table>\n"
      ],
      "text/latex": [
       "A tibble: 6 × 13\n",
       "\\begin{tabular}{lllllllllllll}\n",
       " desempleado & edad & mujer & parentesco & nivel\\_ed & estado\\_civil & total\\_miembros\\_hogar & miembros\\_hogar\\_menores10 & ing\\_tot\\_fam & tipo\\_vivienda & ciudad & trimestre & id\\_hogar\\\\\n",
       " <dbl> & <dbl> & <fct> & <fct> & <fct> & <fct> & <dbl> & <dbl> & <dbl> & <fct> & <fct> & <dbl> & <chr>\\\\\n",
       "\\hline\n",
       "\t 0 & 31 & hombre & Jefe/a         & Superior Universitaria Incompleta & Unido/a  & 3 & 1 & 8400 & Casa & Partidos del GBA & 1 &   1251051\\\\\n",
       "\t 0 & 33 & mujer  & Conyuge/Pareja & Superior Universitaria Completa   & Unido/a  & 3 & 1 & 8400 & Casa & Partidos del GBA & 1 &   1251051\\\\\n",
       "\t 0 & 48 & hombre & Jefe/a         & Primaria Completa                 & Casado/a & 3 & 0 & 3150 & Casa & Partidos del GBA & 1 &   1251801\\\\\n",
       "\t 0 & 46 & mujer  & Conyuge/Pareja & Secundaria Incompleta             & Casado/a & 3 & 0 & 3150 & Casa & Partidos del GBA & 1 &   1251801\\\\\n",
       "\t 0 & 63 & hombre & Jefe/a         & Superior Universitaria Incompleta & Casado/a & 2 & 0 & 3550 & Casa & Partidos del GBA & 1 &   1253471\\\\\n",
       "\t 0 & 50 & hombre & Jefe/a         & Superior Universitaria Completa   & Casado/a & 3 & 0 & 3500 & Casa & Partidos del GBA & 1 &   1254331\\\\\n",
       "\\end{tabular}\n"
      ],
      "text/markdown": [
       "\n",
       "A tibble: 6 × 13\n",
       "\n",
       "| desempleado &lt;dbl&gt; | edad &lt;dbl&gt; | mujer &lt;fct&gt; | parentesco &lt;fct&gt; | nivel_ed &lt;fct&gt; | estado_civil &lt;fct&gt; | total_miembros_hogar &lt;dbl&gt; | miembros_hogar_menores10 &lt;dbl&gt; | ing_tot_fam &lt;dbl&gt; | tipo_vivienda &lt;fct&gt; | ciudad &lt;fct&gt; | trimestre &lt;dbl&gt; | id_hogar &lt;chr&gt; |\n",
       "|---|---|---|---|---|---|---|---|---|---|---|---|---|\n",
       "| 0 | 31 | hombre | Jefe/a         | Superior Universitaria Incompleta | Unido/a  | 3 | 1 | 8400 | Casa | Partidos del GBA | 1 |   1251051 |\n",
       "| 0 | 33 | mujer  | Conyuge/Pareja | Superior Universitaria Completa   | Unido/a  | 3 | 1 | 8400 | Casa | Partidos del GBA | 1 |   1251051 |\n",
       "| 0 | 48 | hombre | Jefe/a         | Primaria Completa                 | Casado/a | 3 | 0 | 3150 | Casa | Partidos del GBA | 1 |   1251801 |\n",
       "| 0 | 46 | mujer  | Conyuge/Pareja | Secundaria Incompleta             | Casado/a | 3 | 0 | 3150 | Casa | Partidos del GBA | 1 |   1251801 |\n",
       "| 0 | 63 | hombre | Jefe/a         | Superior Universitaria Incompleta | Casado/a | 2 | 0 | 3550 | Casa | Partidos del GBA | 1 |   1253471 |\n",
       "| 0 | 50 | hombre | Jefe/a         | Superior Universitaria Completa   | Casado/a | 3 | 0 | 3500 | Casa | Partidos del GBA | 1 |   1254331 |\n",
       "\n"
      ],
      "text/plain": [
       "  desempleado edad mujer  parentesco     nivel_ed                         \n",
       "1 0           31   hombre Jefe/a         Superior Universitaria Incompleta\n",
       "2 0           33   mujer  Conyuge/Pareja Superior Universitaria Completa  \n",
       "3 0           48   hombre Jefe/a         Primaria Completa                \n",
       "4 0           46   mujer  Conyuge/Pareja Secundaria Incompleta            \n",
       "5 0           63   hombre Jefe/a         Superior Universitaria Incompleta\n",
       "6 0           50   hombre Jefe/a         Superior Universitaria Completa  \n",
       "  estado_civil total_miembros_hogar miembros_hogar_menores10 ing_tot_fam\n",
       "1 Unido/a      3                    1                        8400       \n",
       "2 Unido/a      3                    1                        8400       \n",
       "3 Casado/a     3                    0                        3150       \n",
       "4 Casado/a     3                    0                        3150       \n",
       "5 Casado/a     2                    0                        3550       \n",
       "6 Casado/a     3                    0                        3500       \n",
       "  tipo_vivienda ciudad           trimestre id_hogar \n",
       "1 Casa          Partidos del GBA 1           1251051\n",
       "2 Casa          Partidos del GBA 1           1251051\n",
       "3 Casa          Partidos del GBA 1           1251801\n",
       "4 Casa          Partidos del GBA 1           1251801\n",
       "5 Casa          Partidos del GBA 1           1253471\n",
       "6 Casa          Partidos del GBA 1           1254331"
      ]
     },
     "metadata": {},
     "output_type": "display_data"
    }
   ],
   "source": [
    "db <- db %>% mutate(mujer=factor(mujer,levels=c(0,1),labels=c(\"hombre\",\"mujer\")))\n",
    "head(db)"
   ]
  },
  {
   "cell_type": "code",
   "execution_count": 10,
   "id": "f6c8086e",
   "metadata": {
    "vscode": {
     "languageId": "r"
    }
   },
   "outputs": [
    {
     "data": {
      "text/plain": [
       "\n",
       "        0         1 \n",
       "91.538079  8.461921 "
      ]
     },
     "metadata": {},
     "output_type": "display_data"
    }
   ],
   "source": [
    "prop.table(table(db$desempleado))*100"
   ]
  },
  {
   "cell_type": "code",
   "execution_count": 11,
   "id": "9ae06291",
   "metadata": {
    "vscode": {
     "languageId": "r"
    }
   },
   "outputs": [],
   "source": [
    "data<- db  %>% group_by(desempleado) %>% tally() \n",
    "data <- data %>% mutate(n=n/sum(n))                        "
   ]
  },
  {
   "cell_type": "code",
   "execution_count": 12,
   "id": "45f98c84-1a04-4e3d-ac50-b5602c936bf4",
   "metadata": {
    "vscode": {
     "languageId": "r"
    }
   },
   "outputs": [
    {
     "data": {
      "image/png": "[encoded data removed]",
      "text/plain": [
       "plot without title"
      ]
     },
     "metadata": {
      "image/png": {
       "height": 420,
       "width": 420
      }
     },
     "output_type": "display_data"
    }
   ],
   "source": [
    "data<-  data %>% mutate(estado =factor(desempleado, levels = c(0,1), labels = c(\"empleado\",\"desempleado\")) )\n",
    "\n",
    "ggplot(data,aes(x = estado, y = n, fill = estado)) +\n",
    "  geom_bar(stat = \"identity\") +\n",
    "  theme_minimal() +\n",
    "  scale_fill_manual(values = c(\"desempleado\" = \"orange\", \"empleado\"= \"blue\")) + # Colors can be changed\n",
    "  labs(x = \"\", y = \"count\") # Customize axis labels if needed\n",
    "\n"
   ]
  },
  {
   "cell_type": "markdown",
   "id": "5d7eeb64-e2c7-4539-8700-91a8828c05e2",
   "metadata": {},
   "source": [
    "If you have an imbalanced data set, first try training on the true distribution. If the model works well and generalizes, you're done! If not, try  the remedies listed below."
   ]
  },
  {
   "cell_type": "markdown",
   "id": "3629ef9e",
   "metadata": {},
   "source": [
    "## Estimación Logit\n",
    "\n",
    "\\begin{align}\n",
    "p_i &=\\frac{e^{X_i\\beta}}{1+e^{X_i\\beta}}\n",
    "\\end{align}\n"
   ]
  },
  {
   "cell_type": "code",
   "execution_count": 13,
   "id": "7076a869",
   "metadata": {
    "vscode": {
     "languageId": "r"
    }
   },
   "outputs": [
    {
     "data": {
      "text/plain": [
       "\n",
       "Call:\n",
       "glm(formula = desempleado ~ edad + mujer, family = \"binomial\", \n",
       "    data = db)\n",
       "\n",
       "Coefficients:\n",
       "             Estimate Std. Error z value Pr(>|z|)    \n",
       "(Intercept) -1.060631   0.106220  -9.985  < 2e-16 ***\n",
       "edad        -0.043359   0.002896 -14.971  < 2e-16 ***\n",
       "mujermujer   0.467160   0.066421   7.033 2.02e-12 ***\n",
       "---\n",
       "Signif. codes:  0 ‘***’ 0.001 ‘**’ 0.01 ‘*’ 0.05 ‘.’ 0.1 ‘ ’ 1\n",
       "\n",
       "(Dispersion parameter for binomial family taken to be 1)\n",
       "\n",
       "    Null deviance: 6989.1  on 12053  degrees of freedom\n",
       "Residual deviance: 6691.8  on 12051  degrees of freedom\n",
       "AIC: 6697.8\n",
       "\n",
       "Number of Fisher Scoring iterations: 5\n"
      ]
     },
     "metadata": {},
     "output_type": "display_data"
    }
   ],
   "source": [
    "mylogit <- glm(desempleado~edad+mujer, data = db, family = \"binomial\")\n",
    "summary(mylogit,type=\"text\")"
   ]
  },
  {
   "cell_type": "markdown",
   "id": "71975cb3",
   "metadata": {},
   "source": [
    "## Prediction\n",
    "\n",
    "\n",
    "\\begin{align}\n",
    "\\hat{p}_i &=\\frac{e^{X_i\\hat{\\beta}}}{1+e^{X_i\\hat{\\beta}}}\n",
    "\\end{align}"
   ]
  },
  {
   "cell_type": "code",
   "execution_count": 14,
   "id": "49bf83ea",
   "metadata": {
    "vscode": {
     "languageId": "r"
    }
   },
   "outputs": [
    {
     "data": {
      "text/html": [
       "<table class=\"dataframe\">\n",
       "<caption>A tibble: 6 × 2</caption>\n",
       "<thead>\n",
       "\t<tr><th scope=col>desempleado</th><th scope=col>prob_hat</th></tr>\n",
       "\t<tr><th scope=col>&lt;dbl&gt;</th><th scope=col>&lt;dbl&gt;</th></tr>\n",
       "</thead>\n",
       "<tbody>\n",
       "\t<tr><td>0</td><td>0.08280964</td></tr>\n",
       "\t<tr><td>0</td><td>0.11667205</td></tr>\n",
       "\t<tr><td>0</td><td>0.04141245</td></tr>\n",
       "\t<tr><td>0</td><td>0.06991466</td></tr>\n",
       "\t<tr><td>0</td><td>0.02204733</td></tr>\n",
       "\t<tr><td>0</td><td>0.03810359</td></tr>\n",
       "</tbody>\n",
       "</table>\n"
      ],
      "text/latex": [
       "A tibble: 6 × 2\n",
       "\\begin{tabular}{ll}\n",
       " desempleado & prob\\_hat\\\\\n",
       " <dbl> & <dbl>\\\\\n",
       "\\hline\n",
       "\t 0 & 0.08280964\\\\\n",
       "\t 0 & 0.11667205\\\\\n",
       "\t 0 & 0.04141245\\\\\n",
       "\t 0 & 0.06991466\\\\\n",
       "\t 0 & 0.02204733\\\\\n",
       "\t 0 & 0.03810359\\\\\n",
       "\\end{tabular}\n"
      ],
      "text/markdown": [
       "\n",
       "A tibble: 6 × 2\n",
       "\n",
       "| desempleado &lt;dbl&gt; | prob_hat &lt;dbl&gt; |\n",
       "|---|---|\n",
       "| 0 | 0.08280964 |\n",
       "| 0 | 0.11667205 |\n",
       "| 0 | 0.04141245 |\n",
       "| 0 | 0.06991466 |\n",
       "| 0 | 0.02204733 |\n",
       "| 0 | 0.03810359 |\n",
       "\n"
      ],
      "text/plain": [
       "  desempleado prob_hat  \n",
       "1 0           0.08280964\n",
       "2 0           0.11667205\n",
       "3 0           0.04141245\n",
       "4 0           0.06991466\n",
       "5 0           0.02204733\n",
       "6 0           0.03810359"
      ]
     },
     "metadata": {},
     "output_type": "display_data"
    }
   ],
   "source": [
    "\n",
    "db<- db  %>% mutate(prob_hat=predict(mylogit,newdata = db, type = \"response\")) #type = \"response\" gives the predicted probabilities.\n",
    "\n",
    "head(db  %>% select(desempleado,prob_hat))\n"
   ]
  },
  {
   "cell_type": "markdown",
   "id": "64ab05f8",
   "metadata": {},
   "source": [
    "## Classification \n",
    "\n",
    "\\begin{align}\n",
    "\\hat{Y}_i= 1[\\hat{p}_i >0.5]\n",
    "\\end{align}"
   ]
  },
  {
   "cell_type": "code",
   "execution_count": 15,
   "id": "8d189012",
   "metadata": {
    "vscode": {
     "languageId": "r"
    }
   },
   "outputs": [
    {
     "data": {
      "text/html": [
       "<table class=\"dataframe\">\n",
       "<caption>A tibble: 6 × 3</caption>\n",
       "<thead>\n",
       "\t<tr><th scope=col>desempleado</th><th scope=col>prob_hat</th><th scope=col>desempleado_hat</th></tr>\n",
       "\t<tr><th scope=col>&lt;dbl&gt;</th><th scope=col>&lt;dbl&gt;</th><th scope=col>&lt;dbl&gt;</th></tr>\n",
       "</thead>\n",
       "<tbody>\n",
       "\t<tr><td>0</td><td>0.08280964</td><td>0</td></tr>\n",
       "\t<tr><td>0</td><td>0.11667205</td><td>0</td></tr>\n",
       "\t<tr><td>0</td><td>0.04141245</td><td>0</td></tr>\n",
       "\t<tr><td>0</td><td>0.06991466</td><td>0</td></tr>\n",
       "\t<tr><td>0</td><td>0.02204733</td><td>0</td></tr>\n",
       "\t<tr><td>0</td><td>0.03810359</td><td>0</td></tr>\n",
       "</tbody>\n",
       "</table>\n"
      ],
      "text/latex": [
       "A tibble: 6 × 3\n",
       "\\begin{tabular}{lll}\n",
       " desempleado & prob\\_hat & desempleado\\_hat\\\\\n",
       " <dbl> & <dbl> & <dbl>\\\\\n",
       "\\hline\n",
       "\t 0 & 0.08280964 & 0\\\\\n",
       "\t 0 & 0.11667205 & 0\\\\\n",
       "\t 0 & 0.04141245 & 0\\\\\n",
       "\t 0 & 0.06991466 & 0\\\\\n",
       "\t 0 & 0.02204733 & 0\\\\\n",
       "\t 0 & 0.03810359 & 0\\\\\n",
       "\\end{tabular}\n"
      ],
      "text/markdown": [
       "\n",
       "A tibble: 6 × 3\n",
       "\n",
       "| desempleado &lt;dbl&gt; | prob_hat &lt;dbl&gt; | desempleado_hat &lt;dbl&gt; |\n",
       "|---|---|---|\n",
       "| 0 | 0.08280964 | 0 |\n",
       "| 0 | 0.11667205 | 0 |\n",
       "| 0 | 0.04141245 | 0 |\n",
       "| 0 | 0.06991466 | 0 |\n",
       "| 0 | 0.02204733 | 0 |\n",
       "| 0 | 0.03810359 | 0 |\n",
       "\n"
      ],
      "text/plain": [
       "  desempleado prob_hat   desempleado_hat\n",
       "1 0           0.08280964 0              \n",
       "2 0           0.11667205 0              \n",
       "3 0           0.04141245 0              \n",
       "4 0           0.06991466 0              \n",
       "5 0           0.02204733 0              \n",
       "6 0           0.03810359 0              "
      ]
     },
     "metadata": {},
     "output_type": "display_data"
    }
   ],
   "source": [
    "rule <- 1/2 # Bayes Rule\n",
    "\n",
    "db <-  db  %>% mutate(desempleado_hat=ifelse(prob_hat>rule,1,0))    ## predicted class labels\n",
    "\n",
    "head(db  %>% select(desempleado,prob_hat,desempleado_hat))\n"
   ]
  },
  {
   "cell_type": "markdown",
   "id": "734bbb33",
   "metadata": {},
   "source": [
    "## Out of sample prediction"
   ]
  },
  {
   "cell_type": "code",
   "execution_count": 16,
   "id": "a3468164",
   "metadata": {
    "vscode": {
     "languageId": "r"
    }
   },
   "outputs": [],
   "source": [
    "p_load(\"caret\")\n",
    "\n",
    "\n",
    "inTrain <- createDataPartition(\n",
    "  y = db$desempleado, ## La variable dependiente u objetivo \n",
    "  p = .7,  ## Usamos 70%  de los datos en el conjunto de entrenamiento \n",
    "  list = FALSE)\n",
    "\n",
    "\n",
    "train <- db[ inTrain,]\n",
    "test  <- db[-inTrain,]"
   ]
  },
  {
   "cell_type": "code",
   "execution_count": 17,
   "id": "451cc45c",
   "metadata": {
    "vscode": {
     "languageId": "r"
    }
   },
   "outputs": [
    {
     "data": {
      "text/html": [
       "<table class=\"dataframe\">\n",
       "<caption>A tibble: 6 × 15</caption>\n",
       "<thead>\n",
       "\t<tr><th scope=col>desempleado</th><th scope=col>edad</th><th scope=col>mujer</th><th scope=col>parentesco</th><th scope=col>nivel_ed</th><th scope=col>estado_civil</th><th scope=col>total_miembros_hogar</th><th scope=col>miembros_hogar_menores10</th><th scope=col>ing_tot_fam</th><th scope=col>tipo_vivienda</th><th scope=col>ciudad</th><th scope=col>trimestre</th><th scope=col>id_hogar</th><th scope=col>prob_hat</th><th scope=col>desempleado_hat</th></tr>\n",
       "\t<tr><th scope=col>&lt;dbl&gt;</th><th scope=col>&lt;dbl&gt;</th><th scope=col>&lt;fct&gt;</th><th scope=col>&lt;fct&gt;</th><th scope=col>&lt;fct&gt;</th><th scope=col>&lt;fct&gt;</th><th scope=col>&lt;dbl&gt;</th><th scope=col>&lt;dbl&gt;</th><th scope=col>&lt;dbl&gt;</th><th scope=col>&lt;fct&gt;</th><th scope=col>&lt;fct&gt;</th><th scope=col>&lt;dbl&gt;</th><th scope=col>&lt;chr&gt;</th><th scope=col>&lt;dbl&gt;</th><th scope=col>&lt;dbl&gt;</th></tr>\n",
       "</thead>\n",
       "<tbody>\n",
       "\t<tr><td>0</td><td>33</td><td>mujer </td><td>Conyuge/Pareja     </td><td>Superior Universitaria Completa  </td><td>Unido/a  </td><td>3</td><td>1</td><td>8400</td><td>Casa        </td><td>Partidos del GBA      </td><td>1</td><td>  1251051</td><td>0.11667205</td><td>0</td></tr>\n",
       "\t<tr><td>0</td><td>48</td><td>hombre</td><td>Jefe/a             </td><td>Primaria Completa                </td><td>Casado/a </td><td>3</td><td>0</td><td>3150</td><td>Casa        </td><td>Partidos del GBA      </td><td>1</td><td>  1251801</td><td>0.04141245</td><td>0</td></tr>\n",
       "\t<tr><td>0</td><td>63</td><td>hombre</td><td>Jefe/a             </td><td>Superior Universitaria Incompleta</td><td>Casado/a </td><td>2</td><td>0</td><td>3550</td><td>Casa        </td><td>Partidos del GBA      </td><td>1</td><td>  1253471</td><td>0.02204733</td><td>0</td></tr>\n",
       "\t<tr><td>0</td><td>50</td><td>hombre</td><td>Jefe/a             </td><td>Superior Universitaria Completa  </td><td>Casado/a </td><td>3</td><td>0</td><td>3500</td><td>Casa        </td><td>Partidos del GBA      </td><td>1</td><td>  1254331</td><td>0.03810359</td><td>0</td></tr>\n",
       "\t<tr><td>0</td><td>23</td><td>hombre</td><td>Hijo/a - Hijastro/a</td><td>Superior Universitaria Incompleta</td><td>Soltero/a</td><td>3</td><td>0</td><td>3500</td><td>Casa        </td><td>Partidos del GBA      </td><td>1</td><td>  1254331</td><td>0.11325698</td><td>0</td></tr>\n",
       "\t<tr><td>0</td><td>32</td><td>mujer </td><td>Jefe/a             </td><td>Superior Universitaria Completa  </td><td>Soltero/a</td><td>1</td><td>0</td><td>3870</td><td>Departamento</td><td>Ciudad de Buenos Aires</td><td>1</td><td>  1256841</td><td>0.12121546</td><td>0</td></tr>\n",
       "</tbody>\n",
       "</table>\n"
      ],
      "text/latex": [
       "A tibble: 6 × 15\n",
       "\\begin{tabular}{lllllllllllllll}\n",
       " desempleado & edad & mujer & parentesco & nivel\\_ed & estado\\_civil & total\\_miembros\\_hogar & miembros\\_hogar\\_menores10 & ing\\_tot\\_fam & tipo\\_vivienda & ciudad & trimestre & id\\_hogar & prob\\_hat & desempleado\\_hat\\\\\n",
       " <dbl> & <dbl> & <fct> & <fct> & <fct> & <fct> & <dbl> & <dbl> & <dbl> & <fct> & <fct> & <dbl> & <chr> & <dbl> & <dbl>\\\\\n",
       "\\hline\n",
       "\t 0 & 33 & mujer  & Conyuge/Pareja      & Superior Universitaria Completa   & Unido/a   & 3 & 1 & 8400 & Casa         & Partidos del GBA       & 1 &   1251051 & 0.11667205 & 0\\\\\n",
       "\t 0 & 48 & hombre & Jefe/a              & Primaria Completa                 & Casado/a  & 3 & 0 & 3150 & Casa         & Partidos del GBA       & 1 &   1251801 & 0.04141245 & 0\\\\\n",
       "\t 0 & 63 & hombre & Jefe/a              & Superior Universitaria Incompleta & Casado/a  & 2 & 0 & 3550 & Casa         & Partidos del GBA       & 1 &   1253471 & 0.02204733 & 0\\\\\n",
       "\t 0 & 50 & hombre & Jefe/a              & Superior Universitaria Completa   & Casado/a  & 3 & 0 & 3500 & Casa         & Partidos del GBA       & 1 &   1254331 & 0.03810359 & 0\\\\\n",
       "\t 0 & 23 & hombre & Hijo/a - Hijastro/a & Superior Universitaria Incompleta & Soltero/a & 3 & 0 & 3500 & Casa         & Partidos del GBA       & 1 &   1254331 & 0.11325698 & 0\\\\\n",
       "\t 0 & 32 & mujer  & Jefe/a              & Superior Universitaria Completa   & Soltero/a & 1 & 0 & 3870 & Departamento & Ciudad de Buenos Aires & 1 &   1256841 & 0.12121546 & 0\\\\\n",
       "\\end{tabular}\n"
      ],
      "text/markdown": [
       "\n",
       "A tibble: 6 × 15\n",
       "\n",
       "| desempleado &lt;dbl&gt; | edad &lt;dbl&gt; | mujer &lt;fct&gt; | parentesco &lt;fct&gt; | nivel_ed &lt;fct&gt; | estado_civil &lt;fct&gt; | total_miembros_hogar &lt;dbl&gt; | miembros_hogar_menores10 &lt;dbl&gt; | ing_tot_fam &lt;dbl&gt; | tipo_vivienda &lt;fct&gt; | ciudad &lt;fct&gt; | trimestre &lt;dbl&gt; | id_hogar &lt;chr&gt; | prob_hat &lt;dbl&gt; | desempleado_hat &lt;dbl&gt; |\n",
       "|---|---|---|---|---|---|---|---|---|---|---|---|---|---|---|\n",
       "| 0 | 33 | mujer  | Conyuge/Pareja      | Superior Universitaria Completa   | Unido/a   | 3 | 1 | 8400 | Casa         | Partidos del GBA       | 1 |   1251051 | 0.11667205 | 0 |\n",
       "| 0 | 48 | hombre | Jefe/a              | Primaria Completa                 | Casado/a  | 3 | 0 | 3150 | Casa         | Partidos del GBA       | 1 |   1251801 | 0.04141245 | 0 |\n",
       "| 0 | 63 | hombre | Jefe/a              | Superior Universitaria Incompleta | Casado/a  | 2 | 0 | 3550 | Casa         | Partidos del GBA       | 1 |   1253471 | 0.02204733 | 0 |\n",
       "| 0 | 50 | hombre | Jefe/a              | Superior Universitaria Completa   | Casado/a  | 3 | 0 | 3500 | Casa         | Partidos del GBA       | 1 |   1254331 | 0.03810359 | 0 |\n",
       "| 0 | 23 | hombre | Hijo/a - Hijastro/a | Superior Universitaria Incompleta | Soltero/a | 3 | 0 | 3500 | Casa         | Partidos del GBA       | 1 |   1254331 | 0.11325698 | 0 |\n",
       "| 0 | 32 | mujer  | Jefe/a              | Superior Universitaria Completa   | Soltero/a | 1 | 0 | 3870 | Departamento | Ciudad de Buenos Aires | 1 |   1256841 | 0.12121546 | 0 |\n",
       "\n"
      ],
      "text/plain": [
       "  desempleado edad mujer  parentesco          nivel_ed                         \n",
       "2 0           33   mujer  Conyuge/Pareja      Superior Universitaria Completa  \n",
       "3 0           48   hombre Jefe/a              Primaria Completa                \n",
       "5 0           63   hombre Jefe/a              Superior Universitaria Incompleta\n",
       "6 0           50   hombre Jefe/a              Superior Universitaria Completa  \n",
       "7 0           23   hombre Hijo/a - Hijastro/a Superior Universitaria Incompleta\n",
       "8 0           32   mujer  Jefe/a              Superior Universitaria Completa  \n",
       "  estado_civil total_miembros_hogar miembros_hogar_menores10 ing_tot_fam\n",
       "2 Unido/a      3                    1                        8400       \n",
       "3 Casado/a     3                    0                        3150       \n",
       "5 Casado/a     2                    0                        3550       \n",
       "6 Casado/a     3                    0                        3500       \n",
       "7 Soltero/a    3                    0                        3500       \n",
       "8 Soltero/a    1                    0                        3870       \n",
       "  tipo_vivienda ciudad                 trimestre id_hogar  prob_hat  \n",
       "2 Casa          Partidos del GBA       1           1251051 0.11667205\n",
       "3 Casa          Partidos del GBA       1           1251801 0.04141245\n",
       "5 Casa          Partidos del GBA       1           1253471 0.02204733\n",
       "6 Casa          Partidos del GBA       1           1254331 0.03810359\n",
       "7 Casa          Partidos del GBA       1           1254331 0.11325698\n",
       "8 Departamento  Ciudad de Buenos Aires 1           1256841 0.12121546\n",
       "  desempleado_hat\n",
       "2 0              \n",
       "3 0              \n",
       "5 0              \n",
       "6 0              \n",
       "7 0              \n",
       "8 0              "
      ]
     },
     "metadata": {},
     "output_type": "display_data"
    }
   ],
   "source": [
    "head(train)"
   ]
  },
  {
   "cell_type": "code",
   "execution_count": 18,
   "id": "fde01f5a",
   "metadata": {
    "vscode": {
     "languageId": "r"
    }
   },
   "outputs": [
    {
     "data": {
      "text/plain": [
       "\n",
       "         0          1 \n",
       "0.91739749 0.08260251 "
      ]
     },
     "metadata": {},
     "output_type": "display_data"
    }
   ],
   "source": [
    "prop.table(table(train$desempleado))"
   ]
  },
  {
   "cell_type": "code",
   "execution_count": 19,
   "id": "8dfb633a",
   "metadata": {
    "vscode": {
     "languageId": "r"
    }
   },
   "outputs": [
    {
     "data": {
      "text/plain": [
       "\n",
       "         0          1 \n",
       "0.91067478 0.08932522 "
      ]
     },
     "metadata": {},
     "output_type": "display_data"
    }
   ],
   "source": [
    "prop.table(table(test$desempleado))"
   ]
  },
  {
   "cell_type": "markdown",
   "id": "d0e60faf",
   "metadata": {},
   "source": [
    "### Logit"
   ]
  },
  {
   "cell_type": "code",
   "execution_count": 20,
   "id": "2b6bdaef",
   "metadata": {
    "vscode": {
     "languageId": "r"
    }
   },
   "outputs": [],
   "source": [
    "ctrl<- trainControl(method = \"cv\",\n",
    "                    number = 5,\n",
    "                    classProbs = TRUE,\n",
    "                    verbose=FALSE,\n",
    "                    savePredictions = T)\n"
   ]
  },
  {
   "cell_type": "code",
   "execution_count": 21,
   "id": "e8dd7262",
   "metadata": {
    "vscode": {
     "languageId": "r"
    }
   },
   "outputs": [],
   "source": [
    "train<- train %>% mutate(desempleado_num =desempleado)\n",
    "\n",
    "# # Clace que \"desempleado\" sea el primer nivel!!\n",
    "train<- train %>% mutate(desempleado = factor(desempleado, levels = c(1,0), labels = c(\"desempleado\",\"empleado\")))\n",
    "test<- test %>% mutate(desempleado = factor(desempleado, levels = c(1,0), labels = c(\"desempleado\",\"empleado\")))\n"
   ]
  },
  {
   "cell_type": "code",
   "execution_count": 22,
   "id": "2ba8cac3-f549-4a8e-a113-1c5831e0dc27",
   "metadata": {
    "vscode": {
     "languageId": "r"
    }
   },
   "outputs": [
    {
     "data": {
      "text/plain": [
       "\n",
       "desempleado    empleado \n",
       " 0.08260251  0.91739749 "
      ]
     },
     "metadata": {},
     "output_type": "display_data"
    }
   ],
   "source": [
    "prop.table(table(train$desempleado))"
   ]
  },
  {
   "cell_type": "code",
   "execution_count": 23,
   "id": "7ac9f557",
   "metadata": {
    "scrolled": true,
    "vscode": {
     "languageId": "r"
    }
   },
   "outputs": [
    {
     "data": {
      "text/plain": [
       "Generalized Linear Model \n",
       "\n",
       "8438 samples\n",
       "   9 predictor\n",
       "   2 classes: 'desempleado', 'empleado' \n",
       "\n",
       "No pre-processing\n",
       "Resampling: Cross-Validated (5 fold) \n",
       "Summary of sample sizes: 6750, 6751, 6750, 6751, 6750 \n",
       "Resampling results:\n",
       "\n",
       "  Accuracy   Kappa     \n",
       "  0.9170419  0.01105016\n"
      ]
     },
     "metadata": {},
     "output_type": "display_data"
    }
   ],
   "source": [
    "set.seed(1410)\n",
    "mylogit_caret <- train(desempleado~edad+mujer+nivel_ed+ parentesco +\n",
    "                        estado_civil+tipo_vivienda+ing_tot_fam+total_miembros_hogar+miembros_hogar_menores10,\n",
    "                       data = train, \n",
    "                       method = \"glm\",\n",
    "                       trControl = ctrl,\n",
    "                       family = \"binomial\")\n",
    "\n",
    "\n",
    "mylogit_caret"
   ]
  },
  {
   "cell_type": "code",
   "execution_count": 24,
   "id": "8d6e31c8",
   "metadata": {
    "vscode": {
     "languageId": "r"
    }
   },
   "outputs": [],
   "source": [
    "predictTest_logit <- data.frame(\n",
    "  obs = test$desempleado,                                    ## observed class labels\n",
    "  predict(mylogit_caret, newdata = test, type = \"prob\"),         ## predicted class probabilities\n",
    "  pred = predict(mylogit_caret, newdata = test, type = \"raw\")    ## predicted class labels\n",
    ")\n"
   ]
  },
  {
   "cell_type": "code",
   "execution_count": 25,
   "id": "15166903",
   "metadata": {
    "vscode": {
     "languageId": "r"
    }
   },
   "outputs": [
    {
     "data": {
      "text/html": [
       "<table class=\"dataframe\">\n",
       "<caption>A data.frame: 6 × 4</caption>\n",
       "<thead>\n",
       "\t<tr><th></th><th scope=col>obs</th><th scope=col>desempleado</th><th scope=col>empleado</th><th scope=col>pred</th></tr>\n",
       "\t<tr><th></th><th scope=col>&lt;fct&gt;</th><th scope=col>&lt;dbl&gt;</th><th scope=col>&lt;dbl&gt;</th><th scope=col>&lt;fct&gt;</th></tr>\n",
       "</thead>\n",
       "<tbody>\n",
       "\t<tr><th scope=row>1</th><td>empleado</td><td>0.01478977</td><td>0.9852102</td><td>empleado</td></tr>\n",
       "\t<tr><th scope=row>2</th><td>empleado</td><td>0.13586405</td><td>0.8641359</td><td>empleado</td></tr>\n",
       "\t<tr><th scope=row>3</th><td>empleado</td><td>0.01411712</td><td>0.9858829</td><td>empleado</td></tr>\n",
       "\t<tr><th scope=row>4</th><td>empleado</td><td>0.05906118</td><td>0.9409388</td><td>empleado</td></tr>\n",
       "\t<tr><th scope=row>5</th><td>empleado</td><td>0.08834240</td><td>0.9116576</td><td>empleado</td></tr>\n",
       "\t<tr><th scope=row>6</th><td>empleado</td><td>0.11770076</td><td>0.8822992</td><td>empleado</td></tr>\n",
       "</tbody>\n",
       "</table>\n"
      ],
      "text/latex": [
       "A data.frame: 6 × 4\n",
       "\\begin{tabular}{r|llll}\n",
       "  & obs & desempleado & empleado & pred\\\\\n",
       "  & <fct> & <dbl> & <dbl> & <fct>\\\\\n",
       "\\hline\n",
       "\t1 & empleado & 0.01478977 & 0.9852102 & empleado\\\\\n",
       "\t2 & empleado & 0.13586405 & 0.8641359 & empleado\\\\\n",
       "\t3 & empleado & 0.01411712 & 0.9858829 & empleado\\\\\n",
       "\t4 & empleado & 0.05906118 & 0.9409388 & empleado\\\\\n",
       "\t5 & empleado & 0.08834240 & 0.9116576 & empleado\\\\\n",
       "\t6 & empleado & 0.11770076 & 0.8822992 & empleado\\\\\n",
       "\\end{tabular}\n"
      ],
      "text/markdown": [
       "\n",
       "A data.frame: 6 × 4\n",
       "\n",
       "| <!--/--> | obs &lt;fct&gt; | desempleado &lt;dbl&gt; | empleado &lt;dbl&gt; | pred &lt;fct&gt; |\n",
       "|---|---|---|---|---|\n",
       "| 1 | empleado | 0.01478977 | 0.9852102 | empleado |\n",
       "| 2 | empleado | 0.13586405 | 0.8641359 | empleado |\n",
       "| 3 | empleado | 0.01411712 | 0.9858829 | empleado |\n",
       "| 4 | empleado | 0.05906118 | 0.9409388 | empleado |\n",
       "| 5 | empleado | 0.08834240 | 0.9116576 | empleado |\n",
       "| 6 | empleado | 0.11770076 | 0.8822992 | empleado |\n",
       "\n"
      ],
      "text/plain": [
       "  obs      desempleado empleado  pred    \n",
       "1 empleado 0.01478977  0.9852102 empleado\n",
       "2 empleado 0.13586405  0.8641359 empleado\n",
       "3 empleado 0.01411712  0.9858829 empleado\n",
       "4 empleado 0.05906118  0.9409388 empleado\n",
       "5 empleado 0.08834240  0.9116576 empleado\n",
       "6 empleado 0.11770076  0.8822992 empleado"
      ]
     },
     "metadata": {},
     "output_type": "display_data"
    }
   ],
   "source": [
    "head(predictTest_logit)"
   ]
  },
  {
   "cell_type": "code",
   "execution_count": 26,
   "id": "26cc6bd6",
   "metadata": {
    "vscode": {
     "languageId": "r"
    }
   },
   "outputs": [],
   "source": [
    "test<- test  %>% mutate(desempleo_hat_logit_orig=predict(mylogit_caret,newdata = test,\n",
    "                           type = \"raw\"))"
   ]
  },
  {
   "cell_type": "code",
   "execution_count": 27,
   "id": "4f3b7a50",
   "metadata": {
    "vscode": {
     "languageId": "r"
    }
   },
   "outputs": [
    {
     "data": {
      "text/plain": [
       "Confusion Matrix and Statistics\n",
       "\n",
       "             Reference\n",
       "Prediction    desempleado empleado\n",
       "  desempleado           2        2\n",
       "  empleado            321     3291\n",
       "                                          \n",
       "               Accuracy : 0.9107          \n",
       "                 95% CI : (0.9009, 0.9198)\n",
       "    No Information Rate : 0.9107          \n",
       "    P-Value [Acc > NIR] : 0.5148          \n",
       "                                          \n",
       "                  Kappa : 0.0101          \n",
       "                                          \n",
       " Mcnemar's Test P-Value : <2e-16          \n",
       "                                          \n",
       "              Precision : 0.5000000       \n",
       "                 Recall : 0.0061920       \n",
       "                     F1 : 0.0122324       \n",
       "             Prevalence : 0.0893252       \n",
       "         Detection Rate : 0.0005531       \n",
       "   Detection Prevalence : 0.0011062       \n",
       "      Balanced Accuracy : 0.5027923       \n",
       "                                          \n",
       "       'Positive' Class : desempleado     \n",
       "                                          "
      ]
     },
     "metadata": {},
     "output_type": "display_data"
    }
   ],
   "source": [
    "confusionMatrix(data = test$desempleo_hat_logit_orig, \n",
    "                reference = test$desempleado, positive=\"desempleado\", mode = \"prec_recall\")\n"
   ]
  },
  {
   "cell_type": "code",
   "execution_count": 28,
   "id": "432c386f-5269-475f-b8a7-5b3c6c7862b9",
   "metadata": {
    "vscode": {
     "languageId": "r"
    }
   },
   "outputs": [
    {
     "data": {
      "text/plain": [
       "Confusion Matrix and Statistics\n",
       "\n",
       "             Reference\n",
       "Prediction    desempleado empleado\n",
       "  desempleado          11        6\n",
       "  empleado            312     3287\n",
       "                                          \n",
       "               Accuracy : 0.9121          \n",
       "                 95% CI : (0.9024, 0.9211)\n",
       "    No Information Rate : 0.9107          \n",
       "    P-Value [Acc > NIR] : 0.3994          \n",
       "                                          \n",
       "                  Kappa : 0.0563          \n",
       "                                          \n",
       " Mcnemar's Test P-Value : <2e-16          \n",
       "                                          \n",
       "              Precision : 0.647059        \n",
       "                 Recall : 0.034056        \n",
       "                     F1 : 0.064706        \n",
       "             Prevalence : 0.089325        \n",
       "         Detection Rate : 0.003042        \n",
       "   Detection Prevalence : 0.004701        \n",
       "      Balanced Accuracy : 0.516117        \n",
       "                                          \n",
       "       'Positive' Class : desempleado     \n",
       "                                          "
      ]
     },
     "metadata": {},
     "output_type": "display_data"
    }
   ],
   "source": [
    "X <- c(\"poly(edad,2,raw=TRUE)\", \"nivel_ed\",\"mujer\", \n",
    "        \"parentesco\", \"estado_civil\", \n",
    "        \"tipo_vivienda\",\n",
    "        \"poly(total_miembros_hogar,2,raw=TRUE)\",\n",
    "        \"poly(miembros_hogar_menores10,2,raw=TRUE)\",\n",
    "        \"poly(ing_tot_fam,2,raw=TRUE)\")\n",
    "\n",
    "\n",
    "set.seed(1410)\n",
    "glm_model_logit_ampliado <- train(\n",
    "    formula(paste0(\"desempleado ~\", paste0(X, collapse = \" + \"))),\n",
    "    method = \"glm\",\n",
    "    data = train,\n",
    "    family = \"binomial\",\n",
    "    trControl = ctrl,\n",
    "    preProcess = c(\"center\", \"scale\")\n",
    "  )\n",
    "\n",
    "\n",
    "\n",
    "test<- test  %>% mutate(desempleo_hat_logit_ampliado=predict(glm_model_logit_ampliado,newdata = test,\n",
    "                           type = \"raw\"))\n",
    "confusionMatrix(data = test$desempleo_hat_logit_ampliado, \n",
    "                reference = test$desempleado, positive=\"desempleado\", mode = \"prec_recall\")\n"
   ]
  },
  {
   "cell_type": "markdown",
   "id": "b9d36ff7-4b02-4be1-8dc8-379edd97e721",
   "metadata": {},
   "source": [
    "# ROC"
   ]
  },
  {
   "cell_type": "code",
   "execution_count": 29,
   "id": "1cddc0ec-9953-42fd-aaed-de9f54fb7486",
   "metadata": {
    "vscode": {
     "languageId": "r"
    }
   },
   "outputs": [
    {
     "name": "stderr",
     "output_type": "stream",
     "text": [
      "***MLeval: Machine Learning Model Evaluation***\n",
      "\n",
      "Input: caret train function object\n",
      "\n",
      "Not averaging probs.\n",
      "\n",
      "Group 1 type: cv\n",
      "\n",
      "Group 2 type: cv\n",
      "\n",
      "Observations: 16876\n",
      "\n",
      "Number of groups: 2\n",
      "\n",
      "Observations per group: 8438\n",
      "\n",
      "Positive: empleado\n",
      "\n",
      "Negative: desempleado\n",
      "\n",
      "Group: Basic\n",
      "\n",
      "Positive: 7741\n",
      "\n",
      "Negative: 697\n",
      "\n",
      "Group: Ampliado\n",
      "\n",
      "Positive: 7741\n",
      "\n",
      "Negative: 697\n",
      "\n",
      "***Performance Metrics***\n",
      "\n",
      "Basic Optimal Informedness = 0.367468158978344\n",
      "\n",
      "Ampliado Optimal Informedness = 0.382267035889505\n",
      "\n",
      "Basic AUC-ROC = 0.75\n",
      "\n",
      "Ampliado AUC-ROC = 0.76\n",
      "\n"
     ]
    },
    {
     "data": {
      "image/png": "[encoded data removed]",
      "text/plain": [
       "plot without title"
      ]
     },
     "metadata": {
      "image/png": {
       "height": 420,
       "width": 420
      }
     },
     "output_type": "display_data"
    }
   ],
   "source": [
    "#Curva ROC\n",
    "res_insample_all <- evalm(list(mylogit_caret, glm_model_logit_ampliado),gnames=c('Basic','Ampliado'),plots='r')"
   ]
  },
  {
   "cell_type": "code",
   "execution_count": 30,
   "id": "b33f5962-d6d4-4016-9592-25ba692db44a",
   "metadata": {
    "vscode": {
     "languageId": "r"
    }
   },
   "outputs": [
    {
     "data": {
      "text/plain": [
       "glmnet \n",
       "\n",
       "8438 samples\n",
       "   9 predictor\n",
       "   2 classes: 'desempleado', 'empleado' \n",
       "\n",
       "Pre-processing: centered (34), scaled (34) \n",
       "Resampling: Cross-Validated (5 fold) \n",
       "Summary of sample sizes: 6750, 6751, 6750, 6751, 6750 \n",
       "Resampling results across tuning parameters:\n",
       "\n",
       "  alpha  lambda        Accuracy   Kappa        \n",
       "  0.0    0.0001000000  0.9170421   0.0039988742\n",
       "  0.0    0.0001151395  0.9170421   0.0039988742\n",
       "  0.0    0.0001325711  0.9170421   0.0039988742\n",
       "  0.0    0.0001526418  0.9170421   0.0039988742\n",
       "  0.0    0.0001757511  0.9170421   0.0039988742\n",
       "  0.0    0.0002023590  0.9170421   0.0039988742\n",
       "  0.0    0.0002329952  0.9170421   0.0039988742\n",
       "  0.0    0.0002682696  0.9170421   0.0039988742\n",
       "  0.0    0.0003088844  0.9170421   0.0039988742\n",
       "  0.0    0.0003556480  0.9170421   0.0039988742\n",
       "  0.0    0.0004094915  0.9170421   0.0039988742\n",
       "  0.0    0.0004714866  0.9170421   0.0039988742\n",
       "  0.0    0.0005428675  0.9170421   0.0039988742\n",
       "  0.0    0.0006250552  0.9170421   0.0039988742\n",
       "  0.0    0.0007196857  0.9170421   0.0039988742\n",
       "  0.0    0.0008286428  0.9170421   0.0039988742\n",
       "  0.0    0.0009540955  0.9170421   0.0039988742\n",
       "  0.0    0.0010985411  0.9170421   0.0039988742\n",
       "  0.0    0.0012648552  0.9170421   0.0039988742\n",
       "  0.0    0.0014563485  0.9170421   0.0039988742\n",
       "  0.0    0.0016768329  0.9170421   0.0039988742\n",
       "  0.0    0.0019306977  0.9170421   0.0039988742\n",
       "  0.0    0.0022229965  0.9170421   0.0039988742\n",
       "  0.0    0.0025595479  0.9170421   0.0039988742\n",
       "  0.0    0.0029470517  0.9170421   0.0039988742\n",
       "  0.0    0.0033932218  0.9170421   0.0039988742\n",
       "  0.0    0.0039069399  0.9171606   0.0042487504\n",
       "  0.0    0.0044984327  0.9170421   0.0016239316\n",
       "  0.0    0.0051794747  0.9170421   0.0016239316\n",
       "  0.0    0.0059636233  0.9171606   0.0018648327\n",
       "  0.0    0.0068664885  0.9171606   0.0018648327\n",
       "  0.0    0.0079060432  0.9171606   0.0018648327\n",
       "  0.0    0.0091029818  0.9171606  -0.0004683527\n",
       "  0.0    0.0104811313  0.9171606  -0.0004683527\n",
       "  0.0    0.0120679264  0.9171606  -0.0004683527\n",
       "  0.0    0.0138949549  0.9171606  -0.0004683527\n",
       "  0.0    0.0159985872  0.9171606  -0.0004683527\n",
       "  0.0    0.0184206997  0.9173975   0.0000000000\n",
       "  0.0    0.0212095089  0.9173975   0.0000000000\n",
       "  0.0    0.0244205309  0.9173975   0.0000000000\n",
       "  0.0    0.0281176870  0.9173975   0.0000000000\n",
       "  0.0    0.0323745754  0.9173975   0.0000000000\n",
       "  0.0    0.0372759372  0.9173975   0.0000000000\n",
       "  0.0    0.0429193426  0.9173975   0.0000000000\n",
       "  0.0    0.0494171336  0.9173975   0.0000000000\n",
       "  0.0    0.0568986603  0.9173975   0.0000000000\n",
       "  0.0    0.0655128557  0.9173975   0.0000000000\n",
       "  0.0    0.0754312006  0.9173975   0.0000000000\n",
       "  0.0    0.0868511374  0.9173975   0.0000000000\n",
       "  0.0    0.1000000000  0.9173975   0.0000000000\n",
       "  0.1    0.0001000000  0.9164492   0.0166414161\n",
       "  0.1    0.0001151395  0.9163308   0.0142000498\n",
       "  0.1    0.0001325711  0.9163308   0.0142000498\n",
       "  0.1    0.0001526418  0.9163308   0.0142000498\n",
       "  0.1    0.0001757511  0.9164493   0.0144606649\n",
       "  0.1    0.0002023590  0.9164493   0.0144606649\n",
       "  0.1    0.0002329952  0.9164493   0.0144606649\n",
       "  0.1    0.0002682696  0.9164493   0.0144606649\n",
       "  0.1    0.0003088844  0.9164493   0.0144606649\n",
       "  0.1    0.0003556480  0.9164493   0.0144606649\n",
       "  0.1    0.0004094915  0.9165679   0.0146828463\n",
       "  0.1    0.0004714866  0.9168048   0.0151711204\n",
       "  0.1    0.0005428675  0.9166864   0.0126272678\n",
       "  0.1    0.0006250552  0.9166864   0.0126272678\n",
       "  0.1    0.0007196857  0.9166864   0.0126272678\n",
       "  0.1    0.0008286428  0.9168048   0.0128755938\n",
       "  0.1    0.0009540955  0.9168048   0.0105205665\n",
       "  0.1    0.0010985411  0.9168048   0.0105205665\n",
       "  0.1    0.0012648552  0.9166864   0.0079465808\n",
       "  0.1    0.0014563485  0.9168049   0.0081740231\n",
       "  0.1    0.0016768329  0.9170419   0.0086553492\n",
       "  0.1    0.0019306977  0.9171606   0.0065192752\n",
       "  0.1    0.0022229965  0.9171606   0.0065192752\n",
       "  0.1    0.0025595479  0.9170421   0.0039988742\n",
       "  0.1    0.0029470517  0.9170421   0.0039988742\n",
       "  0.1    0.0033932218  0.9171606   0.0042487504\n",
       "  0.1    0.0039069399  0.9170421   0.0016239316\n",
       "  0.1    0.0044984327  0.9170421   0.0016239316\n",
       "  0.1    0.0051794747  0.9171606   0.0018648327\n",
       "  0.1    0.0059636233  0.9171606   0.0018648327\n",
       "  0.1    0.0068664885  0.9171606   0.0018648327\n",
       "  0.1    0.0079060432  0.9171606  -0.0004683527\n",
       "  0.1    0.0091029818  0.9171606  -0.0004683527\n",
       "  0.1    0.0104811313  0.9171606  -0.0004683527\n",
       "  0.1    0.0120679264  0.9172791  -0.0002355633\n",
       "  0.1    0.0138949549  0.9172791  -0.0002355633\n",
       "  0.1    0.0159985872  0.9173975   0.0000000000\n",
       "  0.1    0.0184206997  0.9173975   0.0000000000\n",
       "  0.1    0.0212095089  0.9173975   0.0000000000\n",
       "  0.1    0.0244205309  0.9173975   0.0000000000\n",
       "  0.1    0.0281176870  0.9173975   0.0000000000\n",
       "  0.1    0.0323745754  0.9173975   0.0000000000\n",
       "  0.1    0.0372759372  0.9173975   0.0000000000\n",
       "  0.1    0.0429193426  0.9173975   0.0000000000\n",
       "  0.1    0.0494171336  0.9173975   0.0000000000\n",
       "  0.1    0.0568986603  0.9173975   0.0000000000\n",
       "  0.1    0.0655128557  0.9173975   0.0000000000\n",
       "  0.1    0.0754312006  0.9173975   0.0000000000\n",
       "  0.1    0.0868511374  0.9173975   0.0000000000\n",
       "  0.1    0.1000000000  0.9173975   0.0000000000\n",
       "  0.2    0.0001000000  0.9164492   0.0166414161\n",
       "  0.2    0.0001151395  0.9163308   0.0142000498\n",
       "  0.2    0.0001325711  0.9163308   0.0142000498\n",
       "  0.2    0.0001526418  0.9163308   0.0142000498\n",
       "  0.2    0.0001757511  0.9164493   0.0144606649\n",
       "  0.2    0.0002023590  0.9164493   0.0144606649\n",
       "  0.2    0.0002329952  0.9164493   0.0144606649\n",
       "  0.2    0.0002682696  0.9164493   0.0144606649\n",
       "  0.2    0.0003088844  0.9164493   0.0144606649\n",
       "  0.2    0.0003556480  0.9164493   0.0144606649\n",
       "  0.2    0.0004094915  0.9164493   0.0144606649\n",
       "  0.2    0.0004714866  0.9165679   0.0123817502\n",
       "  0.2    0.0005428675  0.9166864   0.0126272678\n",
       "  0.2    0.0006250552  0.9166864   0.0126272678\n",
       "  0.2    0.0007196857  0.9166864   0.0126272678\n",
       "  0.2    0.0008286428  0.9169234   0.0131003826\n",
       "  0.2    0.0009540955  0.9168048   0.0105205665\n",
       "  0.2    0.0010985411  0.9168048   0.0105205665\n",
       "  0.2    0.0012648552  0.9168049   0.0081740231\n",
       "  0.2    0.0014563485  0.9169235   0.0084041662\n",
       "  0.2    0.0016768329  0.9170420   0.0062835841\n",
       "  0.2    0.0019306977  0.9171606   0.0065192752\n",
       "  0.2    0.0022229965  0.9171606   0.0065192752\n",
       "  0.2    0.0025595479  0.9170421   0.0039988742\n",
       "  0.2    0.0029470517  0.9171606   0.0042487504\n",
       "  0.2    0.0033932218  0.9170421   0.0016239316\n",
       "  0.2    0.0039069399  0.9170421   0.0016239316\n",
       "  0.2    0.0044984327  0.9171606   0.0018648327\n",
       "  0.2    0.0051794747  0.9171606   0.0018648327\n",
       "  0.2    0.0059636233  0.9171606   0.0018648327\n",
       "  0.2    0.0068664885  0.9171606  -0.0004683527\n",
       "  0.2    0.0079060432  0.9171606  -0.0004683527\n",
       "  0.2    0.0091029818  0.9172791  -0.0002355633\n",
       "  0.2    0.0104811313  0.9172791  -0.0002355633\n",
       "  0.2    0.0120679264  0.9173975   0.0000000000\n",
       "  0.2    0.0138949549  0.9173975   0.0000000000\n",
       "  0.2    0.0159985872  0.9173975   0.0000000000\n",
       "  0.2    0.0184206997  0.9173975   0.0000000000\n",
       "  0.2    0.0212095089  0.9173975   0.0000000000\n",
       "  0.2    0.0244205309  0.9173975   0.0000000000\n",
       "  0.2    0.0281176870  0.9173975   0.0000000000\n",
       "  0.2    0.0323745754  0.9173975   0.0000000000\n",
       "  0.2    0.0372759372  0.9173975   0.0000000000\n",
       "  0.2    0.0429193426  0.9173975   0.0000000000\n",
       "  0.2    0.0494171336  0.9173975   0.0000000000\n",
       "  0.2    0.0568986603  0.9173975   0.0000000000\n",
       "  0.2    0.0655128557  0.9173975   0.0000000000\n",
       "  0.2    0.0754312006  0.9173975   0.0000000000\n",
       "  0.2    0.0868511374  0.9173975   0.0000000000\n",
       "  0.2    0.1000000000  0.9173975   0.0000000000\n",
       "  0.3    0.0001000000  0.9164492   0.0166414161\n",
       "  0.3    0.0001151395  0.9163308   0.0142000498\n",
       "  0.3    0.0001325711  0.9163308   0.0142000498\n",
       "  0.3    0.0001526418  0.9163308   0.0142000498\n",
       "  0.3    0.0001757511  0.9164493   0.0144606649\n",
       "  0.3    0.0002023590  0.9164493   0.0144606649\n",
       "  0.3    0.0002329952  0.9164493   0.0144606649\n",
       "  0.3    0.0002682696  0.9164493   0.0144606649\n",
       "  0.3    0.0003088844  0.9164493   0.0144606649\n",
       "  0.3    0.0003556480  0.9164493   0.0144606649\n",
       "  0.3    0.0004094915  0.9165678   0.0147034214\n",
       "  0.3    0.0004714866  0.9165679   0.0123817502\n",
       "  0.3    0.0005428675  0.9165679   0.0123817502\n",
       "  0.3    0.0006250552  0.9166864   0.0126272678\n",
       "  0.3    0.0007196857  0.9166864   0.0126272678\n",
       "  0.3    0.0008286428  0.9169234   0.0131003826\n",
       "  0.3    0.0009540955  0.9168048   0.0105205665\n",
       "  0.3    0.0010985411  0.9168048   0.0105205665\n",
       "  0.3    0.0012648552  0.9169235   0.0084041662\n",
       "  0.3    0.0014563485  0.9171605   0.0088882415\n",
       "  0.3    0.0016768329  0.9171606   0.0065192752\n",
       "  0.3    0.0019306977  0.9171606   0.0065192752\n",
       "  0.3    0.0022229965  0.9170421   0.0039988742\n",
       "  0.3    0.0025595479  0.9170421   0.0016239316\n",
       "  0.3    0.0029470517  0.9170421   0.0016239316\n",
       "  0.3    0.0033932218  0.9170421   0.0016239316\n",
       "  0.3    0.0039069399  0.9171606   0.0018648327\n",
       "  0.3    0.0044984327  0.9171606   0.0018648327\n",
       "  0.3    0.0051794747  0.9170421  -0.0006984169\n",
       "  0.3    0.0059636233  0.9171606  -0.0004683527\n",
       "  0.3    0.0068664885  0.9171606  -0.0004683527\n",
       "  0.3    0.0079060432  0.9172791  -0.0002355633\n",
       "  0.3    0.0091029818  0.9172791  -0.0002355633\n",
       "  0.3    0.0104811313  0.9173975   0.0000000000\n",
       "  0.3    0.0120679264  0.9173975   0.0000000000\n",
       "  0.3    0.0138949549  0.9173975   0.0000000000\n",
       "  0.3    0.0159985872  0.9173975   0.0000000000\n",
       "  0.3    0.0184206997  0.9173975   0.0000000000\n",
       "  0.3    0.0212095089  0.9173975   0.0000000000\n",
       "  0.3    0.0244205309  0.9173975   0.0000000000\n",
       "  0.3    0.0281176870  0.9173975   0.0000000000\n",
       "  0.3    0.0323745754  0.9173975   0.0000000000\n",
       "  0.3    0.0372759372  0.9173975   0.0000000000\n",
       "  0.3    0.0429193426  0.9173975   0.0000000000\n",
       "  0.3    0.0494171336  0.9173975   0.0000000000\n",
       "  0.3    0.0568986603  0.9173975   0.0000000000\n",
       "  0.3    0.0655128557  0.9173975   0.0000000000\n",
       "  0.3    0.0754312006  0.9173975   0.0000000000\n",
       "  0.3    0.0868511374  0.9173975   0.0000000000\n",
       "  0.3    0.1000000000  0.9173975   0.0000000000\n",
       "  0.4    0.0001000000  0.9164492   0.0166414161\n",
       "  0.4    0.0001151395  0.9164492   0.0166414161\n",
       "  0.4    0.0001325711  0.9163308   0.0142000498\n",
       "  0.4    0.0001526418  0.9163308   0.0142000498\n",
       "  0.4    0.0001757511  0.9164493   0.0144606649\n",
       "  0.4    0.0002023590  0.9164493   0.0144606649\n",
       "  0.4    0.0002329952  0.9164493   0.0144606649\n",
       "  0.4    0.0002682696  0.9164493   0.0144606649\n",
       "  0.4    0.0003088844  0.9164493   0.0144606649\n",
       "  0.4    0.0003556480  0.9164493   0.0144606649\n",
       "  0.4    0.0004094915  0.9164493   0.0121595688\n",
       "  0.4    0.0004714866  0.9164493   0.0121595688\n",
       "  0.4    0.0005428675  0.9165679   0.0123817502\n",
       "  0.4    0.0006250552  0.9165679   0.0123817502\n",
       "  0.4    0.0007196857  0.9169234   0.0131003826\n",
       "  0.4    0.0008286428  0.9168048   0.0105205665\n",
       "  0.4    0.0009540955  0.9168048   0.0105205665\n",
       "  0.4    0.0010985411  0.9169235   0.0084041662\n",
       "  0.4    0.0012648552  0.9170420   0.0086370585\n",
       "  0.4    0.0014563485  0.9171606   0.0065192752\n",
       "  0.4    0.0016768329  0.9171606   0.0065192752\n",
       "  0.4    0.0019306977  0.9171606   0.0065192752\n",
       "  0.4    0.0022229965  0.9170421   0.0016239316\n",
       "  0.4    0.0025595479  0.9170421   0.0016239316\n",
       "  0.4    0.0029470517  0.9170421   0.0016239316\n",
       "  0.4    0.0033932218  0.9171606   0.0018648327\n",
       "  0.4    0.0039069399  0.9171606   0.0018648327\n",
       "  0.4    0.0044984327  0.9170421  -0.0006984169\n",
       "  0.4    0.0051794747  0.9171606  -0.0004683527\n",
       "  0.4    0.0059636233  0.9172791  -0.0002355633\n",
       "  0.4    0.0068664885  0.9172791  -0.0002355633\n",
       "  0.4    0.0079060432  0.9172791  -0.0002355633\n",
       "  0.4    0.0091029818  0.9173975   0.0000000000\n",
       "  0.4    0.0104811313  0.9173975   0.0000000000\n",
       "  0.4    0.0120679264  0.9173975   0.0000000000\n",
       "  0.4    0.0138949549  0.9173975   0.0000000000\n",
       "  0.4    0.0159985872  0.9173975   0.0000000000\n",
       "  0.4    0.0184206997  0.9173975   0.0000000000\n",
       "  0.4    0.0212095089  0.9173975   0.0000000000\n",
       "  0.4    0.0244205309  0.9173975   0.0000000000\n",
       "  0.4    0.0281176870  0.9173975   0.0000000000\n",
       "  0.4    0.0323745754  0.9173975   0.0000000000\n",
       "  0.4    0.0372759372  0.9173975   0.0000000000\n",
       "  0.4    0.0429193426  0.9173975   0.0000000000\n",
       "  0.4    0.0494171336  0.9173975   0.0000000000\n",
       "  0.4    0.0568986603  0.9173975   0.0000000000\n",
       "  0.4    0.0655128557  0.9173975   0.0000000000\n",
       "  0.4    0.0754312006  0.9173975   0.0000000000\n",
       "  0.4    0.0868511374  0.9173975   0.0000000000\n",
       "  0.4    0.1000000000  0.9173975   0.0000000000\n",
       "  0.5    0.0001000000  0.9164492   0.0166414161\n",
       "  0.5    0.0001151395  0.9164492   0.0166414161\n",
       "  0.5    0.0001325711  0.9163308   0.0142000498\n",
       "  0.5    0.0001526418  0.9163308   0.0142000498\n",
       "  0.5    0.0001757511  0.9164493   0.0144606649\n",
       "  0.5    0.0002023590  0.9164493   0.0144606649\n",
       "  0.5    0.0002329952  0.9164493   0.0144606649\n",
       "  0.5    0.0002682696  0.9164493   0.0144606649\n",
       "  0.5    0.0003088844  0.9164493   0.0144606649\n",
       "  0.5    0.0003556480  0.9164493   0.0144606649\n",
       "  0.5    0.0004094915  0.9164493   0.0121595688\n",
       "  0.5    0.0004714866  0.9164493   0.0121595688\n",
       "  0.5    0.0005428675  0.9164493   0.0121595688\n",
       "  0.5    0.0006250552  0.9165679   0.0123817502\n",
       "  0.5    0.0007196857  0.9169234   0.0131003826\n",
       "  0.5    0.0008286428  0.9168048   0.0105205665\n",
       "  0.5    0.0009540955  0.9169234   0.0107480088\n",
       "  0.5    0.0010985411  0.9170420   0.0086370585\n",
       "  0.5    0.0012648552  0.9170420   0.0062835841\n",
       "  0.5    0.0014563485  0.9171606   0.0065192752\n",
       "  0.5    0.0016768329  0.9171606   0.0065192752\n",
       "  0.5    0.0019306977  0.9171606   0.0042487504\n",
       "  0.5    0.0022229965  0.9170421   0.0016239316\n",
       "  0.5    0.0025595479  0.9170421   0.0016239316\n",
       "  0.5    0.0029470517  0.9170421   0.0016239316\n",
       "  0.5    0.0033932218  0.9171606   0.0018648327\n",
       "  0.5    0.0039069399  0.9171606   0.0018648327\n",
       "  0.5    0.0044984327  0.9170421  -0.0006984169\n",
       "  0.5    0.0051794747  0.9172791  -0.0002355633\n",
       "  0.5    0.0059636233  0.9172791  -0.0002355633\n",
       "  0.5    0.0068664885  0.9172791  -0.0002355633\n",
       "  0.5    0.0079060432  0.9173975   0.0000000000\n",
       "  0.5    0.0091029818  0.9173975   0.0000000000\n",
       "  0.5    0.0104811313  0.9173975   0.0000000000\n",
       "  0.5    0.0120679264  0.9173975   0.0000000000\n",
       "  0.5    0.0138949549  0.9173975   0.0000000000\n",
       "  0.5    0.0159985872  0.9173975   0.0000000000\n",
       "  0.5    0.0184206997  0.9173975   0.0000000000\n",
       "  0.5    0.0212095089  0.9173975   0.0000000000\n",
       "  0.5    0.0244205309  0.9173975   0.0000000000\n",
       "  0.5    0.0281176870  0.9173975   0.0000000000\n",
       "  0.5    0.0323745754  0.9173975   0.0000000000\n",
       "  0.5    0.0372759372  0.9173975   0.0000000000\n",
       "  0.5    0.0429193426  0.9173975   0.0000000000\n",
       "  0.5    0.0494171336  0.9173975   0.0000000000\n",
       "  0.5    0.0568986603  0.9173975   0.0000000000\n",
       "  0.5    0.0655128557  0.9173975   0.0000000000\n",
       "  0.5    0.0754312006  0.9173975   0.0000000000\n",
       "  0.5    0.0868511374  0.9173975   0.0000000000\n",
       "  0.5    0.1000000000  0.9173975   0.0000000000\n",
       "  0.6    0.0001000000  0.9164492   0.0166414161\n",
       "  0.6    0.0001151395  0.9164492   0.0166414161\n",
       "  0.6    0.0001325711  0.9163308   0.0142000498\n",
       "  0.6    0.0001526418  0.9163308   0.0142000498\n",
       "  0.6    0.0001757511  0.9164493   0.0144606649\n",
       "  0.6    0.0002023590  0.9164493   0.0144606649\n",
       "  0.6    0.0002329952  0.9164493   0.0144606649\n",
       "  0.6    0.0002682696  0.9164493   0.0144606649\n",
       "  0.6    0.0003088844  0.9164493   0.0144606649\n",
       "  0.6    0.0003556480  0.9163308   0.0119168124\n",
       "  0.6    0.0004094915  0.9163308   0.0119168124\n",
       "  0.6    0.0004714866  0.9164493   0.0121595688\n",
       "  0.6    0.0005428675  0.9164493   0.0121595688\n",
       "  0.6    0.0006250552  0.9165679   0.0123817502\n",
       "  0.6    0.0007196857  0.9169234   0.0131003826\n",
       "  0.6    0.0008286428  0.9168048   0.0105205665\n",
       "  0.6    0.0009540955  0.9170419   0.0109781519\n",
       "  0.6    0.0010985411  0.9170420   0.0086370585\n",
       "  0.6    0.0012648552  0.9171606   0.0065192752\n",
       "  0.6    0.0014563485  0.9171606   0.0065192752\n",
       "  0.6    0.0016768329  0.9172791   0.0067691514\n",
       "  0.6    0.0019306977  0.9170421   0.0016239316\n",
       "  0.6    0.0022229965  0.9170421   0.0016239316\n",
       "  0.6    0.0025595479  0.9170421   0.0016239316\n",
       "  0.6    0.0029470517  0.9171606   0.0018648327\n",
       "  0.6    0.0033932218  0.9171606   0.0018648327\n",
       "  0.6    0.0039069399  0.9170421  -0.0006984169\n",
       "  0.6    0.0044984327  0.9172791  -0.0002355633\n",
       "  0.6    0.0051794747  0.9172791  -0.0002355633\n",
       "  0.6    0.0059636233  0.9172791  -0.0002355633\n",
       "  0.6    0.0068664885  0.9173975   0.0000000000\n",
       "  0.6    0.0079060432  0.9173975   0.0000000000\n",
       "  0.6    0.0091029818  0.9173975   0.0000000000\n",
       "  0.6    0.0104811313  0.9173975   0.0000000000\n",
       "  0.6    0.0120679264  0.9173975   0.0000000000\n",
       "  0.6    0.0138949549  0.9173975   0.0000000000\n",
       "  0.6    0.0159985872  0.9173975   0.0000000000\n",
       "  0.6    0.0184206997  0.9173975   0.0000000000\n",
       "  0.6    0.0212095089  0.9173975   0.0000000000\n",
       "  0.6    0.0244205309  0.9173975   0.0000000000\n",
       "  0.6    0.0281176870  0.9173975   0.0000000000\n",
       "  0.6    0.0323745754  0.9173975   0.0000000000\n",
       "  0.6    0.0372759372  0.9173975   0.0000000000\n",
       "  0.6    0.0429193426  0.9173975   0.0000000000\n",
       "  0.6    0.0494171336  0.9173975   0.0000000000\n",
       "  0.6    0.0568986603  0.9173975   0.0000000000\n",
       "  0.6    0.0655128557  0.9173975   0.0000000000\n",
       "  0.6    0.0754312006  0.9173975   0.0000000000\n",
       "  0.6    0.0868511374  0.9173975   0.0000000000\n",
       "  0.6    0.1000000000  0.9173975   0.0000000000\n",
       "  0.7    0.0001000000  0.9165678   0.0191833416\n",
       "  0.7    0.0001151395  0.9164492   0.0166414161\n",
       "  0.7    0.0001325711  0.9163308   0.0142000498\n",
       "  0.7    0.0001526418  0.9163308   0.0142000498\n",
       "  0.7    0.0001757511  0.9164493   0.0144606649\n",
       "  0.7    0.0002023590  0.9164493   0.0144606649\n",
       "  0.7    0.0002329952  0.9164493   0.0144606649\n",
       "  0.7    0.0002682696  0.9164493   0.0144606649\n",
       "  0.7    0.0003088844  0.9164493   0.0144606649\n",
       "  0.7    0.0003556480  0.9163308   0.0119168124\n",
       "  0.7    0.0004094915  0.9163308   0.0119168124\n",
       "  0.7    0.0004714866  0.9164493   0.0121595688\n",
       "  0.7    0.0005428675  0.9164493   0.0121595688\n",
       "  0.7    0.0006250552  0.9165679   0.0123817502\n",
       "  0.7    0.0007196857  0.9168048   0.0105205665\n",
       "  0.7    0.0008286428  0.9169234   0.0107480088\n",
       "  0.7    0.0009540955  0.9170420   0.0086370585\n",
       "  0.7    0.0010985411  0.9169235   0.0060324011\n",
       "  0.7    0.0012648552  0.9171606   0.0065192752\n",
       "  0.7    0.0014563485  0.9171606   0.0065192752\n",
       "  0.7    0.0016768329  0.9170421   0.0016239316\n",
       "  0.7    0.0019306977  0.9170421   0.0016239316\n",
       "  0.7    0.0022229965  0.9170421   0.0016239316\n",
       "  0.7    0.0025595479  0.9171606   0.0018648327\n",
       "  0.7    0.0029470517  0.9171606   0.0018648327\n",
       "  0.7    0.0033932218  0.9170421  -0.0006984169\n",
       "  0.7    0.0039069399  0.9170421  -0.0006984169\n",
       "  0.7    0.0044984327  0.9172791  -0.0002355633\n",
       "  0.7    0.0051794747  0.9172791  -0.0002355633\n",
       "  0.7    0.0059636233  0.9173975   0.0000000000\n",
       "  0.7    0.0068664885  0.9173975   0.0000000000\n",
       "  0.7    0.0079060432  0.9173975   0.0000000000\n",
       "  0.7    0.0091029818  0.9173975   0.0000000000\n",
       "  0.7    0.0104811313  0.9173975   0.0000000000\n",
       "  0.7    0.0120679264  0.9173975   0.0000000000\n",
       "  0.7    0.0138949549  0.9173975   0.0000000000\n",
       "  0.7    0.0159985872  0.9173975   0.0000000000\n",
       "  0.7    0.0184206997  0.9173975   0.0000000000\n",
       "  0.7    0.0212095089  0.9173975   0.0000000000\n",
       "  0.7    0.0244205309  0.9173975   0.0000000000\n",
       "  0.7    0.0281176870  0.9173975   0.0000000000\n",
       "  0.7    0.0323745754  0.9173975   0.0000000000\n",
       "  0.7    0.0372759372  0.9173975   0.0000000000\n",
       "  0.7    0.0429193426  0.9173975   0.0000000000\n",
       "  0.7    0.0494171336  0.9173975   0.0000000000\n",
       "  0.7    0.0568986603  0.9173975   0.0000000000\n",
       "  0.7    0.0655128557  0.9173975   0.0000000000\n",
       "  0.7    0.0754312006  0.9173975   0.0000000000\n",
       "  0.7    0.0868511374  0.9173975   0.0000000000\n",
       "  0.7    0.1000000000  0.9173975   0.0000000000\n",
       "  0.8    0.0001000000  0.9165678   0.0191833416\n",
       "  0.8    0.0001151395  0.9164492   0.0166414161\n",
       "  0.8    0.0001325711  0.9164492   0.0166414161\n",
       "  0.8    0.0001526418  0.9163308   0.0142000498\n",
       "  0.8    0.0001757511  0.9163308   0.0142000498\n",
       "  0.8    0.0002023590  0.9164493   0.0144606649\n",
       "  0.8    0.0002329952  0.9164493   0.0144606649\n",
       "  0.8    0.0002682696  0.9164493   0.0144606649\n",
       "  0.8    0.0003088844  0.9164493   0.0144606649\n",
       "  0.8    0.0003556480  0.9163308   0.0119168124\n",
       "  0.8    0.0004094915  0.9163308   0.0119168124\n",
       "  0.8    0.0004714866  0.9164493   0.0121595688\n",
       "  0.8    0.0005428675  0.9164493   0.0121595688\n",
       "  0.8    0.0006250552  0.9165679   0.0123817502\n",
       "  0.8    0.0007196857  0.9166863   0.0102957777\n",
       "  0.8    0.0008286428  0.9169234   0.0107480088\n",
       "  0.8    0.0009540955  0.9170420   0.0086370585\n",
       "  0.8    0.0010985411  0.9170420   0.0062835841\n",
       "  0.8    0.0012648552  0.9171606   0.0065192752\n",
       "  0.8    0.0014563485  0.9171606   0.0065192752\n",
       "  0.8    0.0016768329  0.9170421   0.0016239316\n",
       "  0.8    0.0019306977  0.9170421   0.0016239316\n",
       "  0.8    0.0022229965  0.9170421   0.0016239316\n",
       "  0.8    0.0025595479  0.9171606   0.0018648327\n",
       "  0.8    0.0029470517  0.9170421  -0.0006984169\n",
       "  0.8    0.0033932218  0.9170421  -0.0006984169\n",
       "  0.8    0.0039069399  0.9172791  -0.0002355633\n",
       "  0.8    0.0044984327  0.9172791  -0.0002355633\n",
       "  0.8    0.0051794747  0.9172791  -0.0002355633\n",
       "  0.8    0.0059636233  0.9173975   0.0000000000\n",
       "  0.8    0.0068664885  0.9173975   0.0000000000\n",
       "  0.8    0.0079060432  0.9173975   0.0000000000\n",
       "  0.8    0.0091029818  0.9173975   0.0000000000\n",
       "  0.8    0.0104811313  0.9173975   0.0000000000\n",
       "  0.8    0.0120679264  0.9173975   0.0000000000\n",
       "  0.8    0.0138949549  0.9173975   0.0000000000\n",
       "  0.8    0.0159985872  0.9173975   0.0000000000\n",
       "  0.8    0.0184206997  0.9173975   0.0000000000\n",
       "  0.8    0.0212095089  0.9173975   0.0000000000\n",
       "  0.8    0.0244205309  0.9173975   0.0000000000\n",
       "  0.8    0.0281176870  0.9173975   0.0000000000\n",
       "  0.8    0.0323745754  0.9173975   0.0000000000\n",
       "  0.8    0.0372759372  0.9173975   0.0000000000\n",
       "  0.8    0.0429193426  0.9173975   0.0000000000\n",
       "  0.8    0.0494171336  0.9173975   0.0000000000\n",
       "  0.8    0.0568986603  0.9173975   0.0000000000\n",
       "  0.8    0.0655128557  0.9173975   0.0000000000\n",
       "  0.8    0.0754312006  0.9173975   0.0000000000\n",
       "  0.8    0.0868511374  0.9173975   0.0000000000\n",
       "  0.8    0.1000000000  0.9173975   0.0000000000\n",
       "  0.9    0.0001000000  0.9165678   0.0191833416\n",
       "  0.9    0.0001151395  0.9164492   0.0166414161\n",
       "  0.9    0.0001325711  0.9164492   0.0166414161\n",
       "  0.9    0.0001526418  0.9163308   0.0142000498\n",
       "  0.9    0.0001757511  0.9163308   0.0142000498\n",
       "  0.9    0.0002023590  0.9164493   0.0144606649\n",
       "  0.9    0.0002329952  0.9164493   0.0144606649\n",
       "  0.9    0.0002682696  0.9164493   0.0144606649\n",
       "  0.9    0.0003088844  0.9164493   0.0144606649\n",
       "  0.9    0.0003556480  0.9163308   0.0119168124\n",
       "  0.9    0.0004094915  0.9163308   0.0119168124\n",
       "  0.9    0.0004714866  0.9163308   0.0119168124\n",
       "  0.9    0.0005428675  0.9164493   0.0121595688\n",
       "  0.9    0.0006250552  0.9165679   0.0123817502\n",
       "  0.9    0.0007196857  0.9168048   0.0105205665\n",
       "  0.9    0.0008286428  0.9169235   0.0084041662\n",
       "  0.9    0.0009540955  0.9169235   0.0060324011\n",
       "  0.9    0.0010985411  0.9171606   0.0065192752\n",
       "  0.9    0.0012648552  0.9171606   0.0065192752\n",
       "  0.9    0.0014563485  0.9170421   0.0016239316\n",
       "  0.9    0.0016768329  0.9170421   0.0016239316\n",
       "  0.9    0.0019306977  0.9170421   0.0016239316\n",
       "  0.9    0.0022229965  0.9171606   0.0018648327\n",
       "  0.9    0.0025595479  0.9171606   0.0018648327\n",
       "  0.9    0.0029470517  0.9170421  -0.0006984169\n",
       "  0.9    0.0033932218  0.9171606  -0.0004683527\n",
       "  0.9    0.0039069399  0.9172791  -0.0002355633\n",
       "  0.9    0.0044984327  0.9172791  -0.0002355633\n",
       "  0.9    0.0051794747  0.9173975   0.0000000000\n",
       "  0.9    0.0059636233  0.9173975   0.0000000000\n",
       "  0.9    0.0068664885  0.9173975   0.0000000000\n",
       "  0.9    0.0079060432  0.9173975   0.0000000000\n",
       "  0.9    0.0091029818  0.9173975   0.0000000000\n",
       "  0.9    0.0104811313  0.9173975   0.0000000000\n",
       "  0.9    0.0120679264  0.9173975   0.0000000000\n",
       "  0.9    0.0138949549  0.9173975   0.0000000000\n",
       "  0.9    0.0159985872  0.9173975   0.0000000000\n",
       "  0.9    0.0184206997  0.9173975   0.0000000000\n",
       "  0.9    0.0212095089  0.9173975   0.0000000000\n",
       "  0.9    0.0244205309  0.9173975   0.0000000000\n",
       "  0.9    0.0281176870  0.9173975   0.0000000000\n",
       "  0.9    0.0323745754  0.9173975   0.0000000000\n",
       "  0.9    0.0372759372  0.9173975   0.0000000000\n",
       "  0.9    0.0429193426  0.9173975   0.0000000000\n",
       "  0.9    0.0494171336  0.9173975   0.0000000000\n",
       "  0.9    0.0568986603  0.9173975   0.0000000000\n",
       "  0.9    0.0655128557  0.9173975   0.0000000000\n",
       "  0.9    0.0754312006  0.9173975   0.0000000000\n",
       "  0.9    0.0868511374  0.9173975   0.0000000000\n",
       "  0.9    0.1000000000  0.9173975   0.0000000000\n",
       "  1.0    0.0001000000  0.9165678   0.0191833416\n",
       "  1.0    0.0001151395  0.9164492   0.0166414161\n",
       "  1.0    0.0001325711  0.9164492   0.0166414161\n",
       "  1.0    0.0001526418  0.9163308   0.0142000498\n",
       "  1.0    0.0001757511  0.9163308   0.0142000498\n",
       "  1.0    0.0002023590  0.9164493   0.0144606649\n",
       "  1.0    0.0002329952  0.9164493   0.0144606649\n",
       "  1.0    0.0002682696  0.9164493   0.0144606649\n",
       "  1.0    0.0003088844  0.9163308   0.0119168124\n",
       "  1.0    0.0003556480  0.9163308   0.0119168124\n",
       "  1.0    0.0004094915  0.9163308   0.0119168124\n",
       "  1.0    0.0004714866  0.9163308   0.0119168124\n",
       "  1.0    0.0005428675  0.9164493   0.0121595688\n",
       "  1.0    0.0006250552  0.9168049   0.0128520566\n",
       "  1.0    0.0007196857  0.9168048   0.0105205665\n",
       "  1.0    0.0008286428  0.9169235   0.0084041662\n",
       "  1.0    0.0009540955  0.9169235   0.0060324011\n",
       "  1.0    0.0010985411  0.9171606   0.0065192752\n",
       "  1.0    0.0012648552  0.9170420   0.0039086415\n",
       "  1.0    0.0014563485  0.9170421   0.0016239316\n",
       "  1.0    0.0016768329  0.9170421   0.0016239316\n",
       "  1.0    0.0019306977  0.9170421   0.0016239316\n",
       "  1.0    0.0022229965  0.9171606   0.0018648327\n",
       "  1.0    0.0025595479  0.9170421  -0.0006984169\n",
       "  1.0    0.0029470517  0.9170421  -0.0006984169\n",
       "  1.0    0.0033932218  0.9172791  -0.0002355633\n",
       "  1.0    0.0039069399  0.9172791  -0.0002355633\n",
       "  1.0    0.0044984327  0.9172791  -0.0002355633\n",
       "  1.0    0.0051794747  0.9173975   0.0000000000\n",
       "  1.0    0.0059636233  0.9173975   0.0000000000\n",
       "  1.0    0.0068664885  0.9173975   0.0000000000\n",
       "  1.0    0.0079060432  0.9173975   0.0000000000\n",
       "  1.0    0.0091029818  0.9173975   0.0000000000\n",
       "  1.0    0.0104811313  0.9173975   0.0000000000\n",
       "  1.0    0.0120679264  0.9173975   0.0000000000\n",
       "  1.0    0.0138949549  0.9173975   0.0000000000\n",
       "  1.0    0.0159985872  0.9173975   0.0000000000\n",
       "  1.0    0.0184206997  0.9173975   0.0000000000\n",
       "  1.0    0.0212095089  0.9173975   0.0000000000\n",
       "  1.0    0.0244205309  0.9173975   0.0000000000\n",
       "  1.0    0.0281176870  0.9173975   0.0000000000\n",
       "  1.0    0.0323745754  0.9173975   0.0000000000\n",
       "  1.0    0.0372759372  0.9173975   0.0000000000\n",
       "  1.0    0.0429193426  0.9173975   0.0000000000\n",
       "  1.0    0.0494171336  0.9173975   0.0000000000\n",
       "  1.0    0.0568986603  0.9173975   0.0000000000\n",
       "  1.0    0.0655128557  0.9173975   0.0000000000\n",
       "  1.0    0.0754312006  0.9173975   0.0000000000\n",
       "  1.0    0.0868511374  0.9173975   0.0000000000\n",
       "  1.0    0.1000000000  0.9173975   0.0000000000\n",
       "\n",
       "Accuracy was used to select the optimal model using the largest value.\n",
       "The final values used for the model were alpha = 0 and lambda = 0.1."
      ]
     },
     "metadata": {},
     "output_type": "display_data"
    }
   ],
   "source": [
    "X <- c(\"poly(edad,2,raw=TRUE)\", \"nivel_ed\",\"mujer\", \n",
    "        \"parentesco\", \"estado_civil\", \n",
    "        \"tipo_vivienda*poly(total_miembros_hogar,2,raw=TRUE)\", #cambio\n",
    "        \"poly(total_miembros_hogar,2,raw=TRUE)\",\n",
    "        \"poly(miembros_hogar_menores10,2,raw=TRUE)\",\n",
    "        \"poly(ing_tot_fam,2,raw=TRUE)\")\n",
    "\n",
    "\n",
    "lambda <- 10^seq(-1, -4, length = 50)\n",
    "grid <- expand.grid(\"alpha\" = seq(0,1,by=.1), lambda = lambda)\n",
    "\n",
    "set.seed(1410)\n",
    "glm_model_en <- train(\n",
    "    formula(paste0(\"desempleado ~\", paste0(X, collapse = \" + \"))),\n",
    "    method = \"glmnet\",\n",
    "    data = train,\n",
    "    family = \"binomial\",\n",
    "    trControl = ctrl,\n",
    "    tuneGrid = grid,\n",
    "    preProcess = c(\"center\", \"scale\")\n",
    "  )\n",
    "\n",
    "glm_model_en\n",
    "\n"
   ]
  },
  {
   "cell_type": "code",
   "execution_count": 31,
   "id": "87e1e2f0-9e32-4546-8d94-3b5a101bf998",
   "metadata": {},
   "outputs": [
    {
     "data": {
      "text/plain": [
       "Confusion Matrix and Statistics\n",
       "\n",
       "             Reference\n",
       "Prediction    desempleado empleado\n",
       "  desempleado           0        0\n",
       "  empleado            323     3293\n",
       "                                          \n",
       "               Accuracy : 0.9107          \n",
       "                 95% CI : (0.9009, 0.9198)\n",
       "    No Information Rate : 0.9107          \n",
       "    P-Value [Acc > NIR] : 0.5148          \n",
       "                                          \n",
       "                  Kappa : 0               \n",
       "                                          \n",
       " Mcnemar's Test P-Value : <2e-16          \n",
       "                                          \n",
       "              Precision :      NA         \n",
       "                 Recall : 0.00000         \n",
       "                     F1 :      NA         \n",
       "             Prevalence : 0.08933         \n",
       "         Detection Rate : 0.00000         \n",
       "   Detection Prevalence : 0.00000         \n",
       "      Balanced Accuracy : 0.50000         \n",
       "                                          \n",
       "       'Positive' Class : desempleado     \n",
       "                                          "
      ]
     },
     "metadata": {},
     "output_type": "display_data"
    }
   ],
   "source": [
    "test<- test  %>% mutate(desempleo_hat_logit_en=predict(glm_model_en,newdata = test,\n",
    "                           type = \"raw\"))\n",
    "confusionMatrix(data = test$desempleo_hat_logit_en, \n",
    "                reference = test$desempleado, positive=\"desempleado\", mode = \"prec_recall\")"
   ]
  },
  {
   "cell_type": "code",
   "execution_count": 32,
   "id": "5a5a9b40-11ad-46a9-8462-4ba07c406713",
   "metadata": {
    "vscode": {
     "languageId": "r"
    }
   },
   "outputs": [
    {
     "name": "stderr",
     "output_type": "stream",
     "text": [
      "***MLeval: Machine Learning Model Evaluation***\n",
      "\n",
      "Input: caret train function object\n",
      "\n",
      "Not averaging probs.\n",
      "\n",
      "Group 1 type: cv\n",
      "\n",
      "Group 2 type: cv\n",
      "\n",
      "Group 3 type: cv\n",
      "\n",
      "Observations: 25314\n",
      "\n",
      "Number of groups: 3\n",
      "\n",
      "Observations per group: 8438\n",
      "\n",
      "Positive: empleado\n",
      "\n",
      "Negative: desempleado\n",
      "\n",
      "Group: Basic\n",
      "\n",
      "Positive: 7741\n",
      "\n",
      "Negative: 697\n",
      "\n",
      "Group: Ampliado\n",
      "\n",
      "Positive: 7741\n",
      "\n",
      "Negative: 697\n",
      "\n",
      "Group: EN\n",
      "\n",
      "Positive: 7741\n",
      "\n",
      "Negative: 697\n",
      "\n",
      "***Performance Metrics***\n",
      "\n",
      "Basic Optimal Informedness = 0.367468158978344\n",
      "\n",
      "Ampliado Optimal Informedness = 0.382267035889505\n",
      "\n",
      "EN Optimal Informedness = 0.3472679060628\n",
      "\n",
      "Basic AUC-ROC = 0.75\n",
      "\n",
      "Ampliado AUC-ROC = 0.76\n",
      "\n",
      "EN AUC-ROC = 0.72\n",
      "\n"
     ]
    },
    {
     "data": {
      "image/png": "[encoded data removed]",
      "text/plain": [
       "plot without title"
      ]
     },
     "metadata": {
      "image/png": {
       "height": 420,
       "width": 420
      }
     },
     "output_type": "display_data"
    }
   ],
   "source": [
    "#Curva ROC\n",
    "res_insample_all <- evalm(list(mylogit_caret, glm_model_logit_ampliado,glm_model_en),gnames=c('Basic','Ampliado','EN'),plots='r')"
   ]
  },
  {
   "cell_type": "markdown",
   "id": "76de2d63-a25b-414e-b39d-be0a13dbc47f",
   "metadata": {},
   "source": [
    "# Class Imbalance: Remedies"
   ]
  },
  {
   "cell_type": "code",
   "execution_count": 33,
   "id": "fcf9f694-f666-45a8-9491-2641a6b61f99",
   "metadata": {
    "vscode": {
     "languageId": "r"
    }
   },
   "outputs": [
    {
     "data": {
      "image/png": "[encoded data removed]",
      "text/plain": [
       "plot without title"
      ]
     },
     "metadata": {
      "image/png": {
       "height": 420,
       "width": 420
      }
     },
     "output_type": "display_data"
    }
   ],
   "source": [
    "\n",
    "ggplot(data,aes(x = estado, y = n, fill = estado)) +\n",
    "  geom_bar(stat = \"identity\") +\n",
    "  theme_minimal() +\n",
    "  scale_fill_manual(values = c(\"desempleado\" = \"orange\", \"empleado\"= \"blue\")) + # Colors can be changed\n",
    "  labs(x = \"\", y = \"count\") # Customize axis labels if needed\n",
    "\n"
   ]
  },
  {
   "cell_type": "markdown",
   "id": "dd24aebc-adca-4849-b7d3-4f91448f061c",
   "metadata": {},
   "source": [
    "## Model Tuning\n",
    "\n",
    "The simplest approach to counteracting the negative eﬀects of class imbalance is to tune the model to maximize the accuracy of the minority class(es)."
   ]
  },
  {
   "cell_type": "code",
   "execution_count": 35,
   "id": "29e19fbb-942e-4db9-a089-99b71c30e78d",
   "metadata": {
    "vscode": {
     "languageId": "r"
    }
   },
   "outputs": [],
   "source": [
    "multiStats <- function(...) c(twoClassSummary(...), defaultSummary(...), prSummary(...))\n",
    "\n",
    "ctrl_multiStats<- trainControl(method = \"cv\",\n",
    "                     number = 5,\n",
    "                     summaryFunction = multiStats,\n",
    "                     classProbs = TRUE,\n",
    "                     verbose=FALSE,\n",
    "                     savePredictions = T)"
   ]
  },
  {
   "cell_type": "code",
   "execution_count": 36,
   "id": "918cb4d0-84d8-4010-88c4-8540edf851d6",
   "metadata": {
    "vscode": {
     "languageId": "r"
    }
   },
   "outputs": [
    {
     "name": "stderr",
     "output_type": "stream",
     "text": [
      "Warning message in nominalTrainWorkflow(x = x, y = y, wts = weights, info = trainInfo, :\n",
      "“There were missing values in resampled performance measures.”\n"
     ]
    },
    {
     "data": {
      "text/plain": [
       "glmnet \n",
       "\n",
       "8438 samples\n",
       "   9 predictor\n",
       "   2 classes: 'desempleado', 'empleado' \n",
       "\n",
       "Pre-processing: centered (34), scaled (34) \n",
       "Resampling: Cross-Validated (5 fold) \n",
       "Summary of sample sizes: 6750, 6751, 6750, 6751, 6750 \n",
       "Resampling results across tuning parameters:\n",
       "\n",
       "  alpha  lambda        ROC        Sens         Spec       Accuracy \n",
       "  0.0    0.0001000000  0.7504204  0.002867420  0.9993540  0.9170421\n",
       "  0.0    0.0001151395  0.7504204  0.002867420  0.9993540  0.9170421\n",
       "  0.0    0.0001325711  0.7504204  0.002867420  0.9993540  0.9170421\n",
       "  0.0    0.0001526418  0.7504204  0.002867420  0.9993540  0.9170421\n",
       "  0.0    0.0001757511  0.7504204  0.002867420  0.9993540  0.9170421\n",
       "  0.0    0.0002023590  0.7504204  0.002867420  0.9993540  0.9170421\n",
       "  0.0    0.0002329952  0.7504204  0.002867420  0.9993540  0.9170421\n",
       "  0.0    0.0002682696  0.7504204  0.002867420  0.9993540  0.9170421\n",
       "  0.0    0.0003088844  0.7504204  0.002867420  0.9993540  0.9170421\n",
       "  0.0    0.0003556480  0.7504204  0.002867420  0.9993540  0.9170421\n",
       "  0.0    0.0004094915  0.7504204  0.002867420  0.9993540  0.9170421\n",
       "  0.0    0.0004714866  0.7504204  0.002867420  0.9993540  0.9170421\n",
       "  0.0    0.0005428675  0.7504204  0.002867420  0.9993540  0.9170421\n",
       "  0.0    0.0006250552  0.7504204  0.002867420  0.9993540  0.9170421\n",
       "  0.0    0.0007196857  0.7504204  0.002867420  0.9993540  0.9170421\n",
       "  0.0    0.0008286428  0.7504204  0.002867420  0.9993540  0.9170421\n",
       "  0.0    0.0009540955  0.7504204  0.002867420  0.9993540  0.9170421\n",
       "  0.0    0.0010985411  0.7504204  0.002867420  0.9993540  0.9170421\n",
       "  0.0    0.0012648552  0.7504204  0.002867420  0.9993540  0.9170421\n",
       "  0.0    0.0014563485  0.7504204  0.002867420  0.9993540  0.9170421\n",
       "  0.0    0.0016768329  0.7504204  0.002867420  0.9993540  0.9170421\n",
       "  0.0    0.0019306977  0.7504204  0.002867420  0.9993540  0.9170421\n",
       "  0.0    0.0022229965  0.7504204  0.002867420  0.9993540  0.9170421\n",
       "  0.0    0.0025595479  0.7504204  0.002867420  0.9993540  0.9170421\n",
       "  0.0    0.0029470517  0.7504204  0.002867420  0.9993540  0.9170421\n",
       "  0.0    0.0033932218  0.7504204  0.002867420  0.9993540  0.9170421\n",
       "  0.0    0.0039069399  0.7502961  0.002867420  0.9994832  0.9171606\n",
       "  0.0    0.0044984327  0.7496168  0.001428571  0.9994832  0.9170421\n",
       "  0.0    0.0051794747  0.7490235  0.001428571  0.9994832  0.9170421\n",
       "  0.0    0.0059636233  0.7484991  0.001428571  0.9996124  0.9171606\n",
       "  0.0    0.0068664885  0.7478731  0.001428571  0.9996124  0.9171606\n",
       "  0.0    0.0079060432  0.7472070  0.001428571  0.9996124  0.9171606\n",
       "  0.0    0.0091029818  0.7466074  0.000000000  0.9997416  0.9171606\n",
       "  0.0    0.0104811313  0.7458937  0.000000000  0.9997416  0.9171606\n",
       "  0.0    0.0120679264  0.7451688  0.000000000  0.9997416  0.9171606\n",
       "  0.0    0.0138949549  0.7444870  0.000000000  0.9997416  0.9171606\n",
       "  0.0    0.0159985872  0.7436208  0.000000000  0.9997416  0.9171606\n",
       "  0.0    0.0184206997  0.7428368  0.000000000  1.0000000  0.9173975\n",
       "  0.0    0.0212095089  0.7418241  0.000000000  1.0000000  0.9173975\n",
       "  0.0    0.0244205309  0.7407503  0.000000000  1.0000000  0.9173975\n",
       "  0.0    0.0281176870  0.7396748  0.000000000  1.0000000  0.9173975\n",
       "  0.0    0.0323745754  0.7384233  0.000000000  1.0000000  0.9173975\n",
       "  0.0    0.0372759372  0.7370998  0.000000000  1.0000000  0.9173975\n",
       "  0.0    0.0429193426  0.7356030  0.000000000  1.0000000  0.9173975\n",
       "  0.0    0.0494171336  0.7341240  0.000000000  1.0000000  0.9173975\n",
       "  0.0    0.0568986603  0.7324379  0.000000000  1.0000000  0.9173975\n",
       "  0.0    0.0655128557  0.7308085  0.000000000  1.0000000  0.9173975\n",
       "  0.0    0.0754312006  0.7289364  0.000000000  1.0000000  0.9173975\n",
       "  0.0    0.0868511374  0.7271227  0.000000000  1.0000000  0.9173975\n",
       "  0.0    0.1000000000  0.7252331  0.000000000  1.0000000  0.9173975\n",
       "  0.2    0.0001000000  0.7581553  0.011449126  0.9979328  0.9164492\n",
       "  0.2    0.0001151395  0.7580913  0.010020555  0.9979328  0.9163308\n",
       "  0.2    0.0001325711  0.7579855  0.010020555  0.9979328  0.9163308\n",
       "  0.2    0.0001526418  0.7579761  0.010020555  0.9979328  0.9163308\n",
       "  0.2    0.0001757511  0.7578843  0.010020555  0.9980620  0.9164493\n",
       "  0.2    0.0002023590  0.7577646  0.010020555  0.9980620  0.9164493\n",
       "  0.2    0.0002329952  0.7577137  0.010020555  0.9980620  0.9164493\n",
       "  0.2    0.0002682696  0.7576824  0.010020555  0.9980620  0.9164493\n",
       "  0.2    0.0003088844  0.7575593  0.010020555  0.9980620  0.9164493\n",
       "  0.2    0.0003556480  0.7574687  0.010020555  0.9980620  0.9164493\n",
       "  0.2    0.0004094915  0.7572715  0.010020555  0.9980620  0.9164493\n",
       "  0.2    0.0004714866  0.7570834  0.008591984  0.9983204  0.9165679\n",
       "  0.2    0.0005428675  0.7568418  0.008591984  0.9984496  0.9166864\n",
       "  0.2    0.0006250552  0.7566799  0.008591984  0.9984496  0.9166864\n",
       "  0.2    0.0007196857  0.7565096  0.008591984  0.9984496  0.9166864\n",
       "  0.2    0.0008286428  0.7561402  0.008591984  0.9987080  0.9169234\n",
       "  0.2    0.0009540955  0.7557768  0.007153135  0.9987080  0.9168048\n",
       "  0.2    0.0010985411  0.7552696  0.007153135  0.9987080  0.9168048\n",
       "  0.2    0.0012648552  0.7545818  0.005724563  0.9988372  0.9168049\n",
       "  0.2    0.0014563485  0.7538548  0.005724563  0.9989664  0.9169235\n",
       "  0.2    0.0016768329  0.7530711  0.004295992  0.9992248  0.9170420\n",
       "  0.2    0.0019306977  0.7521924  0.004295992  0.9993540  0.9171606\n",
       "  0.2    0.0022229965  0.7514615  0.004295992  0.9993540  0.9171606\n",
       "  0.2    0.0025595479  0.7507663  0.002867420  0.9993540  0.9170421\n",
       "  0.2    0.0029470517  0.7501683  0.002867420  0.9994832  0.9171606\n",
       "  0.2    0.0033932218  0.7496763  0.001428571  0.9994832  0.9170421\n",
       "  0.2    0.0039069399  0.7493638  0.001428571  0.9994832  0.9170421\n",
       "  0.2    0.0044984327  0.7489295  0.001428571  0.9996124  0.9171606\n",
       "  0.2    0.0051794747  0.7487038  0.001428571  0.9996124  0.9171606\n",
       "  0.2    0.0059636233  0.7483768  0.001428571  0.9996124  0.9171606\n",
       "  0.2    0.0068664885  0.7479679  0.000000000  0.9997416  0.9171606\n",
       "  0.2    0.0079060432  0.7475150  0.000000000  0.9997416  0.9171606\n",
       "  0.2    0.0091029818  0.7469530  0.000000000  0.9998708  0.9172791\n",
       "  0.2    0.0104811313  0.7463521  0.000000000  0.9998708  0.9172791\n",
       "  0.2    0.0120679264  0.7453761  0.000000000  1.0000000  0.9173975\n",
       "  0.2    0.0138949549  0.7440880  0.000000000  1.0000000  0.9173975\n",
       "  0.2    0.0159985872  0.7428240  0.000000000  1.0000000  0.9173975\n",
       "  0.2    0.0184206997  0.7416974  0.000000000  1.0000000  0.9173975\n",
       "  0.2    0.0212095089  0.7403899  0.000000000  1.0000000  0.9173975\n",
       "  0.2    0.0244205309  0.7385491  0.000000000  1.0000000  0.9173975\n",
       "  0.2    0.0281176870  0.7368709  0.000000000  1.0000000  0.9173975\n",
       "  0.2    0.0323745754  0.7352339  0.000000000  1.0000000  0.9173975\n",
       "  0.2    0.0372759372  0.7335508  0.000000000  1.0000000  0.9173975\n",
       "  0.2    0.0429193426  0.7311827  0.000000000  1.0000000  0.9173975\n",
       "  0.2    0.0494171336  0.7281821  0.000000000  1.0000000  0.9173975\n",
       "  0.2    0.0568986603  0.7243416  0.000000000  1.0000000  0.9173975\n",
       "  0.2    0.0655128557  0.7199886  0.000000000  1.0000000  0.9173975\n",
       "  0.2    0.0754312006  0.7154150  0.000000000  1.0000000  0.9173975\n",
       "  0.2    0.0868511374  0.7107495  0.000000000  1.0000000  0.9173975\n",
       "  0.2    0.1000000000  0.7069059  0.000000000  1.0000000  0.9173975\n",
       "  0.4    0.0001000000  0.7580967  0.011449126  0.9979328  0.9164492\n",
       "  0.4    0.0001151395  0.7580374  0.011449126  0.9979328  0.9164492\n",
       "  0.4    0.0001325711  0.7579815  0.010020555  0.9979328  0.9163308\n",
       "  0.4    0.0001526418  0.7578896  0.010020555  0.9979328  0.9163308\n",
       "  0.4    0.0001757511  0.7578320  0.010020555  0.9980620  0.9164493\n",
       "  0.4    0.0002023590  0.7577280  0.010020555  0.9980620  0.9164493\n",
       "  0.4    0.0002329952  0.7575872  0.010020555  0.9980620  0.9164493\n",
       "  0.4    0.0002682696  0.7575468  0.010020555  0.9980620  0.9164493\n",
       "  0.4    0.0003088844  0.7574146  0.010020555  0.9980620  0.9164493\n",
       "  0.4    0.0003556480  0.7573026  0.010020555  0.9980620  0.9164493\n",
       "  0.4    0.0004094915  0.7570544  0.008591984  0.9981912  0.9164493\n",
       "  0.4    0.0004714866  0.7569184  0.008591984  0.9981912  0.9164493\n",
       "  0.4    0.0005428675  0.7567878  0.008591984  0.9983204  0.9165679\n",
       "  0.4    0.0006250552  0.7565796  0.008591984  0.9983204  0.9165679\n",
       "  0.4    0.0007196857  0.7563112  0.008591984  0.9987080  0.9169234\n",
       "  0.4    0.0008286428  0.7558765  0.007153135  0.9987080  0.9168048\n",
       "  0.4    0.0009540955  0.7553744  0.007153135  0.9987080  0.9168048\n",
       "  0.4    0.0010985411  0.7546568  0.005724563  0.9989664  0.9169235\n",
       "  0.4    0.0012648552  0.7537676  0.005724563  0.9990956  0.9170420\n",
       "  0.4    0.0014563485  0.7528809  0.004295992  0.9993540  0.9171606\n",
       "  0.4    0.0016768329  0.7520346  0.004295992  0.9993540  0.9171606\n",
       "  0.4    0.0019306977  0.7510752  0.004295992  0.9993540  0.9171606\n",
       "  0.4    0.0022229965  0.7502557  0.001428571  0.9994832  0.9170421\n",
       "  0.4    0.0025595479  0.7497413  0.001428571  0.9994832  0.9170421\n",
       "  0.4    0.0029470517  0.7495441  0.001428571  0.9994832  0.9170421\n",
       "  0.4    0.0033932218  0.7493693  0.001428571  0.9996124  0.9171606\n",
       "  0.4    0.0039069399  0.7491468  0.001428571  0.9996124  0.9171606\n",
       "  0.4    0.0044984327  0.7487116  0.000000000  0.9996124  0.9170421\n",
       "  0.4    0.0051794747  0.7482965  0.000000000  0.9997416  0.9171606\n",
       "  0.4    0.0059636233  0.7476445  0.000000000  0.9998708  0.9172791\n",
       "  0.4    0.0068664885  0.7466806  0.000000000  0.9998708  0.9172791\n",
       "  0.4    0.0079060432  0.7455549  0.000000000  0.9998708  0.9172791\n",
       "  0.4    0.0091029818  0.7444937  0.000000000  1.0000000  0.9173975\n",
       "  0.4    0.0104811313  0.7435075  0.000000000  1.0000000  0.9173975\n",
       "  0.4    0.0120679264  0.7420880  0.000000000  1.0000000  0.9173975\n",
       "  0.4    0.0138949549  0.7402825  0.000000000  1.0000000  0.9173975\n",
       "  0.4    0.0159985872  0.7387515  0.000000000  1.0000000  0.9173975\n",
       "  0.4    0.0184206997  0.7374346  0.000000000  1.0000000  0.9173975\n",
       "  0.4    0.0212095089  0.7359447  0.000000000  1.0000000  0.9173975\n",
       "  0.4    0.0244205309  0.7337897  0.000000000  1.0000000  0.9173975\n",
       "  0.4    0.0281176870  0.7307806  0.000000000  1.0000000  0.9173975\n",
       "  0.4    0.0323745754  0.7270657  0.000000000  1.0000000  0.9173975\n",
       "  0.4    0.0372759372  0.7226306  0.000000000  1.0000000  0.9173975\n",
       "  0.4    0.0429193426  0.7177999  0.000000000  1.0000000  0.9173975\n",
       "  0.4    0.0494171336  0.7141614  0.000000000  1.0000000  0.9173975\n",
       "  0.4    0.0568986603  0.7124634  0.000000000  1.0000000  0.9173975\n",
       "  0.4    0.0655128557  0.7100591  0.000000000  1.0000000  0.9173975\n",
       "  0.4    0.0754312006  0.7066365  0.000000000  1.0000000  0.9173975\n",
       "  0.4    0.0868511374  0.6989829  0.000000000  1.0000000  0.9173975\n",
       "  0.4    0.1000000000  0.5000000  0.000000000  1.0000000  0.9173975\n",
       "  0.6    0.0001000000  0.7580213  0.011449126  0.9979328  0.9164492\n",
       "  0.6    0.0001151395  0.7579945  0.011449126  0.9979328  0.9164492\n",
       "  0.6    0.0001325711  0.7579609  0.010020555  0.9979328  0.9163308\n",
       "  0.6    0.0001526418  0.7579248  0.010020555  0.9979328  0.9163308\n",
       "  0.6    0.0001757511  0.7578477  0.010020555  0.9980620  0.9164493\n",
       "  0.6    0.0002023590  0.7576983  0.010020555  0.9980620  0.9164493\n",
       "  0.6    0.0002329952  0.7575835  0.010020555  0.9980620  0.9164493\n",
       "  0.6    0.0002682696  0.7574725  0.010020555  0.9980620  0.9164493\n",
       "  0.6    0.0003088844  0.7573792  0.010020555  0.9980620  0.9164493\n",
       "  0.6    0.0003556480  0.7572709  0.008591984  0.9980620  0.9163308\n",
       "  0.6    0.0004094915  0.7571257  0.008591984  0.9980620  0.9163308\n",
       "  0.6    0.0004714866  0.7569925  0.008591984  0.9981912  0.9164493\n",
       "  0.6    0.0005428675  0.7568185  0.008591984  0.9981912  0.9164493\n",
       "  0.6    0.0006250552  0.7564826  0.008591984  0.9983204  0.9165679\n",
       "  0.6    0.0007196857  0.7561139  0.008591984  0.9987080  0.9169234\n",
       "  0.6    0.0008286428  0.7556212  0.007153135  0.9987080  0.9168048\n",
       "  0.6    0.0009540955  0.7549461  0.007153135  0.9989664  0.9170419\n",
       "  0.6    0.0010985411  0.7541759  0.005724563  0.9990956  0.9170420\n",
       "  0.6    0.0012648552  0.7529698  0.004295992  0.9993540  0.9171606\n",
       "  0.6    0.0014563485  0.7516957  0.004295992  0.9993540  0.9171606\n",
       "  0.6    0.0016768329  0.7505967  0.004295992  0.9994832  0.9172791\n",
       "  0.6    0.0019306977  0.7499885  0.001428571  0.9994832  0.9170421\n",
       "  0.6    0.0022229965  0.7498287  0.001428571  0.9994832  0.9170421\n",
       "  0.6    0.0025595479  0.7497095  0.001428571  0.9994832  0.9170421\n",
       "  0.6    0.0029470517  0.7494332  0.001428571  0.9996124  0.9171606\n",
       "  0.6    0.0033932218  0.7491154  0.001428571  0.9996124  0.9171606\n",
       "  0.6    0.0039069399  0.7486577  0.000000000  0.9996124  0.9170421\n",
       "  0.6    0.0044984327  0.7479007  0.000000000  0.9998708  0.9172791\n",
       "  0.6    0.0051794747  0.7468141  0.000000000  0.9998708  0.9172791\n",
       "  0.6    0.0059636233  0.7458665  0.000000000  0.9998708  0.9172791\n",
       "  0.6    0.0068664885  0.7447362  0.000000000  1.0000000  0.9173975\n",
       "  0.6    0.0079060432  0.7435686  0.000000000  1.0000000  0.9173975\n",
       "  0.6    0.0091029818  0.7418093  0.000000000  1.0000000  0.9173975\n",
       "  0.6    0.0104811313  0.7396848  0.000000000  1.0000000  0.9173975\n",
       "  0.6    0.0120679264  0.7385151  0.000000000  1.0000000  0.9173975\n",
       "  0.6    0.0138949549  0.7374198  0.000000000  1.0000000  0.9173975\n",
       "  0.6    0.0159985872  0.7355347  0.000000000  1.0000000  0.9173975\n",
       "  0.6    0.0184206997  0.7327657  0.000000000  1.0000000  0.9173975\n",
       "  0.6    0.0212095089  0.7293090  0.000000000  1.0000000  0.9173975\n",
       "  0.6    0.0244205309  0.7251751  0.000000000  1.0000000  0.9173975\n",
       "  0.6    0.0281176870  0.7207948  0.000000000  1.0000000  0.9173975\n",
       "  0.6    0.0323745754  0.7181554  0.000000000  1.0000000  0.9173975\n",
       "  0.6    0.0372759372  0.7164451  0.000000000  1.0000000  0.9173975\n",
       "  0.6    0.0429193426  0.7141510  0.000000000  1.0000000  0.9173975\n",
       "  0.6    0.0494171336  0.7106158  0.000000000  1.0000000  0.9173975\n",
       "  0.6    0.0568986603  0.7041520  0.000000000  1.0000000  0.9173975\n",
       "  0.6    0.0655128557  0.5000000  0.000000000  1.0000000  0.9173975\n",
       "  0.6    0.0754312006  0.5000000  0.000000000  1.0000000  0.9173975\n",
       "  0.6    0.0868511374  0.5000000  0.000000000  1.0000000  0.9173975\n",
       "  0.6    0.1000000000  0.5000000  0.000000000  1.0000000  0.9173975\n",
       "  0.8    0.0001000000  0.7580704  0.012887975  0.9979328  0.9165678\n",
       "  0.8    0.0001151395  0.7580111  0.011449126  0.9979328  0.9164492\n",
       "  0.8    0.0001325711  0.7579628  0.011449126  0.9979328  0.9164492\n",
       "  0.8    0.0001526418  0.7578822  0.010020555  0.9979328  0.9163308\n",
       "  0.8    0.0001757511  0.7578022  0.010020555  0.9979328  0.9163308\n",
       "  0.8    0.0002023590  0.7576769  0.010020555  0.9980620  0.9164493\n",
       "  0.8    0.0002329952  0.7576204  0.010020555  0.9980620  0.9164493\n",
       "  0.8    0.0002682696  0.7575362  0.010020555  0.9980620  0.9164493\n",
       "  0.8    0.0003088844  0.7574144  0.010020555  0.9980620  0.9164493\n",
       "  0.8    0.0003556480  0.7572577  0.008591984  0.9980620  0.9163308\n",
       "  0.8    0.0004094915  0.7571878  0.008591984  0.9980620  0.9163308\n",
       "  0.8    0.0004714866  0.7569991  0.008591984  0.9981912  0.9164493\n",
       "  0.8    0.0005428675  0.7568078  0.008591984  0.9981912  0.9164493\n",
       "  0.8    0.0006250552  0.7564848  0.008591984  0.9983204  0.9165679\n",
       "  0.8    0.0007196857  0.7559683  0.007153135  0.9985788  0.9166863\n",
       "  0.8    0.0008286428  0.7554190  0.007153135  0.9988372  0.9169234\n",
       "  0.8    0.0009540955  0.7543935  0.005724563  0.9990956  0.9170420\n",
       "  0.8    0.0010985411  0.7529257  0.004295992  0.9992248  0.9170420\n",
       "  0.8    0.0012648552  0.7514884  0.004295992  0.9993540  0.9171606\n",
       "  0.8    0.0014563485  0.7503308  0.004295992  0.9993540  0.9171606\n",
       "  0.8    0.0016768329  0.7500448  0.001428571  0.9994832  0.9170421\n",
       "  0.8    0.0019306977  0.7498888  0.001428571  0.9994832  0.9170421\n",
       "  0.8    0.0022229965  0.7496242  0.001428571  0.9994832  0.9170421\n",
       "  0.8    0.0025595479  0.7493692  0.001428571  0.9996124  0.9171606\n",
       "  0.8    0.0029470517  0.7490097  0.000000000  0.9996124  0.9170421\n",
       "  0.8    0.0033932218  0.7483823  0.000000000  0.9996124  0.9170421\n",
       "  0.8    0.0039069399  0.7474093  0.000000000  0.9998708  0.9172791\n",
       "  0.8    0.0044984327  0.7463569  0.000000000  0.9998708  0.9172791\n",
       "  0.8    0.0051794747  0.7453612  0.000000000  0.9998708  0.9172791\n",
       "  0.8    0.0059636233  0.7442807  0.000000000  1.0000000  0.9173975\n",
       "  0.8    0.0068664885  0.7425413  0.000000000  1.0000000  0.9173975\n",
       "  0.8    0.0079060432  0.7402350  0.000000000  1.0000000  0.9173975\n",
       "  0.8    0.0091029818  0.7386506  0.000000000  1.0000000  0.9173975\n",
       "  0.8    0.0104811313  0.7376293  0.000000000  1.0000000  0.9173975\n",
       "  0.8    0.0120679264  0.7359144  0.000000000  1.0000000  0.9173975\n",
       "  0.8    0.0138949549  0.7333536  0.000000000  1.0000000  0.9173975\n",
       "  0.8    0.0159985872  0.7297732  0.000000000  1.0000000  0.9173975\n",
       "  0.8    0.0184206997  0.7257331  0.000000000  1.0000000  0.9173975\n",
       "  0.8    0.0212095089  0.7220115  0.000000000  1.0000000  0.9173975\n",
       "  0.8    0.0244205309  0.7197518  0.000000000  1.0000000  0.9173975\n",
       "  0.8    0.0281176870  0.7183851  0.000000000  1.0000000  0.9173975\n",
       "  0.8    0.0323745754  0.7161064  0.000000000  1.0000000  0.9173975\n",
       "  0.8    0.0372759372  0.7128145  0.000000000  1.0000000  0.9173975\n",
       "  0.8    0.0429193426  0.7060036  0.000000000  1.0000000  0.9173975\n",
       "  0.8    0.0494171336  0.5000000  0.000000000  1.0000000  0.9173975\n",
       "  0.8    0.0568986603  0.5000000  0.000000000  1.0000000  0.9173975\n",
       "  0.8    0.0655128557  0.5000000  0.000000000  1.0000000  0.9173975\n",
       "  0.8    0.0754312006  0.5000000  0.000000000  1.0000000  0.9173975\n",
       "  0.8    0.0868511374  0.5000000  0.000000000  1.0000000  0.9173975\n",
       "  0.8    0.1000000000  0.5000000  0.000000000  1.0000000  0.9173975\n",
       "  1.0    0.0001000000  0.7581065  0.012887975  0.9979328  0.9165678\n",
       "  1.0    0.0001151395  0.7580240  0.011449126  0.9979328  0.9164492\n",
       "  1.0    0.0001325711  0.7579507  0.011449126  0.9979328  0.9164492\n",
       "  1.0    0.0001526418  0.7578245  0.010020555  0.9979328  0.9163308\n",
       "  1.0    0.0001757511  0.7577355  0.010020555  0.9979328  0.9163308\n",
       "  1.0    0.0002023590  0.7577140  0.010020555  0.9980620  0.9164493\n",
       "  1.0    0.0002329952  0.7576428  0.010020555  0.9980620  0.9164493\n",
       "  1.0    0.0002682696  0.7575410  0.010020555  0.9980620  0.9164493\n",
       "  1.0    0.0003088844  0.7574941  0.008591984  0.9980620  0.9163308\n",
       "  1.0    0.0003556480  0.7573301  0.008591984  0.9980620  0.9163308\n",
       "  1.0    0.0004094915  0.7572581  0.008591984  0.9980620  0.9163308\n",
       "  1.0    0.0004714866  0.7571396  0.008591984  0.9980620  0.9163308\n",
       "  1.0    0.0005428675  0.7568974  0.008591984  0.9981912  0.9164493\n",
       "  1.0    0.0006250552  0.7563842  0.008591984  0.9985788  0.9168049\n",
       "  1.0    0.0007196857  0.7558496  0.007153135  0.9987080  0.9168048\n",
       "  1.0    0.0008286428  0.7546615  0.005724563  0.9989664  0.9169235\n",
       "  1.0    0.0009540955  0.7532418  0.004295992  0.9990956  0.9169235\n",
       "  1.0    0.0010985411  0.7513251  0.004295992  0.9993540  0.9171606\n",
       "  1.0    0.0012648552  0.7502529  0.002857143  0.9993540  0.9170420\n",
       "  1.0    0.0014563485  0.7500051  0.001428571  0.9994832  0.9170421\n",
       "  1.0    0.0016768329  0.7498740  0.001428571  0.9994832  0.9170421\n",
       "  1.0    0.0019306977  0.7496162  0.001428571  0.9994832  0.9170421\n",
       "  1.0    0.0022229965  0.7493397  0.001428571  0.9996124  0.9171606\n",
       "  1.0    0.0025595479  0.7489015  0.000000000  0.9996124  0.9170421\n",
       "  1.0    0.0029470517  0.7480794  0.000000000  0.9996124  0.9170421\n",
       "  1.0    0.0033932218  0.7470358  0.000000000  0.9998708  0.9172791\n",
       "  1.0    0.0039069399  0.7461231  0.000000000  0.9998708  0.9172791\n",
       "  1.0    0.0044984327  0.7452310  0.000000000  0.9998708  0.9172791\n",
       "  1.0    0.0051794747  0.7439179  0.000000000  1.0000000  0.9173975\n",
       "  1.0    0.0059636233  0.7415819  0.000000000  1.0000000  0.9173975\n",
       "  1.0    0.0068664885  0.7394084  0.000000000  1.0000000  0.9173975\n",
       "  1.0    0.0079060432  0.7381009  0.000000000  1.0000000  0.9173975\n",
       "  1.0    0.0091029818  0.7367311  0.000000000  1.0000000  0.9173975\n",
       "  1.0    0.0104811313  0.7347358  0.000000000  1.0000000  0.9173975\n",
       "  1.0    0.0120679264  0.7316101  0.000000000  1.0000000  0.9173975\n",
       "  1.0    0.0138949549  0.7275584  0.000000000  1.0000000  0.9173975\n",
       "  1.0    0.0159985872  0.7243874  0.000000000  1.0000000  0.9173975\n",
       "  1.0    0.0184206997  0.7216106  0.000000000  1.0000000  0.9173975\n",
       "  1.0    0.0212095089  0.7200475  0.000000000  1.0000000  0.9173975\n",
       "  1.0    0.0244205309  0.7183988  0.000000000  1.0000000  0.9173975\n",
       "  1.0    0.0281176870  0.7160597  0.000000000  1.0000000  0.9173975\n",
       "  1.0    0.0323745754  0.7101107  0.000000000  1.0000000  0.9173975\n",
       "  1.0    0.0372759372  0.6149284  0.000000000  1.0000000  0.9173975\n",
       "  1.0    0.0429193426  0.5000000  0.000000000  1.0000000  0.9173975\n",
       "  1.0    0.0494171336  0.5000000  0.000000000  1.0000000  0.9173975\n",
       "  1.0    0.0568986603  0.5000000  0.000000000  1.0000000  0.9173975\n",
       "  1.0    0.0655128557  0.5000000  0.000000000  1.0000000  0.9173975\n",
       "  1.0    0.0754312006  0.5000000  0.000000000  1.0000000  0.9173975\n",
       "  1.0    0.0868511374  0.5000000  0.000000000  1.0000000  0.9173975\n",
       "  1.0    0.1000000000  0.5000000  0.000000000  1.0000000  0.9173975\n",
       "  Kappa          AUC        Precision  Recall       F         \n",
       "   0.0039988742  0.2272940  0.3500000  0.002867420  0.01398875\n",
       "   0.0039988742  0.2272940  0.3500000  0.002867420  0.01398875\n",
       "   0.0039988742  0.2272940  0.3500000  0.002867420  0.01398875\n",
       "   0.0039988742  0.2272940  0.3500000  0.002867420  0.01398875\n",
       "   0.0039988742  0.2272940  0.3500000  0.002867420  0.01398875\n",
       "   0.0039988742  0.2272940  0.3500000  0.002867420  0.01398875\n",
       "   0.0039988742  0.2272940  0.3500000  0.002867420  0.01398875\n",
       "   0.0039988742  0.2272940  0.3500000  0.002867420  0.01398875\n",
       "   0.0039988742  0.2272940  0.3500000  0.002867420  0.01398875\n",
       "   0.0039988742  0.2272940  0.3500000  0.002867420  0.01398875\n",
       "   0.0039988742  0.2272940  0.3500000  0.002867420  0.01398875\n",
       "   0.0039988742  0.2272940  0.3500000  0.002867420  0.01398875\n",
       "   0.0039988742  0.2272940  0.3500000  0.002867420  0.01398875\n",
       "   0.0039988742  0.2272940  0.3500000  0.002867420  0.01398875\n",
       "   0.0039988742  0.2272940  0.3500000  0.002867420  0.01398875\n",
       "   0.0039988742  0.2272940  0.3500000  0.002867420  0.01398875\n",
       "   0.0039988742  0.2272940  0.3500000  0.002867420  0.01398875\n",
       "   0.0039988742  0.2272940  0.3500000  0.002867420  0.01398875\n",
       "   0.0039988742  0.2272940  0.3500000  0.002867420  0.01398875\n",
       "   0.0039988742  0.2272940  0.3500000  0.002867420  0.01398875\n",
       "   0.0039988742  0.2272940  0.3500000  0.002867420  0.01398875\n",
       "   0.0039988742  0.2272940  0.3500000  0.002867420  0.01398875\n",
       "   0.0039988742  0.2272940  0.3500000  0.002867420  0.01398875\n",
       "   0.0039988742  0.2272940  0.3500000  0.002867420  0.01398875\n",
       "   0.0039988742  0.2272940  0.3500000  0.002867420  0.01398875\n",
       "   0.0039988742  0.2272940  0.3500000  0.002867420  0.01398875\n",
       "   0.0042487504  0.2270774  0.6000000  0.002867420  0.01403941\n",
       "   0.0016239316  0.2259326  0.2000000  0.001428571  0.01379310\n",
       "   0.0016239316  0.2251632  0.2000000  0.001428571  0.01379310\n",
       "   0.0018648327  0.2249184  0.2500000  0.001428571  0.01388889\n",
       "   0.0018648327  0.2242737  0.2500000  0.001428571  0.01388889\n",
       "   0.0018648327  0.2232573  0.2500000  0.001428571  0.01388889\n",
       "  -0.0004683527  0.2223248  0.0000000  0.000000000         NaN\n",
       "  -0.0004683527  0.2210468  0.0000000  0.000000000         NaN\n",
       "  -0.0004683527  0.2199412  0.0000000  0.000000000         NaN\n",
       "  -0.0004683527  0.2186790  0.0000000  0.000000000         NaN\n",
       "  -0.0004683527  0.2176463  0.0000000  0.000000000         NaN\n",
       "   0.0000000000  0.2165313        NaN  0.000000000         NaN\n",
       "   0.0000000000  0.2157362        NaN  0.000000000         NaN\n",
       "   0.0000000000  0.2148493        NaN  0.000000000         NaN\n",
       "   0.0000000000  0.2138760        NaN  0.000000000         NaN\n",
       "   0.0000000000  0.2132234        NaN  0.000000000         NaN\n",
       "   0.0000000000  0.2116905        NaN  0.000000000         NaN\n",
       "   0.0000000000  0.2104268        NaN  0.000000000         NaN\n",
       "   0.0000000000  0.2094818        NaN  0.000000000         NaN\n",
       "   0.0000000000  0.2077134        NaN  0.000000000         NaN\n",
       "   0.0000000000  0.2066776        NaN  0.000000000         NaN\n",
       "   0.0000000000  0.2049429        NaN  0.000000000         NaN\n",
       "   0.0000000000  0.2037835        NaN  0.000000000         NaN\n",
       "   0.0000000000  0.2023971        NaN  0.000000000         NaN\n",
       "   0.0166414161  0.2400851  0.4431818  0.011449126  0.03655506\n",
       "   0.0142000498  0.2399775  0.4250000  0.010020555  0.03219891\n",
       "   0.0142000498  0.2399201  0.4250000  0.010020555  0.03219891\n",
       "   0.0142000498  0.2399439  0.4250000  0.010020555  0.03219891\n",
       "   0.0144606649  0.2394326  0.4666667  0.010020555  0.03226457\n",
       "   0.0144606649  0.2394344  0.4666667  0.010020555  0.03226457\n",
       "   0.0144606649  0.2393879  0.4666667  0.010020555  0.03226457\n",
       "   0.0144606649  0.2393013  0.4666667  0.010020555  0.03226457\n",
       "   0.0144606649  0.2392152  0.4666667  0.010020555  0.03226457\n",
       "   0.0144606649  0.2391591  0.4666667  0.010020555  0.03226457\n",
       "   0.0144606649  0.2388064  0.4666667  0.010020555  0.03226457\n",
       "   0.0123817502  0.2383332  0.4722222  0.008591984  0.02772789\n",
       "   0.0126272678  0.2380907  0.4791667  0.008591984  0.02778835\n",
       "   0.0126272678  0.2376374  0.4791667  0.008591984  0.02778835\n",
       "   0.0126272678  0.2370970  0.4791667  0.008591984  0.02778835\n",
       "   0.0131003826  0.2363012  0.4880952  0.008591984  0.02784964\n",
       "   0.0105205665  0.2354790  0.4464286  0.007153135  0.02318810\n",
       "   0.0105205665  0.2346487  0.4464286  0.007153135  0.02318810\n",
       "   0.0081740231  0.2338702  0.4464286  0.005724563  0.01852656\n",
       "   0.0084041662  0.2326046  0.4464286  0.005724563  0.01852656\n",
       "   0.0062835841  0.2316933  0.2777778  0.004295992  0.02079083\n",
       "   0.0065192752  0.2303431  0.4166667  0.004295992  0.02079083\n",
       "   0.0065192752  0.2293689  0.4166667  0.004295992  0.02079083\n",
       "   0.0039988742  0.2277209  0.3500000  0.002867420  0.01398875\n",
       "   0.0042487504  0.2260645  0.6000000  0.002867420  0.01403941\n",
       "   0.0016239316  0.2249441  0.2000000  0.001428571  0.01379310\n",
       "   0.0016239316  0.2243208  0.2000000  0.001428571  0.01379310\n",
       "   0.0018648327  0.2241605  0.2500000  0.001428571  0.01388889\n",
       "   0.0018648327  0.2238299  0.2500000  0.001428571  0.01388889\n",
       "   0.0018648327  0.2237512  0.2500000  0.001428571  0.01388889\n",
       "  -0.0004683527  0.2235574  0.0000000  0.000000000         NaN\n",
       "  -0.0004683527  0.2232362  0.0000000  0.000000000         NaN\n",
       "  -0.0002355633  0.2230511  0.0000000  0.000000000         NaN\n",
       "  -0.0002355633  0.2227841  0.0000000  0.000000000         NaN\n",
       "   0.0000000000  0.2223948        NaN  0.000000000         NaN\n",
       "   0.0000000000  0.2212788        NaN  0.000000000         NaN\n",
       "   0.0000000000  0.2200945        NaN  0.000000000         NaN\n",
       "   0.0000000000  0.2187566        NaN  0.000000000         NaN\n",
       "   0.0000000000  0.2179803        NaN  0.000000000         NaN\n",
       "   0.0000000000  0.2162460        NaN  0.000000000         NaN\n",
       "   0.0000000000  0.2152761        NaN  0.000000000         NaN\n",
       "   0.0000000000  0.2134827        NaN  0.000000000         NaN\n",
       "   0.0000000000  0.2125518        NaN  0.000000000         NaN\n",
       "   0.0000000000  0.2119075        NaN  0.000000000         NaN\n",
       "   0.0000000000  0.2119056        NaN  0.000000000         NaN\n",
       "   0.0000000000  0.2099623        NaN  0.000000000         NaN\n",
       "   0.0000000000  0.2086900        NaN  0.000000000         NaN\n",
       "   0.0000000000  0.2067154        NaN  0.000000000         NaN\n",
       "   0.0000000000  0.2062387        NaN  0.000000000         NaN\n",
       "   0.0000000000  0.2091115        NaN  0.000000000         NaN\n",
       "   0.0166414161  0.2399713  0.4431818  0.011449126  0.03655506\n",
       "   0.0166414161  0.2399893  0.4431818  0.011449126  0.03655506\n",
       "   0.0142000498  0.2399688  0.4250000  0.010020555  0.03219891\n",
       "   0.0142000498  0.2398318  0.4250000  0.010020555  0.03219891\n",
       "   0.0144606649  0.2394669  0.4666667  0.010020555  0.03226457\n",
       "   0.0144606649  0.2391251  0.4666667  0.010020555  0.03226457\n",
       "   0.0144606649  0.2391442  0.4666667  0.010020555  0.03226457\n",
       "   0.0144606649  0.2391149  0.4666667  0.010020555  0.03226457\n",
       "   0.0144606649  0.2388237  0.4666667  0.010020555  0.03226457\n",
       "   0.0144606649  0.2386437  0.4666667  0.010020555  0.03226457\n",
       "   0.0121595688  0.2381616  0.4722222  0.008591984  0.02772789\n",
       "   0.0121595688  0.2378094  0.4722222  0.008591984  0.02772789\n",
       "   0.0123817502  0.2376314  0.4722222  0.008591984  0.02772789\n",
       "   0.0123817502  0.2371399  0.4722222  0.008591984  0.02772789\n",
       "   0.0131003826  0.2364664  0.4880952  0.008591984  0.02784964\n",
       "   0.0105205665  0.2356465  0.4464286  0.007153135  0.02318810\n",
       "   0.0105205665  0.2345644  0.4464286  0.007153135  0.02318810\n",
       "   0.0084041662  0.2337561  0.4464286  0.005724563  0.01852656\n",
       "   0.0086370585  0.2321253  0.4464286  0.005724563  0.01852656\n",
       "   0.0065192752  0.2311570  0.4166667  0.004295992  0.02079083\n",
       "   0.0065192752  0.2296330  0.4166667  0.004295992  0.02079083\n",
       "   0.0065192752  0.2278854  0.4166667  0.004295992  0.02079083\n",
       "   0.0016239316  0.2260630  0.2000000  0.001428571  0.01379310\n",
       "   0.0016239316  0.2253252  0.2000000  0.001428571  0.01379310\n",
       "   0.0016239316  0.2248464  0.2000000  0.001428571  0.01379310\n",
       "   0.0018648327  0.2248605  0.2500000  0.001428571  0.01388889\n",
       "   0.0018648327  0.2254029  0.2500000  0.001428571  0.01388889\n",
       "  -0.0006984169  0.2250539  0.0000000  0.000000000         NaN\n",
       "  -0.0004683527  0.2248491  0.0000000  0.000000000         NaN\n",
       "  -0.0002355633  0.2245770  0.0000000  0.000000000         NaN\n",
       "  -0.0002355633  0.2240129  0.0000000  0.000000000         NaN\n",
       "  -0.0002355633  0.2239240  0.0000000  0.000000000         NaN\n",
       "   0.0000000000  0.2226862        NaN  0.000000000         NaN\n",
       "   0.0000000000  0.2226934        NaN  0.000000000         NaN\n",
       "   0.0000000000  0.2208961        NaN  0.000000000         NaN\n",
       "   0.0000000000  0.2186625        NaN  0.000000000         NaN\n",
       "   0.0000000000  0.2163888        NaN  0.000000000         NaN\n",
       "   0.0000000000  0.2160154        NaN  0.000000000         NaN\n",
       "   0.0000000000  0.2151736        NaN  0.000000000         NaN\n",
       "   0.0000000000  0.2157802        NaN  0.000000000         NaN\n",
       "   0.0000000000  0.2137384        NaN  0.000000000         NaN\n",
       "   0.0000000000  0.2121641        NaN  0.000000000         NaN\n",
       "   0.0000000000  0.2098717        NaN  0.000000000         NaN\n",
       "   0.0000000000  0.2100247        NaN  0.000000000         NaN\n",
       "   0.0000000000  0.2126321        NaN  0.000000000         NaN\n",
       "   0.0000000000  0.2133386        NaN  0.000000000         NaN\n",
       "   0.0000000000  0.2118317        NaN  0.000000000         NaN\n",
       "   0.0000000000  0.2093182        NaN  0.000000000         NaN\n",
       "   0.0000000000  0.2017461        NaN  0.000000000         NaN\n",
       "   0.0000000000  0.0000000        NaN  0.000000000         NaN\n",
       "   0.0166414161  0.2398609  0.4431818  0.011449126  0.03655506\n",
       "   0.0166414161  0.2398925  0.4431818  0.011449126  0.03655506\n",
       "   0.0142000498  0.2399354  0.4250000  0.010020555  0.03219891\n",
       "   0.0142000498  0.2399973  0.4250000  0.010020555  0.03219891\n",
       "   0.0144606649  0.2397576  0.4666667  0.010020555  0.03226457\n",
       "   0.0144606649  0.2394072  0.4666667  0.010020555  0.03226457\n",
       "   0.0144606649  0.2392801  0.4666667  0.010020555  0.03226457\n",
       "   0.0144606649  0.2391489  0.4666667  0.010020555  0.03226457\n",
       "   0.0144606649  0.2389838  0.4666667  0.010020555  0.03226457\n",
       "   0.0119168124  0.2386348  0.4666667  0.008591984  0.02766823\n",
       "   0.0119168124  0.2379718  0.4666667  0.008591984  0.02766823\n",
       "   0.0121595688  0.2378630  0.4722222  0.008591984  0.02772789\n",
       "   0.0121595688  0.2378224  0.4722222  0.008591984  0.02772789\n",
       "   0.0123817502  0.2369775  0.4722222  0.008591984  0.02772789\n",
       "   0.0131003826  0.2359223  0.4880952  0.008591984  0.02784964\n",
       "   0.0105205665  0.2352615  0.4464286  0.007153135  0.02318810\n",
       "   0.0109781519  0.2343739  0.4464286  0.007153135  0.02318810\n",
       "   0.0086370585  0.2324710  0.4464286  0.005724563  0.01852656\n",
       "   0.0065192752  0.2309768  0.4166667  0.004295992  0.02079083\n",
       "   0.0065192752  0.2288722  0.4166667  0.004295992  0.02079083\n",
       "   0.0067691514  0.2268257  0.6666667  0.004295992  0.02084149\n",
       "   0.0016239316  0.2263736  0.2000000  0.001428571  0.01379310\n",
       "   0.0016239316  0.2263383  0.2000000  0.001428571  0.01379310\n",
       "   0.0016239316  0.2258889  0.2000000  0.001428571  0.01379310\n",
       "   0.0018648327  0.2259747  0.2500000  0.001428571  0.01388889\n",
       "   0.0018648327  0.2258839  0.2500000  0.001428571  0.01388889\n",
       "  -0.0006984169  0.2255052  0.0000000  0.000000000         NaN\n",
       "  -0.0002355633  0.2254922  0.0000000  0.000000000         NaN\n",
       "  -0.0002355633  0.2255402  0.0000000  0.000000000         NaN\n",
       "  -0.0002355633  0.2247629  0.0000000  0.000000000         NaN\n",
       "   0.0000000000  0.2240434        NaN  0.000000000         NaN\n",
       "   0.0000000000  0.2231360        NaN  0.000000000         NaN\n",
       "   0.0000000000  0.2212789        NaN  0.000000000         NaN\n",
       "   0.0000000000  0.2185458        NaN  0.000000000         NaN\n",
       "   0.0000000000  0.2181670        NaN  0.000000000         NaN\n",
       "   0.0000000000  0.2180200        NaN  0.000000000         NaN\n",
       "   0.0000000000  0.2180523        NaN  0.000000000         NaN\n",
       "   0.0000000000  0.2158822        NaN  0.000000000         NaN\n",
       "   0.0000000000  0.2140482        NaN  0.000000000         NaN\n",
       "   0.0000000000  0.2117582        NaN  0.000000000         NaN\n",
       "   0.0000000000  0.2122741        NaN  0.000000000         NaN\n",
       "   0.0000000000  0.2140614        NaN  0.000000000         NaN\n",
       "   0.0000000000  0.2146030        NaN  0.000000000         NaN\n",
       "   0.0000000000  0.2132041        NaN  0.000000000         NaN\n",
       "   0.0000000000  0.2099358        NaN  0.000000000         NaN\n",
       "   0.0000000000  0.2038991        NaN  0.000000000         NaN\n",
       "   0.0000000000  0.0000000        NaN  0.000000000         NaN\n",
       "   0.0000000000  0.0000000        NaN  0.000000000         NaN\n",
       "   0.0000000000  0.0000000        NaN  0.000000000         NaN\n",
       "   0.0000000000  0.0000000        NaN  0.000000000         NaN\n",
       "   0.0191833416  0.2399444  0.4788961  0.012887975  0.03084095\n",
       "   0.0166414161  0.2398555  0.4431818  0.011449126  0.03655506\n",
       "   0.0166414161  0.2399064  0.4431818  0.011449126  0.03655506\n",
       "   0.0142000498  0.2398876  0.4250000  0.010020555  0.03219891\n",
       "   0.0142000498  0.2397550  0.4250000  0.010020555  0.03219891\n",
       "   0.0144606649  0.2394059  0.4666667  0.010020555  0.03226457\n",
       "   0.0144606649  0.2394080  0.4666667  0.010020555  0.03226457\n",
       "   0.0144606649  0.2390790  0.4666667  0.010020555  0.03226457\n",
       "   0.0144606649  0.2387393  0.4666667  0.010020555  0.03226457\n",
       "   0.0119168124  0.2384917  0.4666667  0.008591984  0.02766823\n",
       "   0.0119168124  0.2380669  0.4666667  0.008591984  0.02766823\n",
       "   0.0121595688  0.2378453  0.4722222  0.008591984  0.02772789\n",
       "   0.0121595688  0.2374920  0.4722222  0.008591984  0.02772789\n",
       "   0.0123817502  0.2367928  0.4722222  0.008591984  0.02772789\n",
       "   0.0102957777  0.2355981  0.4464286  0.007153135  0.02318810\n",
       "   0.0107480088  0.2345527  0.4464286  0.007153135  0.02318810\n",
       "   0.0086370585  0.2327951  0.4464286  0.005724563  0.01852656\n",
       "   0.0062835841  0.2304322  0.2777778  0.004295992  0.02079083\n",
       "   0.0065192752  0.2282452  0.4166667  0.004295992  0.02079083\n",
       "   0.0065192752  0.2268072  0.4166667  0.004295992  0.02079083\n",
       "   0.0016239316  0.2268656  0.2000000  0.001428571  0.01379310\n",
       "   0.0016239316  0.2265579  0.2000000  0.001428571  0.01379310\n",
       "   0.0016239316  0.2262132  0.2000000  0.001428571  0.01379310\n",
       "   0.0018648327  0.2263559  0.2500000  0.001428571  0.01388889\n",
       "  -0.0006984169  0.2260186  0.0000000  0.000000000         NaN\n",
       "  -0.0006984169  0.2258985  0.0000000  0.000000000         NaN\n",
       "  -0.0002355633  0.2260131  0.0000000  0.000000000         NaN\n",
       "  -0.0002355633  0.2254323  0.0000000  0.000000000         NaN\n",
       "  -0.0002355633  0.2248703  0.0000000  0.000000000         NaN\n",
       "   0.0000000000  0.2243563        NaN  0.000000000         NaN\n",
       "   0.0000000000  0.2222802        NaN  0.000000000         NaN\n",
       "   0.0000000000  0.2197325        NaN  0.000000000         NaN\n",
       "   0.0000000000  0.2190126        NaN  0.000000000         NaN\n",
       "   0.0000000000  0.2197067        NaN  0.000000000         NaN\n",
       "   0.0000000000  0.2188128        NaN  0.000000000         NaN\n",
       "   0.0000000000  0.2163728        NaN  0.000000000         NaN\n",
       "   0.0000000000  0.2145832        NaN  0.000000000         NaN\n",
       "   0.0000000000  0.2130248        NaN  0.000000000         NaN\n",
       "   0.0000000000  0.2133612        NaN  0.000000000         NaN\n",
       "   0.0000000000  0.2147284        NaN  0.000000000         NaN\n",
       "   0.0000000000  0.2147253        NaN  0.000000000         NaN\n",
       "   0.0000000000  0.2127166        NaN  0.000000000         NaN\n",
       "   0.0000000000  0.2096841        NaN  0.000000000         NaN\n",
       "   0.0000000000  0.2033728        NaN  0.000000000         NaN\n",
       "   0.0000000000  0.0000000        NaN  0.000000000         NaN\n",
       "   0.0000000000  0.0000000        NaN  0.000000000         NaN\n",
       "   0.0000000000  0.0000000        NaN  0.000000000         NaN\n",
       "   0.0000000000  0.0000000        NaN  0.000000000         NaN\n",
       "   0.0000000000  0.0000000        NaN  0.000000000         NaN\n",
       "   0.0000000000  0.0000000        NaN  0.000000000         NaN\n",
       "   0.0191833416  0.2398474  0.4788961  0.012887975  0.03084095\n",
       "   0.0166414161  0.2398305  0.4431818  0.011449126  0.03655506\n",
       "   0.0166414161  0.2397787  0.4431818  0.011449126  0.03655506\n",
       "   0.0142000498  0.2396655  0.4250000  0.010020555  0.03219891\n",
       "   0.0142000498  0.2397827  0.4250000  0.010020555  0.03219891\n",
       "   0.0144606649  0.2393718  0.4666667  0.010020555  0.03226457\n",
       "   0.0144606649  0.2393234  0.4666667  0.010020555  0.03226457\n",
       "   0.0144606649  0.2388713  0.4666667  0.010020555  0.03226457\n",
       "   0.0119168124  0.2388638  0.4666667  0.008591984  0.02766823\n",
       "   0.0119168124  0.2389652  0.4666667  0.008591984  0.02766823\n",
       "   0.0119168124  0.2382521  0.4666667  0.008591984  0.02766823\n",
       "   0.0119168124  0.2378610  0.4666667  0.008591984  0.02766823\n",
       "   0.0121595688  0.2374080  0.4722222  0.008591984  0.02772789\n",
       "   0.0128520566  0.2365771  0.4791667  0.008591984  0.02778835\n",
       "   0.0105205665  0.2351430  0.4464286  0.007153135  0.02318810\n",
       "   0.0084041662  0.2331754  0.4464286  0.005724563  0.01852656\n",
       "   0.0060324011  0.2303757  0.2619048  0.004295992  0.02069764\n",
       "   0.0065192752  0.2278480  0.4166667  0.004295992  0.02079083\n",
       "   0.0039086415  0.2269215  0.1666667  0.002857143  0.02739726\n",
       "   0.0016239316  0.2269337  0.2000000  0.001428571  0.01379310\n",
       "   0.0016239316  0.2266496  0.2000000  0.001428571  0.01379310\n",
       "   0.0016239316  0.2263453  0.2000000  0.001428571  0.01379310\n",
       "   0.0018648327  0.2264998  0.2500000  0.001428571  0.01388889\n",
       "  -0.0006984169  0.2261937  0.0000000  0.000000000         NaN\n",
       "  -0.0006984169  0.2260286  0.0000000  0.000000000         NaN\n",
       "  -0.0002355633  0.2257583  0.0000000  0.000000000         NaN\n",
       "  -0.0002355633  0.2254216  0.0000000  0.000000000         NaN\n",
       "  -0.0002355633  0.2252449  0.0000000  0.000000000         NaN\n",
       "   0.0000000000  0.2236286        NaN  0.000000000         NaN\n",
       "   0.0000000000  0.2216063        NaN  0.000000000         NaN\n",
       "   0.0000000000  0.2208281        NaN  0.000000000         NaN\n",
       "   0.0000000000  0.2202113        NaN  0.000000000         NaN\n",
       "   0.0000000000  0.2201352        NaN  0.000000000         NaN\n",
       "   0.0000000000  0.2180169        NaN  0.000000000         NaN\n",
       "   0.0000000000  0.2159834        NaN  0.000000000         NaN\n",
       "   0.0000000000  0.2142205        NaN  0.000000000         NaN\n",
       "   0.0000000000  0.2137294        NaN  0.000000000         NaN\n",
       "   0.0000000000  0.2144290        NaN  0.000000000         NaN\n",
       "   0.0000000000  0.2155264        NaN  0.000000000         NaN\n",
       "   0.0000000000  0.2137805        NaN  0.000000000         NaN\n",
       "   0.0000000000  0.2112568        NaN  0.000000000         NaN\n",
       "   0.0000000000  0.2042677        NaN  0.000000000         NaN\n",
       "   0.0000000000  0.1172162        NaN  0.000000000         NaN\n",
       "   0.0000000000  0.0000000        NaN  0.000000000         NaN\n",
       "   0.0000000000  0.0000000        NaN  0.000000000         NaN\n",
       "   0.0000000000  0.0000000        NaN  0.000000000         NaN\n",
       "   0.0000000000  0.0000000        NaN  0.000000000         NaN\n",
       "   0.0000000000  0.0000000        NaN  0.000000000         NaN\n",
       "   0.0000000000  0.0000000        NaN  0.000000000         NaN\n",
       "   0.0000000000  0.0000000        NaN  0.000000000         NaN\n",
       "\n",
       "Sens was used to select the optimal model using the largest value.\n",
       "The final values used for the model were alpha = 0.8 and lambda = 1e-04."
      ]
     },
     "metadata": {},
     "output_type": "display_data"
    }
   ],
   "source": [
    "\n",
    "X <- c(\"poly(edad,2,raw=TRUE)\", \"nivel_ed\",\"mujer\", \n",
    "        \"parentesco\", \"estado_civil\", \n",
    "        \"tipo_vivienda*poly(total_miembros_hogar,2,raw=TRUE)\", #cambio\n",
    "        \"poly(total_miembros_hogar,2,raw=TRUE)\",\n",
    "        \"poly(miembros_hogar_menores10,2,raw=TRUE)\",\n",
    "        \"poly(ing_tot_fam,2,raw=TRUE)\")\n",
    "\n",
    "\n",
    "lambda <- 10^seq(-1, -4, length = 50)\n",
    "grid <- expand.grid(\"alpha\" = seq(0,1,by=.2), lambda = lambda)\n",
    "\n",
    "set.seed(1410)\n",
    "glm_model_en_sens <- train(\n",
    "    formula(paste0(\"desempleado ~\", paste0(X, collapse = \" + \"))),\n",
    "    method = \"glmnet\",\n",
    "    data = train,\n",
    "    family = \"binomial\",\n",
    "    tuneGrid = grid,\n",
    "    preProcess = c(\"center\", \"scale\"),\n",
    "    trControl = ctrl_multiStats,\n",
    "    metric = \"Sens\"\n",
    "  )\n",
    "\n",
    "glm_model_en_sens"
   ]
  },
  {
   "cell_type": "code",
   "execution_count": 37,
   "id": "a822b118-26e6-4542-a7b5-982c03738ad9",
   "metadata": {
    "vscode": {
     "languageId": "r"
    }
   },
   "outputs": [
    {
     "data": {
      "text/plain": [
       "Confusion Matrix and Statistics\n",
       "\n",
       "             Reference\n",
       "Prediction    desempleado empleado\n",
       "  desempleado           9        3\n",
       "  empleado            314     3290\n",
       "                                          \n",
       "               Accuracy : 0.9123          \n",
       "                 95% CI : (0.9026, 0.9214)\n",
       "    No Information Rate : 0.9107          \n",
       "    P-Value [Acc > NIR] : 0.377           \n",
       "                                          \n",
       "                  Kappa : 0.0476          \n",
       "                                          \n",
       " Mcnemar's Test P-Value : <2e-16          \n",
       "                                          \n",
       "              Precision : 0.750000        \n",
       "                 Recall : 0.027864        \n",
       "                     F1 : 0.053731        \n",
       "             Prevalence : 0.089325        \n",
       "         Detection Rate : 0.002489        \n",
       "   Detection Prevalence : 0.003319        \n",
       "      Balanced Accuracy : 0.513476        \n",
       "                                          \n",
       "       'Positive' Class : desempleado     \n",
       "                                          "
      ]
     },
     "metadata": {},
     "output_type": "display_data"
    }
   ],
   "source": [
    "test<- test  %>% mutate(desempleo_hat_logit_en_sens=predict(glm_model_en_sens,newdata = test,\n",
    "                           type = \"raw\"))\n",
    "confusionMatrix(data = test$desempleo_hat_logit_en_sens, \n",
    "                reference = test$desempleado, positive=\"desempleado\", mode = \"prec_recall\")"
   ]
  },
  {
   "cell_type": "markdown",
   "id": "06017941-69e7-4c1f-8c92-4c852c280a53",
   "metadata": {},
   "source": [
    "## Alternative Cutoﬀs\n",
    "\n",
    "When there are two possible outcome categories, another method for increasing the prediction accuracy of the minority class samples is to determine alternative cutoﬀs for the predicted probabilities which eﬀectively changes the definition of a predicted event."
   ]
  },
  {
   "cell_type": "code",
   "execution_count": 38,
   "id": "6fe6c137-4eb4-4408-8dcc-74daf2f35cf0",
   "metadata": {
    "vscode": {
     "languageId": "r"
    }
   },
   "outputs": [],
   "source": [
    "p_load(\"pROC\")\n",
    "\n",
    "roc_obj_en<-roc(response=glm_model_en_sens$pred$obs[glm_model_en_sens$pred$lambda==glm_model_en_sens$bestTune$lambda],\n",
    "                   predictor=glm_model_en_sens$pred$desempleado[glm_model_en_sens$pred$lambda==glm_model_en_sens$bestTune$lambda],\n",
    "                  levels = c(\"empleado\", \"desempleado\"),  # Establecer control y caso\n",
    "                  direction = \"<\")  # \"<\" significa que \"desempleado\" es positivo"
   ]
  },
  {
   "cell_type": "code",
   "execution_count": 40,
   "id": "d75e625b-1b90-4b95-bd42-0a81862faa3e",
   "metadata": {},
   "outputs": [
    {
     "data": {
      "text/plain": [
       "\n",
       "Call:\n",
       "roc.default(response = glm_model_en_sens$pred$obs[glm_model_en_sens$pred$lambda ==     glm_model_en_sens$bestTune$lambda], predictor = glm_model_en_sens$pred$desempleado[glm_model_en_sens$pred$lambda ==     glm_model_en_sens$bestTune$lambda], levels = c(\"empleado\",     \"desempleado\"), direction = \"<\")\n",
       "\n",
       "Data: glm_model_en_sens$pred$desempleado[glm_model_en_sens$pred$lambda == glm_model_en_sens$bestTune$lambda] in 46446 controls (glm_model_en_sens$pred$obs[glm_model_en_sens$pred$lambda == glm_model_en_sens$bestTune$lambda] empleado) < 4182 cases (glm_model_en_sens$pred$obs[glm_model_en_sens$pred$lambda == glm_model_en_sens$bestTune$lambda] desempleado).\n",
       "Area under the curve: 0.7563"
      ]
     },
     "metadata": {},
     "output_type": "display_data"
    }
   ],
   "source": [
    "roc_obj_en"
   ]
  },
  {
   "cell_type": "code",
   "execution_count": 41,
   "id": "0495606a-83e1-415c-9202-f8f8523e9203",
   "metadata": {
    "vscode": {
     "languageId": "r"
    }
   },
   "outputs": [
    {
     "data": {
      "text/html": [
       "<table class=\"dataframe\">\n",
       "<caption>A data.frame: 1 × 3</caption>\n",
       "<thead>\n",
       "\t<tr><th scope=col>threshold</th><th scope=col>specificity</th><th scope=col>sensitivity</th></tr>\n",
       "\t<tr><th scope=col>&lt;dbl&gt;</th><th scope=col>&lt;dbl&gt;</th><th scope=col>&lt;dbl&gt;</th></tr>\n",
       "</thead>\n",
       "<tbody>\n",
       "\t<tr><td>0.07892149</td><td>0.6700039</td><td>0.7042085</td></tr>\n",
       "</tbody>\n",
       "</table>\n"
      ],
      "text/latex": [
       "A data.frame: 1 × 3\n",
       "\\begin{tabular}{lll}\n",
       " threshold & specificity & sensitivity\\\\\n",
       " <dbl> & <dbl> & <dbl>\\\\\n",
       "\\hline\n",
       "\t 0.07892149 & 0.6700039 & 0.7042085\\\\\n",
       "\\end{tabular}\n"
      ],
      "text/markdown": [
       "\n",
       "A data.frame: 1 × 3\n",
       "\n",
       "| threshold &lt;dbl&gt; | specificity &lt;dbl&gt; | sensitivity &lt;dbl&gt; |\n",
       "|---|---|---|\n",
       "| 0.07892149 | 0.6700039 | 0.7042085 |\n",
       "\n"
      ],
      "text/plain": [
       "  threshold  specificity sensitivity\n",
       "1 0.07892149 0.6700039   0.7042085  "
      ]
     },
     "metadata": {},
     "output_type": "display_data"
    }
   ],
   "source": [
    "rfThresh_en <- coords(roc_obj_en, x = \"best\", best.method = \"closest.topleft\")\n",
    "rfThresh_en"
   ]
  },
  {
   "cell_type": "code",
   "execution_count": 42,
   "id": "7e93b538-b660-4361-ad59-ea94e3f891cb",
   "metadata": {
    "vscode": {
     "languageId": "r"
    }
   },
   "outputs": [
    {
     "data": {
      "text/html": [
       "<table class=\"dataframe\">\n",
       "<caption>A tibble: 6 × 20</caption>\n",
       "<thead>\n",
       "\t<tr><th scope=col>desempleado</th><th scope=col>edad</th><th scope=col>mujer</th><th scope=col>parentesco</th><th scope=col>nivel_ed</th><th scope=col>estado_civil</th><th scope=col>total_miembros_hogar</th><th scope=col>miembros_hogar_menores10</th><th scope=col>ing_tot_fam</th><th scope=col>tipo_vivienda</th><th scope=col>ciudad</th><th scope=col>trimestre</th><th scope=col>id_hogar</th><th scope=col>prob_hat</th><th scope=col>desempleado_hat</th><th scope=col>desempleo_hat_logit_orig</th><th scope=col>desempleo_hat_logit_ampliado</th><th scope=col>desempleo_hat_logit_en</th><th scope=col>desempleo_hat_logit_en_sens</th><th scope=col>desempleo_prob_logit_en_sens</th></tr>\n",
       "\t<tr><th scope=col>&lt;fct&gt;</th><th scope=col>&lt;dbl&gt;</th><th scope=col>&lt;fct&gt;</th><th scope=col>&lt;fct&gt;</th><th scope=col>&lt;fct&gt;</th><th scope=col>&lt;fct&gt;</th><th scope=col>&lt;dbl&gt;</th><th scope=col>&lt;dbl&gt;</th><th scope=col>&lt;dbl&gt;</th><th scope=col>&lt;fct&gt;</th><th scope=col>&lt;fct&gt;</th><th scope=col>&lt;dbl&gt;</th><th scope=col>&lt;chr&gt;</th><th scope=col>&lt;dbl&gt;</th><th scope=col>&lt;dbl&gt;</th><th scope=col>&lt;fct&gt;</th><th scope=col>&lt;fct&gt;</th><th scope=col>&lt;fct&gt;</th><th scope=col>&lt;fct&gt;</th><th scope=col>&lt;dbl&gt;</th></tr>\n",
       "</thead>\n",
       "<tbody>\n",
       "\t<tr><td>empleado</td><td>31</td><td>hombre</td><td>Jefe/a             </td><td>Superior Universitaria Incompleta</td><td>Unido/a  </td><td>3</td><td>1</td><td>8400</td><td>Casa        </td><td>Partidos del GBA</td><td>1</td><td>  1251051</td><td>0.08280964</td><td>0</td><td>empleado</td><td>empleado</td><td>empleado</td><td>empleado</td><td>0.01267673</td></tr>\n",
       "\t<tr><td>empleado</td><td>46</td><td>mujer </td><td>Conyuge/Pareja     </td><td>Secundaria Incompleta            </td><td>Casado/a </td><td>3</td><td>0</td><td>3150</td><td>Casa        </td><td>Partidos del GBA</td><td>1</td><td>  1251801</td><td>0.06991466</td><td>0</td><td>empleado</td><td>empleado</td><td>empleado</td><td>empleado</td><td>0.10879730</td></tr>\n",
       "\t<tr><td>empleado</td><td>46</td><td>hombre</td><td>Jefe/a             </td><td>Primaria Completa                </td><td>Casado/a </td><td>4</td><td>2</td><td>5500</td><td>Casa        </td><td>Partidos del GBA</td><td>1</td><td>  1260111</td><td>0.04499519</td><td>0</td><td>empleado</td><td>empleado</td><td>empleado</td><td>empleado</td><td>0.01252388</td></tr>\n",
       "\t<tr><td>empleado</td><td>36</td><td>mujer </td><td>Conyuge/Pareja     </td><td>Secundaria Incompleta            </td><td>Casado/a </td><td>4</td><td>2</td><td>5500</td><td>Casa        </td><td>Partidos del GBA</td><td>1</td><td>  1260111</td><td>0.10392007</td><td>0</td><td>empleado</td><td>empleado</td><td>empleado</td><td>empleado</td><td>0.04771943</td></tr>\n",
       "\t<tr><td>empleado</td><td>26</td><td>hombre</td><td>Hijo/a - Hijastro/a</td><td>Secundaria Completa              </td><td>Soltero/a</td><td>4</td><td>0</td><td>6750</td><td>Casa        </td><td>Partidos del GBA</td><td>1</td><td>  1260281</td><td>0.10083565</td><td>0</td><td>empleado</td><td>empleado</td><td>empleado</td><td>empleado</td><td>0.08204362</td></tr>\n",
       "\t<tr><td>empleado</td><td>23</td><td>mujer </td><td>Hijo/a - Hijastro/a</td><td>Secundaria Completa              </td><td>Soltero/a</td><td>6</td><td>2</td><td>6100</td><td>Departamento</td><td>Partidos del GBA</td><td>1</td><td>  1263381</td><td>0.16928037</td><td>0</td><td>empleado</td><td>empleado</td><td>empleado</td><td>empleado</td><td>0.12723855</td></tr>\n",
       "</tbody>\n",
       "</table>\n"
      ],
      "text/latex": [
       "A tibble: 6 × 20\n",
       "\\begin{tabular}{llllllllllllllllllll}\n",
       " desempleado & edad & mujer & parentesco & nivel\\_ed & estado\\_civil & total\\_miembros\\_hogar & miembros\\_hogar\\_menores10 & ing\\_tot\\_fam & tipo\\_vivienda & ciudad & trimestre & id\\_hogar & prob\\_hat & desempleado\\_hat & desempleo\\_hat\\_logit\\_orig & desempleo\\_hat\\_logit\\_ampliado & desempleo\\_hat\\_logit\\_en & desempleo\\_hat\\_logit\\_en\\_sens & desempleo\\_prob\\_logit\\_en\\_sens\\\\\n",
       " <fct> & <dbl> & <fct> & <fct> & <fct> & <fct> & <dbl> & <dbl> & <dbl> & <fct> & <fct> & <dbl> & <chr> & <dbl> & <dbl> & <fct> & <fct> & <fct> & <fct> & <dbl>\\\\\n",
       "\\hline\n",
       "\t empleado & 31 & hombre & Jefe/a              & Superior Universitaria Incompleta & Unido/a   & 3 & 1 & 8400 & Casa         & Partidos del GBA & 1 &   1251051 & 0.08280964 & 0 & empleado & empleado & empleado & empleado & 0.01267673\\\\\n",
       "\t empleado & 46 & mujer  & Conyuge/Pareja      & Secundaria Incompleta             & Casado/a  & 3 & 0 & 3150 & Casa         & Partidos del GBA & 1 &   1251801 & 0.06991466 & 0 & empleado & empleado & empleado & empleado & 0.10879730\\\\\n",
       "\t empleado & 46 & hombre & Jefe/a              & Primaria Completa                 & Casado/a  & 4 & 2 & 5500 & Casa         & Partidos del GBA & 1 &   1260111 & 0.04499519 & 0 & empleado & empleado & empleado & empleado & 0.01252388\\\\\n",
       "\t empleado & 36 & mujer  & Conyuge/Pareja      & Secundaria Incompleta             & Casado/a  & 4 & 2 & 5500 & Casa         & Partidos del GBA & 1 &   1260111 & 0.10392007 & 0 & empleado & empleado & empleado & empleado & 0.04771943\\\\\n",
       "\t empleado & 26 & hombre & Hijo/a - Hijastro/a & Secundaria Completa               & Soltero/a & 4 & 0 & 6750 & Casa         & Partidos del GBA & 1 &   1260281 & 0.10083565 & 0 & empleado & empleado & empleado & empleado & 0.08204362\\\\\n",
       "\t empleado & 23 & mujer  & Hijo/a - Hijastro/a & Secundaria Completa               & Soltero/a & 6 & 2 & 6100 & Departamento & Partidos del GBA & 1 &   1263381 & 0.16928037 & 0 & empleado & empleado & empleado & empleado & 0.12723855\\\\\n",
       "\\end{tabular}\n"
      ],
      "text/markdown": [
       "\n",
       "A tibble: 6 × 20\n",
       "\n",
       "| desempleado &lt;fct&gt; | edad &lt;dbl&gt; | mujer &lt;fct&gt; | parentesco &lt;fct&gt; | nivel_ed &lt;fct&gt; | estado_civil &lt;fct&gt; | total_miembros_hogar &lt;dbl&gt; | miembros_hogar_menores10 &lt;dbl&gt; | ing_tot_fam &lt;dbl&gt; | tipo_vivienda &lt;fct&gt; | ciudad &lt;fct&gt; | trimestre &lt;dbl&gt; | id_hogar &lt;chr&gt; | prob_hat &lt;dbl&gt; | desempleado_hat &lt;dbl&gt; | desempleo_hat_logit_orig &lt;fct&gt; | desempleo_hat_logit_ampliado &lt;fct&gt; | desempleo_hat_logit_en &lt;fct&gt; | desempleo_hat_logit_en_sens &lt;fct&gt; | desempleo_prob_logit_en_sens &lt;dbl&gt; |\n",
       "|---|---|---|---|---|---|---|---|---|---|---|---|---|---|---|---|---|---|---|---|\n",
       "| empleado | 31 | hombre | Jefe/a              | Superior Universitaria Incompleta | Unido/a   | 3 | 1 | 8400 | Casa         | Partidos del GBA | 1 |   1251051 | 0.08280964 | 0 | empleado | empleado | empleado | empleado | 0.01267673 |\n",
       "| empleado | 46 | mujer  | Conyuge/Pareja      | Secundaria Incompleta             | Casado/a  | 3 | 0 | 3150 | Casa         | Partidos del GBA | 1 |   1251801 | 0.06991466 | 0 | empleado | empleado | empleado | empleado | 0.10879730 |\n",
       "| empleado | 46 | hombre | Jefe/a              | Primaria Completa                 | Casado/a  | 4 | 2 | 5500 | Casa         | Partidos del GBA | 1 |   1260111 | 0.04499519 | 0 | empleado | empleado | empleado | empleado | 0.01252388 |\n",
       "| empleado | 36 | mujer  | Conyuge/Pareja      | Secundaria Incompleta             | Casado/a  | 4 | 2 | 5500 | Casa         | Partidos del GBA | 1 |   1260111 | 0.10392007 | 0 | empleado | empleado | empleado | empleado | 0.04771943 |\n",
       "| empleado | 26 | hombre | Hijo/a - Hijastro/a | Secundaria Completa               | Soltero/a | 4 | 0 | 6750 | Casa         | Partidos del GBA | 1 |   1260281 | 0.10083565 | 0 | empleado | empleado | empleado | empleado | 0.08204362 |\n",
       "| empleado | 23 | mujer  | Hijo/a - Hijastro/a | Secundaria Completa               | Soltero/a | 6 | 2 | 6100 | Departamento | Partidos del GBA | 1 |   1263381 | 0.16928037 | 0 | empleado | empleado | empleado | empleado | 0.12723855 |\n",
       "\n"
      ],
      "text/plain": [
       "   desempleado edad mujer  parentesco         \n",
       "1  empleado    31   hombre Jefe/a             \n",
       "4  empleado    46   mujer  Conyuge/Pareja     \n",
       "10 empleado    46   hombre Jefe/a             \n",
       "11 empleado    36   mujer  Conyuge/Pareja     \n",
       "14 empleado    26   hombre Hijo/a - Hijastro/a\n",
       "17 empleado    23   mujer  Hijo/a - Hijastro/a\n",
       "   nivel_ed                          estado_civil total_miembros_hogar\n",
       "1  Superior Universitaria Incompleta Unido/a      3                   \n",
       "4  Secundaria Incompleta             Casado/a     3                   \n",
       "10 Primaria Completa                 Casado/a     4                   \n",
       "11 Secundaria Incompleta             Casado/a     4                   \n",
       "14 Secundaria Completa               Soltero/a    4                   \n",
       "17 Secundaria Completa               Soltero/a    6                   \n",
       "   miembros_hogar_menores10 ing_tot_fam tipo_vivienda ciudad          \n",
       "1  1                        8400        Casa          Partidos del GBA\n",
       "4  0                        3150        Casa          Partidos del GBA\n",
       "10 2                        5500        Casa          Partidos del GBA\n",
       "11 2                        5500        Casa          Partidos del GBA\n",
       "14 0                        6750        Casa          Partidos del GBA\n",
       "17 2                        6100        Departamento  Partidos del GBA\n",
       "   trimestre id_hogar  prob_hat   desempleado_hat desempleo_hat_logit_orig\n",
       "1  1           1251051 0.08280964 0               empleado                \n",
       "4  1           1251801 0.06991466 0               empleado                \n",
       "10 1           1260111 0.04499519 0               empleado                \n",
       "11 1           1260111 0.10392007 0               empleado                \n",
       "14 1           1260281 0.10083565 0               empleado                \n",
       "17 1           1263381 0.16928037 0               empleado                \n",
       "   desempleo_hat_logit_ampliado desempleo_hat_logit_en\n",
       "1  empleado                     empleado              \n",
       "4  empleado                     empleado              \n",
       "10 empleado                     empleado              \n",
       "11 empleado                     empleado              \n",
       "14 empleado                     empleado              \n",
       "17 empleado                     empleado              \n",
       "   desempleo_hat_logit_en_sens desempleo_prob_logit_en_sens\n",
       "1  empleado                    0.01267673                  \n",
       "4  empleado                    0.10879730                  \n",
       "10 empleado                    0.01252388                  \n",
       "11 empleado                    0.04771943                  \n",
       "14 empleado                    0.08204362                  \n",
       "17 empleado                    0.12723855                  "
      ]
     },
     "metadata": {},
     "output_type": "display_data"
    }
   ],
   "source": [
    "\n",
    "test<- test  %>% mutate(desempleo_prob_logit_en_sens=predict(glm_model_en_sens,newdata = test,\n",
    "                           type = \"prob\")$desempleado)\n",
    "head(test)"
   ]
  },
  {
   "cell_type": "code",
   "execution_count": 45,
   "id": "d9d6d372-e7a9-4037-af8e-d12d0afe655a",
   "metadata": {
    "vscode": {
     "languageId": "r"
    }
   },
   "outputs": [
    {
     "data": {
      "text/plain": [
       "Confusion Matrix and Statistics\n",
       "\n",
       "             Reference\n",
       "Prediction    desempleado empleado\n",
       "  desempleado         247     1095\n",
       "  empleado             76     2198\n",
       "                                          \n",
       "               Accuracy : 0.6762          \n",
       "                 95% CI : (0.6606, 0.6914)\n",
       "    No Information Rate : 0.9107          \n",
       "    P-Value [Acc > NIR] : 1               \n",
       "                                          \n",
       "                  Kappa : 0.1784          \n",
       "                                          \n",
       " Mcnemar's Test P-Value : <2e-16          \n",
       "                                          \n",
       "              Precision : 0.18405         \n",
       "                 Recall : 0.76471         \n",
       "                     F1 : 0.29670         \n",
       "             Prevalence : 0.08933         \n",
       "         Detection Rate : 0.06831         \n",
       "   Detection Prevalence : 0.37113         \n",
       "      Balanced Accuracy : 0.71609         \n",
       "                                          \n",
       "       'Positive' Class : desempleado     \n",
       "                                          "
      ]
     },
     "metadata": {},
     "output_type": "display_data"
    }
   ],
   "source": [
    "\n",
    "test<- test  %>% mutate(desempleo_hat_logit_en_sens_cutoff=factor(ifelse(desempleo_prob_logit_en_sens>=rfThresh_en$threshold,1,0),\n",
    "                                                                 levels = c(1,0), labels = c(\"desempleado\",\"empleado\")))\n",
    "         \n",
    "confusionMatrix(data = test$desempleo_hat_logit_en_sens_cutoff, \n",
    "                 reference = test$desempleado, positive=\"desempleado\", mode = \"prec_recall\")"
   ]
  },
  {
   "cell_type": "markdown",
   "id": "193c8b70-3944-4d10-a043-697720e66684",
   "metadata": {},
   "source": [
    "## Precision Recall Curve"
   ]
  },
  {
   "cell_type": "code",
   "execution_count": 46,
   "id": "64d31c0c-4b9d-43ec-a94c-b746ed8e77d2",
   "metadata": {
    "vscode": {
     "languageId": "r"
    }
   },
   "outputs": [
    {
     "data": {
      "text/html": [
       "<table class=\"dataframe\">\n",
       "<caption>A data.frame: 100 × 3</caption>\n",
       "<thead>\n",
       "\t<tr><th scope=col>threshold</th><th scope=col>precision</th><th scope=col>recall</th></tr>\n",
       "\t<tr><th scope=col>&lt;dbl&gt;</th><th scope=col>&lt;dbl&gt;</th><th scope=col>&lt;dbl&gt;</th></tr>\n",
       "</thead>\n",
       "<tbody>\n",
       "\t<tr><td>0.00000000</td><td>0.08260251</td><td>1.0000000</td></tr>\n",
       "\t<tr><td>0.01010101</td><td>0.08914045</td><td>0.9904352</td></tr>\n",
       "\t<tr><td>0.02020202</td><td>0.09751007</td><td>0.9720230</td></tr>\n",
       "\t<tr><td>0.03030303</td><td>0.10678215</td><td>0.9404591</td></tr>\n",
       "\t<tr><td>0.04040404</td><td>0.11777335</td><td>0.9050693</td></tr>\n",
       "\t<tr><td>0.05050505</td><td>0.12750907</td><td>0.8491153</td></tr>\n",
       "\t<tr><td>0.06060606</td><td>0.14023191</td><td>0.8010521</td></tr>\n",
       "\t<tr><td>0.07070707</td><td>0.15193008</td><td>0.7482066</td></tr>\n",
       "\t<tr><td>0.08080808</td><td>0.16195878</td><td>0.6896222</td></tr>\n",
       "\t<tr><td>0.09090909</td><td>0.17288136</td><td>0.6463415</td></tr>\n",
       "\t<tr><td>0.10101010</td><td>0.18370630</td><td>0.6006695</td></tr>\n",
       "\t<tr><td>0.11111111</td><td>0.19417234</td><td>0.5593018</td></tr>\n",
       "\t<tr><td>0.12121212</td><td>0.20612341</td><td>0.5231946</td></tr>\n",
       "\t<tr><td>0.13131313</td><td>0.21825902</td><td>0.4916308</td></tr>\n",
       "\t<tr><td>0.14141414</td><td>0.22897816</td><td>0.4538498</td></tr>\n",
       "\t<tr><td>0.15151515</td><td>0.23374317</td><td>0.4091344</td></tr>\n",
       "\t<tr><td>0.16161616</td><td>0.24496029</td><td>0.3835485</td></tr>\n",
       "\t<tr><td>0.17171717</td><td>0.25598622</td><td>0.3553324</td></tr>\n",
       "\t<tr><td>0.18181818</td><td>0.27295380</td><td>0.3405069</td></tr>\n",
       "\t<tr><td>0.19191919</td><td>0.28708935</td><td>0.3280727</td></tr>\n",
       "\t<tr><td>0.20202020</td><td>0.29865389</td><td>0.3130081</td></tr>\n",
       "\t<tr><td>0.21212121</td><td>0.30493611</td><td>0.2910091</td></tr>\n",
       "\t<tr><td>0.22222222</td><td>0.30995600</td><td>0.2694883</td></tr>\n",
       "\t<tr><td>0.23232323</td><td>0.31837349</td><td>0.2527499</td></tr>\n",
       "\t<tr><td>0.24242424</td><td>0.32871744</td><td>0.2384027</td></tr>\n",
       "\t<tr><td>0.25252525</td><td>0.33488372</td><td>0.2238164</td></tr>\n",
       "\t<tr><td>0.26262626</td><td>0.35308541</td><td>0.2065997</td></tr>\n",
       "\t<tr><td>0.27272727</td><td>0.36729968</td><td>0.1896222</td></tr>\n",
       "\t<tr><td>0.28282828</td><td>0.37125444</td><td>0.1747967</td></tr>\n",
       "\t<tr><td>0.29292929</td><td>0.38267993</td><td>0.1563845</td></tr>\n",
       "\t<tr><td>⋮</td><td>⋮</td><td>⋮</td></tr>\n",
       "\t<tr><td>0.7070707</td><td>  0</td><td>0</td></tr>\n",
       "\t<tr><td>0.7171717</td><td>  0</td><td>0</td></tr>\n",
       "\t<tr><td>0.7272727</td><td>  0</td><td>0</td></tr>\n",
       "\t<tr><td>0.7373737</td><td>  0</td><td>0</td></tr>\n",
       "\t<tr><td>0.7474747</td><td>  0</td><td>0</td></tr>\n",
       "\t<tr><td>0.7575758</td><td>  0</td><td>0</td></tr>\n",
       "\t<tr><td>0.7676768</td><td>  0</td><td>0</td></tr>\n",
       "\t<tr><td>0.7777778</td><td>  0</td><td>0</td></tr>\n",
       "\t<tr><td>0.7878788</td><td>  0</td><td>0</td></tr>\n",
       "\t<tr><td>0.7979798</td><td>  0</td><td>0</td></tr>\n",
       "\t<tr><td>0.8080808</td><td>  0</td><td>0</td></tr>\n",
       "\t<tr><td>0.8181818</td><td>  0</td><td>0</td></tr>\n",
       "\t<tr><td>0.8282828</td><td>  0</td><td>0</td></tr>\n",
       "\t<tr><td>0.8383838</td><td>  0</td><td>0</td></tr>\n",
       "\t<tr><td>0.8484848</td><td>  0</td><td>0</td></tr>\n",
       "\t<tr><td>0.8585859</td><td>  0</td><td>0</td></tr>\n",
       "\t<tr><td>0.8686869</td><td>  0</td><td>0</td></tr>\n",
       "\t<tr><td>0.8787879</td><td>  0</td><td>0</td></tr>\n",
       "\t<tr><td>0.8888889</td><td>  0</td><td>0</td></tr>\n",
       "\t<tr><td>0.8989899</td><td>  0</td><td>0</td></tr>\n",
       "\t<tr><td>0.9090909</td><td>  0</td><td>0</td></tr>\n",
       "\t<tr><td>0.9191919</td><td>  0</td><td>0</td></tr>\n",
       "\t<tr><td>0.9292929</td><td>  0</td><td>0</td></tr>\n",
       "\t<tr><td>0.9393939</td><td>  0</td><td>0</td></tr>\n",
       "\t<tr><td>0.9494949</td><td>  0</td><td>0</td></tr>\n",
       "\t<tr><td>0.9595960</td><td>  0</td><td>0</td></tr>\n",
       "\t<tr><td>0.9696970</td><td>  0</td><td>0</td></tr>\n",
       "\t<tr><td>0.9797980</td><td>  0</td><td>0</td></tr>\n",
       "\t<tr><td>0.9898990</td><td>  0</td><td>0</td></tr>\n",
       "\t<tr><td>1.0000000</td><td>NaN</td><td>0</td></tr>\n",
       "</tbody>\n",
       "</table>\n"
      ],
      "text/latex": [
       "A data.frame: 100 × 3\n",
       "\\begin{tabular}{lll}\n",
       " threshold & precision & recall\\\\\n",
       " <dbl> & <dbl> & <dbl>\\\\\n",
       "\\hline\n",
       "\t 0.00000000 & 0.08260251 & 1.0000000\\\\\n",
       "\t 0.01010101 & 0.08914045 & 0.9904352\\\\\n",
       "\t 0.02020202 & 0.09751007 & 0.9720230\\\\\n",
       "\t 0.03030303 & 0.10678215 & 0.9404591\\\\\n",
       "\t 0.04040404 & 0.11777335 & 0.9050693\\\\\n",
       "\t 0.05050505 & 0.12750907 & 0.8491153\\\\\n",
       "\t 0.06060606 & 0.14023191 & 0.8010521\\\\\n",
       "\t 0.07070707 & 0.15193008 & 0.7482066\\\\\n",
       "\t 0.08080808 & 0.16195878 & 0.6896222\\\\\n",
       "\t 0.09090909 & 0.17288136 & 0.6463415\\\\\n",
       "\t 0.10101010 & 0.18370630 & 0.6006695\\\\\n",
       "\t 0.11111111 & 0.19417234 & 0.5593018\\\\\n",
       "\t 0.12121212 & 0.20612341 & 0.5231946\\\\\n",
       "\t 0.13131313 & 0.21825902 & 0.4916308\\\\\n",
       "\t 0.14141414 & 0.22897816 & 0.4538498\\\\\n",
       "\t 0.15151515 & 0.23374317 & 0.4091344\\\\\n",
       "\t 0.16161616 & 0.24496029 & 0.3835485\\\\\n",
       "\t 0.17171717 & 0.25598622 & 0.3553324\\\\\n",
       "\t 0.18181818 & 0.27295380 & 0.3405069\\\\\n",
       "\t 0.19191919 & 0.28708935 & 0.3280727\\\\\n",
       "\t 0.20202020 & 0.29865389 & 0.3130081\\\\\n",
       "\t 0.21212121 & 0.30493611 & 0.2910091\\\\\n",
       "\t 0.22222222 & 0.30995600 & 0.2694883\\\\\n",
       "\t 0.23232323 & 0.31837349 & 0.2527499\\\\\n",
       "\t 0.24242424 & 0.32871744 & 0.2384027\\\\\n",
       "\t 0.25252525 & 0.33488372 & 0.2238164\\\\\n",
       "\t 0.26262626 & 0.35308541 & 0.2065997\\\\\n",
       "\t 0.27272727 & 0.36729968 & 0.1896222\\\\\n",
       "\t 0.28282828 & 0.37125444 & 0.1747967\\\\\n",
       "\t 0.29292929 & 0.38267993 & 0.1563845\\\\\n",
       "\t ⋮ & ⋮ & ⋮\\\\\n",
       "\t 0.7070707 &   0 & 0\\\\\n",
       "\t 0.7171717 &   0 & 0\\\\\n",
       "\t 0.7272727 &   0 & 0\\\\\n",
       "\t 0.7373737 &   0 & 0\\\\\n",
       "\t 0.7474747 &   0 & 0\\\\\n",
       "\t 0.7575758 &   0 & 0\\\\\n",
       "\t 0.7676768 &   0 & 0\\\\\n",
       "\t 0.7777778 &   0 & 0\\\\\n",
       "\t 0.7878788 &   0 & 0\\\\\n",
       "\t 0.7979798 &   0 & 0\\\\\n",
       "\t 0.8080808 &   0 & 0\\\\\n",
       "\t 0.8181818 &   0 & 0\\\\\n",
       "\t 0.8282828 &   0 & 0\\\\\n",
       "\t 0.8383838 &   0 & 0\\\\\n",
       "\t 0.8484848 &   0 & 0\\\\\n",
       "\t 0.8585859 &   0 & 0\\\\\n",
       "\t 0.8686869 &   0 & 0\\\\\n",
       "\t 0.8787879 &   0 & 0\\\\\n",
       "\t 0.8888889 &   0 & 0\\\\\n",
       "\t 0.8989899 &   0 & 0\\\\\n",
       "\t 0.9090909 &   0 & 0\\\\\n",
       "\t 0.9191919 &   0 & 0\\\\\n",
       "\t 0.9292929 &   0 & 0\\\\\n",
       "\t 0.9393939 &   0 & 0\\\\\n",
       "\t 0.9494949 &   0 & 0\\\\\n",
       "\t 0.9595960 &   0 & 0\\\\\n",
       "\t 0.9696970 &   0 & 0\\\\\n",
       "\t 0.9797980 &   0 & 0\\\\\n",
       "\t 0.9898990 &   0 & 0\\\\\n",
       "\t 1.0000000 & NaN & 0\\\\\n",
       "\\end{tabular}\n"
      ],
      "text/markdown": [
       "\n",
       "A data.frame: 100 × 3\n",
       "\n",
       "| threshold &lt;dbl&gt; | precision &lt;dbl&gt; | recall &lt;dbl&gt; |\n",
       "|---|---|---|\n",
       "| 0.00000000 | 0.08260251 | 1.0000000 |\n",
       "| 0.01010101 | 0.08914045 | 0.9904352 |\n",
       "| 0.02020202 | 0.09751007 | 0.9720230 |\n",
       "| 0.03030303 | 0.10678215 | 0.9404591 |\n",
       "| 0.04040404 | 0.11777335 | 0.9050693 |\n",
       "| 0.05050505 | 0.12750907 | 0.8491153 |\n",
       "| 0.06060606 | 0.14023191 | 0.8010521 |\n",
       "| 0.07070707 | 0.15193008 | 0.7482066 |\n",
       "| 0.08080808 | 0.16195878 | 0.6896222 |\n",
       "| 0.09090909 | 0.17288136 | 0.6463415 |\n",
       "| 0.10101010 | 0.18370630 | 0.6006695 |\n",
       "| 0.11111111 | 0.19417234 | 0.5593018 |\n",
       "| 0.12121212 | 0.20612341 | 0.5231946 |\n",
       "| 0.13131313 | 0.21825902 | 0.4916308 |\n",
       "| 0.14141414 | 0.22897816 | 0.4538498 |\n",
       "| 0.15151515 | 0.23374317 | 0.4091344 |\n",
       "| 0.16161616 | 0.24496029 | 0.3835485 |\n",
       "| 0.17171717 | 0.25598622 | 0.3553324 |\n",
       "| 0.18181818 | 0.27295380 | 0.3405069 |\n",
       "| 0.19191919 | 0.28708935 | 0.3280727 |\n",
       "| 0.20202020 | 0.29865389 | 0.3130081 |\n",
       "| 0.21212121 | 0.30493611 | 0.2910091 |\n",
       "| 0.22222222 | 0.30995600 | 0.2694883 |\n",
       "| 0.23232323 | 0.31837349 | 0.2527499 |\n",
       "| 0.24242424 | 0.32871744 | 0.2384027 |\n",
       "| 0.25252525 | 0.33488372 | 0.2238164 |\n",
       "| 0.26262626 | 0.35308541 | 0.2065997 |\n",
       "| 0.27272727 | 0.36729968 | 0.1896222 |\n",
       "| 0.28282828 | 0.37125444 | 0.1747967 |\n",
       "| 0.29292929 | 0.38267993 | 0.1563845 |\n",
       "| ⋮ | ⋮ | ⋮ |\n",
       "| 0.7070707 |   0 | 0 |\n",
       "| 0.7171717 |   0 | 0 |\n",
       "| 0.7272727 |   0 | 0 |\n",
       "| 0.7373737 |   0 | 0 |\n",
       "| 0.7474747 |   0 | 0 |\n",
       "| 0.7575758 |   0 | 0 |\n",
       "| 0.7676768 |   0 | 0 |\n",
       "| 0.7777778 |   0 | 0 |\n",
       "| 0.7878788 |   0 | 0 |\n",
       "| 0.7979798 |   0 | 0 |\n",
       "| 0.8080808 |   0 | 0 |\n",
       "| 0.8181818 |   0 | 0 |\n",
       "| 0.8282828 |   0 | 0 |\n",
       "| 0.8383838 |   0 | 0 |\n",
       "| 0.8484848 |   0 | 0 |\n",
       "| 0.8585859 |   0 | 0 |\n",
       "| 0.8686869 |   0 | 0 |\n",
       "| 0.8787879 |   0 | 0 |\n",
       "| 0.8888889 |   0 | 0 |\n",
       "| 0.8989899 |   0 | 0 |\n",
       "| 0.9090909 |   0 | 0 |\n",
       "| 0.9191919 |   0 | 0 |\n",
       "| 0.9292929 |   0 | 0 |\n",
       "| 0.9393939 |   0 | 0 |\n",
       "| 0.9494949 |   0 | 0 |\n",
       "| 0.9595960 |   0 | 0 |\n",
       "| 0.9696970 |   0 | 0 |\n",
       "| 0.9797980 |   0 | 0 |\n",
       "| 0.9898990 |   0 | 0 |\n",
       "| 1.0000000 | NaN | 0 |\n",
       "\n"
      ],
      "text/plain": [
       "    threshold  precision  recall   \n",
       "1   0.00000000 0.08260251 1.0000000\n",
       "2   0.01010101 0.08914045 0.9904352\n",
       "3   0.02020202 0.09751007 0.9720230\n",
       "4   0.03030303 0.10678215 0.9404591\n",
       "5   0.04040404 0.11777335 0.9050693\n",
       "6   0.05050505 0.12750907 0.8491153\n",
       "7   0.06060606 0.14023191 0.8010521\n",
       "8   0.07070707 0.15193008 0.7482066\n",
       "9   0.08080808 0.16195878 0.6896222\n",
       "10  0.09090909 0.17288136 0.6463415\n",
       "11  0.10101010 0.18370630 0.6006695\n",
       "12  0.11111111 0.19417234 0.5593018\n",
       "13  0.12121212 0.20612341 0.5231946\n",
       "14  0.13131313 0.21825902 0.4916308\n",
       "15  0.14141414 0.22897816 0.4538498\n",
       "16  0.15151515 0.23374317 0.4091344\n",
       "17  0.16161616 0.24496029 0.3835485\n",
       "18  0.17171717 0.25598622 0.3553324\n",
       "19  0.18181818 0.27295380 0.3405069\n",
       "20  0.19191919 0.28708935 0.3280727\n",
       "21  0.20202020 0.29865389 0.3130081\n",
       "22  0.21212121 0.30493611 0.2910091\n",
       "23  0.22222222 0.30995600 0.2694883\n",
       "24  0.23232323 0.31837349 0.2527499\n",
       "25  0.24242424 0.32871744 0.2384027\n",
       "26  0.25252525 0.33488372 0.2238164\n",
       "27  0.26262626 0.35308541 0.2065997\n",
       "28  0.27272727 0.36729968 0.1896222\n",
       "29  0.28282828 0.37125444 0.1747967\n",
       "30  0.29292929 0.38267993 0.1563845\n",
       "⋮   ⋮          ⋮          ⋮        \n",
       "71  0.7070707    0        0        \n",
       "72  0.7171717    0        0        \n",
       "73  0.7272727    0        0        \n",
       "74  0.7373737    0        0        \n",
       "75  0.7474747    0        0        \n",
       "76  0.7575758    0        0        \n",
       "77  0.7676768    0        0        \n",
       "78  0.7777778    0        0        \n",
       "79  0.7878788    0        0        \n",
       "80  0.7979798    0        0        \n",
       "81  0.8080808    0        0        \n",
       "82  0.8181818    0        0        \n",
       "83  0.8282828    0        0        \n",
       "84  0.8383838    0        0        \n",
       "85  0.8484848    0        0        \n",
       "86  0.8585859    0        0        \n",
       "87  0.8686869    0        0        \n",
       "88  0.8787879    0        0        \n",
       "89  0.8888889    0        0        \n",
       "90  0.8989899    0        0        \n",
       "91  0.9090909    0        0        \n",
       "92  0.9191919    0        0        \n",
       "93  0.9292929    0        0        \n",
       "94  0.9393939    0        0        \n",
       "95  0.9494949    0        0        \n",
       "96  0.9595960    0        0        \n",
       "97  0.9696970    0        0        \n",
       "98  0.9797980    0        0        \n",
       "99  0.9898990    0        0        \n",
       "100 1.0000000  NaN        0        "
      ]
     },
     "metadata": {},
     "output_type": "display_data"
    }
   ],
   "source": [
    "prec_recall<-data.frame(coords(roc_obj_en, seq(0,1,length=100), ret=c(\"threshold\", \"precision\", \"recall\")))\n",
    "prec_recall"
   ]
  },
  {
   "cell_type": "code",
   "execution_count": 47,
   "id": "d3fdc439-922d-4289-b82d-6ec0785b73e1",
   "metadata": {
    "vscode": {
     "languageId": "r"
    }
   },
   "outputs": [
    {
     "data": {
      "text/html": [
       "<table class=\"dataframe\">\n",
       "<caption>A data.frame: 100 × 4</caption>\n",
       "<thead>\n",
       "\t<tr><th scope=col>threshold</th><th scope=col>precision</th><th scope=col>recall</th><th scope=col>F1</th></tr>\n",
       "\t<tr><th scope=col>&lt;dbl&gt;</th><th scope=col>&lt;dbl&gt;</th><th scope=col>&lt;dbl&gt;</th><th scope=col>&lt;dbl&gt;</th></tr>\n",
       "</thead>\n",
       "<tbody>\n",
       "\t<tr><td>0.00000000</td><td>0.08260251</td><td>1.0000000</td><td>0.1525999</td></tr>\n",
       "\t<tr><td>0.01010101</td><td>0.08914045</td><td>0.9904352</td><td>0.1635603</td></tr>\n",
       "\t<tr><td>0.02020202</td><td>0.09751007</td><td>0.9720230</td><td>0.1772400</td></tr>\n",
       "\t<tr><td>0.03030303</td><td>0.10678215</td><td>0.9404591</td><td>0.1917882</td></tr>\n",
       "\t<tr><td>0.04040404</td><td>0.11777335</td><td>0.9050693</td><td>0.2084251</td></tr>\n",
       "\t<tr><td>0.05050505</td><td>0.12750907</td><td>0.8491153</td><td>0.2217227</td></tr>\n",
       "\t<tr><td>0.06060606</td><td>0.14023191</td><td>0.8010521</td><td>0.2386805</td></tr>\n",
       "\t<tr><td>0.07070707</td><td>0.15193008</td><td>0.7482066</td><td>0.2525730</td></tr>\n",
       "\t<tr><td>0.08080808</td><td>0.16195878</td><td>0.6896222</td><td>0.2623130</td></tr>\n",
       "\t<tr><td>0.09090909</td><td>0.17288136</td><td>0.6463415</td><td>0.2727961</td></tr>\n",
       "\t<tr><td>0.10101010</td><td>0.18370630</td><td>0.6006695</td><td>0.2813620</td></tr>\n",
       "\t<tr><td>0.11111111</td><td>0.19417234</td><td>0.5593018</td><td>0.2882672</td></tr>\n",
       "\t<tr><td>0.12121212</td><td>0.20612341</td><td>0.5231946</td><td>0.2957356</td></tr>\n",
       "\t<tr><td>0.13131313</td><td>0.21825902</td><td>0.4916308</td><td>0.3023085</td></tr>\n",
       "\t<tr><td>0.14141414</td><td>0.22897816</td><td>0.4538498</td><td>0.3043862</td></tr>\n",
       "\t<tr><td>0.15151515</td><td>0.23374317</td><td>0.4091344</td><td>0.2975135</td></tr>\n",
       "\t<tr><td>0.16161616</td><td>0.24496029</td><td>0.3835485</td><td>0.2989748</td></tr>\n",
       "\t<tr><td>0.17171717</td><td>0.25598622</td><td>0.3553324</td><td>0.2975869</td></tr>\n",
       "\t<tr><td>0.18181818</td><td>0.27295380</td><td>0.3405069</td><td>0.3030110</td></tr>\n",
       "\t<tr><td>0.19191919</td><td>0.28708935</td><td>0.3280727</td><td>0.3062158</td></tr>\n",
       "\t<tr><td>0.20202020</td><td>0.29865389</td><td>0.3130081</td><td>0.3056626</td></tr>\n",
       "\t<tr><td>0.21212121</td><td>0.30493611</td><td>0.2910091</td><td>0.2978099</td></tr>\n",
       "\t<tr><td>0.22222222</td><td>0.30995600</td><td>0.2694883</td><td>0.2883090</td></tr>\n",
       "\t<tr><td>0.23232323</td><td>0.31837349</td><td>0.2527499</td><td>0.2817915</td></tr>\n",
       "\t<tr><td>0.24242424</td><td>0.32871744</td><td>0.2384027</td><td>0.2763687</td></tr>\n",
       "\t<tr><td>0.25252525</td><td>0.33488372</td><td>0.2238164</td><td>0.2683102</td></tr>\n",
       "\t<tr><td>0.26262626</td><td>0.35308541</td><td>0.2065997</td><td>0.2606728</td></tr>\n",
       "\t<tr><td>0.27272727</td><td>0.36729968</td><td>0.1896222</td><td>0.2501183</td></tr>\n",
       "\t<tr><td>0.28282828</td><td>0.37125444</td><td>0.1747967</td><td>0.2376849</td></tr>\n",
       "\t<tr><td>0.29292929</td><td>0.38267993</td><td>0.1563845</td><td>0.2220336</td></tr>\n",
       "\t<tr><td>⋮</td><td>⋮</td><td>⋮</td><td>⋮</td></tr>\n",
       "\t<tr><td>0.7070707</td><td>  0</td><td>0</td><td>NaN</td></tr>\n",
       "\t<tr><td>0.7171717</td><td>  0</td><td>0</td><td>NaN</td></tr>\n",
       "\t<tr><td>0.7272727</td><td>  0</td><td>0</td><td>NaN</td></tr>\n",
       "\t<tr><td>0.7373737</td><td>  0</td><td>0</td><td>NaN</td></tr>\n",
       "\t<tr><td>0.7474747</td><td>  0</td><td>0</td><td>NaN</td></tr>\n",
       "\t<tr><td>0.7575758</td><td>  0</td><td>0</td><td>NaN</td></tr>\n",
       "\t<tr><td>0.7676768</td><td>  0</td><td>0</td><td>NaN</td></tr>\n",
       "\t<tr><td>0.7777778</td><td>  0</td><td>0</td><td>NaN</td></tr>\n",
       "\t<tr><td>0.7878788</td><td>  0</td><td>0</td><td>NaN</td></tr>\n",
       "\t<tr><td>0.7979798</td><td>  0</td><td>0</td><td>NaN</td></tr>\n",
       "\t<tr><td>0.8080808</td><td>  0</td><td>0</td><td>NaN</td></tr>\n",
       "\t<tr><td>0.8181818</td><td>  0</td><td>0</td><td>NaN</td></tr>\n",
       "\t<tr><td>0.8282828</td><td>  0</td><td>0</td><td>NaN</td></tr>\n",
       "\t<tr><td>0.8383838</td><td>  0</td><td>0</td><td>NaN</td></tr>\n",
       "\t<tr><td>0.8484848</td><td>  0</td><td>0</td><td>NaN</td></tr>\n",
       "\t<tr><td>0.8585859</td><td>  0</td><td>0</td><td>NaN</td></tr>\n",
       "\t<tr><td>0.8686869</td><td>  0</td><td>0</td><td>NaN</td></tr>\n",
       "\t<tr><td>0.8787879</td><td>  0</td><td>0</td><td>NaN</td></tr>\n",
       "\t<tr><td>0.8888889</td><td>  0</td><td>0</td><td>NaN</td></tr>\n",
       "\t<tr><td>0.8989899</td><td>  0</td><td>0</td><td>NaN</td></tr>\n",
       "\t<tr><td>0.9090909</td><td>  0</td><td>0</td><td>NaN</td></tr>\n",
       "\t<tr><td>0.9191919</td><td>  0</td><td>0</td><td>NaN</td></tr>\n",
       "\t<tr><td>0.9292929</td><td>  0</td><td>0</td><td>NaN</td></tr>\n",
       "\t<tr><td>0.9393939</td><td>  0</td><td>0</td><td>NaN</td></tr>\n",
       "\t<tr><td>0.9494949</td><td>  0</td><td>0</td><td>NaN</td></tr>\n",
       "\t<tr><td>0.9595960</td><td>  0</td><td>0</td><td>NaN</td></tr>\n",
       "\t<tr><td>0.9696970</td><td>  0</td><td>0</td><td>NaN</td></tr>\n",
       "\t<tr><td>0.9797980</td><td>  0</td><td>0</td><td>NaN</td></tr>\n",
       "\t<tr><td>0.9898990</td><td>  0</td><td>0</td><td>NaN</td></tr>\n",
       "\t<tr><td>1.0000000</td><td>NaN</td><td>0</td><td>NaN</td></tr>\n",
       "</tbody>\n",
       "</table>\n"
      ],
      "text/latex": [
       "A data.frame: 100 × 4\n",
       "\\begin{tabular}{llll}\n",
       " threshold & precision & recall & F1\\\\\n",
       " <dbl> & <dbl> & <dbl> & <dbl>\\\\\n",
       "\\hline\n",
       "\t 0.00000000 & 0.08260251 & 1.0000000 & 0.1525999\\\\\n",
       "\t 0.01010101 & 0.08914045 & 0.9904352 & 0.1635603\\\\\n",
       "\t 0.02020202 & 0.09751007 & 0.9720230 & 0.1772400\\\\\n",
       "\t 0.03030303 & 0.10678215 & 0.9404591 & 0.1917882\\\\\n",
       "\t 0.04040404 & 0.11777335 & 0.9050693 & 0.2084251\\\\\n",
       "\t 0.05050505 & 0.12750907 & 0.8491153 & 0.2217227\\\\\n",
       "\t 0.06060606 & 0.14023191 & 0.8010521 & 0.2386805\\\\\n",
       "\t 0.07070707 & 0.15193008 & 0.7482066 & 0.2525730\\\\\n",
       "\t 0.08080808 & 0.16195878 & 0.6896222 & 0.2623130\\\\\n",
       "\t 0.09090909 & 0.17288136 & 0.6463415 & 0.2727961\\\\\n",
       "\t 0.10101010 & 0.18370630 & 0.6006695 & 0.2813620\\\\\n",
       "\t 0.11111111 & 0.19417234 & 0.5593018 & 0.2882672\\\\\n",
       "\t 0.12121212 & 0.20612341 & 0.5231946 & 0.2957356\\\\\n",
       "\t 0.13131313 & 0.21825902 & 0.4916308 & 0.3023085\\\\\n",
       "\t 0.14141414 & 0.22897816 & 0.4538498 & 0.3043862\\\\\n",
       "\t 0.15151515 & 0.23374317 & 0.4091344 & 0.2975135\\\\\n",
       "\t 0.16161616 & 0.24496029 & 0.3835485 & 0.2989748\\\\\n",
       "\t 0.17171717 & 0.25598622 & 0.3553324 & 0.2975869\\\\\n",
       "\t 0.18181818 & 0.27295380 & 0.3405069 & 0.3030110\\\\\n",
       "\t 0.19191919 & 0.28708935 & 0.3280727 & 0.3062158\\\\\n",
       "\t 0.20202020 & 0.29865389 & 0.3130081 & 0.3056626\\\\\n",
       "\t 0.21212121 & 0.30493611 & 0.2910091 & 0.2978099\\\\\n",
       "\t 0.22222222 & 0.30995600 & 0.2694883 & 0.2883090\\\\\n",
       "\t 0.23232323 & 0.31837349 & 0.2527499 & 0.2817915\\\\\n",
       "\t 0.24242424 & 0.32871744 & 0.2384027 & 0.2763687\\\\\n",
       "\t 0.25252525 & 0.33488372 & 0.2238164 & 0.2683102\\\\\n",
       "\t 0.26262626 & 0.35308541 & 0.2065997 & 0.2606728\\\\\n",
       "\t 0.27272727 & 0.36729968 & 0.1896222 & 0.2501183\\\\\n",
       "\t 0.28282828 & 0.37125444 & 0.1747967 & 0.2376849\\\\\n",
       "\t 0.29292929 & 0.38267993 & 0.1563845 & 0.2220336\\\\\n",
       "\t ⋮ & ⋮ & ⋮ & ⋮\\\\\n",
       "\t 0.7070707 &   0 & 0 & NaN\\\\\n",
       "\t 0.7171717 &   0 & 0 & NaN\\\\\n",
       "\t 0.7272727 &   0 & 0 & NaN\\\\\n",
       "\t 0.7373737 &   0 & 0 & NaN\\\\\n",
       "\t 0.7474747 &   0 & 0 & NaN\\\\\n",
       "\t 0.7575758 &   0 & 0 & NaN\\\\\n",
       "\t 0.7676768 &   0 & 0 & NaN\\\\\n",
       "\t 0.7777778 &   0 & 0 & NaN\\\\\n",
       "\t 0.7878788 &   0 & 0 & NaN\\\\\n",
       "\t 0.7979798 &   0 & 0 & NaN\\\\\n",
       "\t 0.8080808 &   0 & 0 & NaN\\\\\n",
       "\t 0.8181818 &   0 & 0 & NaN\\\\\n",
       "\t 0.8282828 &   0 & 0 & NaN\\\\\n",
       "\t 0.8383838 &   0 & 0 & NaN\\\\\n",
       "\t 0.8484848 &   0 & 0 & NaN\\\\\n",
       "\t 0.8585859 &   0 & 0 & NaN\\\\\n",
       "\t 0.8686869 &   0 & 0 & NaN\\\\\n",
       "\t 0.8787879 &   0 & 0 & NaN\\\\\n",
       "\t 0.8888889 &   0 & 0 & NaN\\\\\n",
       "\t 0.8989899 &   0 & 0 & NaN\\\\\n",
       "\t 0.9090909 &   0 & 0 & NaN\\\\\n",
       "\t 0.9191919 &   0 & 0 & NaN\\\\\n",
       "\t 0.9292929 &   0 & 0 & NaN\\\\\n",
       "\t 0.9393939 &   0 & 0 & NaN\\\\\n",
       "\t 0.9494949 &   0 & 0 & NaN\\\\\n",
       "\t 0.9595960 &   0 & 0 & NaN\\\\\n",
       "\t 0.9696970 &   0 & 0 & NaN\\\\\n",
       "\t 0.9797980 &   0 & 0 & NaN\\\\\n",
       "\t 0.9898990 &   0 & 0 & NaN\\\\\n",
       "\t 1.0000000 & NaN & 0 & NaN\\\\\n",
       "\\end{tabular}\n"
      ],
      "text/markdown": [
       "\n",
       "A data.frame: 100 × 4\n",
       "\n",
       "| threshold &lt;dbl&gt; | precision &lt;dbl&gt; | recall &lt;dbl&gt; | F1 &lt;dbl&gt; |\n",
       "|---|---|---|---|\n",
       "| 0.00000000 | 0.08260251 | 1.0000000 | 0.1525999 |\n",
       "| 0.01010101 | 0.08914045 | 0.9904352 | 0.1635603 |\n",
       "| 0.02020202 | 0.09751007 | 0.9720230 | 0.1772400 |\n",
       "| 0.03030303 | 0.10678215 | 0.9404591 | 0.1917882 |\n",
       "| 0.04040404 | 0.11777335 | 0.9050693 | 0.2084251 |\n",
       "| 0.05050505 | 0.12750907 | 0.8491153 | 0.2217227 |\n",
       "| 0.06060606 | 0.14023191 | 0.8010521 | 0.2386805 |\n",
       "| 0.07070707 | 0.15193008 | 0.7482066 | 0.2525730 |\n",
       "| 0.08080808 | 0.16195878 | 0.6896222 | 0.2623130 |\n",
       "| 0.09090909 | 0.17288136 | 0.6463415 | 0.2727961 |\n",
       "| 0.10101010 | 0.18370630 | 0.6006695 | 0.2813620 |\n",
       "| 0.11111111 | 0.19417234 | 0.5593018 | 0.2882672 |\n",
       "| 0.12121212 | 0.20612341 | 0.5231946 | 0.2957356 |\n",
       "| 0.13131313 | 0.21825902 | 0.4916308 | 0.3023085 |\n",
       "| 0.14141414 | 0.22897816 | 0.4538498 | 0.3043862 |\n",
       "| 0.15151515 | 0.23374317 | 0.4091344 | 0.2975135 |\n",
       "| 0.16161616 | 0.24496029 | 0.3835485 | 0.2989748 |\n",
       "| 0.17171717 | 0.25598622 | 0.3553324 | 0.2975869 |\n",
       "| 0.18181818 | 0.27295380 | 0.3405069 | 0.3030110 |\n",
       "| 0.19191919 | 0.28708935 | 0.3280727 | 0.3062158 |\n",
       "| 0.20202020 | 0.29865389 | 0.3130081 | 0.3056626 |\n",
       "| 0.21212121 | 0.30493611 | 0.2910091 | 0.2978099 |\n",
       "| 0.22222222 | 0.30995600 | 0.2694883 | 0.2883090 |\n",
       "| 0.23232323 | 0.31837349 | 0.2527499 | 0.2817915 |\n",
       "| 0.24242424 | 0.32871744 | 0.2384027 | 0.2763687 |\n",
       "| 0.25252525 | 0.33488372 | 0.2238164 | 0.2683102 |\n",
       "| 0.26262626 | 0.35308541 | 0.2065997 | 0.2606728 |\n",
       "| 0.27272727 | 0.36729968 | 0.1896222 | 0.2501183 |\n",
       "| 0.28282828 | 0.37125444 | 0.1747967 | 0.2376849 |\n",
       "| 0.29292929 | 0.38267993 | 0.1563845 | 0.2220336 |\n",
       "| ⋮ | ⋮ | ⋮ | ⋮ |\n",
       "| 0.7070707 |   0 | 0 | NaN |\n",
       "| 0.7171717 |   0 | 0 | NaN |\n",
       "| 0.7272727 |   0 | 0 | NaN |\n",
       "| 0.7373737 |   0 | 0 | NaN |\n",
       "| 0.7474747 |   0 | 0 | NaN |\n",
       "| 0.7575758 |   0 | 0 | NaN |\n",
       "| 0.7676768 |   0 | 0 | NaN |\n",
       "| 0.7777778 |   0 | 0 | NaN |\n",
       "| 0.7878788 |   0 | 0 | NaN |\n",
       "| 0.7979798 |   0 | 0 | NaN |\n",
       "| 0.8080808 |   0 | 0 | NaN |\n",
       "| 0.8181818 |   0 | 0 | NaN |\n",
       "| 0.8282828 |   0 | 0 | NaN |\n",
       "| 0.8383838 |   0 | 0 | NaN |\n",
       "| 0.8484848 |   0 | 0 | NaN |\n",
       "| 0.8585859 |   0 | 0 | NaN |\n",
       "| 0.8686869 |   0 | 0 | NaN |\n",
       "| 0.8787879 |   0 | 0 | NaN |\n",
       "| 0.8888889 |   0 | 0 | NaN |\n",
       "| 0.8989899 |   0 | 0 | NaN |\n",
       "| 0.9090909 |   0 | 0 | NaN |\n",
       "| 0.9191919 |   0 | 0 | NaN |\n",
       "| 0.9292929 |   0 | 0 | NaN |\n",
       "| 0.9393939 |   0 | 0 | NaN |\n",
       "| 0.9494949 |   0 | 0 | NaN |\n",
       "| 0.9595960 |   0 | 0 | NaN |\n",
       "| 0.9696970 |   0 | 0 | NaN |\n",
       "| 0.9797980 |   0 | 0 | NaN |\n",
       "| 0.9898990 |   0 | 0 | NaN |\n",
       "| 1.0000000 | NaN | 0 | NaN |\n",
       "\n"
      ],
      "text/plain": [
       "    threshold  precision  recall    F1       \n",
       "1   0.00000000 0.08260251 1.0000000 0.1525999\n",
       "2   0.01010101 0.08914045 0.9904352 0.1635603\n",
       "3   0.02020202 0.09751007 0.9720230 0.1772400\n",
       "4   0.03030303 0.10678215 0.9404591 0.1917882\n",
       "5   0.04040404 0.11777335 0.9050693 0.2084251\n",
       "6   0.05050505 0.12750907 0.8491153 0.2217227\n",
       "7   0.06060606 0.14023191 0.8010521 0.2386805\n",
       "8   0.07070707 0.15193008 0.7482066 0.2525730\n",
       "9   0.08080808 0.16195878 0.6896222 0.2623130\n",
       "10  0.09090909 0.17288136 0.6463415 0.2727961\n",
       "11  0.10101010 0.18370630 0.6006695 0.2813620\n",
       "12  0.11111111 0.19417234 0.5593018 0.2882672\n",
       "13  0.12121212 0.20612341 0.5231946 0.2957356\n",
       "14  0.13131313 0.21825902 0.4916308 0.3023085\n",
       "15  0.14141414 0.22897816 0.4538498 0.3043862\n",
       "16  0.15151515 0.23374317 0.4091344 0.2975135\n",
       "17  0.16161616 0.24496029 0.3835485 0.2989748\n",
       "18  0.17171717 0.25598622 0.3553324 0.2975869\n",
       "19  0.18181818 0.27295380 0.3405069 0.3030110\n",
       "20  0.19191919 0.28708935 0.3280727 0.3062158\n",
       "21  0.20202020 0.29865389 0.3130081 0.3056626\n",
       "22  0.21212121 0.30493611 0.2910091 0.2978099\n",
       "23  0.22222222 0.30995600 0.2694883 0.2883090\n",
       "24  0.23232323 0.31837349 0.2527499 0.2817915\n",
       "25  0.24242424 0.32871744 0.2384027 0.2763687\n",
       "26  0.25252525 0.33488372 0.2238164 0.2683102\n",
       "27  0.26262626 0.35308541 0.2065997 0.2606728\n",
       "28  0.27272727 0.36729968 0.1896222 0.2501183\n",
       "29  0.28282828 0.37125444 0.1747967 0.2376849\n",
       "30  0.29292929 0.38267993 0.1563845 0.2220336\n",
       "⋮   ⋮          ⋮          ⋮         ⋮        \n",
       "71  0.7070707    0        0         NaN      \n",
       "72  0.7171717    0        0         NaN      \n",
       "73  0.7272727    0        0         NaN      \n",
       "74  0.7373737    0        0         NaN      \n",
       "75  0.7474747    0        0         NaN      \n",
       "76  0.7575758    0        0         NaN      \n",
       "77  0.7676768    0        0         NaN      \n",
       "78  0.7777778    0        0         NaN      \n",
       "79  0.7878788    0        0         NaN      \n",
       "80  0.7979798    0        0         NaN      \n",
       "81  0.8080808    0        0         NaN      \n",
       "82  0.8181818    0        0         NaN      \n",
       "83  0.8282828    0        0         NaN      \n",
       "84  0.8383838    0        0         NaN      \n",
       "85  0.8484848    0        0         NaN      \n",
       "86  0.8585859    0        0         NaN      \n",
       "87  0.8686869    0        0         NaN      \n",
       "88  0.8787879    0        0         NaN      \n",
       "89  0.8888889    0        0         NaN      \n",
       "90  0.8989899    0        0         NaN      \n",
       "91  0.9090909    0        0         NaN      \n",
       "92  0.9191919    0        0         NaN      \n",
       "93  0.9292929    0        0         NaN      \n",
       "94  0.9393939    0        0         NaN      \n",
       "95  0.9494949    0        0         NaN      \n",
       "96  0.9595960    0        0         NaN      \n",
       "97  0.9696970    0        0         NaN      \n",
       "98  0.9797980    0        0         NaN      \n",
       "99  0.9898990    0        0         NaN      \n",
       "100 1.0000000  NaN        0         NaN      "
      ]
     },
     "metadata": {},
     "output_type": "display_data"
    }
   ],
   "source": [
    "prec_recall<- prec_recall  %>% mutate(F1=(2*precision*recall)/(precision+recall))\n",
    "prec_recall"
   ]
  },
  {
   "cell_type": "code",
   "execution_count": 48,
   "id": "04ae0e6e-e936-4fb6-bb35-714948c204f2",
   "metadata": {
    "vscode": {
     "languageId": "r"
    }
   },
   "outputs": [
    {
     "data": {
      "text/html": [
       "0.191919191919192"
      ],
      "text/latex": [
       "0.191919191919192"
      ],
      "text/markdown": [
       "0.191919191919192"
      ],
      "text/plain": [
       "[1] 0.1919192"
      ]
     },
     "metadata": {},
     "output_type": "display_data"
    }
   ],
   "source": [
    "prec_recall$threshold[which.max(prec_recall$F1)]"
   ]
  },
  {
   "cell_type": "code",
   "execution_count": 49,
   "id": "ecb1ebe1-70ec-4d0e-ab66-1035978b8364",
   "metadata": {
    "vscode": {
     "languageId": "r"
    }
   },
   "outputs": [
    {
     "data": {
      "text/plain": [
       "Confusion Matrix and Statistics\n",
       "\n",
       "             Reference\n",
       "Prediction    desempleado empleado\n",
       "  desempleado         114      255\n",
       "  empleado            209     3038\n",
       "                                          \n",
       "               Accuracy : 0.8717          \n",
       "                 95% CI : (0.8603, 0.8824)\n",
       "    No Information Rate : 0.9107          \n",
       "    P-Value [Acc > NIR] : 1.0000          \n",
       "                                          \n",
       "                  Kappa : 0.2589          \n",
       "                                          \n",
       " Mcnemar's Test P-Value : 0.0367          \n",
       "                                          \n",
       "              Precision : 0.30894         \n",
       "                 Recall : 0.35294         \n",
       "                     F1 : 0.32948         \n",
       "             Prevalence : 0.08933         \n",
       "         Detection Rate : 0.03153         \n",
       "   Detection Prevalence : 0.10205         \n",
       "      Balanced Accuracy : 0.63775         \n",
       "                                          \n",
       "       'Positive' Class : desempleado     \n",
       "                                          "
      ]
     },
     "metadata": {},
     "output_type": "display_data"
    }
   ],
   "source": [
    "test<- test  %>% mutate(desempleo_prob_logit_en_sens=predict(glm_model_en_sens,newdata = test,\n",
    "                           type = \"prob\")$desempleado)\n",
    "\n",
    "test<- test  %>% mutate(desempleo_hat_logit_en_sens_cutoff_F1=factor(ifelse(desempleo_prob_logit_en_sens>=prec_recall$threshold[which.max(prec_recall$F1)],1,0),\n",
    "                                                                 levels = c(1,0), labels = c(\"desempleado\",\"empleado\")))\n",
    "         \n",
    "confusionMatrix(data = test$desempleo_hat_logit_en_sens_cutoff_F1, \n",
    "                 reference = test$desempleado, positive=\"desempleado\", mode = \"prec_recall\")"
   ]
  },
  {
   "cell_type": "markdown",
   "id": "d588ac49-1512-42bd-818d-23e8f2cf89a5",
   "metadata": {},
   "source": [
    "## Remuestreo\n",
    "\n",
    "Hay varios enfoques:\n",
    "\n",
    "  1. Up-sampling.  Simulates or imputes additional data points of the minority class to improve balance across classes, while \n",
    "  2. Down-sampling. Randomly reduces the number of the majority class  to improve the balance across classes.\n",
    "  3. Híbrido: SMOTE, ROSE"
   ]
  },
  {
   "cell_type": "markdown",
   "id": "72014e30-053f-4f44-94df-333995d28333",
   "metadata": {},
   "source": [
    "<div >\n",
    "<img src = \"sampling_methods.png\" />\n",
    "</div>"
   ]
  },
  {
   "cell_type": "markdown",
   "id": "8520d011-79f4-4d31-8978-983b12ef9116",
   "metadata": {},
   "source": [
    "### Down Sampling\n"
   ]
  },
  {
   "cell_type": "code",
   "execution_count": 50,
   "id": "287b1d7f-3004-4577-988d-9b417ca6d753",
   "metadata": {
    "vscode": {
     "languageId": "r"
    }
   },
   "outputs": [
    {
     "data": {
      "text/html": [
       "<style>\n",
       ".list-inline {list-style: none; margin:0; padding: 0}\n",
       ".list-inline>li {display: inline-block}\n",
       ".list-inline>li:not(:last-child)::after {content: \"\\00b7\"; padding: 0 .5ex}\n",
       "</style>\n",
       "<ol class=list-inline><li>8438</li><li>16</li></ol>\n"
      ],
      "text/latex": [
       "\\begin{enumerate*}\n",
       "\\item 8438\n",
       "\\item 16\n",
       "\\end{enumerate*}\n"
      ],
      "text/markdown": [
       "1. 8438\n",
       "2. 16\n",
       "\n",
       "\n"
      ],
      "text/plain": [
       "[1] 8438   16"
      ]
     },
     "metadata": {},
     "output_type": "display_data"
    },
    {
     "data": {
      "text/html": [
       "<style>\n",
       ".list-inline {list-style: none; margin:0; padding: 0}\n",
       ".list-inline>li {display: inline-block}\n",
       ".list-inline>li:not(:last-child)::after {content: \"\\00b7\"; padding: 0 .5ex}\n",
       "</style>\n",
       "<ol class=list-inline><li>1394</li><li>17</li></ol>\n"
      ],
      "text/latex": [
       "\\begin{enumerate*}\n",
       "\\item 1394\n",
       "\\item 17\n",
       "\\end{enumerate*}\n"
      ],
      "text/markdown": [
       "1. 1394\n",
       "2. 17\n",
       "\n",
       "\n"
      ],
      "text/plain": [
       "[1] 1394   17"
      ]
     },
     "metadata": {},
     "output_type": "display_data"
    },
    {
     "data": {
      "text/plain": [
       "\n",
       "desempleado    empleado \n",
       "        697         697 "
      ]
     },
     "metadata": {},
     "output_type": "display_data"
    }
   ],
   "source": [
    "set.seed(1103)\n",
    "downSampledTrain <- downSample(x = train,\n",
    "                           y = train$desempleado,\n",
    "                           ## keep the class variable name the same:\n",
    "                           yname = \"desempleado\")\n",
    "dim(train)\n",
    "\n",
    "\n",
    "dim(downSampledTrain)\n",
    "\n",
    "table(downSampledTrain$desempleado)\n",
    "\n"
   ]
  },
  {
   "cell_type": "code",
   "execution_count": 51,
   "id": "096f6a21-df64-4ff2-b65d-42aacee06e92",
   "metadata": {
    "vscode": {
     "languageId": "r"
    }
   },
   "outputs": [
    {
     "name": "stderr",
     "output_type": "stream",
     "text": [
      "Warning message in preProcess.default(thresh = 0.95, k = 5, freqCut = 19, uniqueCut = 10, :\n",
      "“These variables have zero variances: nivel_edSin instrucción”\n",
      "Warning message in predict.lm(object, newdata, se.fit, scale = 1, type = if (type == :\n",
      "“prediction from rank-deficient fit; attr(*, \"non-estim\") has doubtful cases”\n",
      "Warning message in predict.lm(object, newdata, se.fit, scale = 1, type = if (type == :\n",
      "“prediction from rank-deficient fit; attr(*, \"non-estim\") has doubtful cases”\n",
      "Warning message in preProcess.default(thresh = 0.95, k = 5, freqCut = 19, uniqueCut = 10, :\n",
      "“These variables have zero variances: parentescoSuegro/a”\n",
      "Warning message in predict.lm(object, newdata, se.fit, scale = 1, type = if (type == :\n",
      "“prediction from rank-deficient fit; attr(*, \"non-estim\") has doubtful cases”\n",
      "Warning message in predict.lm(object, newdata, se.fit, scale = 1, type = if (type == :\n",
      "“prediction from rank-deficient fit; attr(*, \"non-estim\") has doubtful cases”\n"
     ]
    },
    {
     "data": {
      "text/plain": [
       "Generalized Linear Model \n",
       "\n",
       "1394 samples\n",
       "   9 predictor\n",
       "   2 classes: 'desempleado', 'empleado' \n",
       "\n",
       "Pre-processing: centered (30), scaled (30) \n",
       "Resampling: Cross-Validated (5 fold) \n",
       "Summary of sample sizes: 1115, 1116, 1114, 1116, 1115 \n",
       "Resampling results:\n",
       "\n",
       "  ROC       Sens       Spec       Accuracy   Kappa      AUC        Precision\n",
       "  0.757098  0.7030935  0.6685303  0.6858162  0.3716243  0.7251664  0.6797479\n",
       "  Recall     F        \n",
       "  0.7030935  0.6910433\n"
      ]
     },
     "metadata": {},
     "output_type": "display_data"
    }
   ],
   "source": [
    "\n",
    "\n",
    "X <- c(\"poly(edad,2,raw=TRUE)\", \"nivel_ed\",\"mujer\", \n",
    "        \"parentesco\", \"estado_civil\", \n",
    "        \"tipo_vivienda\",\n",
    "        \"poly(total_miembros_hogar,2,raw=TRUE)\",\n",
    "        \"poly(miembros_hogar_menores10,2,raw=TRUE)\",\n",
    "        \"poly(ing_tot_fam,2,raw=TRUE)\")\n",
    "\n",
    "\n",
    "set.seed(1410)\n",
    "glm_model_logit_ampliado_downsample <- train(\n",
    "    formula(paste0(\"desempleado ~\", paste0(X, collapse = \" + \"))),\n",
    "    method = \"glm\",\n",
    "    data = downSampledTrain,\n",
    "    family = \"binomial\",\n",
    "    trControl = ctrl_multiStats,\n",
    "    preProcess = c(\"center\", \"scale\")\n",
    "  )\n",
    "\n",
    "glm_model_logit_ampliado_downsample"
   ]
  },
  {
   "cell_type": "code",
   "execution_count": 52,
   "id": "d494c232-8f52-426e-b644-e6275b0cd41a",
   "metadata": {
    "vscode": {
     "languageId": "r"
    }
   },
   "outputs": [
    {
     "data": {
      "text/plain": [
       "Confusion Matrix and Statistics\n",
       "\n",
       "             Reference\n",
       "Prediction    desempleado empleado\n",
       "  desempleado         242     1081\n",
       "  empleado             81     2212\n",
       "                                          \n",
       "               Accuracy : 0.6787          \n",
       "                 95% CI : (0.6632, 0.6939)\n",
       "    No Information Rate : 0.9107          \n",
       "    P-Value [Acc > NIR] : 1               \n",
       "                                          \n",
       "                  Kappa : 0.1757          \n",
       "                                          \n",
       " Mcnemar's Test P-Value : <2e-16          \n",
       "                                          \n",
       "              Precision : 0.18292         \n",
       "                 Recall : 0.74923         \n",
       "                     F1 : 0.29405         \n",
       "             Prevalence : 0.08933         \n",
       "         Detection Rate : 0.06692         \n",
       "   Detection Prevalence : 0.36587         \n",
       "      Balanced Accuracy : 0.71048         \n",
       "                                          \n",
       "       'Positive' Class : desempleado     \n",
       "                                          "
      ]
     },
     "metadata": {},
     "output_type": "display_data"
    }
   ],
   "source": [
    "options(warn=-1)\n",
    "\n",
    "test<- test  %>% mutate(desempleo_hat_logit_ampliado_downsample=predict(glm_model_logit_ampliado_downsample,newdata = test,\n",
    "                           type = \"raw\"))\n",
    "confusionMatrix(data = test$desempleo_hat_logit_ampliado_downsample, \n",
    "                reference = test$desempleado, positive=\"desempleado\", mode = \"prec_recall\")\n"
   ]
  },
  {
   "cell_type": "markdown",
   "id": "82a2db2b-3bc8-4b5a-829e-86d2eff0a79a",
   "metadata": {},
   "source": [
    "### Up Sampling"
   ]
  },
  {
   "cell_type": "code",
   "execution_count": 53,
   "id": "927084fe-8ff7-4978-9e94-d086b0cdb8d5",
   "metadata": {
    "vscode": {
     "languageId": "r"
    }
   },
   "outputs": [
    {
     "data": {
      "text/html": [
       "<style>\n",
       ".list-inline {list-style: none; margin:0; padding: 0}\n",
       ".list-inline>li {display: inline-block}\n",
       ".list-inline>li:not(:last-child)::after {content: \"\\00b7\"; padding: 0 .5ex}\n",
       "</style>\n",
       "<ol class=list-inline><li>8438</li><li>16</li></ol>\n"
      ],
      "text/latex": [
       "\\begin{enumerate*}\n",
       "\\item 8438\n",
       "\\item 16\n",
       "\\end{enumerate*}\n"
      ],
      "text/markdown": [
       "1. 8438\n",
       "2. 16\n",
       "\n",
       "\n"
      ],
      "text/plain": [
       "[1] 8438   16"
      ]
     },
     "metadata": {},
     "output_type": "display_data"
    },
    {
     "data": {
      "text/html": [
       "<style>\n",
       ".list-inline {list-style: none; margin:0; padding: 0}\n",
       ".list-inline>li {display: inline-block}\n",
       ".list-inline>li:not(:last-child)::after {content: \"\\00b7\"; padding: 0 .5ex}\n",
       "</style>\n",
       "<ol class=list-inline><li>15482</li><li>17</li></ol>\n"
      ],
      "text/latex": [
       "\\begin{enumerate*}\n",
       "\\item 15482\n",
       "\\item 17\n",
       "\\end{enumerate*}\n"
      ],
      "text/markdown": [
       "1. 15482\n",
       "2. 17\n",
       "\n",
       "\n"
      ],
      "text/plain": [
       "[1] 15482    17"
      ]
     },
     "metadata": {},
     "output_type": "display_data"
    },
    {
     "data": {
      "text/plain": [
       "\n",
       "desempleado    empleado \n",
       "       7741        7741 "
      ]
     },
     "metadata": {},
     "output_type": "display_data"
    }
   ],
   "source": [
    "set.seed(1103)\n",
    "upSampledTrain <- upSample(x = train,\n",
    "                           y = train$desempleado,\n",
    "                           yname = \"desempleado\")\n",
    "dim(train)\n",
    "\n",
    "dim(upSampledTrain)\n",
    "\n",
    "table(upSampledTrain$desempleado)\n"
   ]
  },
  {
   "cell_type": "code",
   "execution_count": 54,
   "id": "79232af0-aa21-4847-aa91-72549ad02f7d",
   "metadata": {
    "vscode": {
     "languageId": "r"
    }
   },
   "outputs": [
    {
     "data": {
      "text/plain": [
       "Generalized Linear Model \n",
       "\n",
       "15482 samples\n",
       "    9 predictor\n",
       "    2 classes: 'desempleado', 'empleado' \n",
       "\n",
       "Pre-processing: centered (30), scaled (30) \n",
       "Resampling: Cross-Validated (5 fold) \n",
       "Summary of sample sizes: 12386, 12386, 12384, 12386, 12386 \n",
       "Resampling results:\n",
       "\n",
       "  ROC        Sens       Spec       Accuracy  Kappa      AUC        Precision\n",
       "  0.7735997  0.7097255  0.7000404  0.704883  0.4097659  0.7550642  0.7029477\n",
       "  Recall     F        \n",
       "  0.7097255  0.7062677\n"
      ]
     },
     "metadata": {},
     "output_type": "display_data"
    }
   ],
   "source": [
    "set.seed(1410)\n",
    "glm_model_logit_ampliado_upsample <- train(\n",
    "    formula(paste0(\"desempleado ~\", paste0(X, collapse = \" + \"))),\n",
    "    method = \"glm\",\n",
    "    data = upSampledTrain,\n",
    "    family = \"binomial\",\n",
    "    trControl = ctrl_multiStats,\n",
    "    preProcess = c(\"center\", \"scale\")\n",
    "  )\n",
    "\n",
    "glm_model_logit_ampliado_upsample\n"
   ]
  },
  {
   "cell_type": "code",
   "execution_count": 55,
   "id": "130db2c7-2d12-469e-a09f-4c7b84f70222",
   "metadata": {
    "vscode": {
     "languageId": "r"
    }
   },
   "outputs": [
    {
     "data": {
      "text/plain": [
       "Confusion Matrix and Statistics\n",
       "\n",
       "             Reference\n",
       "Prediction    desempleado empleado\n",
       "  desempleado         240      997\n",
       "  empleado             83     2296\n",
       "                                          \n",
       "               Accuracy : 0.7013          \n",
       "                 95% CI : (0.6861, 0.7162)\n",
       "    No Information Rate : 0.9107          \n",
       "    P-Value [Acc > NIR] : 1               \n",
       "                                          \n",
       "                  Kappa : 0.1934          \n",
       "                                          \n",
       " Mcnemar's Test P-Value : <2e-16          \n",
       "                                          \n",
       "              Precision : 0.19402         \n",
       "                 Recall : 0.74303         \n",
       "                     F1 : 0.30769         \n",
       "             Prevalence : 0.08933         \n",
       "         Detection Rate : 0.06637         \n",
       "   Detection Prevalence : 0.34209         \n",
       "      Balanced Accuracy : 0.72014         \n",
       "                                          \n",
       "       'Positive' Class : desempleado     \n",
       "                                          "
      ]
     },
     "metadata": {},
     "output_type": "display_data"
    }
   ],
   "source": [
    "\n",
    "test<- test  %>% mutate(desempleo_hat_logit_ampliado_upsample=predict(glm_model_logit_ampliado_upsample,newdata = test,\n",
    "                           type = \"raw\"))\n",
    "confusionMatrix(data = test$desempleo_hat_logit_ampliado_upsample, \n",
    "                reference = test$desempleado, positive=\"desempleado\", mode = \"prec_recall\")\n"
   ]
  },
  {
   "cell_type": "markdown",
   "id": "0faa9147-abf1-4fff-a9bf-492741aec6a7",
   "metadata": {},
   "source": [
    "### SMOTE\n",
    "\n",
    "El synthetic minority over-sampling technique (SMOTE) (Chawla et al., 2002), utiliza tanto muestreo hacia arriba (up-sampling) como hacia abajo (down-sampling)\n",
    "\n",
    "- Para mejorar la muestra de la clase minoritaria, SMOTE sintetiza nuevos casos. Para ello, se selecciona aleatoriamente un punto de datos de la clase minoritaria y se determinan sus K vecinos más cercanos (KNN). El nuevo punto de datos sintético es una combinación convexa aleatoria de los predictores del punto de datos seleccionado al azar y sus vecinos.\n",
    "\n",
    "- Si bien el algoritmo SMOTE agrega nuevas muestras a la clase minoritaria a través de un muestreo ascendente, también puede reducir la muestra de casos de la clase mayoritaria a través de un muestreo aleatorio para ayudar a equilibrar el conjunto de entrenamiento."
   ]
  },
  {
   "cell_type": "markdown",
   "id": "b6cf6106-1bd8-4eae-b770-dee4b6d4cc48",
   "metadata": {},
   "source": [
    "<div >\n",
    "<img src = \"smote.png\" />\n",
    "</div>"
   ]
  },
  {
   "cell_type": "code",
   "execution_count": 60,
   "id": "bd90c6d4-78bd-42c7-937f-05e9088cf8b3",
   "metadata": {
    "vscode": {
     "languageId": "r"
    }
   },
   "outputs": [
    {
     "data": {
      "text/html": [
       "<table class=\"dataframe\">\n",
       "<caption>A tibble: 6 × 2</caption>\n",
       "<thead>\n",
       "\t<tr><th scope=col>edad</th><th scope=col>total_miembros_hogar</th></tr>\n",
       "\t<tr><th scope=col>&lt;dbl&gt;</th><th scope=col>&lt;dbl&gt;</th></tr>\n",
       "</thead>\n",
       "<tbody>\n",
       "\t<tr><td>33</td><td>3</td></tr>\n",
       "\t<tr><td>48</td><td>3</td></tr>\n",
       "\t<tr><td>63</td><td>2</td></tr>\n",
       "\t<tr><td>50</td><td>3</td></tr>\n",
       "\t<tr><td>23</td><td>3</td></tr>\n",
       "\t<tr><td>32</td><td>1</td></tr>\n",
       "</tbody>\n",
       "</table>\n"
      ],
      "text/latex": [
       "A tibble: 6 × 2\n",
       "\\begin{tabular}{ll}\n",
       " edad & total\\_miembros\\_hogar\\\\\n",
       " <dbl> & <dbl>\\\\\n",
       "\\hline\n",
       "\t 33 & 3\\\\\n",
       "\t 48 & 3\\\\\n",
       "\t 63 & 2\\\\\n",
       "\t 50 & 3\\\\\n",
       "\t 23 & 3\\\\\n",
       "\t 32 & 1\\\\\n",
       "\\end{tabular}\n"
      ],
      "text/markdown": [
       "\n",
       "A tibble: 6 × 2\n",
       "\n",
       "| edad &lt;dbl&gt; | total_miembros_hogar &lt;dbl&gt; |\n",
       "|---|---|\n",
       "| 33 | 3 |\n",
       "| 48 | 3 |\n",
       "| 63 | 2 |\n",
       "| 50 | 3 |\n",
       "| 23 | 3 |\n",
       "| 32 | 1 |\n",
       "\n"
      ],
      "text/plain": [
       "  edad total_miembros_hogar\n",
       "1 33   3                   \n",
       "2 48   3                   \n",
       "3 63   2                   \n",
       "4 50   3                   \n",
       "5 23   3                   \n",
       "6 32   1                   "
      ]
     },
     "metadata": {},
     "output_type": "display_data"
    }
   ],
   "source": [
    "p_load(\"smotefamily\")\n",
    "\n",
    "predictors<-colnames(train  %>% select(edad,mujer,nivel_ed,parentesco, estado_civil,tipo_vivienda,total_miembros_hogar,miembros_hogar_menores10,ing_tot_fam))\n",
    "head( train[predictors])\n"
   ]
  },
  {
   "cell_type": "code",
   "execution_count": 61,
   "id": "60669394-f92a-44f6-81f9-6d9a285ee23d",
   "metadata": {
    "vscode": {
     "languageId": "r"
    }
   },
   "outputs": [],
   "source": [
    "smote_output <- SMOTE(X = train[predictors],\n",
    "                     target = train$desempleado,\n",
    "                     K=5)\n",
    "smote_data <- smote_output$data\n"
   ]
  },
  {
   "cell_type": "code",
   "execution_count": 62,
   "id": "c313cde9-6fec-4318-8ebe-bdd32f79ecef",
   "metadata": {
    "vscode": {
     "languageId": "r"
    }
   },
   "outputs": [
    {
     "data": {
      "text/html": [
       "<table class=\"dataframe\">\n",
       "<caption>A matrix: 6 × 30 of type dbl</caption>\n",
       "<thead>\n",
       "\t<tr><th></th><th scope=col>poly(edad, 2, raw = TRUE)1</th><th scope=col>poly(edad, 2, raw = TRUE)2</th><th scope=col>nivel_edPrimaria Completa</th><th scope=col>nivel_edSecundaria Incompleta</th><th scope=col>nivel_edSecundaria Completa</th><th scope=col>nivel_edSuperior Universitaria Incompleta</th><th scope=col>nivel_edSuperior Universitaria Completa</th><th scope=col>nivel_edSin instrucción</th><th scope=col>mujermujer</th><th scope=col>parentescoConyuge/Pareja</th><th scope=col>⋯</th><th scope=col>estado_civilViudo/a</th><th scope=col>estado_civilSoltero/a</th><th scope=col>tipo_viviendaDepartamento</th><th scope=col>tipo_viviendaOtros</th><th scope=col>poly(total_miembros_hogar, 2, raw = TRUE)1</th><th scope=col>poly(total_miembros_hogar, 2, raw = TRUE)2</th><th scope=col>poly(miembros_hogar_menores10, 2, raw = TRUE)1</th><th scope=col>poly(miembros_hogar_menores10, 2, raw = TRUE)2</th><th scope=col>poly(ing_tot_fam, 2, raw = TRUE)1</th><th scope=col>poly(ing_tot_fam, 2, raw = TRUE)2</th></tr>\n",
       "</thead>\n",
       "<tbody>\n",
       "\t<tr><th scope=row>1</th><td>33</td><td>1089</td><td>0</td><td>0</td><td>0</td><td>0</td><td>1</td><td>0</td><td>1</td><td>1</td><td>⋯</td><td>0</td><td>0</td><td>0</td><td>0</td><td>3</td><td>9</td><td>1</td><td>1</td><td>8400</td><td>70560000</td></tr>\n",
       "\t<tr><th scope=row>2</th><td>48</td><td>2304</td><td>1</td><td>0</td><td>0</td><td>0</td><td>0</td><td>0</td><td>0</td><td>0</td><td>⋯</td><td>0</td><td>0</td><td>0</td><td>0</td><td>3</td><td>9</td><td>0</td><td>0</td><td>3150</td><td> 9922500</td></tr>\n",
       "\t<tr><th scope=row>3</th><td>63</td><td>3969</td><td>0</td><td>0</td><td>0</td><td>1</td><td>0</td><td>0</td><td>0</td><td>0</td><td>⋯</td><td>0</td><td>0</td><td>0</td><td>0</td><td>2</td><td>4</td><td>0</td><td>0</td><td>3550</td><td>12602500</td></tr>\n",
       "\t<tr><th scope=row>4</th><td>50</td><td>2500</td><td>0</td><td>0</td><td>0</td><td>0</td><td>1</td><td>0</td><td>0</td><td>0</td><td>⋯</td><td>0</td><td>0</td><td>0</td><td>0</td><td>3</td><td>9</td><td>0</td><td>0</td><td>3500</td><td>12250000</td></tr>\n",
       "\t<tr><th scope=row>5</th><td>23</td><td> 529</td><td>0</td><td>0</td><td>0</td><td>1</td><td>0</td><td>0</td><td>0</td><td>0</td><td>⋯</td><td>0</td><td>1</td><td>0</td><td>0</td><td>3</td><td>9</td><td>0</td><td>0</td><td>3500</td><td>12250000</td></tr>\n",
       "\t<tr><th scope=row>6</th><td>32</td><td>1024</td><td>0</td><td>0</td><td>0</td><td>0</td><td>1</td><td>0</td><td>1</td><td>0</td><td>⋯</td><td>0</td><td>1</td><td>1</td><td>0</td><td>1</td><td>1</td><td>0</td><td>0</td><td>3870</td><td>14976900</td></tr>\n",
       "</tbody>\n",
       "</table>\n"
      ],
      "text/latex": [
       "A matrix: 6 × 30 of type dbl\n",
       "\\begin{tabular}{r|lllllllllllllllllllll}\n",
       "  & poly(edad, 2, raw = TRUE)1 & poly(edad, 2, raw = TRUE)2 & nivel\\_edPrimaria Completa & nivel\\_edSecundaria Incompleta & nivel\\_edSecundaria Completa & nivel\\_edSuperior Universitaria Incompleta & nivel\\_edSuperior Universitaria Completa & nivel\\_edSin instrucción & mujermujer & parentescoConyuge/Pareja & ⋯ & estado\\_civilViudo/a & estado\\_civilSoltero/a & tipo\\_viviendaDepartamento & tipo\\_viviendaOtros & poly(total\\_miembros\\_hogar, 2, raw = TRUE)1 & poly(total\\_miembros\\_hogar, 2, raw = TRUE)2 & poly(miembros\\_hogar\\_menores10, 2, raw = TRUE)1 & poly(miembros\\_hogar\\_menores10, 2, raw = TRUE)2 & poly(ing\\_tot\\_fam, 2, raw = TRUE)1 & poly(ing\\_tot\\_fam, 2, raw = TRUE)2\\\\\n",
       "\\hline\n",
       "\t1 & 33 & 1089 & 0 & 0 & 0 & 0 & 1 & 0 & 1 & 1 & ⋯ & 0 & 0 & 0 & 0 & 3 & 9 & 1 & 1 & 8400 & 70560000\\\\\n",
       "\t2 & 48 & 2304 & 1 & 0 & 0 & 0 & 0 & 0 & 0 & 0 & ⋯ & 0 & 0 & 0 & 0 & 3 & 9 & 0 & 0 & 3150 &  9922500\\\\\n",
       "\t3 & 63 & 3969 & 0 & 0 & 0 & 1 & 0 & 0 & 0 & 0 & ⋯ & 0 & 0 & 0 & 0 & 2 & 4 & 0 & 0 & 3550 & 12602500\\\\\n",
       "\t4 & 50 & 2500 & 0 & 0 & 0 & 0 & 1 & 0 & 0 & 0 & ⋯ & 0 & 0 & 0 & 0 & 3 & 9 & 0 & 0 & 3500 & 12250000\\\\\n",
       "\t5 & 23 &  529 & 0 & 0 & 0 & 1 & 0 & 0 & 0 & 0 & ⋯ & 0 & 1 & 0 & 0 & 3 & 9 & 0 & 0 & 3500 & 12250000\\\\\n",
       "\t6 & 32 & 1024 & 0 & 0 & 0 & 0 & 1 & 0 & 1 & 0 & ⋯ & 0 & 1 & 1 & 0 & 1 & 1 & 0 & 0 & 3870 & 14976900\\\\\n",
       "\\end{tabular}\n"
      ],
      "text/markdown": [
       "\n",
       "A matrix: 6 × 30 of type dbl\n",
       "\n",
       "| <!--/--> | poly(edad, 2, raw = TRUE)1 | poly(edad, 2, raw = TRUE)2 | nivel_edPrimaria Completa | nivel_edSecundaria Incompleta | nivel_edSecundaria Completa | nivel_edSuperior Universitaria Incompleta | nivel_edSuperior Universitaria Completa | nivel_edSin instrucción | mujermujer | parentescoConyuge/Pareja | ⋯ | estado_civilViudo/a | estado_civilSoltero/a | tipo_viviendaDepartamento | tipo_viviendaOtros | poly(total_miembros_hogar, 2, raw = TRUE)1 | poly(total_miembros_hogar, 2, raw = TRUE)2 | poly(miembros_hogar_menores10, 2, raw = TRUE)1 | poly(miembros_hogar_menores10, 2, raw = TRUE)2 | poly(ing_tot_fam, 2, raw = TRUE)1 | poly(ing_tot_fam, 2, raw = TRUE)2 |\n",
       "|---|---|---|---|---|---|---|---|---|---|---|---|---|---|---|---|---|---|---|---|---|---|\n",
       "| 1 | 33 | 1089 | 0 | 0 | 0 | 0 | 1 | 0 | 1 | 1 | ⋯ | 0 | 0 | 0 | 0 | 3 | 9 | 1 | 1 | 8400 | 70560000 |\n",
       "| 2 | 48 | 2304 | 1 | 0 | 0 | 0 | 0 | 0 | 0 | 0 | ⋯ | 0 | 0 | 0 | 0 | 3 | 9 | 0 | 0 | 3150 |  9922500 |\n",
       "| 3 | 63 | 3969 | 0 | 0 | 0 | 1 | 0 | 0 | 0 | 0 | ⋯ | 0 | 0 | 0 | 0 | 2 | 4 | 0 | 0 | 3550 | 12602500 |\n",
       "| 4 | 50 | 2500 | 0 | 0 | 0 | 0 | 1 | 0 | 0 | 0 | ⋯ | 0 | 0 | 0 | 0 | 3 | 9 | 0 | 0 | 3500 | 12250000 |\n",
       "| 5 | 23 |  529 | 0 | 0 | 0 | 1 | 0 | 0 | 0 | 0 | ⋯ | 0 | 1 | 0 | 0 | 3 | 9 | 0 | 0 | 3500 | 12250000 |\n",
       "| 6 | 32 | 1024 | 0 | 0 | 0 | 0 | 1 | 0 | 1 | 0 | ⋯ | 0 | 1 | 1 | 0 | 1 | 1 | 0 | 0 | 3870 | 14976900 |\n",
       "\n"
      ],
      "text/plain": [
       "  poly(edad, 2, raw = TRUE)1 poly(edad, 2, raw = TRUE)2\n",
       "1 33                         1089                      \n",
       "2 48                         2304                      \n",
       "3 63                         3969                      \n",
       "4 50                         2500                      \n",
       "5 23                          529                      \n",
       "6 32                         1024                      \n",
       "  nivel_edPrimaria Completa nivel_edSecundaria Incompleta\n",
       "1 0                         0                            \n",
       "2 1                         0                            \n",
       "3 0                         0                            \n",
       "4 0                         0                            \n",
       "5 0                         0                            \n",
       "6 0                         0                            \n",
       "  nivel_edSecundaria Completa nivel_edSuperior Universitaria Incompleta\n",
       "1 0                           0                                        \n",
       "2 0                           0                                        \n",
       "3 0                           1                                        \n",
       "4 0                           0                                        \n",
       "5 0                           1                                        \n",
       "6 0                           0                                        \n",
       "  nivel_edSuperior Universitaria Completa nivel_edSin instrucción mujermujer\n",
       "1 1                                       0                       1         \n",
       "2 0                                       0                       0         \n",
       "3 0                                       0                       0         \n",
       "4 1                                       0                       0         \n",
       "5 0                                       0                       0         \n",
       "6 1                                       0                       1         \n",
       "  parentescoConyuge/Pareja ⋯ estado_civilViudo/a estado_civilSoltero/a\n",
       "1 1                        ⋯ 0                   0                    \n",
       "2 0                        ⋯ 0                   0                    \n",
       "3 0                        ⋯ 0                   0                    \n",
       "4 0                        ⋯ 0                   0                    \n",
       "5 0                        ⋯ 0                   1                    \n",
       "6 0                        ⋯ 0                   1                    \n",
       "  tipo_viviendaDepartamento tipo_viviendaOtros\n",
       "1 0                         0                 \n",
       "2 0                         0                 \n",
       "3 0                         0                 \n",
       "4 0                         0                 \n",
       "5 0                         0                 \n",
       "6 1                         0                 \n",
       "  poly(total_miembros_hogar, 2, raw = TRUE)1\n",
       "1 3                                         \n",
       "2 3                                         \n",
       "3 2                                         \n",
       "4 3                                         \n",
       "5 3                                         \n",
       "6 1                                         \n",
       "  poly(total_miembros_hogar, 2, raw = TRUE)2\n",
       "1 9                                         \n",
       "2 9                                         \n",
       "3 4                                         \n",
       "4 9                                         \n",
       "5 9                                         \n",
       "6 1                                         \n",
       "  poly(miembros_hogar_menores10, 2, raw = TRUE)1\n",
       "1 1                                             \n",
       "2 0                                             \n",
       "3 0                                             \n",
       "4 0                                             \n",
       "5 0                                             \n",
       "6 0                                             \n",
       "  poly(miembros_hogar_menores10, 2, raw = TRUE)2\n",
       "1 1                                             \n",
       "2 0                                             \n",
       "3 0                                             \n",
       "4 0                                             \n",
       "5 0                                             \n",
       "6 0                                             \n",
       "  poly(ing_tot_fam, 2, raw = TRUE)1 poly(ing_tot_fam, 2, raw = TRUE)2\n",
       "1 8400                              70560000                         \n",
       "2 3150                               9922500                         \n",
       "3 3550                              12602500                         \n",
       "4 3500                              12250000                         \n",
       "5 3500                              12250000                         \n",
       "6 3870                              14976900                         "
      ]
     },
     "metadata": {},
     "output_type": "display_data"
    }
   ],
   "source": [
    "# Convertir la fórmula en una matriz de diseño \n",
    "X_train <- model.matrix(desempleado ~poly(edad,2,raw=TRUE) + nivel_ed + mujer + parentesco + estado_civil + tipo_vivienda + poly(total_miembros_hogar,2,raw=TRUE) + poly(miembros_hogar_menores10,2,raw=TRUE) + poly(ing_tot_fam,2,raw=TRUE), train)\n",
    "\n",
    "# Eliminar la primera columna que es el intercepto (opcional)\n",
    "X_train <- X_train[, -1]\n",
    "head(X_train)"
   ]
  },
  {
   "cell_type": "code",
   "execution_count": 63,
   "id": "246b2268-c342-4d40-a70b-9bc4e17f49e7",
   "metadata": {
    "vscode": {
     "languageId": "r"
    }
   },
   "outputs": [
    {
     "data": {
      "text/html": [
       "<style>\n",
       ".list-inline {list-style: none; margin:0; padding: 0}\n",
       ".list-inline>li {display: inline-block}\n",
       ".list-inline>li:not(:last-child)::after {content: \"\\00b7\"; padding: 0 .5ex}\n",
       "</style>\n",
       "<ol class=list-inline><li>'X1'</li><li>'X2'</li><li>'X3'</li><li>'X4'</li><li>'X5'</li><li>'X6'</li><li>'X7'</li><li>'X8'</li><li>'X9'</li><li>'X10'</li><li>'X11'</li><li>'X12'</li><li>'X13'</li><li>'X14'</li><li>'X15'</li><li>'X16'</li><li>'X17'</li><li>'X18'</li><li>'X19'</li><li>'X20'</li><li>'X21'</li><li>'X22'</li><li>'X23'</li><li>'X24'</li><li>'X25'</li><li>'X26'</li><li>'X27'</li><li>'X28'</li><li>'X29'</li><li>'X30'</li></ol>\n"
      ],
      "text/latex": [
       "\\begin{enumerate*}\n",
       "\\item 'X1'\n",
       "\\item 'X2'\n",
       "\\item 'X3'\n",
       "\\item 'X4'\n",
       "\\item 'X5'\n",
       "\\item 'X6'\n",
       "\\item 'X7'\n",
       "\\item 'X8'\n",
       "\\item 'X9'\n",
       "\\item 'X10'\n",
       "\\item 'X11'\n",
       "\\item 'X12'\n",
       "\\item 'X13'\n",
       "\\item 'X14'\n",
       "\\item 'X15'\n",
       "\\item 'X16'\n",
       "\\item 'X17'\n",
       "\\item 'X18'\n",
       "\\item 'X19'\n",
       "\\item 'X20'\n",
       "\\item 'X21'\n",
       "\\item 'X22'\n",
       "\\item 'X23'\n",
       "\\item 'X24'\n",
       "\\item 'X25'\n",
       "\\item 'X26'\n",
       "\\item 'X27'\n",
       "\\item 'X28'\n",
       "\\item 'X29'\n",
       "\\item 'X30'\n",
       "\\end{enumerate*}\n"
      ],
      "text/markdown": [
       "1. 'X1'\n",
       "2. 'X2'\n",
       "3. 'X3'\n",
       "4. 'X4'\n",
       "5. 'X5'\n",
       "6. 'X6'\n",
       "7. 'X7'\n",
       "8. 'X8'\n",
       "9. 'X9'\n",
       "10. 'X10'\n",
       "11. 'X11'\n",
       "12. 'X12'\n",
       "13. 'X13'\n",
       "14. 'X14'\n",
       "15. 'X15'\n",
       "16. 'X16'\n",
       "17. 'X17'\n",
       "18. 'X18'\n",
       "19. 'X19'\n",
       "20. 'X20'\n",
       "21. 'X21'\n",
       "22. 'X22'\n",
       "23. 'X23'\n",
       "24. 'X24'\n",
       "25. 'X25'\n",
       "26. 'X26'\n",
       "27. 'X27'\n",
       "28. 'X28'\n",
       "29. 'X29'\n",
       "30. 'X30'\n",
       "\n",
       "\n"
      ],
      "text/plain": [
       " [1] \"X1\"  \"X2\"  \"X3\"  \"X4\"  \"X5\"  \"X6\"  \"X7\"  \"X8\"  \"X9\"  \"X10\" \"X11\" \"X12\"\n",
       "[13] \"X13\" \"X14\" \"X15\" \"X16\" \"X17\" \"X18\" \"X19\" \"X20\" \"X21\" \"X22\" \"X23\" \"X24\"\n",
       "[25] \"X25\" \"X26\" \"X27\" \"X28\" \"X29\" \"X30\""
      ]
     },
     "metadata": {},
     "output_type": "display_data"
    }
   ],
   "source": [
    "colnames(X_train)<-paste0(\"X\",seq(1,30))\n",
    "colnames(X_train)\n",
    "X_train<-data.frame(X_train)"
   ]
  },
  {
   "cell_type": "code",
   "execution_count": 64,
   "id": "f2499651-385e-4dc8-99e7-c902075c16fe",
   "metadata": {
    "vscode": {
     "languageId": "r"
    }
   },
   "outputs": [],
   "source": [
    "smote_data <- SMOTE(X = X_train, target = train$desempleado, K = 5)"
   ]
  },
  {
   "cell_type": "code",
   "execution_count": 65,
   "id": "67745bd1-7162-4b0d-9727-39de2e3e2585",
   "metadata": {
    "vscode": {
     "languageId": "r"
    }
   },
   "outputs": [
    {
     "data": {
      "text/plain": [
       "\n",
       "desempleado    empleado \n",
       "        697        7741 "
      ]
     },
     "metadata": {},
     "output_type": "display_data"
    }
   ],
   "source": [
    "table(train$desempleado)\n"
   ]
  },
  {
   "cell_type": "code",
   "execution_count": 66,
   "id": "8ebca649-b58f-4286-9420-713d459d3ab5",
   "metadata": {
    "vscode": {
     "languageId": "r"
    }
   },
   "outputs": [
    {
     "data": {
      "text/html": [
       "<table class=\"dataframe\">\n",
       "<caption>A data.frame: 6 × 31</caption>\n",
       "<thead>\n",
       "\t<tr><th></th><th scope=col>X1</th><th scope=col>X2</th><th scope=col>X3</th><th scope=col>X4</th><th scope=col>X5</th><th scope=col>X6</th><th scope=col>X7</th><th scope=col>X8</th><th scope=col>X9</th><th scope=col>X10</th><th scope=col>⋯</th><th scope=col>X22</th><th scope=col>X23</th><th scope=col>X24</th><th scope=col>X25</th><th scope=col>X26</th><th scope=col>X27</th><th scope=col>X28</th><th scope=col>X29</th><th scope=col>X30</th><th scope=col>class</th></tr>\n",
       "\t<tr><th></th><th scope=col>&lt;dbl&gt;</th><th scope=col>&lt;dbl&gt;</th><th scope=col>&lt;dbl&gt;</th><th scope=col>&lt;dbl&gt;</th><th scope=col>&lt;dbl&gt;</th><th scope=col>&lt;dbl&gt;</th><th scope=col>&lt;dbl&gt;</th><th scope=col>&lt;dbl&gt;</th><th scope=col>&lt;dbl&gt;</th><th scope=col>&lt;dbl&gt;</th><th scope=col>⋯</th><th scope=col>&lt;dbl&gt;</th><th scope=col>&lt;dbl&gt;</th><th scope=col>&lt;dbl&gt;</th><th scope=col>&lt;dbl&gt;</th><th scope=col>&lt;dbl&gt;</th><th scope=col>&lt;dbl&gt;</th><th scope=col>&lt;dbl&gt;</th><th scope=col>&lt;dbl&gt;</th><th scope=col>&lt;dbl&gt;</th><th scope=col>&lt;chr&gt;</th></tr>\n",
       "</thead>\n",
       "<tbody>\n",
       "\t<tr><th scope=row>1</th><td>26</td><td> 676</td><td>0</td><td>1</td><td>0</td><td>0</td><td>0</td><td>0</td><td>1</td><td>0</td><td>⋯</td><td>1</td><td>0</td><td>0</td><td>4</td><td>16</td><td>1</td><td>1</td><td>4500</td><td>20250000</td><td>desempleado</td></tr>\n",
       "\t<tr><th scope=row>2</th><td>27</td><td> 729</td><td>0</td><td>0</td><td>0</td><td>1</td><td>0</td><td>0</td><td>1</td><td>0</td><td>⋯</td><td>1</td><td>0</td><td>0</td><td>6</td><td>36</td><td>0</td><td>0</td><td>2384</td><td> 5683456</td><td>desempleado</td></tr>\n",
       "\t<tr><th scope=row>3</th><td>34</td><td>1156</td><td>0</td><td>0</td><td>1</td><td>0</td><td>0</td><td>0</td><td>0</td><td>0</td><td>⋯</td><td>0</td><td>0</td><td>0</td><td>2</td><td> 4</td><td>0</td><td>0</td><td>9000</td><td>81000000</td><td>desempleado</td></tr>\n",
       "\t<tr><th scope=row>4</th><td>61</td><td>3721</td><td>1</td><td>0</td><td>0</td><td>0</td><td>0</td><td>0</td><td>1</td><td>1</td><td>⋯</td><td>0</td><td>0</td><td>0</td><td>2</td><td> 4</td><td>0</td><td>0</td><td>3360</td><td>11289600</td><td>desempleado</td></tr>\n",
       "\t<tr><th scope=row>5</th><td>26</td><td> 676</td><td>0</td><td>0</td><td>1</td><td>0</td><td>0</td><td>0</td><td>0</td><td>0</td><td>⋯</td><td>0</td><td>1</td><td>0</td><td>3</td><td> 9</td><td>1</td><td>1</td><td>1035</td><td> 1071225</td><td>desempleado</td></tr>\n",
       "\t<tr><th scope=row>6</th><td>24</td><td> 576</td><td>0</td><td>0</td><td>0</td><td>1</td><td>0</td><td>0</td><td>1</td><td>0</td><td>⋯</td><td>1</td><td>1</td><td>0</td><td>3</td><td> 9</td><td>0</td><td>0</td><td>8800</td><td>77440000</td><td>desempleado</td></tr>\n",
       "</tbody>\n",
       "</table>\n"
      ],
      "text/latex": [
       "A data.frame: 6 × 31\n",
       "\\begin{tabular}{r|lllllllllllllllllllll}\n",
       "  & X1 & X2 & X3 & X4 & X5 & X6 & X7 & X8 & X9 & X10 & ⋯ & X22 & X23 & X24 & X25 & X26 & X27 & X28 & X29 & X30 & class\\\\\n",
       "  & <dbl> & <dbl> & <dbl> & <dbl> & <dbl> & <dbl> & <dbl> & <dbl> & <dbl> & <dbl> & ⋯ & <dbl> & <dbl> & <dbl> & <dbl> & <dbl> & <dbl> & <dbl> & <dbl> & <dbl> & <chr>\\\\\n",
       "\\hline\n",
       "\t1 & 26 &  676 & 0 & 1 & 0 & 0 & 0 & 0 & 1 & 0 & ⋯ & 1 & 0 & 0 & 4 & 16 & 1 & 1 & 4500 & 20250000 & desempleado\\\\\n",
       "\t2 & 27 &  729 & 0 & 0 & 0 & 1 & 0 & 0 & 1 & 0 & ⋯ & 1 & 0 & 0 & 6 & 36 & 0 & 0 & 2384 &  5683456 & desempleado\\\\\n",
       "\t3 & 34 & 1156 & 0 & 0 & 1 & 0 & 0 & 0 & 0 & 0 & ⋯ & 0 & 0 & 0 & 2 &  4 & 0 & 0 & 9000 & 81000000 & desempleado\\\\\n",
       "\t4 & 61 & 3721 & 1 & 0 & 0 & 0 & 0 & 0 & 1 & 1 & ⋯ & 0 & 0 & 0 & 2 &  4 & 0 & 0 & 3360 & 11289600 & desempleado\\\\\n",
       "\t5 & 26 &  676 & 0 & 0 & 1 & 0 & 0 & 0 & 0 & 0 & ⋯ & 0 & 1 & 0 & 3 &  9 & 1 & 1 & 1035 &  1071225 & desempleado\\\\\n",
       "\t6 & 24 &  576 & 0 & 0 & 0 & 1 & 0 & 0 & 1 & 0 & ⋯ & 1 & 1 & 0 & 3 &  9 & 0 & 0 & 8800 & 77440000 & desempleado\\\\\n",
       "\\end{tabular}\n"
      ],
      "text/markdown": [
       "\n",
       "A data.frame: 6 × 31\n",
       "\n",
       "| <!--/--> | X1 &lt;dbl&gt; | X2 &lt;dbl&gt; | X3 &lt;dbl&gt; | X4 &lt;dbl&gt; | X5 &lt;dbl&gt; | X6 &lt;dbl&gt; | X7 &lt;dbl&gt; | X8 &lt;dbl&gt; | X9 &lt;dbl&gt; | X10 &lt;dbl&gt; | ⋯ ⋯ | X22 &lt;dbl&gt; | X23 &lt;dbl&gt; | X24 &lt;dbl&gt; | X25 &lt;dbl&gt; | X26 &lt;dbl&gt; | X27 &lt;dbl&gt; | X28 &lt;dbl&gt; | X29 &lt;dbl&gt; | X30 &lt;dbl&gt; | class &lt;chr&gt; |\n",
       "|---|---|---|---|---|---|---|---|---|---|---|---|---|---|---|---|---|---|---|---|---|---|\n",
       "| 1 | 26 |  676 | 0 | 1 | 0 | 0 | 0 | 0 | 1 | 0 | ⋯ | 1 | 0 | 0 | 4 | 16 | 1 | 1 | 4500 | 20250000 | desempleado |\n",
       "| 2 | 27 |  729 | 0 | 0 | 0 | 1 | 0 | 0 | 1 | 0 | ⋯ | 1 | 0 | 0 | 6 | 36 | 0 | 0 | 2384 |  5683456 | desempleado |\n",
       "| 3 | 34 | 1156 | 0 | 0 | 1 | 0 | 0 | 0 | 0 | 0 | ⋯ | 0 | 0 | 0 | 2 |  4 | 0 | 0 | 9000 | 81000000 | desempleado |\n",
       "| 4 | 61 | 3721 | 1 | 0 | 0 | 0 | 0 | 0 | 1 | 1 | ⋯ | 0 | 0 | 0 | 2 |  4 | 0 | 0 | 3360 | 11289600 | desempleado |\n",
       "| 5 | 26 |  676 | 0 | 0 | 1 | 0 | 0 | 0 | 0 | 0 | ⋯ | 0 | 1 | 0 | 3 |  9 | 1 | 1 | 1035 |  1071225 | desempleado |\n",
       "| 6 | 24 |  576 | 0 | 0 | 0 | 1 | 0 | 0 | 1 | 0 | ⋯ | 1 | 1 | 0 | 3 |  9 | 0 | 0 | 8800 | 77440000 | desempleado |\n",
       "\n"
      ],
      "text/plain": [
       "  X1 X2   X3 X4 X5 X6 X7 X8 X9 X10 ⋯ X22 X23 X24 X25 X26 X27 X28 X29  X30     \n",
       "1 26  676 0  1  0  0  0  0  1  0   ⋯ 1   0   0   4   16  1   1   4500 20250000\n",
       "2 27  729 0  0  0  1  0  0  1  0   ⋯ 1   0   0   6   36  0   0   2384  5683456\n",
       "3 34 1156 0  0  1  0  0  0  0  0   ⋯ 0   0   0   2    4  0   0   9000 81000000\n",
       "4 61 3721 1  0  0  0  0  0  1  1   ⋯ 0   0   0   2    4  0   0   3360 11289600\n",
       "5 26  676 0  0  1  0  0  0  0  0   ⋯ 0   1   0   3    9  1   1   1035  1071225\n",
       "6 24  576 0  0  0  1  0  0  1  0   ⋯ 1   1   0   3    9  0   0   8800 77440000\n",
       "  class      \n",
       "1 desempleado\n",
       "2 desempleado\n",
       "3 desempleado\n",
       "4 desempleado\n",
       "5 desempleado\n",
       "6 desempleado"
      ]
     },
     "metadata": {},
     "output_type": "display_data"
    }
   ],
   "source": [
    "head(smote_data$data)"
   ]
  },
  {
   "cell_type": "code",
   "execution_count": 67,
   "id": "a42e5c9f-4453-4e78-9264-e36976502062",
   "metadata": {
    "vscode": {
     "languageId": "r"
    }
   },
   "outputs": [
    {
     "name": "stdout",
     "output_type": "stream",
     "text": [
      " chr [1:15408] \"desempleado\" \"desempleado\" \"desempleado\" \"desempleado\" ...\n"
     ]
    }
   ],
   "source": [
    "str(smote_data$data$class)"
   ]
  },
  {
   "cell_type": "code",
   "execution_count": 68,
   "id": "dbfb9447-242b-4b53-922f-f105af5d6f85",
   "metadata": {
    "vscode": {
     "languageId": "r"
    }
   },
   "outputs": [
    {
     "data": {
      "text/plain": [
       "Generalized Linear Model \n",
       "\n",
       "15408 samples\n",
       "   30 predictor\n",
       "    2 classes: 'desempleado', 'empleado' \n",
       "\n",
       "Pre-processing: centered (30), scaled (30) \n",
       "Resampling: Cross-Validated (5 fold) \n",
       "Summary of sample sizes: 12326, 12327, 12326, 12326, 12327 \n",
       "Resampling results:\n",
       "\n",
       "  ROC        Sens       Spec       Accuracy   Kappa      AUC        Precision\n",
       "  0.7864225  0.7184038  0.7139894  0.7161867  0.4323786  0.7495589  0.713337 \n",
       "  Recall     F        \n",
       "  0.7184038  0.7157879\n"
      ]
     },
     "metadata": {},
     "output_type": "display_data"
    }
   ],
   "source": [
    "set.seed(1410)\n",
    "\n",
    "desempleado_logit_smote <- train(class ~.,\n",
    "                       data = smote_data$data, \n",
    "                       method = \"glm\",\n",
    "                      family = \"binomial\",\n",
    "                        trControl = ctrl_multiStats,\n",
    "                        preProcess = c(\"center\", \"scale\")\n",
    "                      )\n",
    "\n",
    "desempleado_logit_smote\n",
    "\n"
   ]
  },
  {
   "cell_type": "code",
   "execution_count": 70,
   "id": "d1f68811-331e-46b5-94b8-1b1e4b008d0c",
   "metadata": {
    "vscode": {
     "languageId": "r"
    }
   },
   "outputs": [],
   "source": [
    "# test<- test  %>% mutate(desempleado_hat_smote_orig=predict(desempleado_logit_smote,newdata = test,\n",
    "#                          type = \"raw\"))"
   ]
  },
  {
   "cell_type": "code",
   "execution_count": 71,
   "id": "3bc9504c-dc0d-4315-b970-caf879a9d8e7",
   "metadata": {
    "vscode": {
     "languageId": "r"
    }
   },
   "outputs": [
    {
     "data": {
      "text/html": [
       "<style>\n",
       ".list-inline {list-style: none; margin:0; padding: 0}\n",
       ".list-inline>li {display: inline-block}\n",
       ".list-inline>li:not(:last-child)::after {content: \"\\00b7\"; padding: 0 .5ex}\n",
       "</style>\n",
       "<ol class=list-inline><li>'X1'</li><li>'X2'</li><li>'X3'</li><li>'X4'</li><li>'X5'</li><li>'X6'</li><li>'X7'</li><li>'X8'</li><li>'X9'</li><li>'X10'</li><li>'X11'</li><li>'X12'</li><li>'X13'</li><li>'X14'</li><li>'X15'</li><li>'X16'</li><li>'X17'</li><li>'X18'</li><li>'X19'</li><li>'X20'</li><li>'X21'</li><li>'X22'</li><li>'X23'</li><li>'X24'</li><li>'X25'</li><li>'X26'</li><li>'X27'</li><li>'X28'</li><li>'X29'</li><li>'X30'</li></ol>\n"
      ],
      "text/latex": [
       "\\begin{enumerate*}\n",
       "\\item 'X1'\n",
       "\\item 'X2'\n",
       "\\item 'X3'\n",
       "\\item 'X4'\n",
       "\\item 'X5'\n",
       "\\item 'X6'\n",
       "\\item 'X7'\n",
       "\\item 'X8'\n",
       "\\item 'X9'\n",
       "\\item 'X10'\n",
       "\\item 'X11'\n",
       "\\item 'X12'\n",
       "\\item 'X13'\n",
       "\\item 'X14'\n",
       "\\item 'X15'\n",
       "\\item 'X16'\n",
       "\\item 'X17'\n",
       "\\item 'X18'\n",
       "\\item 'X19'\n",
       "\\item 'X20'\n",
       "\\item 'X21'\n",
       "\\item 'X22'\n",
       "\\item 'X23'\n",
       "\\item 'X24'\n",
       "\\item 'X25'\n",
       "\\item 'X26'\n",
       "\\item 'X27'\n",
       "\\item 'X28'\n",
       "\\item 'X29'\n",
       "\\item 'X30'\n",
       "\\end{enumerate*}\n"
      ],
      "text/markdown": [
       "1. 'X1'\n",
       "2. 'X2'\n",
       "3. 'X3'\n",
       "4. 'X4'\n",
       "5. 'X5'\n",
       "6. 'X6'\n",
       "7. 'X7'\n",
       "8. 'X8'\n",
       "9. 'X9'\n",
       "10. 'X10'\n",
       "11. 'X11'\n",
       "12. 'X12'\n",
       "13. 'X13'\n",
       "14. 'X14'\n",
       "15. 'X15'\n",
       "16. 'X16'\n",
       "17. 'X17'\n",
       "18. 'X18'\n",
       "19. 'X19'\n",
       "20. 'X20'\n",
       "21. 'X21'\n",
       "22. 'X22'\n",
       "23. 'X23'\n",
       "24. 'X24'\n",
       "25. 'X25'\n",
       "26. 'X26'\n",
       "27. 'X27'\n",
       "28. 'X28'\n",
       "29. 'X29'\n",
       "30. 'X30'\n",
       "\n",
       "\n"
      ],
      "text/plain": [
       " [1] \"X1\"  \"X2\"  \"X3\"  \"X4\"  \"X5\"  \"X6\"  \"X7\"  \"X8\"  \"X9\"  \"X10\" \"X11\" \"X12\"\n",
       "[13] \"X13\" \"X14\" \"X15\" \"X16\" \"X17\" \"X18\" \"X19\" \"X20\" \"X21\" \"X22\" \"X23\" \"X24\"\n",
       "[25] \"X25\" \"X26\" \"X27\" \"X28\" \"X29\" \"X30\""
      ]
     },
     "metadata": {},
     "output_type": "display_data"
    }
   ],
   "source": [
    "X_test <- model.matrix(desempleado ~poly(edad,2,raw=TRUE) + nivel_ed + mujer + parentesco + estado_civil + tipo_vivienda + poly(total_miembros_hogar,2,raw=TRUE) + poly(miembros_hogar_menores10,2,raw=TRUE) + poly(ing_tot_fam,2,raw=TRUE), test)\n",
    "X_test <- X_test[, -1]\n",
    "colnames(X_test)<-paste0(\"X\",seq(1,30))\n",
    "colnames(X_test)\n",
    "X_test<-data.frame(X_test)"
   ]
  },
  {
   "cell_type": "code",
   "execution_count": 72,
   "id": "f6600274-7704-4dd3-b5f2-f118061a25b3",
   "metadata": {
    "vscode": {
     "languageId": "r"
    }
   },
   "outputs": [],
   "source": [
    "test<- test  %>% mutate(desempleado_hat_smote_orig=predict(desempleado_logit_smote,newdata = X_test,\n",
    "                           type = \"raw\"))"
   ]
  },
  {
   "cell_type": "code",
   "execution_count": 73,
   "id": "d52a1b55-4990-4289-bee5-714740820284",
   "metadata": {
    "vscode": {
     "languageId": "r"
    }
   },
   "outputs": [
    {
     "data": {
      "text/plain": [
       "Confusion Matrix and Statistics\n",
       "\n",
       "             Reference\n",
       "Prediction    desempleado empleado\n",
       "  desempleado         232      966\n",
       "  empleado             91     2327\n",
       "                                          \n",
       "               Accuracy : 0.7077          \n",
       "                 95% CI : (0.6926, 0.7225)\n",
       "    No Information Rate : 0.9107          \n",
       "    P-Value [Acc > NIR] : 1               \n",
       "                                          \n",
       "                  Kappa : 0.1913          \n",
       "                                          \n",
       " Mcnemar's Test P-Value : <2e-16          \n",
       "                                          \n",
       "              Precision : 0.19366         \n",
       "                 Recall : 0.71827         \n",
       "                     F1 : 0.30506         \n",
       "             Prevalence : 0.08933         \n",
       "         Detection Rate : 0.06416         \n",
       "   Detection Prevalence : 0.33131         \n",
       "      Balanced Accuracy : 0.71246         \n",
       "                                          \n",
       "       'Positive' Class : desempleado     \n",
       "                                          "
      ]
     },
     "metadata": {},
     "output_type": "display_data"
    }
   ],
   "source": [
    "confusionMatrix(data = test$desempleado_hat_smote_orig, \n",
    "                reference = test$desempleado, positive=\"desempleado\", mode = \"prec_recall\")"
   ]
  }
 ],
 "metadata": {
  "jupytext": {
   "cell_metadata_filter": "tags,name,-all",
   "main_language": "R",
   "notebook_metadata_filter": "-all"
  },
  "kernelspec": {
   "display_name": "R",
   "language": "R",
   "name": "ir"
  },
  "language_info": {
   "codemirror_mode": "r",
   "file_extension": ".r",
   "mimetype": "text/x-r-source",
   "name": "R",
   "pygments_lexer": "r",
   "version": "4.4.0"
  },
  "toc": {
   "base_numbering": 1,
   "nav_menu": {},
   "number_sections": true,
   "sideBar": true,
   "skip_h1_title": false,
   "title_cell": "Table of Contents",
   "title_sidebar": "Contents",
   "toc_cell": false,
   "toc_position": {
    "height": "calc(100% - 180px)",
    "left": "10px",
    "top": "150px",
    "width": "344.4px"
   },
   "toc_section_display": true,
   "toc_window_display": false
  }
 },
 "nbformat": 4,
 "nbformat_minor": 5
}
