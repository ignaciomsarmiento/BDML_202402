{
 "cells": [
  {
   "cell_type": "markdown",
   "id": "407c2aed",
   "metadata": {},
   "source": [
    "<div >\n",
    "<img src = \"../banner.jpg\" />\n",
    "</div>"
   ]
  },
  {
   "cell_type": "markdown",
   "id": "28fb4964",
   "metadata": {},
   "source": [
    "<a target=\"_blank\" href=\"https://colab.research.google.com/github/ignaciomsarmiento/BDML_202401/blob/main/Modulo07/Modulo07_PCA_Text_as_Data.ipynb\">\n",
    "  <img src=\"https://colab.research.google.com/assets/colab-badge.svg\" alt=\"Open In Colab\"/>\n",
    "</a>\n"
   ]
  },
  {
   "cell_type": "markdown",
   "id": "382ca455",
   "metadata": {},
   "source": [
    "# 2D Convolution"
   ]
  },
  {
   "cell_type": "code",
   "execution_count": 1,
   "id": "2826010e-4e47-42c2-8b90-315cafe2ed9c",
   "metadata": {
    "vscode": {
     "languageId": "r"
    }
   },
   "outputs": [],
   "source": [
    "# Convolution function\n",
    "convolve <- function(img, filter_, k, x, y) {\n",
    "  sum <- 0\n",
    "  # Determine the starting point of the kernel\n",
    "  k_start <- as.integer(-floor(k/2))\n",
    "  \n",
    "  # Convolution: multiply the image and filter elements and sum them\n",
    "  for (i in 0:(k-1)) {\n",
    "    for (j in 0:(k-1)) {\n",
    "      # Adjust indices for R's 1-based indexing\n",
    "      img_y <- y + i + k_start\n",
    "      img_x <- x + j + k_start\n",
    "      filter_y <- i + 1\n",
    "      filter_x <- j + 1\n",
    "      \n",
    "      a <- img[img_y, img_x] * filter_[filter_y, filter_x]\n",
    "      cat(sprintf(\"i[%d,%d]*f[%d,%d]=%f\\t\", \n",
    "          img_y, img_x, filter_y, filter_x, a))\n",
    "      sum <- sum + a\n",
    "    }\n",
    "    cat(\"\\n\")\n",
    "  }\n",
    "  # Return the result of convolution for a given point\n",
    "  return(sum)\n",
    "}\n",
    "\n"
   ]
  },
  {
   "cell_type": "code",
   "execution_count": 2,
   "id": "40815425-c6b4-46a6-be9f-559ad2ad4276",
   "metadata": {},
   "outputs": [],
   "source": [
    "# Kernel size\n",
    "k <- 3\n",
    "\n",
    "# Filter for convolution\n",
    "filter_ <- matrix(c(\n",
    "  0, 1, 0,\n",
    "  0, 1, 0,\n",
    "  0, 1, 0\n",
    "), nrow=3, byrow=TRUE)\n"
   ]
  },
  {
   "cell_type": "code",
   "execution_count": 3,
   "id": "7c3d5480-f62a-4a75-8bf1-5c272384a7a3",
   "metadata": {},
   "outputs": [],
   "source": [
    "\n",
    "# Input image\n",
    "img <- matrix(c(\n",
    "  0, 3, 6, 9,\n",
    "  1, 4, 7, 10,\n",
    "  2, 5, 8, 11,\n",
    "  3, 6, 9, 12\n",
    "), nrow=4, byrow=TRUE)\n"
   ]
  },
  {
   "cell_type": "code",
   "execution_count": 4,
   "id": "28aff4cd-4870-423e-8612-4a8a38b809d5",
   "metadata": {},
   "outputs": [
    {
     "name": "stdout",
     "output_type": "stream",
     "text": [
      "i[1,1]*f[1,1]=0.000000\ti[1,2]*f[1,2]=3.000000\ti[1,3]*f[1,3]=0.000000\t\n",
      "i[2,1]*f[2,1]=0.000000\ti[2,2]*f[2,2]=4.000000\ti[2,3]*f[2,3]=0.000000\t\n",
      "i[3,1]*f[3,1]=0.000000\ti[3,2]*f[3,2]=5.000000\ti[3,3]*f[3,3]=0.000000\t\n",
      "process (x=2, y=2) image point\n",
      "i[1,2]*f[1,1]=0.000000\ti[1,3]*f[1,2]=6.000000\ti[1,4]*f[1,3]=0.000000\t\n",
      "i[2,2]*f[2,1]=0.000000\ti[2,3]*f[2,2]=7.000000\ti[2,4]*f[2,3]=0.000000\t\n",
      "i[3,2]*f[3,1]=0.000000\ti[3,3]*f[3,2]=8.000000\ti[3,4]*f[3,3]=0.000000\t\n",
      "process (x=3, y=2) image point\n",
      "i[2,1]*f[1,1]=0.000000\ti[2,2]*f[1,2]=4.000000\ti[2,3]*f[1,3]=0.000000\t\n",
      "i[3,1]*f[2,1]=0.000000\ti[3,2]*f[2,2]=5.000000\ti[3,3]*f[2,3]=0.000000\t\n",
      "i[4,1]*f[3,1]=0.000000\ti[4,2]*f[3,2]=6.000000\ti[4,3]*f[3,3]=0.000000\t\n",
      "process (x=2, y=3) image point\n",
      "i[2,2]*f[1,1]=0.000000\ti[2,3]*f[1,2]=7.000000\ti[2,4]*f[1,3]=0.000000\t\n",
      "i[3,2]*f[2,1]=0.000000\ti[3,3]*f[2,2]=8.000000\ti[3,4]*f[2,3]=0.000000\t\n",
      "i[4,2]*f[3,1]=0.000000\ti[4,3]*f[3,2]=9.000000\ti[4,4]*f[3,3]=0.000000\t\n",
      "process (x=3, y=3) image point\n"
     ]
    }
   ],
   "source": [
    "\n",
    "# Determine the height and width of the image\n",
    "height <- nrow(img)\n",
    "width <- ncol(img)\n",
    "\n",
    "# Define the boundaries\n",
    "row_start <- as.integer(floor(k/2)) + 1\n",
    "row_end <- height - as.integer(floor(k/2))\n",
    "col_start <- as.integer(floor(k/2)) + 1\n",
    "col_end <- width - as.integer(floor(k/2))\n",
    "\n",
    "# Create a new image matrix filled with zeros\n",
    "new_image <- matrix(0, nrow=height-k+1, ncol=width-k+1)\n",
    "\n",
    "# Perform convolution\n",
    "for (y in row_start:row_end) {\n",
    "  for (x in col_start:col_end) {\n",
    "    # Convolve for each point in the area defined by the borders\n",
    "    new_image[y-row_start+1, x-col_start+1] <- convolve(img, filter_, k, x, y)\n",
    "    cat(sprintf(\"process (x=%d, y=%d) image point\\n\", x, y))\n",
    "  }\n",
    "}\n",
    "\n"
   ]
  },
  {
   "cell_type": "code",
   "execution_count": 5,
   "id": "a700fa38-07fb-427c-a280-ff0b15b15122",
   "metadata": {},
   "outputs": [
    {
     "name": "stdout",
     "output_type": "stream",
     "text": [
      "     [,1] [,2]\n",
      "[1,]   12   21\n",
      "[2,]   15   24\n"
     ]
    }
   ],
   "source": [
    "# Print the result of convolution\n",
    "print(new_image)"
   ]
  }
 ],
 "metadata": {
  "kernelspec": {
   "display_name": "R",
   "language": "R",
   "name": "ir"
  },
  "language_info": {
   "codemirror_mode": "r",
   "file_extension": ".r",
   "mimetype": "text/x-r-source",
   "name": "R",
   "pygments_lexer": "r",
   "version": "4.4.1"
  }
 },
 "nbformat": 4,
 "nbformat_minor": 5
}
