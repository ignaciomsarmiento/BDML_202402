{
 "cells": [
  {
   "cell_type": "markdown",
   "id": "35c5565c",
   "metadata": {},
   "source": [
    "<div >\n",
    "<img src = \"../banner.jpg\" />\n",
    "</div>"
   ]
  },
  {
   "cell_type": "markdown",
   "id": "7159f395-faad-4b41-bed5-914b458baf90",
   "metadata": {},
   "source": [
    "<a target=\"_blank\" href=\"https://colab.research.google.com/github/ignaciomsarmiento/BDML_202402/blob/main/Lecture06/Notebook_Lasso_Causal.ipynb\">\n",
    "  <img src=\"https://colab.research.google.com/assets/colab-badge.svg\" alt=\"Open In Colab\"/>\n",
    "</a>\n"
   ]
  },
  {
   "cell_type": "markdown",
   "id": "92d9fd15",
   "metadata": {},
   "source": [
    "# Aplication\n",
    "\n",
    "\n",
    "-   To illustrate how it works let me use this experiment from the General Social Survey (GSS)\n",
    "\n",
    "-   GSS conducts surveys regular surveys on Americans think feel about different issues\n",
    "\n",
    "-   For decades, scholars studying Americans' support for social welfare spending have noted the special disdain that americans harbor for programs labeled \"welfare\"\n",
    "\n",
    "-   This phenomenon became the subject of sustained experimental inquiry in the mid-1980s, when the GSS included a question-wording experiment in its national survey of adults.\n",
    "\n",
    "\n",
    "-   Respondents in each survey were randomly assigned to one of two questions about public spending.\n",
    "\n",
    "-   *\"too much\" money is spent on assistance to the Poor (treatment) or Welfare (control)*\n",
    "\n",
    "-   Various explanations put forward: stereotypes associated with welfare recipients and poor people, particularly racial stereotypes, and to political orientations such as individualism and conservatism .\n",
    "\n",
    "\n",
    "## Loading packages\n",
    "\n",
    "Let's load the packages"
   ]
  },
  {
   "cell_type": "code",
   "execution_count": null,
   "id": "916d8d55-afea-43b7-b0da-b7fb608590be",
   "metadata": {},
   "outputs": [],
   "source": [
    "# install.packages(\"pacman\") #run this line if you use Google Colab"
   ]
  },
  {
   "cell_type": "code",
   "execution_count": null,
   "id": "a1a1d4d8",
   "metadata": {
    "include": true,
    "message": false,
    "name": "cran_packages",
    "vscode": {
     "languageId": "r"
    },
    "warning": false
   },
   "outputs": [],
   "source": [
    "set.seed(201911) \n",
    "\n",
    "require(\"pacman\")\n",
    "p_load(\"tidyverse\",# Data wrangling       \n",
    "        \"fBasics\",     # Summary statistics \n",
    "        \"corrplot\",    # Correlations \n",
    "        \"psych\",       # Correlation p-values \n",
    "        \"hdm\"         # High-Dimensional Metrics\n",
    ")\n"
   ]
  },
  {
   "cell_type": "markdown",
   "id": "b1a87d16",
   "metadata": {},
   "source": [
    "## Loading the data\n",
    "\n",
    "We will be working with the `welfare` dataset, from \"Modeling Heterogeneous Treatment Effects in Survey Experiments with Baysian Additive Regression Trees\" (Green and Kern, 2012) ).\n",
    "\n",
    "Next, we load in the raw data and perform some data cleaning."
   ]
  },
  {
   "cell_type": "code",
   "execution_count": null,
   "id": "46ed633b",
   "metadata": {
    "lines_to_next_cell": 2,
    "vscode": {
     "languageId": "r"
    }
   },
   "outputs": [],
   "source": [
    "# R script for reading data from github repository, set path to where you have the tutorial files saved.\n",
    "df_experiment<-readRDS(url(\"https://github.com/ignaciomsarmiento/datasets/raw/main/welfare.rds\"))\n"
   ]
  },
  {
   "cell_type": "code",
   "execution_count": null,
   "id": "0ba2c3dd",
   "metadata": {
    "name": "select_dataset",
    "vscode": {
     "languageId": "r"
    }
   },
   "outputs": [],
   "source": [
    "head(df_experiment)"
   ]
  },
  {
   "cell_type": "markdown",
   "id": "14b76c3b",
   "metadata": {},
   "source": [
    "## Cleaning the data\n",
    "\n",
    "Let's do some minimal housekeeping. First, we will drop the columns that aren't outcomes, treatments or (pre-treatment) covariates, since we won't be using those.\n"
   ]
  },
  {
   "cell_type": "code",
   "execution_count": null,
   "id": "110e28c2",
   "metadata": {
    "name": "drop_irrelevant_cols",
    "vscode": {
     "languageId": "r"
    }
   },
   "outputs": [],
   "source": [
    "covariate_names<- c(\"hrs1\", \"partyid\", \"income\", \"rincome\", \"wrkstat\", \"wrkslf\", \"age\", \"polviews\", \"educ\", \"earnrs\", \"race\", \"marital\", \"sibs\", \"childs\", \"occ80\", \"prestg80\", \"indus80\", \"res16\", \"reg16\", \"mobile16\", \"family16\", \"parborn\", \"maeduc\", \"degree\", \"sex\", \"born\", \"hompop\", \"babies\", \"preteen\", \"teens\", \"adults\")"
   ]
  },
  {
   "cell_type": "code",
   "execution_count": null,
   "id": "d2a3ae67",
   "metadata": {
    "vscode": {
     "languageId": "r"
    }
   },
   "outputs": [],
   "source": [
    "# Combine all names\n",
    "all_variables_names <- c(\"Y\", \"W\", covariate_names)\n",
    "df <- df_experiment %>% select(all_of(all_variables_names))"
   ]
  },
  {
   "cell_type": "markdown",
   "id": "66cd1ee0",
   "metadata": {},
   "source": [
    "Next, let's drop any row that has missing values in them."
   ]
  },
  {
   "cell_type": "code",
   "execution_count": null,
   "id": "858ce42b",
   "metadata": {
    "name": "data_cleaning",
    "vscode": {
     "languageId": "r"
    }
   },
   "outputs": [],
   "source": [
    "# Drop rows containing missing values\n",
    "df <- df %>% drop_na()"
   ]
  },
  {
   "cell_type": "markdown",
   "id": "2259fd09",
   "metadata": {},
   "source": [
    "Some of the methods below don't accept `factor` variables, so let's change their type to `numeric` here. "
   ]
  },
  {
   "cell_type": "code",
   "execution_count": null,
   "id": "2348c978",
   "metadata": {
    "name": "column_renaming",
    "vscode": {
     "languageId": "r"
    }
   },
   "outputs": [],
   "source": [
    "# Converting all columns to numerical and add row id\n",
    "df <- data.frame(lapply(df, function(x) as.numeric(as.character(x))))\n",
    "\n",
    "df <- df %>% mutate_if(is.character,as.numeric)\n",
    "df <- df %>% rowid_to_column( \"ID\")\n",
    "\n",
    "head(df)"
   ]
  },
  {
   "cell_type": "markdown",
   "id": "e910ef67",
   "metadata": {},
   "source": [
    "---"
   ]
  },
  {
   "cell_type": "markdown",
   "id": "f444d888",
   "metadata": {},
   "source": [
    "## Descriptive statistics\n",
    "\n",
    "It's often useful to begin data analysis by simply looking at simple summary statistics. We use the function `basicStats` from the package `fBasics` to calculate them."
   ]
  },
  {
   "cell_type": "code",
   "execution_count": null,
   "id": "f7f4a7a3",
   "metadata": {
    "echo": true,
    "message": false,
    "name": "summary_stats",
    "results": "asis",
    "vscode": {
     "languageId": "r"
    }
   },
   "outputs": [],
   "source": [
    "# Make a data.frame containing summary statistics of interest\n",
    "summ_stats <- fBasics::basicStats(df)\n",
    "summ_stats <- as.data.frame(t(summ_stats))\n",
    "# Rename some of the columns for convenience\n",
    "summ_stats <- summ_stats %>% select(\"Mean\", \"Stdev\", \"Minimum\", \"1. Quartile\", \"Median\",  \"3. Quartile\", \"Maximum\")\n",
    "summ_stats <- summ_stats %>% rename('Lower quartile'= '1. Quartile', 'Upper quartile' ='3. Quartile')"
   ]
  },
  {
   "cell_type": "code",
   "execution_count": null,
   "id": "09962102",
   "metadata": {
    "message": false,
    "name": "summary_stats_table",
    "results": "asis",
    "tags": [
     "remove_input"
    ],
    "vscode": {
     "languageId": "r"
    }
   },
   "outputs": [],
   "source": [
    "summ_stats"
   ]
  },
  {
   "cell_type": "markdown",
   "id": "2ef78043",
   "metadata": {},
   "source": [
    "Presenting pairwise correlations is easy with the `corrplot` function from the `corrplot` package. On the table below, if the (unadjusted) p-value for a pair of variables is less than 0.05, its square is not colored."
   ]
  },
  {
   "cell_type": "code",
   "execution_count": null,
   "id": "aa073e7a",
   "metadata": {
    "fig.height": 5,
    "fig.width": 5,
    "lines_to_next_cell": 2,
    "name": "cor plot",
    "tags": [
     "remove_input"
    ],
    "vscode": {
     "languageId": "r"
    },
    "warning": false
   },
   "outputs": [],
   "source": [
    "# Note: if the plot looks too cramped, try increasing fig.width and fig.height in the line above\n",
    "pairwise_pvalues <- psych::corr.test(df, df)$p\n",
    "corrplot(cor(df),\n",
    "        type=\"upper\",\n",
    "        tl.col=\"black\",\n",
    "        order=\"hclust\",\n",
    "        tl.cex=1,\n",
    "        addgrid.col = \"black\",\n",
    "        p.mat=pairwise_pvalues,\n",
    "        sig.level=0.05,\n",
    "        number.font=10,\n",
    "        insig=\"blank\")"
   ]
  },
  {
   "cell_type": "markdown",
   "id": "d5306c88",
   "metadata": {},
   "source": [
    "# PART I: ATE y CATE"
   ]
  },
  {
   "cell_type": "markdown",
   "id": "3fbc201f",
   "metadata": {},
   "source": [
    " *\"too much\" money is spent on assistance to the Poor (treatment) or Welfare (control)*"
   ]
  },
  {
   "cell_type": "code",
   "execution_count": null,
   "id": "793a3fc5",
   "metadata": {
    "vscode": {
     "languageId": "r"
    }
   },
   "outputs": [],
   "source": [
    "tapply(df$Y,df$W,mean)"
   ]
  },
  {
   "cell_type": "markdown",
   "id": "27a10626",
   "metadata": {},
   "source": [
    "- 48% agree that too much money is spent on Welfare\n",
    "- 11% agree that too much money is spent on assistance to the Poor"
   ]
  },
  {
   "cell_type": "code",
   "execution_count": null,
   "id": "fe3012f4",
   "metadata": {
    "vscode": {
     "languageId": "r"
    }
   },
   "outputs": [],
   "source": [
    "difference_in_means <- function(dataset) {\n",
    "  # Filter treatment / control observations, pulls outcome variable as a vector\n",
    "  y1 <- dataset %>% dplyr::filter(W == 1) %>% dplyr::pull(Y) # Outcome in treatment grp\n",
    "  y0 <- dataset %>% dplyr::filter(W == 0) %>% dplyr::pull(Y) # Outcome in control group\n",
    "  \n",
    "  n1 <- sum(df[,\"W\"])     # Number of obs in treatment\n",
    "  n0 <- sum(1 - df[,\"W\"]) # Number of obs in control\n",
    "  \n",
    "  # Difference in means is ATE\n",
    "  tauhat <- mean(y1) - mean(y0)\n",
    "  \n",
    "  # 95% Confidence intervals\n",
    "  se_hat <- sqrt( var(y0)/(n0-1) + var(y1)/(n1-1) )\n",
    "  lower_ci <- tauhat - 1.96 * se_hat\n",
    "  upper_ci <- tauhat + 1.96 * se_hat\n",
    "  \n",
    "  return(c(ATE = tauhat, lower_ci = lower_ci, upper_ci = upper_ci))\n",
    "}\n",
    "\n",
    "tauhat_rct <- difference_in_means(df)\n",
    "tauhat_rct"
   ]
  },
  {
   "cell_type": "code",
   "execution_count": null,
   "id": "89d0226d",
   "metadata": {
    "vscode": {
     "languageId": "r"
    }
   },
   "outputs": [],
   "source": [
    "ols_ate <- lm(Y~W, data=df)"
   ]
  },
  {
   "cell_type": "code",
   "execution_count": null,
   "id": "ff66a061",
   "metadata": {
    "vscode": {
     "languageId": "r"
    }
   },
   "outputs": [],
   "source": [
    "fmla <- as.formula(paste(\"Y ~ W +\", paste(covariate_names, collapse= \"+\")))\n",
    "ols_cate <- lm(fmla, data=df)\n",
    "stargazer::stargazer(ols_ate,ols_cate,type=\"text\",digits = 5)"
   ]
  },
  {
   "cell_type": "markdown",
   "id": "de475c54",
   "metadata": {},
   "source": [
    "Second, we estimate the effect by the partialling out by Post-Lasso: \n"
   ]
  },
  {
   "cell_type": "code",
   "execution_count": null,
   "id": "449d4395",
   "metadata": {
    "vscode": {
     "languageId": "r"
    }
   },
   "outputs": [],
   "source": [
    "Y <- df$Y\n",
    "W <- df$W"
   ]
  },
  {
   "cell_type": "code",
   "execution_count": null,
   "id": "8c18965e",
   "metadata": {
    "vscode": {
     "languageId": "r"
    }
   },
   "outputs": [],
   "source": [
    "X <- as.matrix(df[covariate_names])\n",
    "head(X)"
   ]
  },
  {
   "cell_type": "markdown",
   "id": "a0e266de",
   "metadata": {},
   "source": [
    "Third, we estimate the effect by the double selection method. Algorithmically the method is as follows:\n",
    "\n",
    "- (1) Select controls $X_{ij}$’s that predict $y_i$ by Lasso.\n",
    "- (2) Select controls $X_{ij}$’s that predict $W_i$ by Lasso.\n",
    "- (3) Run OLS of yi on di and the union of controls selected in steps 1 and 2.\n"
   ]
  },
  {
   "cell_type": "code",
   "execution_count": null,
   "id": "cf368204",
   "metadata": {
    "vscode": {
     "languageId": "r"
    }
   },
   "outputs": [],
   "source": [
    "doublesel.effect <- rlassoEffect(x=X, y=Y, d=W, method=\"double selection\")\n",
    "summary(doublesel.effect)"
   ]
  },
  {
   "cell_type": "code",
   "execution_count": null,
   "id": "a17bea7a",
   "metadata": {
    "vscode": {
     "languageId": "r"
    }
   },
   "outputs": [],
   "source": [
    "data.frame(doublesel.effect$selection.index)"
   ]
  },
  {
   "cell_type": "markdown",
   "id": "d38df7f1",
   "metadata": {},
   "source": [
    "----"
   ]
  }
 ],
 "metadata": {
  "jupytext": {
   "cell_metadata_filter": "fig.width,include,error,tags,echo,message,fig.height,results,warning,name,-all",
   "main_language": "R",
   "notebook_metadata_filter": "-all"
  },
  "kernelspec": {
   "display_name": "R",
   "language": "R",
   "name": "ir"
  },
  "language_info": {
   "codemirror_mode": "r",
   "file_extension": ".r",
   "mimetype": "text/x-r-source",
   "name": "R",
   "pygments_lexer": "r",
   "version": "4.4.0"
  }
 },
 "nbformat": 4,
 "nbformat_minor": 5
}
