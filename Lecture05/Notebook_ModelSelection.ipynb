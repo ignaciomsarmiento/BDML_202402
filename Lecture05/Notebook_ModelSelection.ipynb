{
 "cells": [
  {
   "cell_type": "markdown",
   "id": "5653c385",
   "metadata": {},
   "source": [
    "<div >\n",
    "<img src = \"../banner.jpg\" />\n",
    "</div>"
   ]
  },
  {
   "cell_type": "markdown",
   "id": "a7b0a685-384c-4c7e-9905-1243108b4592",
   "metadata": {},
   "source": [
    "<a target=\"_blank\" href=\"https://colab.research.google.com/github/ignaciomsarmiento/BDML_202402/blob/main/Lecture05/Notebook_ModelSelection.ipynb\">\n",
    "  <img src=\"https://colab.research.google.com/assets/colab-badge.svg\" alt=\"Open In Colab\"/>\n",
    "</a>\n"
   ]
  },
  {
   "cell_type": "markdown",
   "id": "f7e57de4",
   "metadata": {},
   "source": [
    "# Introduction"
   ]
  },
  {
   "cell_type": "markdown",
   "id": "44efaa5f-efe9-424e-bf07-c46550bc67fb",
   "metadata": {},
   "source": [
    "The process of model selection involves choosing the most appropriate model from a set of potential candidates based on their predictive performance. Model selection techniques are essential to identify the model that best balances complexity and accuracy without overfitting or underfitting the data.\n",
    "\n",
    "Among the various strategies for model selection, three popular methods are Best Subset Selection, Forward Selection, and Backward Selection. Each method has a distinct approach to selecting variables.\n",
    "\n",
    "In the following sections, we will explore each of these methods in detail, highlighting their procedures, advantages, and when to use them.\"\n",
    "\n"
   ]
  },
  {
   "cell_type": "markdown",
   "id": "303a3dcd",
   "metadata": {},
   "source": [
    "# Running Example: Predicting Wages\n",
    "\n",
    "Our objective today is to construct a model of individual wages\n",
    "\n",
    "$$\n",
    "w = f(X) + u \n",
    "$$\n",
    "\n",
    "where w is the  wage, and X is a matrix that includes potential explanatory variables/predictors. In this problem set, we will focus on a linear model of the form\n",
    "\n",
    "\\begin{align}\n",
    " ln(w) & = \\beta_0 + \\beta_1 X_1 + \\dots + \\beta_p X_p  + u \n",
    "\\end{align}\n",
    "\n",
    "were $ln(w)$ is the logarithm of the wage.\n",
    "\n",
    "To illustrate I'm going to use a sample of the NLSY97. The NLSY97 is  a nationally representative sample of 8,984 men and women born during the years 1980 through 1984 and living in the United States at the time of the initial survey in 1997.  Participants were ages 12 to 16 as of December 31, 1996.  Interviews were conducted annually from 1997 to 2011 and biennially since then.  "
   ]
  },
  {
   "cell_type": "markdown",
   "id": "2fdab5a6",
   "metadata": {},
   "source": [
    "Let's load the packages and the data set:"
   ]
  },
  {
   "cell_type": "code",
   "execution_count": null,
   "id": "83615f73",
   "metadata": {},
   "outputs": [],
   "source": [
    "#install.packages(\"pacman\") #for google colab"
   ]
  },
  {
   "cell_type": "code",
   "execution_count": 1,
   "id": "516fd2ff",
   "metadata": {},
   "outputs": [
    {
     "name": "stderr",
     "output_type": "stream",
     "text": [
      "Loading required package: pacman\n",
      "\n",
      "\u001b[1mRows: \u001b[22m\u001b[34m1266\u001b[39m \u001b[1mColumns: \u001b[22m\u001b[34m994\u001b[39m\n",
      "\u001b[36m──\u001b[39m \u001b[1mColumn specification\u001b[22m \u001b[36m──────────────────────────────────────────────────────────────────────────────────────────────────────────────────────────────────────────────────────────\u001b[39m\n",
      "\u001b[1mDelimiter:\u001b[22m \",\"\n",
      "\u001b[32mdbl\u001b[39m (994): lnw_2016, educ, black, hispanic, other, exp, afqt, mom_educ, dad_...\n",
      "\n",
      "\u001b[36mℹ\u001b[39m Use `spec()` to retrieve the full column specification for this data.\n",
      "\u001b[36mℹ\u001b[39m Specify the column types or set `show_col_types = FALSE` to quiet this message.\n"
     ]
    }
   ],
   "source": [
    "#packages\n",
    "require(\"pacman\")\n",
    "p_load(\"tidyverse\")\n",
    "\n",
    "nlsy <- read_csv('https://raw.githubusercontent.com/ignaciomsarmiento/datasets/main/nlsy97.csv')\n",
    "\n",
    "nlsy <- nlsy  %>%   drop_na(educ) #dropea los valores faltantes (NA)"
   ]
  },
  {
   "cell_type": "code",
   "execution_count": 2,
   "id": "390b2617-7f7f-4d39-b431-8d07e8f73044",
   "metadata": {},
   "outputs": [
    {
     "data": {
      "text/html": [
       "<style>\n",
       ".list-inline {list-style: none; margin:0; padding: 0}\n",
       ".list-inline>li {display: inline-block}\n",
       ".list-inline>li:not(:last-child)::after {content: \"\\00b7\"; padding: 0 .5ex}\n",
       "</style>\n",
       "<ol class=list-inline><li>'lnw_2016'</li><li>'educ'</li><li>'black'</li><li>'hispanic'</li><li>'other'</li><li>'exp'</li><li>'afqt'</li><li>'mom_educ'</li><li>'dad_educ'</li><li>'yhea_100_1997'</li><li>'yhea_2000_1997'</li><li>'yhea_2100_1997'</li><li>'yhea_2200_1997'</li><li>'ysaq_284_1997'</li><li>'ysaq_285_1997'</li><li>'ysaq_291a_1997'</li><li>'ysaq_292_1997'</li><li>'ysaq_293_1997'</li><li>'ysaq_294_1997'</li><li>'ysaq_294a_1997'</li><li>'ysaq_295_1997'</li></ol>\n"
      ],
      "text/latex": [
       "\\begin{enumerate*}\n",
       "\\item 'lnw\\_2016'\n",
       "\\item 'educ'\n",
       "\\item 'black'\n",
       "\\item 'hispanic'\n",
       "\\item 'other'\n",
       "\\item 'exp'\n",
       "\\item 'afqt'\n",
       "\\item 'mom\\_educ'\n",
       "\\item 'dad\\_educ'\n",
       "\\item 'yhea\\_100\\_1997'\n",
       "\\item 'yhea\\_2000\\_1997'\n",
       "\\item 'yhea\\_2100\\_1997'\n",
       "\\item 'yhea\\_2200\\_1997'\n",
       "\\item 'ysaq\\_284\\_1997'\n",
       "\\item 'ysaq\\_285\\_1997'\n",
       "\\item 'ysaq\\_291a\\_1997'\n",
       "\\item 'ysaq\\_292\\_1997'\n",
       "\\item 'ysaq\\_293\\_1997'\n",
       "\\item 'ysaq\\_294\\_1997'\n",
       "\\item 'ysaq\\_294a\\_1997'\n",
       "\\item 'ysaq\\_295\\_1997'\n",
       "\\end{enumerate*}\n"
      ],
      "text/markdown": [
       "1. 'lnw_2016'\n",
       "2. 'educ'\n",
       "3. 'black'\n",
       "4. 'hispanic'\n",
       "5. 'other'\n",
       "6. 'exp'\n",
       "7. 'afqt'\n",
       "8. 'mom_educ'\n",
       "9. 'dad_educ'\n",
       "10. 'yhea_100_1997'\n",
       "11. 'yhea_2000_1997'\n",
       "12. 'yhea_2100_1997'\n",
       "13. 'yhea_2200_1997'\n",
       "14. 'ysaq_284_1997'\n",
       "15. 'ysaq_285_1997'\n",
       "16. 'ysaq_291a_1997'\n",
       "17. 'ysaq_292_1997'\n",
       "18. 'ysaq_293_1997'\n",
       "19. 'ysaq_294_1997'\n",
       "20. 'ysaq_294a_1997'\n",
       "21. 'ysaq_295_1997'\n",
       "\n",
       "\n"
      ],
      "text/plain": [
       " [1] \"lnw_2016\"       \"educ\"           \"black\"          \"hispanic\"      \n",
       " [5] \"other\"          \"exp\"            \"afqt\"           \"mom_educ\"      \n",
       " [9] \"dad_educ\"       \"yhea_100_1997\"  \"yhea_2000_1997\" \"yhea_2100_1997\"\n",
       "[13] \"yhea_2200_1997\" \"ysaq_284_1997\"  \"ysaq_285_1997\"  \"ysaq_291a_1997\"\n",
       "[17] \"ysaq_292_1997\"  \"ysaq_293_1997\"  \"ysaq_294_1997\"  \"ysaq_294a_1997\"\n",
       "[21] \"ysaq_295_1997\" "
      ]
     },
     "metadata": {},
     "output_type": "display_data"
    }
   ],
   "source": [
    "colnames(nlsy[1:21])"
   ]
  },
  {
   "cell_type": "code",
   "execution_count": 3,
   "id": "7208cb9a",
   "metadata": {},
   "outputs": [
    {
     "data": {
      "text/plain": [
       "\n",
       "  1   2   3   4   5 \n",
       "550 462 219  33   2 "
      ]
     },
     "metadata": {},
     "output_type": "display_data"
    }
   ],
   "source": [
    "table(nlsy$yhea_100_1997)"
   ]
  },
  {
   "cell_type": "markdown",
   "id": "2038f3fa",
   "metadata": {},
   "source": [
    "Let's keep a subset of these predictors"
   ]
  },
  {
   "cell_type": "code",
   "execution_count": 4,
   "id": "1086b302",
   "metadata": {},
   "outputs": [],
   "source": [
    "nlsy<- nlsy[1:15]"
   ]
  },
  {
   "cell_type": "code",
   "execution_count": 6,
   "id": "e180d468-4786-4677-92a6-1d92fef6a34a",
   "metadata": {},
   "outputs": [
    {
     "data": {
      "text/html": [
       "<table class=\"dataframe\">\n",
       "<caption>A tibble: 6 × 15</caption>\n",
       "<thead>\n",
       "\t<tr><th scope=col>lnw_2016</th><th scope=col>educ</th><th scope=col>black</th><th scope=col>hispanic</th><th scope=col>other</th><th scope=col>exp</th><th scope=col>afqt</th><th scope=col>mom_educ</th><th scope=col>dad_educ</th><th scope=col>yhea_100_1997</th><th scope=col>yhea_2000_1997</th><th scope=col>yhea_2100_1997</th><th scope=col>yhea_2200_1997</th><th scope=col>ysaq_284_1997</th><th scope=col>ysaq_285_1997</th></tr>\n",
       "\t<tr><th scope=col>&lt;dbl&gt;</th><th scope=col>&lt;dbl&gt;</th><th scope=col>&lt;dbl&gt;</th><th scope=col>&lt;dbl&gt;</th><th scope=col>&lt;dbl&gt;</th><th scope=col>&lt;dbl&gt;</th><th scope=col>&lt;dbl&gt;</th><th scope=col>&lt;dbl&gt;</th><th scope=col>&lt;dbl&gt;</th><th scope=col>&lt;dbl&gt;</th><th scope=col>&lt;dbl&gt;</th><th scope=col>&lt;dbl&gt;</th><th scope=col>&lt;dbl&gt;</th><th scope=col>&lt;dbl&gt;</th><th scope=col>&lt;dbl&gt;</th></tr>\n",
       "</thead>\n",
       "<tbody>\n",
       "\t<tr><td>4.076898</td><td>16</td><td>0</td><td>0</td><td>0</td><td>11</td><td>7.0724</td><td>12</td><td>12</td><td>3</td><td>5</td><td> 0</td><td> 98</td><td>3</td><td>12</td></tr>\n",
       "\t<tr><td>3.294138</td><td> 9</td><td>0</td><td>0</td><td>0</td><td>19</td><td>4.7481</td><td> 9</td><td>10</td><td>2</td><td>5</td><td>10</td><td>140</td><td>4</td><td> 9</td></tr>\n",
       "\t<tr><td>2.830896</td><td> 9</td><td>0</td><td>1</td><td>0</td><td>22</td><td>1.1987</td><td>12</td><td> 9</td><td>3</td><td>5</td><td> 7</td><td>185</td><td>4</td><td>13</td></tr>\n",
       "\t<tr><td>4.306459</td><td>16</td><td>0</td><td>0</td><td>0</td><td>13</td><td>8.9321</td><td>16</td><td>18</td><td>2</td><td>5</td><td>10</td><td>140</td><td>3</td><td>11</td></tr>\n",
       "\t<tr><td>5.991465</td><td>16</td><td>0</td><td>1</td><td>0</td><td>15</td><td>2.2618</td><td>16</td><td>16</td><td>1</td><td>5</td><td>10</td><td>145</td><td>4</td><td>14</td></tr>\n",
       "\t<tr><td>4.711924</td><td>16</td><td>0</td><td>0</td><td>0</td><td>14</td><td>8.9502</td><td>18</td><td>20</td><td>1</td><td>5</td><td> 7</td><td>137</td><td>4</td><td>13</td></tr>\n",
       "</tbody>\n",
       "</table>\n"
      ],
      "text/latex": [
       "A tibble: 6 × 15\n",
       "\\begin{tabular}{lllllllllllllll}\n",
       " lnw\\_2016 & educ & black & hispanic & other & exp & afqt & mom\\_educ & dad\\_educ & yhea\\_100\\_1997 & yhea\\_2000\\_1997 & yhea\\_2100\\_1997 & yhea\\_2200\\_1997 & ysaq\\_284\\_1997 & ysaq\\_285\\_1997\\\\\n",
       " <dbl> & <dbl> & <dbl> & <dbl> & <dbl> & <dbl> & <dbl> & <dbl> & <dbl> & <dbl> & <dbl> & <dbl> & <dbl> & <dbl> & <dbl>\\\\\n",
       "\\hline\n",
       "\t 4.076898 & 16 & 0 & 0 & 0 & 11 & 7.0724 & 12 & 12 & 3 & 5 &  0 &  98 & 3 & 12\\\\\n",
       "\t 3.294138 &  9 & 0 & 0 & 0 & 19 & 4.7481 &  9 & 10 & 2 & 5 & 10 & 140 & 4 &  9\\\\\n",
       "\t 2.830896 &  9 & 0 & 1 & 0 & 22 & 1.1987 & 12 &  9 & 3 & 5 &  7 & 185 & 4 & 13\\\\\n",
       "\t 4.306459 & 16 & 0 & 0 & 0 & 13 & 8.9321 & 16 & 18 & 2 & 5 & 10 & 140 & 3 & 11\\\\\n",
       "\t 5.991465 & 16 & 0 & 1 & 0 & 15 & 2.2618 & 16 & 16 & 1 & 5 & 10 & 145 & 4 & 14\\\\\n",
       "\t 4.711924 & 16 & 0 & 0 & 0 & 14 & 8.9502 & 18 & 20 & 1 & 5 &  7 & 137 & 4 & 13\\\\\n",
       "\\end{tabular}\n"
      ],
      "text/markdown": [
       "\n",
       "A tibble: 6 × 15\n",
       "\n",
       "| lnw_2016 &lt;dbl&gt; | educ &lt;dbl&gt; | black &lt;dbl&gt; | hispanic &lt;dbl&gt; | other &lt;dbl&gt; | exp &lt;dbl&gt; | afqt &lt;dbl&gt; | mom_educ &lt;dbl&gt; | dad_educ &lt;dbl&gt; | yhea_100_1997 &lt;dbl&gt; | yhea_2000_1997 &lt;dbl&gt; | yhea_2100_1997 &lt;dbl&gt; | yhea_2200_1997 &lt;dbl&gt; | ysaq_284_1997 &lt;dbl&gt; | ysaq_285_1997 &lt;dbl&gt; |\n",
       "|---|---|---|---|---|---|---|---|---|---|---|---|---|---|---|\n",
       "| 4.076898 | 16 | 0 | 0 | 0 | 11 | 7.0724 | 12 | 12 | 3 | 5 |  0 |  98 | 3 | 12 |\n",
       "| 3.294138 |  9 | 0 | 0 | 0 | 19 | 4.7481 |  9 | 10 | 2 | 5 | 10 | 140 | 4 |  9 |\n",
       "| 2.830896 |  9 | 0 | 1 | 0 | 22 | 1.1987 | 12 |  9 | 3 | 5 |  7 | 185 | 4 | 13 |\n",
       "| 4.306459 | 16 | 0 | 0 | 0 | 13 | 8.9321 | 16 | 18 | 2 | 5 | 10 | 140 | 3 | 11 |\n",
       "| 5.991465 | 16 | 0 | 1 | 0 | 15 | 2.2618 | 16 | 16 | 1 | 5 | 10 | 145 | 4 | 14 |\n",
       "| 4.711924 | 16 | 0 | 0 | 0 | 14 | 8.9502 | 18 | 20 | 1 | 5 |  7 | 137 | 4 | 13 |\n",
       "\n"
      ],
      "text/plain": [
       "  lnw_2016 educ black hispanic other exp afqt   mom_educ dad_educ yhea_100_1997\n",
       "1 4.076898 16   0     0        0     11  7.0724 12       12       3            \n",
       "2 3.294138  9   0     0        0     19  4.7481  9       10       2            \n",
       "3 2.830896  9   0     1        0     22  1.1987 12        9       3            \n",
       "4 4.306459 16   0     0        0     13  8.9321 16       18       2            \n",
       "5 5.991465 16   0     1        0     15  2.2618 16       16       1            \n",
       "6 4.711924 16   0     0        0     14  8.9502 18       20       1            \n",
       "  yhea_2000_1997 yhea_2100_1997 yhea_2200_1997 ysaq_284_1997 ysaq_285_1997\n",
       "1 5               0              98            3             12           \n",
       "2 5              10             140            4              9           \n",
       "3 5               7             185            4             13           \n",
       "4 5              10             140            3             11           \n",
       "5 5              10             145            4             14           \n",
       "6 5               7             137            4             13           "
      ]
     },
     "metadata": {},
     "output_type": "display_data"
    }
   ],
   "source": [
    "head(nlsy)"
   ]
  },
  {
   "cell_type": "code",
   "execution_count": 5,
   "id": "9888edb7-99df-41b9-bb50-624917d795f5",
   "metadata": {},
   "outputs": [
    {
     "data": {
      "text/html": [
       "<style>\n",
       ".list-inline {list-style: none; margin:0; padding: 0}\n",
       ".list-inline>li {display: inline-block}\n",
       ".list-inline>li:not(:last-child)::after {content: \"\\00b7\"; padding: 0 .5ex}\n",
       "</style>\n",
       "<ol class=list-inline><li>1266</li><li>15</li></ol>\n"
      ],
      "text/latex": [
       "\\begin{enumerate*}\n",
       "\\item 1266\n",
       "\\item 15\n",
       "\\end{enumerate*}\n"
      ],
      "text/markdown": [
       "1. 1266\n",
       "2. 15\n",
       "\n",
       "\n"
      ],
      "text/plain": [
       "[1] 1266   15"
      ]
     },
     "metadata": {},
     "output_type": "display_data"
    }
   ],
   "source": [
    "dim(nlsy)"
   ]
  },
  {
   "cell_type": "markdown",
   "id": "62d13f2f",
   "metadata": {},
   "source": [
    "### Best Subset Selection\n",
    "\n",
    "\n",
    "1.  Let $M_0$ denote the null model, which contains no predictors. This\n",
    "    model simply predicts the sample mean for each observation.\n",
    "\n",
    "2.  For $k=1,2,\\dots,p$:\n",
    "\n",
    "    1.  Fit all $\\binom{p}{k}$ models that contain exactly k predictors\n",
    "\n",
    "    2.  Pick the best among these $\\binom{p}{k}$ models, and call it\n",
    "        $M_k$. Where *best* is the one with the smallest $MSE$\n",
    "\n",
    "3.  Select a single best model from among $M_0,\\dots, M_p$, using cross-validated prediction error, Cp (AIC), BIC, or adjusted R2."
   ]
  },
  {
   "cell_type": "code",
   "execution_count": 7,
   "id": "45b1d303",
   "metadata": {},
   "outputs": [
    {
     "data": {
      "text/plain": [
       "Subset selection object\n",
       "Call: regsubsets.formula(lnw_2016 ~ ., method = \"exhaustive\", nvmax = 14, \n",
       "    data = nlsy)\n",
       "14 Variables  (and intercept)\n",
       "               Forced in Forced out\n",
       "educ               FALSE      FALSE\n",
       "black              FALSE      FALSE\n",
       "hispanic           FALSE      FALSE\n",
       "other              FALSE      FALSE\n",
       "exp                FALSE      FALSE\n",
       "afqt               FALSE      FALSE\n",
       "mom_educ           FALSE      FALSE\n",
       "dad_educ           FALSE      FALSE\n",
       "yhea_100_1997      FALSE      FALSE\n",
       "yhea_2000_1997     FALSE      FALSE\n",
       "yhea_2100_1997     FALSE      FALSE\n",
       "yhea_2200_1997     FALSE      FALSE\n",
       "ysaq_284_1997      FALSE      FALSE\n",
       "ysaq_285_1997      FALSE      FALSE\n",
       "1 subsets of each size up to 14\n",
       "Selection Algorithm: exhaustive\n",
       "          educ black hispanic other exp afqt mom_educ dad_educ yhea_100_1997\n",
       "1  ( 1 )  \" \"  \" \"   \" \"      \" \"   \" \" \"*\"  \" \"      \" \"      \" \"          \n",
       "2  ( 1 )  \"*\"  \"*\"   \" \"      \" \"   \" \" \" \"  \" \"      \" \"      \" \"          \n",
       "3  ( 1 )  \"*\"  \"*\"   \" \"      \" \"   \" \" \"*\"  \" \"      \" \"      \" \"          \n",
       "4  ( 1 )  \"*\"  \"*\"   \" \"      \" \"   \" \" \"*\"  \" \"      \" \"      \" \"          \n",
       "5  ( 1 )  \"*\"  \"*\"   \" \"      \"*\"   \" \" \"*\"  \" \"      \" \"      \" \"          \n",
       "6  ( 1 )  \"*\"  \"*\"   \" \"      \"*\"   \" \" \"*\"  \" \"      \" \"      \"*\"          \n",
       "7  ( 1 )  \"*\"  \"*\"   \" \"      \"*\"   \" \" \"*\"  \" \"      \" \"      \"*\"          \n",
       "8  ( 1 )  \"*\"  \"*\"   \" \"      \"*\"   \" \" \"*\"  \" \"      \" \"      \"*\"          \n",
       "9  ( 1 )  \"*\"  \"*\"   \" \"      \"*\"   \" \" \"*\"  \"*\"      \" \"      \"*\"          \n",
       "10  ( 1 ) \"*\"  \"*\"   \"*\"      \"*\"   \" \" \"*\"  \"*\"      \" \"      \"*\"          \n",
       "11  ( 1 ) \"*\"  \"*\"   \"*\"      \"*\"   \"*\" \"*\"  \"*\"      \" \"      \"*\"          \n",
       "12  ( 1 ) \"*\"  \"*\"   \"*\"      \"*\"   \"*\" \"*\"  \"*\"      \"*\"      \"*\"          \n",
       "13  ( 1 ) \"*\"  \"*\"   \"*\"      \"*\"   \"*\" \"*\"  \"*\"      \"*\"      \"*\"          \n",
       "14  ( 1 ) \"*\"  \"*\"   \"*\"      \"*\"   \"*\" \"*\"  \"*\"      \"*\"      \"*\"          \n",
       "          yhea_2000_1997 yhea_2100_1997 yhea_2200_1997 ysaq_284_1997\n",
       "1  ( 1 )  \" \"            \" \"            \" \"            \" \"          \n",
       "2  ( 1 )  \" \"            \" \"            \" \"            \" \"          \n",
       "3  ( 1 )  \" \"            \" \"            \" \"            \" \"          \n",
       "4  ( 1 )  \" \"            \" \"            \" \"            \"*\"          \n",
       "5  ( 1 )  \" \"            \" \"            \" \"            \"*\"          \n",
       "6  ( 1 )  \" \"            \" \"            \" \"            \"*\"          \n",
       "7  ( 1 )  \"*\"            \" \"            \" \"            \"*\"          \n",
       "8  ( 1 )  \"*\"            \"*\"            \" \"            \"*\"          \n",
       "9  ( 1 )  \"*\"            \"*\"            \" \"            \"*\"          \n",
       "10  ( 1 ) \"*\"            \"*\"            \" \"            \"*\"          \n",
       "11  ( 1 ) \"*\"            \"*\"            \" \"            \"*\"          \n",
       "12  ( 1 ) \"*\"            \"*\"            \" \"            \"*\"          \n",
       "13  ( 1 ) \"*\"            \"*\"            \"*\"            \"*\"          \n",
       "14  ( 1 ) \"*\"            \"*\"            \"*\"            \"*\"          \n",
       "          ysaq_285_1997\n",
       "1  ( 1 )  \" \"          \n",
       "2  ( 1 )  \" \"          \n",
       "3  ( 1 )  \" \"          \n",
       "4  ( 1 )  \" \"          \n",
       "5  ( 1 )  \" \"          \n",
       "6  ( 1 )  \" \"          \n",
       "7  ( 1 )  \" \"          \n",
       "8  ( 1 )  \" \"          \n",
       "9  ( 1 )  \" \"          \n",
       "10  ( 1 ) \" \"          \n",
       "11  ( 1 ) \" \"          \n",
       "12  ( 1 ) \" \"          \n",
       "13  ( 1 ) \" \"          \n",
       "14  ( 1 ) \"*\"          "
      ]
     },
     "metadata": {},
     "output_type": "display_data"
    }
   ],
   "source": [
    "p_load(\"leaps\")\n",
    "\n",
    "#performs step 2\n",
    "subset<-regsubsets(lnw_2016 ~ ., method=\"exhaustive\",nvmax=14,data = nlsy)\n",
    "\n",
    "summary(subset)"
   ]
  },
  {
   "cell_type": "code",
   "execution_count": 8,
   "id": "ac3b684b-838f-4f25-97ab-edc70435a828",
   "metadata": {},
   "outputs": [
    {
     "data": {
      "text/html": [
       "<table class=\"dataframe\">\n",
       "<caption>A data.frame: 1 × 3</caption>\n",
       "<thead>\n",
       "\t<tr><th scope=col>Adj.R2</th><th scope=col>CP</th><th scope=col>BIC</th></tr>\n",
       "\t<tr><th scope=col>&lt;int&gt;</th><th scope=col>&lt;int&gt;</th><th scope=col>&lt;int&gt;</th></tr>\n",
       "</thead>\n",
       "<tbody>\n",
       "\t<tr><td>8</td><td>6</td><td>4</td></tr>\n",
       "</tbody>\n",
       "</table>\n"
      ],
      "text/latex": [
       "A data.frame: 1 × 3\n",
       "\\begin{tabular}{lll}\n",
       " Adj.R2 & CP & BIC\\\\\n",
       " <int> & <int> & <int>\\\\\n",
       "\\hline\n",
       "\t 8 & 6 & 4\\\\\n",
       "\\end{tabular}\n"
      ],
      "text/markdown": [
       "\n",
       "A data.frame: 1 × 3\n",
       "\n",
       "| Adj.R2 &lt;int&gt; | CP &lt;int&gt; | BIC &lt;int&gt; |\n",
       "|---|---|---|\n",
       "| 8 | 6 | 4 |\n",
       "\n"
      ],
      "text/plain": [
       "  Adj.R2 CP BIC\n",
       "1 8      6  4  "
      ]
     },
     "metadata": {},
     "output_type": "display_data"
    }
   ],
   "source": [
    "# step 3\n",
    "best_subset <- summary(subset)\n",
    "\n",
    "\n",
    "data.frame(\n",
    "  Adj.R2 = which.max(best_subset$adjr2),\n",
    "  CP = which.min(best_subset$cp),\n",
    "  BIC = which.min(best_subset$bic)\n",
    ")"
   ]
  },
  {
   "cell_type": "code",
   "execution_count": 11,
   "id": "c23a504b-8c87-4d2c-bed4-e39329f011c6",
   "metadata": {},
   "outputs": [
    {
     "data": {
      "text/html": [
       "<style>\n",
       ".dl-inline {width: auto; margin:0; padding: 0}\n",
       ".dl-inline>dt, .dl-inline>dd {float: none; width: auto; display: inline-block}\n",
       ".dl-inline>dt::after {content: \":\\0020\"; padding-right: .5ex}\n",
       ".dl-inline>dt:not(:first-of-type) {padding-left: .5ex}\n",
       "</style><dl class=dl-inline><dt>(Intercept)</dt><dd>2.00475240936226</dd><dt>educ</dt><dd>0.0532147825838314</dd><dt>black</dt><dd>-0.271057025637106</dd><dt>other</dt><dd>-0.441429423818817</dd><dt>afqt</dt><dd>0.0350058652286085</dd><dt>yhea_100_1997</dt><dd>-0.0433395285837757</dd><dt>ysaq_284_1997</dt><dd>0.0944482939108993</dd></dl>\n"
      ],
      "text/latex": [
       "\\begin{description*}\n",
       "\\item[(Intercept)] 2.00475240936226\n",
       "\\item[educ] 0.0532147825838314\n",
       "\\item[black] -0.271057025637106\n",
       "\\item[other] -0.441429423818817\n",
       "\\item[afqt] 0.0350058652286085\n",
       "\\item[yhea\\textbackslash{}\\_100\\textbackslash{}\\_1997] -0.0433395285837757\n",
       "\\item[ysaq\\textbackslash{}\\_284\\textbackslash{}\\_1997] 0.0944482939108993\n",
       "\\end{description*}\n"
      ],
      "text/markdown": [
       "(Intercept)\n",
       ":   2.00475240936226educ\n",
       ":   0.0532147825838314black\n",
       ":   -0.271057025637106other\n",
       ":   -0.441429423818817afqt\n",
       ":   0.0350058652286085yhea_100_1997\n",
       ":   -0.0433395285837757ysaq_284_1997\n",
       ":   0.0944482939108993\n",
       "\n"
      ],
      "text/plain": [
       "  (Intercept)          educ         black         other          afqt \n",
       "   2.00475241    0.05321478   -0.27105703   -0.44142942    0.03500587 \n",
       "yhea_100_1997 ysaq_284_1997 \n",
       "  -0.04333953    0.09444829 "
      ]
     },
     "metadata": {},
     "output_type": "display_data"
    }
   ],
   "source": [
    "coef(subset,6)"
   ]
  },
  {
   "cell_type": "markdown",
   "id": "ca1318f0-248e-41cf-b5c6-3a9fec9f9d99",
   "metadata": {},
   "source": [
    "##  Stepwise Selection\n",
    "\n",
    "-   For computational reasons, best subset selection cannot be applied\n",
    "    with very large p.\n",
    "\n",
    "-   Best subset selection may also suffer from statistical problems when\n",
    "    p is large\n",
    "\n",
    "-   An enormous search space can lead to overfitting and high variance\n",
    "    of the coefficient estimates.\n",
    "\n",
    "-   For both of these reasons, stepwise methods, which explore a far\n",
    "    more restricted set of models, are attractive alternatives to best\n",
    "    subset selection.\n",
    "\n",
    "\n",
    "\n",
    "###  Forward Stepwise Selection\n",
    "\n",
    "-   Start with no predictors\n",
    "\n",
    "-   Test all models with 1 predictor. Choose the best model\n",
    "\n",
    "-   Add 1 predictor at a time, without taking away.\n",
    "\n",
    "-   Of the p+1 models, choose the one with smallest prediction error\n",
    "        using cross validation\n",
    "        \n",
    "-   We have $1+ p(p+1)/2$ Models. In best subset we had $2^p$ \n",
    "\n",
    "### Backward Stepwise Selection\n",
    "\n",
    "    -   Same idea but start with a complete model and go backwards,\n",
    "        taking one at a time.\n",
    "\n",
    "\n",
    "### Forward Selection\n",
    "\n",
    "-   Computational advantage over best subset selection is clear.\n",
    "\n",
    "-   It is not guaranteed to find the best possible model out of all\n",
    "    $2^p$ models containing subsets of the p predictors.\n",
    "\n",
    "-   Drawback: once a predictor enters, it cannot leave."
   ]
  },
  {
   "cell_type": "code",
   "execution_count": 12,
   "id": "58092a4d",
   "metadata": {},
   "outputs": [
    {
     "data": {
      "text/plain": [
       "Subset selection object\n",
       "Call: regsubsets.formula(lnw_2016 ~ ., method = \"forward\", nvmax = 14, \n",
       "    data = nlsy)\n",
       "14 Variables  (and intercept)\n",
       "               Forced in Forced out\n",
       "educ               FALSE      FALSE\n",
       "black              FALSE      FALSE\n",
       "hispanic           FALSE      FALSE\n",
       "other              FALSE      FALSE\n",
       "exp                FALSE      FALSE\n",
       "afqt               FALSE      FALSE\n",
       "mom_educ           FALSE      FALSE\n",
       "dad_educ           FALSE      FALSE\n",
       "yhea_100_1997      FALSE      FALSE\n",
       "yhea_2000_1997     FALSE      FALSE\n",
       "yhea_2100_1997     FALSE      FALSE\n",
       "yhea_2200_1997     FALSE      FALSE\n",
       "ysaq_284_1997      FALSE      FALSE\n",
       "ysaq_285_1997      FALSE      FALSE\n",
       "1 subsets of each size up to 14\n",
       "Selection Algorithm: forward\n",
       "          educ black hispanic other exp afqt mom_educ dad_educ yhea_100_1997\n",
       "1  ( 1 )  \" \"  \" \"   \" \"      \" \"   \" \" \"*\"  \" \"      \" \"      \" \"          \n",
       "2  ( 1 )  \"*\"  \" \"   \" \"      \" \"   \" \" \"*\"  \" \"      \" \"      \" \"          \n",
       "3  ( 1 )  \"*\"  \"*\"   \" \"      \" \"   \" \" \"*\"  \" \"      \" \"      \" \"          \n",
       "4  ( 1 )  \"*\"  \"*\"   \" \"      \" \"   \" \" \"*\"  \" \"      \" \"      \" \"          \n",
       "5  ( 1 )  \"*\"  \"*\"   \" \"      \"*\"   \" \" \"*\"  \" \"      \" \"      \" \"          \n",
       "6  ( 1 )  \"*\"  \"*\"   \" \"      \"*\"   \" \" \"*\"  \" \"      \" \"      \"*\"          \n",
       "7  ( 1 )  \"*\"  \"*\"   \" \"      \"*\"   \" \" \"*\"  \" \"      \" \"      \"*\"          \n",
       "8  ( 1 )  \"*\"  \"*\"   \" \"      \"*\"   \" \" \"*\"  \" \"      \" \"      \"*\"          \n",
       "9  ( 1 )  \"*\"  \"*\"   \" \"      \"*\"   \" \" \"*\"  \"*\"      \" \"      \"*\"          \n",
       "10  ( 1 ) \"*\"  \"*\"   \"*\"      \"*\"   \" \" \"*\"  \"*\"      \" \"      \"*\"          \n",
       "11  ( 1 ) \"*\"  \"*\"   \"*\"      \"*\"   \"*\" \"*\"  \"*\"      \" \"      \"*\"          \n",
       "12  ( 1 ) \"*\"  \"*\"   \"*\"      \"*\"   \"*\" \"*\"  \"*\"      \"*\"      \"*\"          \n",
       "13  ( 1 ) \"*\"  \"*\"   \"*\"      \"*\"   \"*\" \"*\"  \"*\"      \"*\"      \"*\"          \n",
       "14  ( 1 ) \"*\"  \"*\"   \"*\"      \"*\"   \"*\" \"*\"  \"*\"      \"*\"      \"*\"          \n",
       "          yhea_2000_1997 yhea_2100_1997 yhea_2200_1997 ysaq_284_1997\n",
       "1  ( 1 )  \" \"            \" \"            \" \"            \" \"          \n",
       "2  ( 1 )  \" \"            \" \"            \" \"            \" \"          \n",
       "3  ( 1 )  \" \"            \" \"            \" \"            \" \"          \n",
       "4  ( 1 )  \" \"            \" \"            \" \"            \"*\"          \n",
       "5  ( 1 )  \" \"            \" \"            \" \"            \"*\"          \n",
       "6  ( 1 )  \" \"            \" \"            \" \"            \"*\"          \n",
       "7  ( 1 )  \"*\"            \" \"            \" \"            \"*\"          \n",
       "8  ( 1 )  \"*\"            \"*\"            \" \"            \"*\"          \n",
       "9  ( 1 )  \"*\"            \"*\"            \" \"            \"*\"          \n",
       "10  ( 1 ) \"*\"            \"*\"            \" \"            \"*\"          \n",
       "11  ( 1 ) \"*\"            \"*\"            \" \"            \"*\"          \n",
       "12  ( 1 ) \"*\"            \"*\"            \" \"            \"*\"          \n",
       "13  ( 1 ) \"*\"            \"*\"            \"*\"            \"*\"          \n",
       "14  ( 1 ) \"*\"            \"*\"            \"*\"            \"*\"          \n",
       "          ysaq_285_1997\n",
       "1  ( 1 )  \" \"          \n",
       "2  ( 1 )  \" \"          \n",
       "3  ( 1 )  \" \"          \n",
       "4  ( 1 )  \" \"          \n",
       "5  ( 1 )  \" \"          \n",
       "6  ( 1 )  \" \"          \n",
       "7  ( 1 )  \" \"          \n",
       "8  ( 1 )  \" \"          \n",
       "9  ( 1 )  \" \"          \n",
       "10  ( 1 ) \" \"          \n",
       "11  ( 1 ) \" \"          \n",
       "12  ( 1 ) \" \"          \n",
       "13  ( 1 ) \" \"          \n",
       "14  ( 1 ) \"*\"          "
      ]
     },
     "metadata": {},
     "output_type": "display_data"
    }
   ],
   "source": [
    "forward<-regsubsets(lnw_2016 ~ ., method=\"forward\", nvmax=14,data = nlsy)\n",
    "\n",
    "summary(forward)"
   ]
  },
  {
   "cell_type": "code",
   "execution_count": 13,
   "id": "90d14d89-a450-4d46-9319-e3f707fbdae3",
   "metadata": {},
   "outputs": [
    {
     "data": {
      "text/html": [
       "<table class=\"dataframe\">\n",
       "<caption>A data.frame: 1 × 3</caption>\n",
       "<thead>\n",
       "\t<tr><th scope=col>Adj.R2</th><th scope=col>CP</th><th scope=col>BIC</th></tr>\n",
       "\t<tr><th scope=col>&lt;int&gt;</th><th scope=col>&lt;int&gt;</th><th scope=col>&lt;int&gt;</th></tr>\n",
       "</thead>\n",
       "<tbody>\n",
       "\t<tr><td>8</td><td>6</td><td>4</td></tr>\n",
       "</tbody>\n",
       "</table>\n"
      ],
      "text/latex": [
       "A data.frame: 1 × 3\n",
       "\\begin{tabular}{lll}\n",
       " Adj.R2 & CP & BIC\\\\\n",
       " <int> & <int> & <int>\\\\\n",
       "\\hline\n",
       "\t 8 & 6 & 4\\\\\n",
       "\\end{tabular}\n"
      ],
      "text/markdown": [
       "\n",
       "A data.frame: 1 × 3\n",
       "\n",
       "| Adj.R2 &lt;int&gt; | CP &lt;int&gt; | BIC &lt;int&gt; |\n",
       "|---|---|---|\n",
       "| 8 | 6 | 4 |\n",
       "\n"
      ],
      "text/plain": [
       "  Adj.R2 CP BIC\n",
       "1 8      6  4  "
      ]
     },
     "metadata": {},
     "output_type": "display_data"
    }
   ],
   "source": [
    "# step 3\n",
    "best_forward <- summary(forward)\n",
    "\n",
    "\n",
    "data.frame(\n",
    "  Adj.R2 = which.max(best_forward$adjr2),\n",
    "  CP = which.min(best_forward$cp),\n",
    "  BIC = which.min(best_forward$bic)\n",
    ")"
   ]
  },
  {
   "cell_type": "code",
   "execution_count": 14,
   "id": "3c3971bb-51ab-4b8d-b5b2-5982e71d951f",
   "metadata": {},
   "outputs": [
    {
     "data": {
      "text/html": [
       "<style>\n",
       ".dl-inline {width: auto; margin:0; padding: 0}\n",
       ".dl-inline>dt, .dl-inline>dd {float: none; width: auto; display: inline-block}\n",
       ".dl-inline>dt::after {content: \":\\0020\"; padding-right: .5ex}\n",
       ".dl-inline>dt:not(:first-of-type) {padding-left: .5ex}\n",
       "</style><dl class=dl-inline><dt>(Intercept)</dt><dd>2.00475240936226</dd><dt>educ</dt><dd>0.0532147825838314</dd><dt>black</dt><dd>-0.271057025637106</dd><dt>other</dt><dd>-0.441429423818817</dd><dt>afqt</dt><dd>0.0350058652286086</dd><dt>yhea_100_1997</dt><dd>-0.0433395285837756</dd><dt>ysaq_284_1997</dt><dd>0.0944482939108991</dd></dl>\n"
      ],
      "text/latex": [
       "\\begin{description*}\n",
       "\\item[(Intercept)] 2.00475240936226\n",
       "\\item[educ] 0.0532147825838314\n",
       "\\item[black] -0.271057025637106\n",
       "\\item[other] -0.441429423818817\n",
       "\\item[afqt] 0.0350058652286086\n",
       "\\item[yhea\\textbackslash{}\\_100\\textbackslash{}\\_1997] -0.0433395285837756\n",
       "\\item[ysaq\\textbackslash{}\\_284\\textbackslash{}\\_1997] 0.0944482939108991\n",
       "\\end{description*}\n"
      ],
      "text/markdown": [
       "(Intercept)\n",
       ":   2.00475240936226educ\n",
       ":   0.0532147825838314black\n",
       ":   -0.271057025637106other\n",
       ":   -0.441429423818817afqt\n",
       ":   0.0350058652286086yhea_100_1997\n",
       ":   -0.0433395285837756ysaq_284_1997\n",
       ":   0.0944482939108991\n",
       "\n"
      ],
      "text/plain": [
       "  (Intercept)          educ         black         other          afqt \n",
       "   2.00475241    0.05321478   -0.27105703   -0.44142942    0.03500587 \n",
       "yhea_100_1997 ysaq_284_1997 \n",
       "  -0.04333953    0.09444829 "
      ]
     },
     "metadata": {},
     "output_type": "display_data"
    }
   ],
   "source": [
    "coef(forward, 6)"
   ]
  },
  {
   "cell_type": "code",
   "execution_count": 15,
   "id": "d16ce052-dc81-4c80-8feb-c876025bcc02",
   "metadata": {},
   "outputs": [
    {
     "data": {
      "text/html": [
       "<style>\n",
       ".dl-inline {width: auto; margin:0; padding: 0}\n",
       ".dl-inline>dt, .dl-inline>dd {float: none; width: auto; display: inline-block}\n",
       ".dl-inline>dt::after {content: \":\\0020\"; padding-right: .5ex}\n",
       ".dl-inline>dt:not(:first-of-type) {padding-left: .5ex}\n",
       "</style><dl class=dl-inline><dt>(Intercept)</dt><dd>2.00475240936226</dd><dt>educ</dt><dd>0.0532147825838314</dd><dt>black</dt><dd>-0.271057025637106</dd><dt>other</dt><dd>-0.441429423818817</dd><dt>afqt</dt><dd>0.0350058652286085</dd><dt>yhea_100_1997</dt><dd>-0.0433395285837757</dd><dt>ysaq_284_1997</dt><dd>0.0944482939108993</dd></dl>\n"
      ],
      "text/latex": [
       "\\begin{description*}\n",
       "\\item[(Intercept)] 2.00475240936226\n",
       "\\item[educ] 0.0532147825838314\n",
       "\\item[black] -0.271057025637106\n",
       "\\item[other] -0.441429423818817\n",
       "\\item[afqt] 0.0350058652286085\n",
       "\\item[yhea\\textbackslash{}\\_100\\textbackslash{}\\_1997] -0.0433395285837757\n",
       "\\item[ysaq\\textbackslash{}\\_284\\textbackslash{}\\_1997] 0.0944482939108993\n",
       "\\end{description*}\n"
      ],
      "text/markdown": [
       "(Intercept)\n",
       ":   2.00475240936226educ\n",
       ":   0.0532147825838314black\n",
       ":   -0.271057025637106other\n",
       ":   -0.441429423818817afqt\n",
       ":   0.0350058652286085yhea_100_1997\n",
       ":   -0.0433395285837757ysaq_284_1997\n",
       ":   0.0944482939108993\n",
       "\n"
      ],
      "text/plain": [
       "  (Intercept)          educ         black         other          afqt \n",
       "   2.00475241    0.05321478   -0.27105703   -0.44142942    0.03500587 \n",
       "yhea_100_1997 ysaq_284_1997 \n",
       "  -0.04333953    0.09444829 "
      ]
     },
     "metadata": {},
     "output_type": "display_data"
    }
   ],
   "source": [
    "coef(subset,6)"
   ]
  },
  {
   "cell_type": "markdown",
   "id": "9c42ed3a",
   "metadata": {},
   "source": [
    "### Backward Selection\n",
    "\n",
    "-   Like forward stepwise selection, the backward selection approach\n",
    "    searches through only $1 + p(p + 1)/2$ models\n",
    "\n",
    "-   However, unlike forward stepwise selection, it begins with the model\n",
    "    containing all p predictors, and then iteratively removes the least\n",
    "    useful predictor, one-at-a-time.\n",
    "\n",
    "-   Like forward stepwise selection, backward stepwise selection is not\n",
    "    guaranteed to yield the best model containing a subset of the p\n",
    "    predictors.\n",
    "\n",
    "-   Backward selection requires that the number of observations\n",
    "    (samples) $n$ is larger than the number of variables $p$ (so that\n",
    "    the full model can be fit).\n",
    "\n",
    "-   In contrast, forward stepwise can be used even when $n < p$, and so\n",
    "    is the only viable subset method when p is very large.\n",
    "    \n",
    "Not much has to change to implement backward selection... just looping through the predictors in reverse!"
   ]
  },
  {
   "cell_type": "code",
   "execution_count": 16,
   "id": "8036d7a6",
   "metadata": {},
   "outputs": [
    {
     "data": {
      "text/plain": [
       "Subset selection object\n",
       "Call: regsubsets.formula(lnw_2016 ~ ., method = \"backward\", nvmax = 14, \n",
       "    data = nlsy)\n",
       "14 Variables  (and intercept)\n",
       "               Forced in Forced out\n",
       "educ               FALSE      FALSE\n",
       "black              FALSE      FALSE\n",
       "hispanic           FALSE      FALSE\n",
       "other              FALSE      FALSE\n",
       "exp                FALSE      FALSE\n",
       "afqt               FALSE      FALSE\n",
       "mom_educ           FALSE      FALSE\n",
       "dad_educ           FALSE      FALSE\n",
       "yhea_100_1997      FALSE      FALSE\n",
       "yhea_2000_1997     FALSE      FALSE\n",
       "yhea_2100_1997     FALSE      FALSE\n",
       "yhea_2200_1997     FALSE      FALSE\n",
       "ysaq_284_1997      FALSE      FALSE\n",
       "ysaq_285_1997      FALSE      FALSE\n",
       "1 subsets of each size up to 14\n",
       "Selection Algorithm: backward\n",
       "          educ black hispanic other exp afqt mom_educ dad_educ yhea_100_1997\n",
       "1  ( 1 )  \"*\"  \" \"   \" \"      \" \"   \" \" \" \"  \" \"      \" \"      \" \"          \n",
       "2  ( 1 )  \"*\"  \"*\"   \" \"      \" \"   \" \" \" \"  \" \"      \" \"      \" \"          \n",
       "3  ( 1 )  \"*\"  \"*\"   \" \"      \" \"   \" \" \"*\"  \" \"      \" \"      \" \"          \n",
       "4  ( 1 )  \"*\"  \"*\"   \" \"      \" \"   \" \" \"*\"  \" \"      \" \"      \" \"          \n",
       "5  ( 1 )  \"*\"  \"*\"   \" \"      \"*\"   \" \" \"*\"  \" \"      \" \"      \" \"          \n",
       "6  ( 1 )  \"*\"  \"*\"   \" \"      \"*\"   \" \" \"*\"  \" \"      \" \"      \"*\"          \n",
       "7  ( 1 )  \"*\"  \"*\"   \" \"      \"*\"   \" \" \"*\"  \" \"      \" \"      \"*\"          \n",
       "8  ( 1 )  \"*\"  \"*\"   \" \"      \"*\"   \" \" \"*\"  \" \"      \" \"      \"*\"          \n",
       "9  ( 1 )  \"*\"  \"*\"   \" \"      \"*\"   \" \" \"*\"  \"*\"      \" \"      \"*\"          \n",
       "10  ( 1 ) \"*\"  \"*\"   \"*\"      \"*\"   \" \" \"*\"  \"*\"      \" \"      \"*\"          \n",
       "11  ( 1 ) \"*\"  \"*\"   \"*\"      \"*\"   \"*\" \"*\"  \"*\"      \" \"      \"*\"          \n",
       "12  ( 1 ) \"*\"  \"*\"   \"*\"      \"*\"   \"*\" \"*\"  \"*\"      \"*\"      \"*\"          \n",
       "13  ( 1 ) \"*\"  \"*\"   \"*\"      \"*\"   \"*\" \"*\"  \"*\"      \"*\"      \"*\"          \n",
       "14  ( 1 ) \"*\"  \"*\"   \"*\"      \"*\"   \"*\" \"*\"  \"*\"      \"*\"      \"*\"          \n",
       "          yhea_2000_1997 yhea_2100_1997 yhea_2200_1997 ysaq_284_1997\n",
       "1  ( 1 )  \" \"            \" \"            \" \"            \" \"          \n",
       "2  ( 1 )  \" \"            \" \"            \" \"            \" \"          \n",
       "3  ( 1 )  \" \"            \" \"            \" \"            \" \"          \n",
       "4  ( 1 )  \" \"            \" \"            \" \"            \"*\"          \n",
       "5  ( 1 )  \" \"            \" \"            \" \"            \"*\"          \n",
       "6  ( 1 )  \" \"            \" \"            \" \"            \"*\"          \n",
       "7  ( 1 )  \"*\"            \" \"            \" \"            \"*\"          \n",
       "8  ( 1 )  \"*\"            \"*\"            \" \"            \"*\"          \n",
       "9  ( 1 )  \"*\"            \"*\"            \" \"            \"*\"          \n",
       "10  ( 1 ) \"*\"            \"*\"            \" \"            \"*\"          \n",
       "11  ( 1 ) \"*\"            \"*\"            \" \"            \"*\"          \n",
       "12  ( 1 ) \"*\"            \"*\"            \" \"            \"*\"          \n",
       "13  ( 1 ) \"*\"            \"*\"            \"*\"            \"*\"          \n",
       "14  ( 1 ) \"*\"            \"*\"            \"*\"            \"*\"          \n",
       "          ysaq_285_1997\n",
       "1  ( 1 )  \" \"          \n",
       "2  ( 1 )  \" \"          \n",
       "3  ( 1 )  \" \"          \n",
       "4  ( 1 )  \" \"          \n",
       "5  ( 1 )  \" \"          \n",
       "6  ( 1 )  \" \"          \n",
       "7  ( 1 )  \" \"          \n",
       "8  ( 1 )  \" \"          \n",
       "9  ( 1 )  \" \"          \n",
       "10  ( 1 ) \" \"          \n",
       "11  ( 1 ) \" \"          \n",
       "12  ( 1 ) \" \"          \n",
       "13  ( 1 ) \" \"          \n",
       "14  ( 1 ) \"*\"          "
      ]
     },
     "metadata": {},
     "output_type": "display_data"
    }
   ],
   "source": [
    "backwards<-regsubsets(lnw_2016 ~ ., method=\"backward\", nvmax=14,data = nlsy)\n",
    "\n",
    "summary(backwards)"
   ]
  },
  {
   "cell_type": "code",
   "execution_count": 17,
   "id": "69fab4fe",
   "metadata": {},
   "outputs": [
    {
     "data": {
      "text/html": [
       "<table class=\"dataframe\">\n",
       "<caption>A data.frame: 1 × 3</caption>\n",
       "<thead>\n",
       "\t<tr><th scope=col>Adj.R2</th><th scope=col>CP</th><th scope=col>BIC</th></tr>\n",
       "\t<tr><th scope=col>&lt;int&gt;</th><th scope=col>&lt;int&gt;</th><th scope=col>&lt;int&gt;</th></tr>\n",
       "</thead>\n",
       "<tbody>\n",
       "\t<tr><td>8</td><td>6</td><td>4</td></tr>\n",
       "</tbody>\n",
       "</table>\n"
      ],
      "text/latex": [
       "A data.frame: 1 × 3\n",
       "\\begin{tabular}{lll}\n",
       " Adj.R2 & CP & BIC\\\\\n",
       " <int> & <int> & <int>\\\\\n",
       "\\hline\n",
       "\t 8 & 6 & 4\\\\\n",
       "\\end{tabular}\n"
      ],
      "text/markdown": [
       "\n",
       "A data.frame: 1 × 3\n",
       "\n",
       "| Adj.R2 &lt;int&gt; | CP &lt;int&gt; | BIC &lt;int&gt; |\n",
       "|---|---|---|\n",
       "| 8 | 6 | 4 |\n",
       "\n"
      ],
      "text/plain": [
       "  Adj.R2 CP BIC\n",
       "1 8      6  4  "
      ]
     },
     "metadata": {},
     "output_type": "display_data"
    }
   ],
   "source": [
    "# step 3\n",
    "best_backwards <- summary(backwards)\n",
    "\n",
    "\n",
    "data.frame(\n",
    "  Adj.R2 = which.max(best_backwards$adjr2),\n",
    "  CP = which.min(best_backwards$cp),\n",
    "  BIC = which.min(best_backwards$bic)\n",
    ")"
   ]
  },
  {
   "cell_type": "code",
   "execution_count": 18,
   "id": "5fae36f1-81a3-4498-a037-dc30aa0c829c",
   "metadata": {},
   "outputs": [
    {
     "data": {
      "text/html": [
       "<style>\n",
       ".dl-inline {width: auto; margin:0; padding: 0}\n",
       ".dl-inline>dt, .dl-inline>dd {float: none; width: auto; display: inline-block}\n",
       ".dl-inline>dt::after {content: \":\\0020\"; padding-right: .5ex}\n",
       ".dl-inline>dt:not(:first-of-type) {padding-left: .5ex}\n",
       "</style><dl class=dl-inline><dt>(Intercept)</dt><dd>2.00475240936226</dd><dt>educ</dt><dd>0.0532147825838314</dd><dt>black</dt><dd>-0.271057025637106</dd><dt>other</dt><dd>-0.441429423818817</dd><dt>afqt</dt><dd>0.0350058652286086</dd><dt>yhea_100_1997</dt><dd>-0.0433395285837756</dd><dt>ysaq_284_1997</dt><dd>0.0944482939108992</dd></dl>\n"
      ],
      "text/latex": [
       "\\begin{description*}\n",
       "\\item[(Intercept)] 2.00475240936226\n",
       "\\item[educ] 0.0532147825838314\n",
       "\\item[black] -0.271057025637106\n",
       "\\item[other] -0.441429423818817\n",
       "\\item[afqt] 0.0350058652286086\n",
       "\\item[yhea\\textbackslash{}\\_100\\textbackslash{}\\_1997] -0.0433395285837756\n",
       "\\item[ysaq\\textbackslash{}\\_284\\textbackslash{}\\_1997] 0.0944482939108992\n",
       "\\end{description*}\n"
      ],
      "text/markdown": [
       "(Intercept)\n",
       ":   2.00475240936226educ\n",
       ":   0.0532147825838314black\n",
       ":   -0.271057025637106other\n",
       ":   -0.441429423818817afqt\n",
       ":   0.0350058652286086yhea_100_1997\n",
       ":   -0.0433395285837756ysaq_284_1997\n",
       ":   0.0944482939108992\n",
       "\n"
      ],
      "text/plain": [
       "  (Intercept)          educ         black         other          afqt \n",
       "   2.00475241    0.05321478   -0.27105703   -0.44142942    0.03500587 \n",
       "yhea_100_1997 ysaq_284_1997 \n",
       "  -0.04333953    0.09444829 "
      ]
     },
     "metadata": {},
     "output_type": "display_data"
    }
   ],
   "source": [
    "coef(backwards, 6)"
   ]
  },
  {
   "cell_type": "code",
   "execution_count": 19,
   "id": "05d94319-3e7f-47dd-8d9e-ccc978655e53",
   "metadata": {},
   "outputs": [
    {
     "data": {
      "text/html": [
       "<style>\n",
       ".dl-inline {width: auto; margin:0; padding: 0}\n",
       ".dl-inline>dt, .dl-inline>dd {float: none; width: auto; display: inline-block}\n",
       ".dl-inline>dt::after {content: \":\\0020\"; padding-right: .5ex}\n",
       ".dl-inline>dt:not(:first-of-type) {padding-left: .5ex}\n",
       "</style><dl class=dl-inline><dt>(Intercept)</dt><dd>2.00475240936226</dd><dt>educ</dt><dd>0.0532147825838314</dd><dt>black</dt><dd>-0.271057025637106</dd><dt>other</dt><dd>-0.441429423818817</dd><dt>afqt</dt><dd>0.0350058652286086</dd><dt>yhea_100_1997</dt><dd>-0.0433395285837756</dd><dt>ysaq_284_1997</dt><dd>0.0944482939108991</dd></dl>\n"
      ],
      "text/latex": [
       "\\begin{description*}\n",
       "\\item[(Intercept)] 2.00475240936226\n",
       "\\item[educ] 0.0532147825838314\n",
       "\\item[black] -0.271057025637106\n",
       "\\item[other] -0.441429423818817\n",
       "\\item[afqt] 0.0350058652286086\n",
       "\\item[yhea\\textbackslash{}\\_100\\textbackslash{}\\_1997] -0.0433395285837756\n",
       "\\item[ysaq\\textbackslash{}\\_284\\textbackslash{}\\_1997] 0.0944482939108991\n",
       "\\end{description*}\n"
      ],
      "text/markdown": [
       "(Intercept)\n",
       ":   2.00475240936226educ\n",
       ":   0.0532147825838314black\n",
       ":   -0.271057025637106other\n",
       ":   -0.441429423818817afqt\n",
       ":   0.0350058652286086yhea_100_1997\n",
       ":   -0.0433395285837756ysaq_284_1997\n",
       ":   0.0944482939108991\n",
       "\n"
      ],
      "text/plain": [
       "  (Intercept)          educ         black         other          afqt \n",
       "   2.00475241    0.05321478   -0.27105703   -0.44142942    0.03500587 \n",
       "yhea_100_1997 ysaq_284_1997 \n",
       "  -0.04333953    0.09444829 "
      ]
     },
     "metadata": {},
     "output_type": "display_data"
    }
   ],
   "source": [
    "coef(forward, 6)"
   ]
  },
  {
   "cell_type": "code",
   "execution_count": 20,
   "id": "0f191a8b-4b61-4d8c-89cd-3d3b7835f090",
   "metadata": {},
   "outputs": [
    {
     "data": {
      "text/html": [
       "<style>\n",
       ".dl-inline {width: auto; margin:0; padding: 0}\n",
       ".dl-inline>dt, .dl-inline>dd {float: none; width: auto; display: inline-block}\n",
       ".dl-inline>dt::after {content: \":\\0020\"; padding-right: .5ex}\n",
       ".dl-inline>dt:not(:first-of-type) {padding-left: .5ex}\n",
       "</style><dl class=dl-inline><dt>(Intercept)</dt><dd>2.00475240936226</dd><dt>educ</dt><dd>0.0532147825838314</dd><dt>black</dt><dd>-0.271057025637106</dd><dt>other</dt><dd>-0.441429423818817</dd><dt>afqt</dt><dd>0.0350058652286085</dd><dt>yhea_100_1997</dt><dd>-0.0433395285837757</dd><dt>ysaq_284_1997</dt><dd>0.0944482939108993</dd></dl>\n"
      ],
      "text/latex": [
       "\\begin{description*}\n",
       "\\item[(Intercept)] 2.00475240936226\n",
       "\\item[educ] 0.0532147825838314\n",
       "\\item[black] -0.271057025637106\n",
       "\\item[other] -0.441429423818817\n",
       "\\item[afqt] 0.0350058652286085\n",
       "\\item[yhea\\textbackslash{}\\_100\\textbackslash{}\\_1997] -0.0433395285837757\n",
       "\\item[ysaq\\textbackslash{}\\_284\\textbackslash{}\\_1997] 0.0944482939108993\n",
       "\\end{description*}\n"
      ],
      "text/markdown": [
       "(Intercept)\n",
       ":   2.00475240936226educ\n",
       ":   0.0532147825838314black\n",
       ":   -0.271057025637106other\n",
       ":   -0.441429423818817afqt\n",
       ":   0.0350058652286085yhea_100_1997\n",
       ":   -0.0433395285837757ysaq_284_1997\n",
       ":   0.0944482939108993\n",
       "\n"
      ],
      "text/plain": [
       "  (Intercept)          educ         black         other          afqt \n",
       "   2.00475241    0.05321478   -0.27105703   -0.44142942    0.03500587 \n",
       "yhea_100_1997 ysaq_284_1997 \n",
       "  -0.04333953    0.09444829 "
      ]
     },
     "metadata": {},
     "output_type": "display_data"
    }
   ],
   "source": [
    "coef(subset,6)"
   ]
  },
  {
   "cell_type": "code",
   "execution_count": null,
   "id": "9eade98f-22c7-4e5a-969b-1203748f0426",
   "metadata": {},
   "outputs": [],
   "source": []
  }
 ],
 "metadata": {
  "jupytext": {
   "formats": "ipynb,Rmd"
  },
  "kernelspec": {
   "display_name": "R",
   "language": "R",
   "name": "ir"
  },
  "language_info": {
   "codemirror_mode": "r",
   "file_extension": ".r",
   "mimetype": "text/x-r-source",
   "name": "R",
   "pygments_lexer": "r",
   "version": "4.4.0"
  },
  "toc": {
   "base_numbering": 1,
   "nav_menu": {},
   "number_sections": true,
   "sideBar": true,
   "skip_h1_title": false,
   "title_cell": "Table of Contents",
   "title_sidebar": "Contents",
   "toc_cell": false,
   "toc_position": {},
   "toc_section_display": true,
   "toc_window_display": false
  }
 },
 "nbformat": 4,
 "nbformat_minor": 5
}
