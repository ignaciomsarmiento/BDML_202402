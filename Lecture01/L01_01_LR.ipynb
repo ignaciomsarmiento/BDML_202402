{
 "cells": [
  {
   "cell_type": "markdown",
   "id": "e53dc4f6",
   "metadata": {},
   "source": [
    "<div >\n",
    "<img src = \"../banner.jpg\" />\n",
    "</div>"
   ]
  },
  {
   "cell_type": "markdown",
   "id": "8fa1c83b",
   "metadata": {},
   "source": [
    "<a target=\"_blank\" href=\"https://colab.research.google.com/github/ignaciomsarmiento/BDML_202402/blob/main/Lecture01/L01_01_LR.ipynb\">\n",
    "  <img src=\"https://colab.research.google.com/assets/colab-badge.svg\" alt=\"Open In Colab\"/>\n",
    "</a>"
   ]
  },
  {
   "cell_type": "markdown",
   "id": "32d87f3f",
   "metadata": {},
   "source": [
    "# Lógica basica de la predicción con regresión lineal\n",
    "\n",
    "Nuestro objetivo  es construir un modelo predictivo de salario\n",
    "\n",
    "$$\n",
    "w = f(X) + u\n",
    "$$\n",
    "\n",
    "donde w es el salario y X es una matriz que incluye posibles variables/predictores explicativas (ej. educación, edad, educación de los padres, habilidad cognitiva, etc.). \n",
    "\n",
    "Un ejemplo de modelo predictivo es la regresión lineal con una forma funcional específica:\n",
    "\n",
    "$$\n",
    "ln(w)  = \\beta_0 + \\beta_1 X_1 + \\dots + \\beta_p X_p + u\n",
    "$$\n",
    "\n",
    "donde $ln(w)$ es el logaritmo del salario.\n",
    "\n",
    "Para ilustrar, usaré una muestra del NLSY97. El NLSY97 es una muestra representativa a nivel nacional de 8.984 hombres y mujeres nacidos entre 1980 y 1984 y que vivían en los Estados Unidos durante la encuesta inicial de 1997. Los participantes tenían entre 12 y 16 años al 31 de diciembre de 1996. Las entrevistas se realizaron anualmente desde 1997 hasta 2011 y cada dos años desde entonces.\n",
    "\n",
    "Carguemos los paquetes."
   ]
  },
  {
   "cell_type": "code",
   "execution_count": null,
   "id": "a4b00b42",
   "metadata": {
    "vscode": {
     "languageId": "r"
    }
   },
   "outputs": [],
   "source": [
    "# install.packages(\"pacman\") #Correr esta linea en Google Colab"
   ]
  },
  {
   "cell_type": "code",
   "execution_count": null,
   "id": "d86d5977",
   "metadata": {
    "vscode": {
     "languageId": "r"
    }
   },
   "outputs": [],
   "source": [
    "# Cargamos los paquetes\n",
    "\n",
    "require(\"pacman\")\n",
    "\n",
    "p_load(\"tidyverse\",\"stargazer\")\n"
   ]
  },
  {
   "cell_type": "markdown",
   "id": "6acb141f",
   "metadata": {},
   "source": [
    "Cargamos la base:"
   ]
  },
  {
   "cell_type": "code",
   "execution_count": null,
   "id": "0f4546c8",
   "metadata": {
    "vscode": {
     "languageId": "r"
    }
   },
   "outputs": [],
   "source": [
    "nlsy <- read_csv('https://raw.githubusercontent.com/ignaciomsarmiento/datasets/main/nlsy97.csv')\n",
    "\n",
    "#Housekeeping\n",
    "nlsy <- nlsy  %>%   drop_na(educ) #dropea los valores faltantes (NA)"
   ]
  },
  {
   "cell_type": "code",
   "execution_count": null,
   "id": "676de3bf",
   "metadata": {
    "vscode": {
     "languageId": "r"
    }
   },
   "outputs": [],
   "source": [
    "head(nlsy)"
   ]
  },
  {
   "cell_type": "markdown",
   "id": "f7e8f67a",
   "metadata": {},
   "source": [
    "## Regresión Lineal"
   ]
  },
  {
   "cell_type": "code",
   "execution_count": null,
   "id": "61bf7b3d",
   "metadata": {},
   "outputs": [],
   "source": [
    "reg1 <- lm(lnw_2016~educ,   data = nlsy)"
   ]
  },
  {
   "cell_type": "code",
   "execution_count": null,
   "id": "8ae5701f",
   "metadata": {},
   "outputs": [],
   "source": [
    "reg2 <- lm(lnw_2016~educ+ exp,   data = nlsy)"
   ]
  },
  {
   "cell_type": "code",
   "execution_count": null,
   "id": "07c94def",
   "metadata": {},
   "outputs": [],
   "source": [
    "stargazer(reg1,reg2,type=\"text\") #Similar en stata: outreg2 "
   ]
  },
  {
   "cell_type": "markdown",
   "id": "9727ac8e",
   "metadata": {},
   "source": [
    "## Predicción\n",
    "\n",
    "$$\n",
    "\\hat{y} = \\hat{\\beta}_0 +  \\hat{\\beta}_1 educ \n",
    "$$"
   ]
  },
  {
   "cell_type": "code",
   "execution_count": null,
   "id": "ebc5c149",
   "metadata": {},
   "outputs": [],
   "source": [
    "reg1$coef"
   ]
  },
  {
   "cell_type": "code",
   "execution_count": null,
   "id": "9fc31b49",
   "metadata": {},
   "outputs": [],
   "source": [
    "reg1$coef[1]"
   ]
  },
  {
   "cell_type": "code",
   "execution_count": null,
   "id": "717b221f",
   "metadata": {},
   "outputs": [],
   "source": [
    "reg1$coef[1]+reg1$coef[2]*16"
   ]
  },
  {
   "cell_type": "code",
   "execution_count": null,
   "id": "1cd2d2e4",
   "metadata": {},
   "outputs": [],
   "source": [
    "exp(reg1$coef[1]+reg1$coef[2]*16)"
   ]
  },
  {
   "cell_type": "markdown",
   "id": "c0f44a67",
   "metadata": {},
   "source": [
    "## Mejor predictor"
   ]
  },
  {
   "cell_type": "markdown",
   "id": "d57d66b3-aac7-42c3-9afa-30e288b31c19",
   "metadata": {},
   "source": [
    "Vamos a constuir regresores polinomiales de forma tal de tnere reglas de predicción más flexibles y potencialmente mejores."
   ]
  },
  {
   "cell_type": "code",
   "execution_count": null,
   "id": "1c589b4f",
   "metadata": {
    "vscode": {
     "languageId": "r"
    }
   },
   "outputs": [],
   "source": [
    "#Polinomios de educación\n",
    "\n",
    "nlsy <- nlsy  %>% mutate(educ2=educ^2,\n",
    "                         educ3=educ^3,\n",
    "                         educ4=educ^4,\n",
    "                         educ5=educ^5,\n",
    "                         educ6=educ^6,\n",
    "                         educ7=educ^7,\n",
    "                         educ8=educ^8\n",
    "                        )"
   ]
  },
  {
   "cell_type": "code",
   "execution_count": null,
   "id": "ff9a7d77",
   "metadata": {
    "vscode": {
     "languageId": "r"
    }
   },
   "outputs": [],
   "source": [
    "head(nlsy)"
   ]
  },
  {
   "cell_type": "markdown",
   "id": "9e866852",
   "metadata": {},
   "source": [
    " Corremos la regresión"
   ]
  },
  {
   "cell_type": "code",
   "execution_count": null,
   "id": "c209a0c9",
   "metadata": {
    "vscode": {
     "languageId": "r"
    }
   },
   "outputs": [],
   "source": [
    "reg3<- lm(lnw_2016~educ+ educ2 + educ3 + educ4 + educ5 + educ6 + educ7 + \n",
    "    educ8 ,   data = nlsy)\n"
   ]
  },
  {
   "cell_type": "code",
   "execution_count": null,
   "id": "50ca8d07",
   "metadata": {
    "vscode": {
     "languageId": "r"
    }
   },
   "outputs": [],
   "source": [
    "stargazer(reg1,reg2,reg3,type=\"text\") #Similar en stata: outreg2 "
   ]
  },
  {
   "cell_type": "code",
   "execution_count": null,
   "id": "18c41cbd",
   "metadata": {
    "vscode": {
     "languageId": "r"
    }
   },
   "outputs": [],
   "source": [
    "#predict me simplifica hacer la operación X\\hat{\\beta}\n",
    "\n",
    "nlsy <- nlsy  %>% mutate(yhat=predict(reg3)) #con la función mutate\n",
    "\n"
   ]
  },
  {
   "cell_type": "code",
   "execution_count": null,
   "id": "fad3cc0d",
   "metadata": {
    "vscode": {
     "languageId": "r"
    }
   },
   "outputs": [],
   "source": [
    "head(nlsy)"
   ]
  },
  {
   "cell_type": "code",
   "execution_count": null,
   "id": "a5d8cb0f",
   "metadata": {
    "vscode": {
     "languageId": "r"
    }
   },
   "outputs": [],
   "source": [
    "# Voy a calcular E(y|X=x) y E(\\hat(y)| X=x)\n",
    "\n",
    "summ = nlsy %>%  \n",
    "  group_by(\n",
    "    educ, educ2, educ3, educ4, educ5, \n",
    "    educ6, educ7, educ8\n",
    "  ) %>%  \n",
    "  summarize(\n",
    "    mean_y = mean(lnw_2016),\n",
    "    yhat_reg = mean(yhat), .groups=\"drop\"\n",
    "  ) "
   ]
  },
  {
   "cell_type": "code",
   "execution_count": null,
   "id": "801aa98f",
   "metadata": {
    "vscode": {
     "languageId": "r"
    }
   },
   "outputs": [],
   "source": [
    "head(summ)"
   ]
  },
  {
   "cell_type": "code",
   "execution_count": null,
   "id": "bacc3aa8",
   "metadata": {
    "vscode": {
     "languageId": "r"
    }
   },
   "outputs": [],
   "source": [
    "# graficamos\n",
    "ggplot(summ) + \n",
    "  geom_point(\n",
    "    aes(x = educ, y = mean_y),\n",
    "    color = \"blue\", size = 2\n",
    "  ) + \n",
    "  geom_line(\n",
    "    aes(x = educ, y = yhat_reg), \n",
    "    color = \"green\", linewidth = 1.5\n",
    "  ) + \n",
    "  labs(\n",
    "    title = \"ln Wages by Education in the NLSY\",\n",
    "    x = \"Years of Schooling\",\n",
    "    y = \"ln Wages\"\n",
    "  ) +\n",
    "  theme_bw()\n"
   ]
  },
  {
   "cell_type": "markdown",
   "id": "57fd77cb",
   "metadata": {},
   "source": [
    "Como podemos ver, est modelo flexible captura muy bien patrones complejos. \n",
    "\n",
    "Incluyendo un conjunto lo suficientemente rico de transformaciones, las predicciones de OLS producirán estimaciones insesgadas del verdadero predictor ideal: la función de expectativa condicional."
   ]
  }
 ],
 "metadata": {
  "kernelspec": {
   "display_name": "R",
   "language": "R",
   "name": "ir"
  },
  "language_info": {
   "codemirror_mode": "r",
   "file_extension": ".r",
   "mimetype": "text/x-r-source",
   "name": "R",
   "pygments_lexer": "r",
   "version": "4.3.2"
  },
  "toc": {
   "base_numbering": 1,
   "nav_menu": {},
   "number_sections": true,
   "sideBar": true,
   "skip_h1_title": false,
   "title_cell": "Table of Contents",
   "title_sidebar": "Contents",
   "toc_cell": false,
   "toc_position": {},
   "toc_section_display": true,
   "toc_window_display": false
  }
 },
 "nbformat": 4,
 "nbformat_minor": 5
}
